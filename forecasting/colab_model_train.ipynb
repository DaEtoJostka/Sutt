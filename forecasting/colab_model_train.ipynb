{
  "cells": [
    {
      "cell_type": "code",
      "execution_count": null,
      "metadata": {
        "id": "MMHkv6MqYL0z"
      },
      "outputs": [],
      "source": [
        "import pandas as pd\n",
        "import numpy as np"
      ]
    },
    {
      "cell_type": "code",
      "execution_count": null,
      "metadata": {
        "id": "_fdfg5W6YL00",
        "outputId": "89bc6702-c282-4f2f-88d8-f93b251ce00c"
      },
      "outputs": [
        {
          "name": "stderr",
          "output_type": "stream",
          "text": [
            "C:\\Users\\karlo\\AppData\\Local\\Temp\\ipykernel_11020\\3466840311.py:1: DtypeWarning: Columns (3,12,17,18,19,20,21,22,23,24,25,26,27,28,29,30,31,32,33,34,35,37,41,42,44) have mixed types. Specify dtype option on import or set low_memory=False.\n",
            "  data_normal = pd.read_csv('.\\data\\для анализа\\dataset._normal.csv', delimiter=';')\n"
          ]
        }
      ],
      "source": [
        "data_normal = pd.read_csv('.\\data\\для анализа\\dataset._normal.csv', delimiter=';')\n"
      ]
    },
    {
      "cell_type": "code",
      "execution_count": null,
      "metadata": {
        "id": "yf308r_QYL00"
      },
      "outputs": [],
      "source": [
        "data_normal[\"Рабочий\"] = 1"
      ]
    },
    {
      "cell_type": "code",
      "execution_count": null,
      "metadata": {
        "id": "eE6kVD4YYL01",
        "outputId": "fd86ce39-d7a1-46f4-ddfd-645b99d665d7"
      },
      "outputs": [
        {
          "data": {
            "text/html": [
              "<div>\n",
              "<style scoped>\n",
              "    .dataframe tbody tr th:only-of-type {\n",
              "        vertical-align: middle;\n",
              "    }\n",
              "\n",
              "    .dataframe tbody tr th {\n",
              "        vertical-align: top;\n",
              "    }\n",
              "\n",
              "    .dataframe thead th {\n",
              "        text-align: right;\n",
              "    }\n",
              "</style>\n",
              "<table border=\"1\" class=\"dataframe\">\n",
              "  <thead>\n",
              "    <tr style=\"text-align: right;\">\n",
              "      <th></th>\n",
              "      <th>Дата и время</th>\n",
              "      <th>Полож.пед.акселер.,%</th>\n",
              "      <th>Нагрузка на двигатель, %</th>\n",
              "      <th>Давл.масла двиг.,кПа</th>\n",
              "      <th>Темп.масла двиг.,°С</th>\n",
              "      <th>Обор.двиг.,об/мин</th>\n",
              "      <th>Значение счетчика моточасов, час:мин</th>\n",
              "      <th>Сост.пед.сцепл.</th>\n",
              "      <th>iButton2</th>\n",
              "      <th>КПП. Температура масла</th>\n",
              "      <th>...</th>\n",
              "      <th>Холодный старт (spn3871)</th>\n",
              "      <th>Крутящий момент (spn513), Нм</th>\n",
              "      <th>Положение рейки ТНВД (spn51), %</th>\n",
              "      <th>Расход топлива (spn183), л/ч</th>\n",
              "      <th>ДВС. Температура наддувочного воздуха, °С</th>\n",
              "      <th>Давление наддувочного воздуха двигателя (spn106), кПа</th>\n",
              "      <th>Текущая передача (spn523)</th>\n",
              "      <th>Температура масла гидравлики (spn5536), С</th>\n",
              "      <th>Педаль слива (spn598)</th>\n",
              "      <th>Рабочий</th>\n",
              "    </tr>\n",
              "  </thead>\n",
              "  <tbody>\n",
              "    <tr>\n",
              "      <th>0</th>\n",
              "      <td>01/06/2023 00:28:27</td>\n",
              "      <td>-</td>\n",
              "      <td>-</td>\n",
              "      <td>-</td>\n",
              "      <td>-</td>\n",
              "      <td>-</td>\n",
              "      <td>-</td>\n",
              "      <td>-</td>\n",
              "      <td>NaN</td>\n",
              "      <td>-</td>\n",
              "      <td>...</td>\n",
              "      <td>-</td>\n",
              "      <td>-</td>\n",
              "      <td>-</td>\n",
              "      <td>-</td>\n",
              "      <td>-</td>\n",
              "      <td>-</td>\n",
              "      <td>-</td>\n",
              "      <td>-</td>\n",
              "      <td>-</td>\n",
              "      <td>1</td>\n",
              "    </tr>\n",
              "    <tr>\n",
              "      <th>1</th>\n",
              "      <td>01/06/2023 01:29:33</td>\n",
              "      <td>-</td>\n",
              "      <td>-</td>\n",
              "      <td>-</td>\n",
              "      <td>-</td>\n",
              "      <td>-</td>\n",
              "      <td>-</td>\n",
              "      <td>-</td>\n",
              "      <td>NaN</td>\n",
              "      <td>-</td>\n",
              "      <td>...</td>\n",
              "      <td>-</td>\n",
              "      <td>-</td>\n",
              "      <td>-</td>\n",
              "      <td>-</td>\n",
              "      <td>-</td>\n",
              "      <td>-</td>\n",
              "      <td>-</td>\n",
              "      <td>-</td>\n",
              "      <td>-</td>\n",
              "      <td>1</td>\n",
              "    </tr>\n",
              "    <tr>\n",
              "      <th>2</th>\n",
              "      <td>01/06/2023 01:29:45</td>\n",
              "      <td>-</td>\n",
              "      <td>-</td>\n",
              "      <td>-</td>\n",
              "      <td>-</td>\n",
              "      <td>-</td>\n",
              "      <td>-</td>\n",
              "      <td>-</td>\n",
              "      <td>NaN</td>\n",
              "      <td>-</td>\n",
              "      <td>...</td>\n",
              "      <td>-</td>\n",
              "      <td>-</td>\n",
              "      <td>-</td>\n",
              "      <td>-</td>\n",
              "      <td>-</td>\n",
              "      <td>-</td>\n",
              "      <td>-</td>\n",
              "      <td>-</td>\n",
              "      <td>-</td>\n",
              "      <td>1</td>\n",
              "    </tr>\n",
              "    <tr>\n",
              "      <th>3</th>\n",
              "      <td>01/06/2023 04:46:32</td>\n",
              "      <td>-</td>\n",
              "      <td>-</td>\n",
              "      <td>-</td>\n",
              "      <td>-</td>\n",
              "      <td>-</td>\n",
              "      <td>-</td>\n",
              "      <td>-</td>\n",
              "      <td>NaN</td>\n",
              "      <td>-</td>\n",
              "      <td>...</td>\n",
              "      <td>-</td>\n",
              "      <td>-</td>\n",
              "      <td>-</td>\n",
              "      <td>-</td>\n",
              "      <td>-</td>\n",
              "      <td>-</td>\n",
              "      <td>-</td>\n",
              "      <td>-</td>\n",
              "      <td>-</td>\n",
              "      <td>1</td>\n",
              "    </tr>\n",
              "    <tr>\n",
              "      <th>4</th>\n",
              "      <td>01/06/2023 04:47:01</td>\n",
              "      <td>-</td>\n",
              "      <td>-</td>\n",
              "      <td>-</td>\n",
              "      <td>-</td>\n",
              "      <td>-</td>\n",
              "      <td>-</td>\n",
              "      <td>-</td>\n",
              "      <td>NaN</td>\n",
              "      <td>-</td>\n",
              "      <td>...</td>\n",
              "      <td>-</td>\n",
              "      <td>-</td>\n",
              "      <td>-</td>\n",
              "      <td>-</td>\n",
              "      <td>-</td>\n",
              "      <td>-</td>\n",
              "      <td>-</td>\n",
              "      <td>-</td>\n",
              "      <td>-</td>\n",
              "      <td>1</td>\n",
              "    </tr>\n",
              "    <tr>\n",
              "      <th>...</th>\n",
              "      <td>...</td>\n",
              "      <td>...</td>\n",
              "      <td>...</td>\n",
              "      <td>...</td>\n",
              "      <td>...</td>\n",
              "      <td>...</td>\n",
              "      <td>...</td>\n",
              "      <td>...</td>\n",
              "      <td>...</td>\n",
              "      <td>...</td>\n",
              "      <td>...</td>\n",
              "      <td>...</td>\n",
              "      <td>...</td>\n",
              "      <td>...</td>\n",
              "      <td>...</td>\n",
              "      <td>...</td>\n",
              "      <td>...</td>\n",
              "      <td>...</td>\n",
              "      <td>...</td>\n",
              "      <td>...</td>\n",
              "      <td>...</td>\n",
              "    </tr>\n",
              "    <tr>\n",
              "      <th>892878</th>\n",
              "      <td>31/05/2023 04:03:37</td>\n",
              "      <td>-</td>\n",
              "      <td>-</td>\n",
              "      <td>-</td>\n",
              "      <td>-</td>\n",
              "      <td>-</td>\n",
              "      <td>-</td>\n",
              "      <td>-</td>\n",
              "      <td>NaN</td>\n",
              "      <td>-</td>\n",
              "      <td>...</td>\n",
              "      <td>-</td>\n",
              "      <td>-</td>\n",
              "      <td>-</td>\n",
              "      <td>-</td>\n",
              "      <td>-</td>\n",
              "      <td>-</td>\n",
              "      <td>-</td>\n",
              "      <td>-</td>\n",
              "      <td>-</td>\n",
              "      <td>1</td>\n",
              "    </tr>\n",
              "    <tr>\n",
              "      <th>892879</th>\n",
              "      <td>31/05/2023 07:06:50</td>\n",
              "      <td>-</td>\n",
              "      <td>-</td>\n",
              "      <td>-</td>\n",
              "      <td>-</td>\n",
              "      <td>-</td>\n",
              "      <td>-</td>\n",
              "      <td>-</td>\n",
              "      <td>NaN</td>\n",
              "      <td>-</td>\n",
              "      <td>...</td>\n",
              "      <td>-</td>\n",
              "      <td>-</td>\n",
              "      <td>-</td>\n",
              "      <td>-</td>\n",
              "      <td>-</td>\n",
              "      <td>-</td>\n",
              "      <td>-</td>\n",
              "      <td>-</td>\n",
              "      <td>-</td>\n",
              "      <td>1</td>\n",
              "    </tr>\n",
              "    <tr>\n",
              "      <th>892880</th>\n",
              "      <td>31/05/2023 06:05:47</td>\n",
              "      <td>-</td>\n",
              "      <td>-</td>\n",
              "      <td>-</td>\n",
              "      <td>-</td>\n",
              "      <td>-</td>\n",
              "      <td>-</td>\n",
              "      <td>-</td>\n",
              "      <td>NaN</td>\n",
              "      <td>-</td>\n",
              "      <td>...</td>\n",
              "      <td>-</td>\n",
              "      <td>-</td>\n",
              "      <td>-</td>\n",
              "      <td>-</td>\n",
              "      <td>-</td>\n",
              "      <td>-</td>\n",
              "      <td>-</td>\n",
              "      <td>-</td>\n",
              "      <td>-</td>\n",
              "      <td>1</td>\n",
              "    </tr>\n",
              "    <tr>\n",
              "      <th>892881</th>\n",
              "      <td>31/05/2023 08:07:59</td>\n",
              "      <td>-</td>\n",
              "      <td>-</td>\n",
              "      <td>-</td>\n",
              "      <td>-</td>\n",
              "      <td>-</td>\n",
              "      <td>-</td>\n",
              "      <td>-</td>\n",
              "      <td>NaN</td>\n",
              "      <td>-</td>\n",
              "      <td>...</td>\n",
              "      <td>-</td>\n",
              "      <td>-</td>\n",
              "      <td>-</td>\n",
              "      <td>-</td>\n",
              "      <td>-</td>\n",
              "      <td>-</td>\n",
              "      <td>-</td>\n",
              "      <td>-</td>\n",
              "      <td>-</td>\n",
              "      <td>1</td>\n",
              "    </tr>\n",
              "    <tr>\n",
              "      <th>892882</th>\n",
              "      <td>31/05/2023 08:07:52</td>\n",
              "      <td>-</td>\n",
              "      <td>-</td>\n",
              "      <td>-</td>\n",
              "      <td>-</td>\n",
              "      <td>-</td>\n",
              "      <td>-</td>\n",
              "      <td>-</td>\n",
              "      <td>NaN</td>\n",
              "      <td>-</td>\n",
              "      <td>...</td>\n",
              "      <td>-</td>\n",
              "      <td>-</td>\n",
              "      <td>-</td>\n",
              "      <td>-</td>\n",
              "      <td>-</td>\n",
              "      <td>-</td>\n",
              "      <td>-</td>\n",
              "      <td>-</td>\n",
              "      <td>-</td>\n",
              "      <td>1</td>\n",
              "    </tr>\n",
              "  </tbody>\n",
              "</table>\n",
              "<p>892883 rows × 56 columns</p>\n",
              "</div>"
            ],
            "text/plain": [
              "               Дата и время Полож.пед.акселер.,% Нагрузка на двигатель, %  \\\n",
              "0       01/06/2023 00:28:27                    -                        -   \n",
              "1       01/06/2023 01:29:33                    -                        -   \n",
              "2       01/06/2023 01:29:45                    -                        -   \n",
              "3       01/06/2023 04:46:32                    -                        -   \n",
              "4       01/06/2023 04:47:01                    -                        -   \n",
              "...                     ...                  ...                      ...   \n",
              "892878  31/05/2023 04:03:37                    -                        -   \n",
              "892879  31/05/2023 07:06:50                    -                        -   \n",
              "892880  31/05/2023 06:05:47                    -                        -   \n",
              "892881  31/05/2023 08:07:59                    -                        -   \n",
              "892882  31/05/2023 08:07:52                    -                        -   \n",
              "\n",
              "       Давл.масла двиг.,кПа Темп.масла двиг.,°С Обор.двиг.,об/мин  \\\n",
              "0                         -                   -                 -   \n",
              "1                         -                   -                 -   \n",
              "2                         -                   -                 -   \n",
              "3                         -                   -                 -   \n",
              "4                         -                   -                 -   \n",
              "...                     ...                 ...               ...   \n",
              "892878                    -                   -                 -   \n",
              "892879                    -                   -                 -   \n",
              "892880                    -                   -                 -   \n",
              "892881                    -                   -                 -   \n",
              "892882                    -                   -                 -   \n",
              "\n",
              "       Значение счетчика моточасов, час:мин Сост.пед.сцепл.  iButton2  \\\n",
              "0                                         -               -       NaN   \n",
              "1                                         -               -       NaN   \n",
              "2                                         -               -       NaN   \n",
              "3                                         -               -       NaN   \n",
              "4                                         -               -       NaN   \n",
              "...                                     ...             ...       ...   \n",
              "892878                                    -               -       NaN   \n",
              "892879                                    -               -       NaN   \n",
              "892880                                    -               -       NaN   \n",
              "892881                                    -               -       NaN   \n",
              "892882                                    -               -       NaN   \n",
              "\n",
              "       КПП. Температура масла  ... Холодный старт (spn3871)  \\\n",
              "0                           -  ...                        -   \n",
              "1                           -  ...                        -   \n",
              "2                           -  ...                        -   \n",
              "3                           -  ...                        -   \n",
              "4                           -  ...                        -   \n",
              "...                       ...  ...                      ...   \n",
              "892878                      -  ...                        -   \n",
              "892879                      -  ...                        -   \n",
              "892880                      -  ...                        -   \n",
              "892881                      -  ...                        -   \n",
              "892882                      -  ...                        -   \n",
              "\n",
              "       Крутящий момент (spn513), Нм Положение рейки ТНВД (spn51), %  \\\n",
              "0                                 -                               -   \n",
              "1                                 -                               -   \n",
              "2                                 -                               -   \n",
              "3                                 -                               -   \n",
              "4                                 -                               -   \n",
              "...                             ...                             ...   \n",
              "892878                            -                               -   \n",
              "892879                            -                               -   \n",
              "892880                            -                               -   \n",
              "892881                            -                               -   \n",
              "892882                            -                               -   \n",
              "\n",
              "       Расход топлива (spn183), л/ч ДВС. Температура наддувочного воздуха, °С  \\\n",
              "0                                 -                                         -   \n",
              "1                                 -                                         -   \n",
              "2                                 -                                         -   \n",
              "3                                 -                                         -   \n",
              "4                                 -                                         -   \n",
              "...                             ...                                       ...   \n",
              "892878                            -                                         -   \n",
              "892879                            -                                         -   \n",
              "892880                            -                                         -   \n",
              "892881                            -                                         -   \n",
              "892882                            -                                         -   \n",
              "\n",
              "       Давление наддувочного воздуха двигателя (spn106), кПа  \\\n",
              "0                                                       -      \n",
              "1                                                       -      \n",
              "2                                                       -      \n",
              "3                                                       -      \n",
              "4                                                       -      \n",
              "...                                                   ...      \n",
              "892878                                                  -      \n",
              "892879                                                  -      \n",
              "892880                                                  -      \n",
              "892881                                                  -      \n",
              "892882                                                  -      \n",
              "\n",
              "       Текущая передача (spn523) Температура масла гидравлики (spn5536), С  \\\n",
              "0                              -                                         -   \n",
              "1                              -                                         -   \n",
              "2                              -                                         -   \n",
              "3                              -                                         -   \n",
              "4                              -                                         -   \n",
              "...                          ...                                       ...   \n",
              "892878                         -                                         -   \n",
              "892879                         -                                         -   \n",
              "892880                         -                                         -   \n",
              "892881                         -                                         -   \n",
              "892882                         -                                         -   \n",
              "\n",
              "       Педаль слива (spn598) Рабочий  \n",
              "0                          -       1  \n",
              "1                          -       1  \n",
              "2                          -       1  \n",
              "3                          -       1  \n",
              "4                          -       1  \n",
              "...                      ...     ...  \n",
              "892878                     -       1  \n",
              "892879                     -       1  \n",
              "892880                     -       1  \n",
              "892881                     -       1  \n",
              "892882                     -       1  \n",
              "\n",
              "[892883 rows x 56 columns]"
            ]
          },
          "execution_count": 4,
          "metadata": {},
          "output_type": "execute_result"
        }
      ],
      "source": [
        "data_normal"
      ]
    },
    {
      "cell_type": "code",
      "execution_count": null,
      "metadata": {
        "id": "AaQx6Y0-YL01",
        "outputId": "8ca282bf-049b-453a-9ee9-4f80de9f8d7d"
      },
      "outputs": [
        {
          "name": "stderr",
          "output_type": "stream",
          "text": [
            "C:\\Users\\karlo\\AppData\\Local\\Temp\\ipykernel_11020\\1794124453.py:1: DtypeWarning: Columns (3,11,12,17,18,19,20,21,22,23,24,25,26,27,28,29,30,31,32,33,34,35,37,41,42,44) have mixed types. Specify dtype option on import or set low_memory=False.\n",
            "  data_problem = pd.read_csv('data\\для анализа\\dataset._problems.csv', delimiter=';')\n"
          ]
        }
      ],
      "source": [
        "data_problem = pd.read_csv('data\\для анализа\\dataset._problems.csv', delimiter=';')"
      ]
    },
    {
      "cell_type": "code",
      "execution_count": null,
      "metadata": {
        "id": "An-OsTK3YL01"
      },
      "outputs": [],
      "source": [
        "data_problem[\"Рабочий\"] = 2"
      ]
    },
    {
      "cell_type": "code",
      "execution_count": null,
      "metadata": {
        "id": "d8PUMiRVYL01",
        "outputId": "e0717c9d-7fc8-4bce-81b0-59de2d89bfc2"
      },
      "outputs": [
        {
          "data": {
            "text/html": [
              "<div>\n",
              "<style scoped>\n",
              "    .dataframe tbody tr th:only-of-type {\n",
              "        vertical-align: middle;\n",
              "    }\n",
              "\n",
              "    .dataframe tbody tr th {\n",
              "        vertical-align: top;\n",
              "    }\n",
              "\n",
              "    .dataframe thead th {\n",
              "        text-align: right;\n",
              "    }\n",
              "</style>\n",
              "<table border=\"1\" class=\"dataframe\">\n",
              "  <thead>\n",
              "    <tr style=\"text-align: right;\">\n",
              "      <th></th>\n",
              "      <th>Дата и время</th>\n",
              "      <th>Полож.пед.акселер.,%</th>\n",
              "      <th>Нагрузка на двигатель, %</th>\n",
              "      <th>Давл.масла двиг.,кПа</th>\n",
              "      <th>Темп.масла двиг.,°С</th>\n",
              "      <th>Обор.двиг.,об/мин</th>\n",
              "      <th>Значение счетчика моточасов, час:мин</th>\n",
              "      <th>Сост.пед.сцепл.</th>\n",
              "      <th>iButton2</th>\n",
              "      <th>КПП. Температура масла</th>\n",
              "      <th>...</th>\n",
              "      <th>Холодный старт (spn3871)</th>\n",
              "      <th>Крутящий момент (spn513), Нм</th>\n",
              "      <th>Положение рейки ТНВД (spn51), %</th>\n",
              "      <th>Расход топлива (spn183), л/ч</th>\n",
              "      <th>ДВС. Температура наддувочного воздуха, °С</th>\n",
              "      <th>Давление наддувочного воздуха двигателя (spn106), кПа</th>\n",
              "      <th>Текущая передача (spn523)</th>\n",
              "      <th>Температура масла гидравлики (spn5536), С</th>\n",
              "      <th>Педаль слива (spn598)</th>\n",
              "      <th>Рабочий</th>\n",
              "    </tr>\n",
              "  </thead>\n",
              "  <tbody>\n",
              "    <tr>\n",
              "      <th>0</th>\n",
              "      <td>01/08/2023 11:45:47</td>\n",
              "      <td>-</td>\n",
              "      <td>-</td>\n",
              "      <td>-</td>\n",
              "      <td>-</td>\n",
              "      <td>-</td>\n",
              "      <td>-</td>\n",
              "      <td>-</td>\n",
              "      <td>NaN</td>\n",
              "      <td>-</td>\n",
              "      <td>...</td>\n",
              "      <td>-</td>\n",
              "      <td>-</td>\n",
              "      <td>-</td>\n",
              "      <td>-</td>\n",
              "      <td>-</td>\n",
              "      <td>-</td>\n",
              "      <td>-</td>\n",
              "      <td>-</td>\n",
              "      <td>-</td>\n",
              "      <td>2</td>\n",
              "    </tr>\n",
              "    <tr>\n",
              "      <th>1</th>\n",
              "      <td>01/08/2023 11:46:01</td>\n",
              "      <td>-</td>\n",
              "      <td>-</td>\n",
              "      <td>-</td>\n",
              "      <td>-</td>\n",
              "      <td>-</td>\n",
              "      <td>-</td>\n",
              "      <td>-</td>\n",
              "      <td>NaN</td>\n",
              "      <td>-</td>\n",
              "      <td>...</td>\n",
              "      <td>-</td>\n",
              "      <td>-</td>\n",
              "      <td>-</td>\n",
              "      <td>-</td>\n",
              "      <td>-</td>\n",
              "      <td>-</td>\n",
              "      <td>-</td>\n",
              "      <td>-</td>\n",
              "      <td>-</td>\n",
              "      <td>2</td>\n",
              "    </tr>\n",
              "    <tr>\n",
              "      <th>2</th>\n",
              "      <td>01/08/2023 12:23:43</td>\n",
              "      <td>-</td>\n",
              "      <td>-</td>\n",
              "      <td>-</td>\n",
              "      <td>-</td>\n",
              "      <td>-</td>\n",
              "      <td>-</td>\n",
              "      <td>-</td>\n",
              "      <td>NaN</td>\n",
              "      <td>-</td>\n",
              "      <td>...</td>\n",
              "      <td>-</td>\n",
              "      <td>-</td>\n",
              "      <td>-</td>\n",
              "      <td>-</td>\n",
              "      <td>-</td>\n",
              "      <td>-</td>\n",
              "      <td>-</td>\n",
              "      <td>-</td>\n",
              "      <td>-</td>\n",
              "      <td>2</td>\n",
              "    </tr>\n",
              "    <tr>\n",
              "      <th>3</th>\n",
              "      <td>01/08/2023 12:23:57</td>\n",
              "      <td>-</td>\n",
              "      <td>-</td>\n",
              "      <td>-</td>\n",
              "      <td>-</td>\n",
              "      <td>-</td>\n",
              "      <td>-</td>\n",
              "      <td>-</td>\n",
              "      <td>NaN</td>\n",
              "      <td>-</td>\n",
              "      <td>...</td>\n",
              "      <td>-</td>\n",
              "      <td>-</td>\n",
              "      <td>-</td>\n",
              "      <td>-</td>\n",
              "      <td>-</td>\n",
              "      <td>-</td>\n",
              "      <td>-</td>\n",
              "      <td>-</td>\n",
              "      <td>-</td>\n",
              "      <td>2</td>\n",
              "    </tr>\n",
              "    <tr>\n",
              "      <th>4</th>\n",
              "      <td>01/08/2023 12:36:35</td>\n",
              "      <td>-</td>\n",
              "      <td>-</td>\n",
              "      <td>-</td>\n",
              "      <td>-</td>\n",
              "      <td>-</td>\n",
              "      <td>-</td>\n",
              "      <td>-</td>\n",
              "      <td>NaN</td>\n",
              "      <td>-</td>\n",
              "      <td>...</td>\n",
              "      <td>-</td>\n",
              "      <td>-</td>\n",
              "      <td>-</td>\n",
              "      <td>-</td>\n",
              "      <td>-</td>\n",
              "      <td>-</td>\n",
              "      <td>-</td>\n",
              "      <td>-</td>\n",
              "      <td>-</td>\n",
              "      <td>2</td>\n",
              "    </tr>\n",
              "    <tr>\n",
              "      <th>...</th>\n",
              "      <td>...</td>\n",
              "      <td>...</td>\n",
              "      <td>...</td>\n",
              "      <td>...</td>\n",
              "      <td>...</td>\n",
              "      <td>...</td>\n",
              "      <td>...</td>\n",
              "      <td>...</td>\n",
              "      <td>...</td>\n",
              "      <td>...</td>\n",
              "      <td>...</td>\n",
              "      <td>...</td>\n",
              "      <td>...</td>\n",
              "      <td>...</td>\n",
              "      <td>...</td>\n",
              "      <td>...</td>\n",
              "      <td>...</td>\n",
              "      <td>...</td>\n",
              "      <td>...</td>\n",
              "      <td>...</td>\n",
              "      <td>...</td>\n",
              "    </tr>\n",
              "    <tr>\n",
              "      <th>2263202</th>\n",
              "      <td>24/08/2023 11:46:04</td>\n",
              "      <td>0,0</td>\n",
              "      <td>-</td>\n",
              "      <td>528</td>\n",
              "      <td>-273,000</td>\n",
              "      <td>1885,500</td>\n",
              "      <td>-</td>\n",
              "      <td>Отпущ.</td>\n",
              "      <td>NaN</td>\n",
              "      <td>-</td>\n",
              "      <td>...</td>\n",
              "      <td>-</td>\n",
              "      <td>-</td>\n",
              "      <td>-</td>\n",
              "      <td>-</td>\n",
              "      <td>-</td>\n",
              "      <td>-</td>\n",
              "      <td>-</td>\n",
              "      <td>-</td>\n",
              "      <td>-</td>\n",
              "      <td>2</td>\n",
              "    </tr>\n",
              "    <tr>\n",
              "      <th>2263203</th>\n",
              "      <td>24/08/2023 11:46:03</td>\n",
              "      <td>0,0</td>\n",
              "      <td>-</td>\n",
              "      <td>528</td>\n",
              "      <td>-273,000</td>\n",
              "      <td>1893,000</td>\n",
              "      <td>-</td>\n",
              "      <td>Отпущ.</td>\n",
              "      <td>NaN</td>\n",
              "      <td>-</td>\n",
              "      <td>...</td>\n",
              "      <td>-</td>\n",
              "      <td>-</td>\n",
              "      <td>-</td>\n",
              "      <td>-</td>\n",
              "      <td>-</td>\n",
              "      <td>-</td>\n",
              "      <td>-</td>\n",
              "      <td>-</td>\n",
              "      <td>-</td>\n",
              "      <td>2</td>\n",
              "    </tr>\n",
              "    <tr>\n",
              "      <th>2263204</th>\n",
              "      <td>24/08/2023 11:46:02</td>\n",
              "      <td>0,0</td>\n",
              "      <td>-</td>\n",
              "      <td>528</td>\n",
              "      <td>-273,000</td>\n",
              "      <td>1891,500</td>\n",
              "      <td>-</td>\n",
              "      <td>Отпущ.</td>\n",
              "      <td>NaN</td>\n",
              "      <td>-</td>\n",
              "      <td>...</td>\n",
              "      <td>-</td>\n",
              "      <td>-</td>\n",
              "      <td>-</td>\n",
              "      <td>-</td>\n",
              "      <td>-</td>\n",
              "      <td>-</td>\n",
              "      <td>-</td>\n",
              "      <td>-</td>\n",
              "      <td>-</td>\n",
              "      <td>2</td>\n",
              "    </tr>\n",
              "    <tr>\n",
              "      <th>2263205</th>\n",
              "      <td>24/08/2023 11:46:01</td>\n",
              "      <td>0,0</td>\n",
              "      <td>-</td>\n",
              "      <td>528</td>\n",
              "      <td>-273,000</td>\n",
              "      <td>1916,250</td>\n",
              "      <td>1380:24</td>\n",
              "      <td>Отпущ.</td>\n",
              "      <td>NaN</td>\n",
              "      <td>-</td>\n",
              "      <td>...</td>\n",
              "      <td>-</td>\n",
              "      <td>-</td>\n",
              "      <td>-</td>\n",
              "      <td>-</td>\n",
              "      <td>-</td>\n",
              "      <td>-</td>\n",
              "      <td>-</td>\n",
              "      <td>-</td>\n",
              "      <td>-</td>\n",
              "      <td>2</td>\n",
              "    </tr>\n",
              "    <tr>\n",
              "      <th>2263206</th>\n",
              "      <td>24/08/2023 11:46:00</td>\n",
              "      <td>0,0</td>\n",
              "      <td>-</td>\n",
              "      <td>528</td>\n",
              "      <td>-273,000</td>\n",
              "      <td>1900,750</td>\n",
              "      <td>-</td>\n",
              "      <td>Отпущ.</td>\n",
              "      <td>NaN</td>\n",
              "      <td>-</td>\n",
              "      <td>...</td>\n",
              "      <td>-</td>\n",
              "      <td>-</td>\n",
              "      <td>-</td>\n",
              "      <td>-</td>\n",
              "      <td>-</td>\n",
              "      <td>-</td>\n",
              "      <td>-</td>\n",
              "      <td>-</td>\n",
              "      <td>-</td>\n",
              "      <td>2</td>\n",
              "    </tr>\n",
              "  </tbody>\n",
              "</table>\n",
              "<p>2263207 rows × 56 columns</p>\n",
              "</div>"
            ],
            "text/plain": [
              "                Дата и время Полож.пед.акселер.,% Нагрузка на двигатель, %  \\\n",
              "0        01/08/2023 11:45:47                    -                        -   \n",
              "1        01/08/2023 11:46:01                    -                        -   \n",
              "2        01/08/2023 12:23:43                    -                        -   \n",
              "3        01/08/2023 12:23:57                    -                        -   \n",
              "4        01/08/2023 12:36:35                    -                        -   \n",
              "...                      ...                  ...                      ...   \n",
              "2263202  24/08/2023 11:46:04                  0,0                        -   \n",
              "2263203  24/08/2023 11:46:03                  0,0                        -   \n",
              "2263204  24/08/2023 11:46:02                  0,0                        -   \n",
              "2263205  24/08/2023 11:46:01                  0,0                        -   \n",
              "2263206  24/08/2023 11:46:00                  0,0                        -   \n",
              "\n",
              "        Давл.масла двиг.,кПа Темп.масла двиг.,°С Обор.двиг.,об/мин  \\\n",
              "0                          -                   -                 -   \n",
              "1                          -                   -                 -   \n",
              "2                          -                   -                 -   \n",
              "3                          -                   -                 -   \n",
              "4                          -                   -                 -   \n",
              "...                      ...                 ...               ...   \n",
              "2263202                  528            -273,000          1885,500   \n",
              "2263203                  528            -273,000          1893,000   \n",
              "2263204                  528            -273,000          1891,500   \n",
              "2263205                  528            -273,000          1916,250   \n",
              "2263206                  528            -273,000          1900,750   \n",
              "\n",
              "        Значение счетчика моточасов, час:мин Сост.пед.сцепл.  iButton2  \\\n",
              "0                                          -               -       NaN   \n",
              "1                                          -               -       NaN   \n",
              "2                                          -               -       NaN   \n",
              "3                                          -               -       NaN   \n",
              "4                                          -               -       NaN   \n",
              "...                                      ...             ...       ...   \n",
              "2263202                                    -          Отпущ.       NaN   \n",
              "2263203                                    -          Отпущ.       NaN   \n",
              "2263204                                    -          Отпущ.       NaN   \n",
              "2263205                              1380:24          Отпущ.       NaN   \n",
              "2263206                                    -          Отпущ.       NaN   \n",
              "\n",
              "        КПП. Температура масла  ... Холодный старт (spn3871)  \\\n",
              "0                            -  ...                        -   \n",
              "1                            -  ...                        -   \n",
              "2                            -  ...                        -   \n",
              "3                            -  ...                        -   \n",
              "4                            -  ...                        -   \n",
              "...                        ...  ...                      ...   \n",
              "2263202                      -  ...                        -   \n",
              "2263203                      -  ...                        -   \n",
              "2263204                      -  ...                        -   \n",
              "2263205                      -  ...                        -   \n",
              "2263206                      -  ...                        -   \n",
              "\n",
              "        Крутящий момент (spn513), Нм Положение рейки ТНВД (spn51), %  \\\n",
              "0                                  -                               -   \n",
              "1                                  -                               -   \n",
              "2                                  -                               -   \n",
              "3                                  -                               -   \n",
              "4                                  -                               -   \n",
              "...                              ...                             ...   \n",
              "2263202                            -                               -   \n",
              "2263203                            -                               -   \n",
              "2263204                            -                               -   \n",
              "2263205                            -                               -   \n",
              "2263206                            -                               -   \n",
              "\n",
              "        Расход топлива (spn183), л/ч  \\\n",
              "0                                  -   \n",
              "1                                  -   \n",
              "2                                  -   \n",
              "3                                  -   \n",
              "4                                  -   \n",
              "...                              ...   \n",
              "2263202                            -   \n",
              "2263203                            -   \n",
              "2263204                            -   \n",
              "2263205                            -   \n",
              "2263206                            -   \n",
              "\n",
              "        ДВС. Температура наддувочного воздуха, °С  \\\n",
              "0                                               -   \n",
              "1                                               -   \n",
              "2                                               -   \n",
              "3                                               -   \n",
              "4                                               -   \n",
              "...                                           ...   \n",
              "2263202                                         -   \n",
              "2263203                                         -   \n",
              "2263204                                         -   \n",
              "2263205                                         -   \n",
              "2263206                                         -   \n",
              "\n",
              "        Давление наддувочного воздуха двигателя (spn106), кПа  \\\n",
              "0                                                        -      \n",
              "1                                                        -      \n",
              "2                                                        -      \n",
              "3                                                        -      \n",
              "4                                                        -      \n",
              "...                                                    ...      \n",
              "2263202                                                  -      \n",
              "2263203                                                  -      \n",
              "2263204                                                  -      \n",
              "2263205                                                  -      \n",
              "2263206                                                  -      \n",
              "\n",
              "        Текущая передача (spn523) Температура масла гидравлики (spn5536), С  \\\n",
              "0                               -                                         -   \n",
              "1                               -                                         -   \n",
              "2                               -                                         -   \n",
              "3                               -                                         -   \n",
              "4                               -                                         -   \n",
              "...                           ...                                       ...   \n",
              "2263202                         -                                         -   \n",
              "2263203                         -                                         -   \n",
              "2263204                         -                                         -   \n",
              "2263205                         -                                         -   \n",
              "2263206                         -                                         -   \n",
              "\n",
              "        Педаль слива (spn598) Рабочий  \n",
              "0                           -       2  \n",
              "1                           -       2  \n",
              "2                           -       2  \n",
              "3                           -       2  \n",
              "4                           -       2  \n",
              "...                       ...     ...  \n",
              "2263202                     -       2  \n",
              "2263203                     -       2  \n",
              "2263204                     -       2  \n",
              "2263205                     -       2  \n",
              "2263206                     -       2  \n",
              "\n",
              "[2263207 rows x 56 columns]"
            ]
          },
          "execution_count": 7,
          "metadata": {},
          "output_type": "execute_result"
        }
      ],
      "source": [
        "data_problem"
      ]
    },
    {
      "cell_type": "code",
      "execution_count": null,
      "metadata": {
        "id": "Oi_b9K0FYL01"
      },
      "outputs": [],
      "source": [
        "combinet = pd.concat([data_normal, data_problem])"
      ]
    },
    {
      "cell_type": "code",
      "execution_count": null,
      "metadata": {
        "id": "I9AzhQ83YL01",
        "outputId": "62b84d5e-4232-456f-e1a3-ca9836e32404"
      },
      "outputs": [
        {
          "data": {
            "text/html": [
              "<div>\n",
              "<style scoped>\n",
              "    .dataframe tbody tr th:only-of-type {\n",
              "        vertical-align: middle;\n",
              "    }\n",
              "\n",
              "    .dataframe tbody tr th {\n",
              "        vertical-align: top;\n",
              "    }\n",
              "\n",
              "    .dataframe thead th {\n",
              "        text-align: right;\n",
              "    }\n",
              "</style>\n",
              "<table border=\"1\" class=\"dataframe\">\n",
              "  <thead>\n",
              "    <tr style=\"text-align: right;\">\n",
              "      <th></th>\n",
              "      <th>Дата и время</th>\n",
              "      <th>Полож.пед.акселер.,%</th>\n",
              "      <th>Нагрузка на двигатель, %</th>\n",
              "      <th>Давл.масла двиг.,кПа</th>\n",
              "      <th>Темп.масла двиг.,°С</th>\n",
              "      <th>Обор.двиг.,об/мин</th>\n",
              "      <th>Значение счетчика моточасов, час:мин</th>\n",
              "      <th>Сост.пед.сцепл.</th>\n",
              "      <th>iButton2</th>\n",
              "      <th>КПП. Температура масла</th>\n",
              "      <th>...</th>\n",
              "      <th>Холодный старт (spn3871)</th>\n",
              "      <th>Крутящий момент (spn513), Нм</th>\n",
              "      <th>Положение рейки ТНВД (spn51), %</th>\n",
              "      <th>Расход топлива (spn183), л/ч</th>\n",
              "      <th>ДВС. Температура наддувочного воздуха, °С</th>\n",
              "      <th>Давление наддувочного воздуха двигателя (spn106), кПа</th>\n",
              "      <th>Текущая передача (spn523)</th>\n",
              "      <th>Температура масла гидравлики (spn5536), С</th>\n",
              "      <th>Педаль слива (spn598)</th>\n",
              "      <th>Рабочий</th>\n",
              "    </tr>\n",
              "  </thead>\n",
              "  <tbody>\n",
              "    <tr>\n",
              "      <th>0</th>\n",
              "      <td>01/06/2023 00:28:27</td>\n",
              "      <td>-</td>\n",
              "      <td>-</td>\n",
              "      <td>-</td>\n",
              "      <td>-</td>\n",
              "      <td>-</td>\n",
              "      <td>-</td>\n",
              "      <td>-</td>\n",
              "      <td>NaN</td>\n",
              "      <td>-</td>\n",
              "      <td>...</td>\n",
              "      <td>-</td>\n",
              "      <td>-</td>\n",
              "      <td>-</td>\n",
              "      <td>-</td>\n",
              "      <td>-</td>\n",
              "      <td>-</td>\n",
              "      <td>-</td>\n",
              "      <td>-</td>\n",
              "      <td>-</td>\n",
              "      <td>1</td>\n",
              "    </tr>\n",
              "    <tr>\n",
              "      <th>1</th>\n",
              "      <td>01/06/2023 01:29:33</td>\n",
              "      <td>-</td>\n",
              "      <td>-</td>\n",
              "      <td>-</td>\n",
              "      <td>-</td>\n",
              "      <td>-</td>\n",
              "      <td>-</td>\n",
              "      <td>-</td>\n",
              "      <td>NaN</td>\n",
              "      <td>-</td>\n",
              "      <td>...</td>\n",
              "      <td>-</td>\n",
              "      <td>-</td>\n",
              "      <td>-</td>\n",
              "      <td>-</td>\n",
              "      <td>-</td>\n",
              "      <td>-</td>\n",
              "      <td>-</td>\n",
              "      <td>-</td>\n",
              "      <td>-</td>\n",
              "      <td>1</td>\n",
              "    </tr>\n",
              "    <tr>\n",
              "      <th>2</th>\n",
              "      <td>01/06/2023 01:29:45</td>\n",
              "      <td>-</td>\n",
              "      <td>-</td>\n",
              "      <td>-</td>\n",
              "      <td>-</td>\n",
              "      <td>-</td>\n",
              "      <td>-</td>\n",
              "      <td>-</td>\n",
              "      <td>NaN</td>\n",
              "      <td>-</td>\n",
              "      <td>...</td>\n",
              "      <td>-</td>\n",
              "      <td>-</td>\n",
              "      <td>-</td>\n",
              "      <td>-</td>\n",
              "      <td>-</td>\n",
              "      <td>-</td>\n",
              "      <td>-</td>\n",
              "      <td>-</td>\n",
              "      <td>-</td>\n",
              "      <td>1</td>\n",
              "    </tr>\n",
              "    <tr>\n",
              "      <th>3</th>\n",
              "      <td>01/06/2023 04:46:32</td>\n",
              "      <td>-</td>\n",
              "      <td>-</td>\n",
              "      <td>-</td>\n",
              "      <td>-</td>\n",
              "      <td>-</td>\n",
              "      <td>-</td>\n",
              "      <td>-</td>\n",
              "      <td>NaN</td>\n",
              "      <td>-</td>\n",
              "      <td>...</td>\n",
              "      <td>-</td>\n",
              "      <td>-</td>\n",
              "      <td>-</td>\n",
              "      <td>-</td>\n",
              "      <td>-</td>\n",
              "      <td>-</td>\n",
              "      <td>-</td>\n",
              "      <td>-</td>\n",
              "      <td>-</td>\n",
              "      <td>1</td>\n",
              "    </tr>\n",
              "    <tr>\n",
              "      <th>4</th>\n",
              "      <td>01/06/2023 04:47:01</td>\n",
              "      <td>-</td>\n",
              "      <td>-</td>\n",
              "      <td>-</td>\n",
              "      <td>-</td>\n",
              "      <td>-</td>\n",
              "      <td>-</td>\n",
              "      <td>-</td>\n",
              "      <td>NaN</td>\n",
              "      <td>-</td>\n",
              "      <td>...</td>\n",
              "      <td>-</td>\n",
              "      <td>-</td>\n",
              "      <td>-</td>\n",
              "      <td>-</td>\n",
              "      <td>-</td>\n",
              "      <td>-</td>\n",
              "      <td>-</td>\n",
              "      <td>-</td>\n",
              "      <td>-</td>\n",
              "      <td>1</td>\n",
              "    </tr>\n",
              "    <tr>\n",
              "      <th>...</th>\n",
              "      <td>...</td>\n",
              "      <td>...</td>\n",
              "      <td>...</td>\n",
              "      <td>...</td>\n",
              "      <td>...</td>\n",
              "      <td>...</td>\n",
              "      <td>...</td>\n",
              "      <td>...</td>\n",
              "      <td>...</td>\n",
              "      <td>...</td>\n",
              "      <td>...</td>\n",
              "      <td>...</td>\n",
              "      <td>...</td>\n",
              "      <td>...</td>\n",
              "      <td>...</td>\n",
              "      <td>...</td>\n",
              "      <td>...</td>\n",
              "      <td>...</td>\n",
              "      <td>...</td>\n",
              "      <td>...</td>\n",
              "      <td>...</td>\n",
              "    </tr>\n",
              "    <tr>\n",
              "      <th>2263202</th>\n",
              "      <td>24/08/2023 11:46:04</td>\n",
              "      <td>0,0</td>\n",
              "      <td>-</td>\n",
              "      <td>528</td>\n",
              "      <td>-273,000</td>\n",
              "      <td>1885,500</td>\n",
              "      <td>-</td>\n",
              "      <td>Отпущ.</td>\n",
              "      <td>NaN</td>\n",
              "      <td>-</td>\n",
              "      <td>...</td>\n",
              "      <td>-</td>\n",
              "      <td>-</td>\n",
              "      <td>-</td>\n",
              "      <td>-</td>\n",
              "      <td>-</td>\n",
              "      <td>-</td>\n",
              "      <td>-</td>\n",
              "      <td>-</td>\n",
              "      <td>-</td>\n",
              "      <td>2</td>\n",
              "    </tr>\n",
              "    <tr>\n",
              "      <th>2263203</th>\n",
              "      <td>24/08/2023 11:46:03</td>\n",
              "      <td>0,0</td>\n",
              "      <td>-</td>\n",
              "      <td>528</td>\n",
              "      <td>-273,000</td>\n",
              "      <td>1893,000</td>\n",
              "      <td>-</td>\n",
              "      <td>Отпущ.</td>\n",
              "      <td>NaN</td>\n",
              "      <td>-</td>\n",
              "      <td>...</td>\n",
              "      <td>-</td>\n",
              "      <td>-</td>\n",
              "      <td>-</td>\n",
              "      <td>-</td>\n",
              "      <td>-</td>\n",
              "      <td>-</td>\n",
              "      <td>-</td>\n",
              "      <td>-</td>\n",
              "      <td>-</td>\n",
              "      <td>2</td>\n",
              "    </tr>\n",
              "    <tr>\n",
              "      <th>2263204</th>\n",
              "      <td>24/08/2023 11:46:02</td>\n",
              "      <td>0,0</td>\n",
              "      <td>-</td>\n",
              "      <td>528</td>\n",
              "      <td>-273,000</td>\n",
              "      <td>1891,500</td>\n",
              "      <td>-</td>\n",
              "      <td>Отпущ.</td>\n",
              "      <td>NaN</td>\n",
              "      <td>-</td>\n",
              "      <td>...</td>\n",
              "      <td>-</td>\n",
              "      <td>-</td>\n",
              "      <td>-</td>\n",
              "      <td>-</td>\n",
              "      <td>-</td>\n",
              "      <td>-</td>\n",
              "      <td>-</td>\n",
              "      <td>-</td>\n",
              "      <td>-</td>\n",
              "      <td>2</td>\n",
              "    </tr>\n",
              "    <tr>\n",
              "      <th>2263205</th>\n",
              "      <td>24/08/2023 11:46:01</td>\n",
              "      <td>0,0</td>\n",
              "      <td>-</td>\n",
              "      <td>528</td>\n",
              "      <td>-273,000</td>\n",
              "      <td>1916,250</td>\n",
              "      <td>1380:24</td>\n",
              "      <td>Отпущ.</td>\n",
              "      <td>NaN</td>\n",
              "      <td>-</td>\n",
              "      <td>...</td>\n",
              "      <td>-</td>\n",
              "      <td>-</td>\n",
              "      <td>-</td>\n",
              "      <td>-</td>\n",
              "      <td>-</td>\n",
              "      <td>-</td>\n",
              "      <td>-</td>\n",
              "      <td>-</td>\n",
              "      <td>-</td>\n",
              "      <td>2</td>\n",
              "    </tr>\n",
              "    <tr>\n",
              "      <th>2263206</th>\n",
              "      <td>24/08/2023 11:46:00</td>\n",
              "      <td>0,0</td>\n",
              "      <td>-</td>\n",
              "      <td>528</td>\n",
              "      <td>-273,000</td>\n",
              "      <td>1900,750</td>\n",
              "      <td>-</td>\n",
              "      <td>Отпущ.</td>\n",
              "      <td>NaN</td>\n",
              "      <td>-</td>\n",
              "      <td>...</td>\n",
              "      <td>-</td>\n",
              "      <td>-</td>\n",
              "      <td>-</td>\n",
              "      <td>-</td>\n",
              "      <td>-</td>\n",
              "      <td>-</td>\n",
              "      <td>-</td>\n",
              "      <td>-</td>\n",
              "      <td>-</td>\n",
              "      <td>2</td>\n",
              "    </tr>\n",
              "  </tbody>\n",
              "</table>\n",
              "<p>3156090 rows × 56 columns</p>\n",
              "</div>"
            ],
            "text/plain": [
              "                Дата и время Полож.пед.акселер.,% Нагрузка на двигатель, %  \\\n",
              "0        01/06/2023 00:28:27                    -                        -   \n",
              "1        01/06/2023 01:29:33                    -                        -   \n",
              "2        01/06/2023 01:29:45                    -                        -   \n",
              "3        01/06/2023 04:46:32                    -                        -   \n",
              "4        01/06/2023 04:47:01                    -                        -   \n",
              "...                      ...                  ...                      ...   \n",
              "2263202  24/08/2023 11:46:04                  0,0                        -   \n",
              "2263203  24/08/2023 11:46:03                  0,0                        -   \n",
              "2263204  24/08/2023 11:46:02                  0,0                        -   \n",
              "2263205  24/08/2023 11:46:01                  0,0                        -   \n",
              "2263206  24/08/2023 11:46:00                  0,0                        -   \n",
              "\n",
              "        Давл.масла двиг.,кПа Темп.масла двиг.,°С Обор.двиг.,об/мин  \\\n",
              "0                          -                   -                 -   \n",
              "1                          -                   -                 -   \n",
              "2                          -                   -                 -   \n",
              "3                          -                   -                 -   \n",
              "4                          -                   -                 -   \n",
              "...                      ...                 ...               ...   \n",
              "2263202                  528            -273,000          1885,500   \n",
              "2263203                  528            -273,000          1893,000   \n",
              "2263204                  528            -273,000          1891,500   \n",
              "2263205                  528            -273,000          1916,250   \n",
              "2263206                  528            -273,000          1900,750   \n",
              "\n",
              "        Значение счетчика моточасов, час:мин Сост.пед.сцепл.  iButton2  \\\n",
              "0                                          -               -       NaN   \n",
              "1                                          -               -       NaN   \n",
              "2                                          -               -       NaN   \n",
              "3                                          -               -       NaN   \n",
              "4                                          -               -       NaN   \n",
              "...                                      ...             ...       ...   \n",
              "2263202                                    -          Отпущ.       NaN   \n",
              "2263203                                    -          Отпущ.       NaN   \n",
              "2263204                                    -          Отпущ.       NaN   \n",
              "2263205                              1380:24          Отпущ.       NaN   \n",
              "2263206                                    -          Отпущ.       NaN   \n",
              "\n",
              "        КПП. Температура масла  ... Холодный старт (spn3871)  \\\n",
              "0                            -  ...                        -   \n",
              "1                            -  ...                        -   \n",
              "2                            -  ...                        -   \n",
              "3                            -  ...                        -   \n",
              "4                            -  ...                        -   \n",
              "...                        ...  ...                      ...   \n",
              "2263202                      -  ...                        -   \n",
              "2263203                      -  ...                        -   \n",
              "2263204                      -  ...                        -   \n",
              "2263205                      -  ...                        -   \n",
              "2263206                      -  ...                        -   \n",
              "\n",
              "        Крутящий момент (spn513), Нм Положение рейки ТНВД (spn51), %  \\\n",
              "0                                  -                               -   \n",
              "1                                  -                               -   \n",
              "2                                  -                               -   \n",
              "3                                  -                               -   \n",
              "4                                  -                               -   \n",
              "...                              ...                             ...   \n",
              "2263202                            -                               -   \n",
              "2263203                            -                               -   \n",
              "2263204                            -                               -   \n",
              "2263205                            -                               -   \n",
              "2263206                            -                               -   \n",
              "\n",
              "        Расход топлива (spn183), л/ч  \\\n",
              "0                                  -   \n",
              "1                                  -   \n",
              "2                                  -   \n",
              "3                                  -   \n",
              "4                                  -   \n",
              "...                              ...   \n",
              "2263202                            -   \n",
              "2263203                            -   \n",
              "2263204                            -   \n",
              "2263205                            -   \n",
              "2263206                            -   \n",
              "\n",
              "        ДВС. Температура наддувочного воздуха, °С  \\\n",
              "0                                               -   \n",
              "1                                               -   \n",
              "2                                               -   \n",
              "3                                               -   \n",
              "4                                               -   \n",
              "...                                           ...   \n",
              "2263202                                         -   \n",
              "2263203                                         -   \n",
              "2263204                                         -   \n",
              "2263205                                         -   \n",
              "2263206                                         -   \n",
              "\n",
              "        Давление наддувочного воздуха двигателя (spn106), кПа  \\\n",
              "0                                                        -      \n",
              "1                                                        -      \n",
              "2                                                        -      \n",
              "3                                                        -      \n",
              "4                                                        -      \n",
              "...                                                    ...      \n",
              "2263202                                                  -      \n",
              "2263203                                                  -      \n",
              "2263204                                                  -      \n",
              "2263205                                                  -      \n",
              "2263206                                                  -      \n",
              "\n",
              "        Текущая передача (spn523) Температура масла гидравлики (spn5536), С  \\\n",
              "0                               -                                         -   \n",
              "1                               -                                         -   \n",
              "2                               -                                         -   \n",
              "3                               -                                         -   \n",
              "4                               -                                         -   \n",
              "...                           ...                                       ...   \n",
              "2263202                         -                                         -   \n",
              "2263203                         -                                         -   \n",
              "2263204                         -                                         -   \n",
              "2263205                         -                                         -   \n",
              "2263206                         -                                         -   \n",
              "\n",
              "        Педаль слива (spn598) Рабочий  \n",
              "0                           -       1  \n",
              "1                           -       1  \n",
              "2                           -       1  \n",
              "3                           -       1  \n",
              "4                           -       1  \n",
              "...                       ...     ...  \n",
              "2263202                     -       2  \n",
              "2263203                     -       2  \n",
              "2263204                     -       2  \n",
              "2263205                     -       2  \n",
              "2263206                     -       2  \n",
              "\n",
              "[3156090 rows x 56 columns]"
            ]
          },
          "execution_count": 9,
          "metadata": {},
          "output_type": "execute_result"
        }
      ],
      "source": [
        "combinet"
      ]
    },
    {
      "cell_type": "code",
      "execution_count": null,
      "metadata": {
        "id": "aTmLbAOiYL02"
      },
      "outputs": [],
      "source": [
        "data_anomal = pd.read_csv('data\\для анализа\\dataset._anomaly.csv', delimiter=';')"
      ]
    },
    {
      "cell_type": "code",
      "execution_count": null,
      "metadata": {
        "id": "c85Gf3pQYL02"
      },
      "outputs": [],
      "source": [
        "data_anomal['Рабочий'] = 3"
      ]
    },
    {
      "cell_type": "code",
      "execution_count": null,
      "metadata": {
        "id": "C-UEjNqOYL02"
      },
      "outputs": [],
      "source": [
        "combinet = pd.concat([combinet, data_anomal])"
      ]
    },
    {
      "cell_type": "code",
      "execution_count": null,
      "metadata": {
        "id": "277vcotkYL02"
      },
      "outputs": [],
      "source": [
        "combinet = combinet"
      ]
    },
    {
      "cell_type": "code",
      "execution_count": null,
      "metadata": {
        "id": "0StXVeb9YL02",
        "outputId": "ec6e9e71-cccd-4758-c1e8-4bf685fcbc84"
      },
      "outputs": [
        {
          "name": "stderr",
          "output_type": "stream",
          "text": [
            "C:\\Users\\karlo\\AppData\\Local\\Temp\\ipykernel_11020\\413649503.py:1: FutureWarning: Downcasting behavior in `replace` is deprecated and will be removed in a future version. To retain the old behavior, explicitly call `result.infer_objects(copy=False)`. To opt-in to the future behavior, set `pd.set_option('future.no_silent_downcasting', True)`\n",
            "  combinet  = combinet.replace(r'^\\s*-', np.nan, regex=True)\n"
          ]
        }
      ],
      "source": [
        "combinet  = combinet.replace(r'^\\s*-', np.nan, regex=True)"
      ]
    },
    {
      "cell_type": "code",
      "execution_count": null,
      "metadata": {
        "id": "ucEYlnJ1YL03",
        "outputId": "c1a078ff-c65a-49b7-eea4-88e2e4a7e394"
      },
      "outputs": [
        {
          "data": {
            "text/html": [
              "<div>\n",
              "<style scoped>\n",
              "    .dataframe tbody tr th:only-of-type {\n",
              "        vertical-align: middle;\n",
              "    }\n",
              "\n",
              "    .dataframe tbody tr th {\n",
              "        vertical-align: top;\n",
              "    }\n",
              "\n",
              "    .dataframe thead th {\n",
              "        text-align: right;\n",
              "    }\n",
              "</style>\n",
              "<table border=\"1\" class=\"dataframe\">\n",
              "  <thead>\n",
              "    <tr style=\"text-align: right;\">\n",
              "      <th></th>\n",
              "      <th>Дата и время</th>\n",
              "      <th>Полож.пед.акселер.,%</th>\n",
              "      <th>Нагрузка на двигатель, %</th>\n",
              "      <th>Давл.масла двиг.,кПа</th>\n",
              "      <th>Темп.масла двиг.,°С</th>\n",
              "      <th>Обор.двиг.,об/мин</th>\n",
              "      <th>Значение счетчика моточасов, час:мин</th>\n",
              "      <th>Сост.пед.сцепл.</th>\n",
              "      <th>iButton2</th>\n",
              "      <th>КПП. Температура масла</th>\n",
              "      <th>...</th>\n",
              "      <th>Холодный старт (spn3871)</th>\n",
              "      <th>Крутящий момент (spn513), Нм</th>\n",
              "      <th>Положение рейки ТНВД (spn51), %</th>\n",
              "      <th>Расход топлива (spn183), л/ч</th>\n",
              "      <th>ДВС. Температура наддувочного воздуха, °С</th>\n",
              "      <th>Давление наддувочного воздуха двигателя (spn106), кПа</th>\n",
              "      <th>Текущая передача (spn523)</th>\n",
              "      <th>Температура масла гидравлики (spn5536), С</th>\n",
              "      <th>Педаль слива (spn598)</th>\n",
              "      <th>Рабочий</th>\n",
              "    </tr>\n",
              "  </thead>\n",
              "  <tbody>\n",
              "    <tr>\n",
              "      <th>0</th>\n",
              "      <td>01/06/2023 00:28:27</td>\n",
              "      <td>NaN</td>\n",
              "      <td>NaN</td>\n",
              "      <td>NaN</td>\n",
              "      <td>NaN</td>\n",
              "      <td>NaN</td>\n",
              "      <td>NaN</td>\n",
              "      <td>NaN</td>\n",
              "      <td>NaN</td>\n",
              "      <td>NaN</td>\n",
              "      <td>...</td>\n",
              "      <td>NaN</td>\n",
              "      <td>NaN</td>\n",
              "      <td>NaN</td>\n",
              "      <td>NaN</td>\n",
              "      <td>NaN</td>\n",
              "      <td>NaN</td>\n",
              "      <td>NaN</td>\n",
              "      <td>NaN</td>\n",
              "      <td>NaN</td>\n",
              "      <td>1</td>\n",
              "    </tr>\n",
              "    <tr>\n",
              "      <th>1</th>\n",
              "      <td>01/06/2023 01:29:33</td>\n",
              "      <td>NaN</td>\n",
              "      <td>NaN</td>\n",
              "      <td>NaN</td>\n",
              "      <td>NaN</td>\n",
              "      <td>NaN</td>\n",
              "      <td>NaN</td>\n",
              "      <td>NaN</td>\n",
              "      <td>NaN</td>\n",
              "      <td>NaN</td>\n",
              "      <td>...</td>\n",
              "      <td>NaN</td>\n",
              "      <td>NaN</td>\n",
              "      <td>NaN</td>\n",
              "      <td>NaN</td>\n",
              "      <td>NaN</td>\n",
              "      <td>NaN</td>\n",
              "      <td>NaN</td>\n",
              "      <td>NaN</td>\n",
              "      <td>NaN</td>\n",
              "      <td>1</td>\n",
              "    </tr>\n",
              "    <tr>\n",
              "      <th>2</th>\n",
              "      <td>01/06/2023 01:29:45</td>\n",
              "      <td>NaN</td>\n",
              "      <td>NaN</td>\n",
              "      <td>NaN</td>\n",
              "      <td>NaN</td>\n",
              "      <td>NaN</td>\n",
              "      <td>NaN</td>\n",
              "      <td>NaN</td>\n",
              "      <td>NaN</td>\n",
              "      <td>NaN</td>\n",
              "      <td>...</td>\n",
              "      <td>NaN</td>\n",
              "      <td>NaN</td>\n",
              "      <td>NaN</td>\n",
              "      <td>NaN</td>\n",
              "      <td>NaN</td>\n",
              "      <td>NaN</td>\n",
              "      <td>NaN</td>\n",
              "      <td>NaN</td>\n",
              "      <td>NaN</td>\n",
              "      <td>1</td>\n",
              "    </tr>\n",
              "    <tr>\n",
              "      <th>3</th>\n",
              "      <td>01/06/2023 04:46:32</td>\n",
              "      <td>NaN</td>\n",
              "      <td>NaN</td>\n",
              "      <td>NaN</td>\n",
              "      <td>NaN</td>\n",
              "      <td>NaN</td>\n",
              "      <td>NaN</td>\n",
              "      <td>NaN</td>\n",
              "      <td>NaN</td>\n",
              "      <td>NaN</td>\n",
              "      <td>...</td>\n",
              "      <td>NaN</td>\n",
              "      <td>NaN</td>\n",
              "      <td>NaN</td>\n",
              "      <td>NaN</td>\n",
              "      <td>NaN</td>\n",
              "      <td>NaN</td>\n",
              "      <td>NaN</td>\n",
              "      <td>NaN</td>\n",
              "      <td>NaN</td>\n",
              "      <td>1</td>\n",
              "    </tr>\n",
              "    <tr>\n",
              "      <th>4</th>\n",
              "      <td>01/06/2023 04:47:01</td>\n",
              "      <td>NaN</td>\n",
              "      <td>NaN</td>\n",
              "      <td>NaN</td>\n",
              "      <td>NaN</td>\n",
              "      <td>NaN</td>\n",
              "      <td>NaN</td>\n",
              "      <td>NaN</td>\n",
              "      <td>NaN</td>\n",
              "      <td>NaN</td>\n",
              "      <td>...</td>\n",
              "      <td>NaN</td>\n",
              "      <td>NaN</td>\n",
              "      <td>NaN</td>\n",
              "      <td>NaN</td>\n",
              "      <td>NaN</td>\n",
              "      <td>NaN</td>\n",
              "      <td>NaN</td>\n",
              "      <td>NaN</td>\n",
              "      <td>NaN</td>\n",
              "      <td>1</td>\n",
              "    </tr>\n",
              "    <tr>\n",
              "      <th>...</th>\n",
              "      <td>...</td>\n",
              "      <td>...</td>\n",
              "      <td>...</td>\n",
              "      <td>...</td>\n",
              "      <td>...</td>\n",
              "      <td>...</td>\n",
              "      <td>...</td>\n",
              "      <td>...</td>\n",
              "      <td>...</td>\n",
              "      <td>...</td>\n",
              "      <td>...</td>\n",
              "      <td>...</td>\n",
              "      <td>...</td>\n",
              "      <td>...</td>\n",
              "      <td>...</td>\n",
              "      <td>...</td>\n",
              "      <td>...</td>\n",
              "      <td>...</td>\n",
              "      <td>...</td>\n",
              "      <td>...</td>\n",
              "      <td>...</td>\n",
              "    </tr>\n",
              "    <tr>\n",
              "      <th>189699</th>\n",
              "      <td>18/05/2023 23:56:40</td>\n",
              "      <td>8,0</td>\n",
              "      <td>NaN</td>\n",
              "      <td>458</td>\n",
              "      <td>6</td>\n",
              "      <td>3350,000</td>\n",
              "      <td>168:36</td>\n",
              "      <td>Отпущ.</td>\n",
              "      <td>NaN</td>\n",
              "      <td>-238.0</td>\n",
              "      <td>...</td>\n",
              "      <td>0</td>\n",
              "      <td>NaN</td>\n",
              "      <td>NaN</td>\n",
              "      <td>NaN</td>\n",
              "      <td>NaN</td>\n",
              "      <td>NaN</td>\n",
              "      <td>NaN</td>\n",
              "      <td>NaN</td>\n",
              "      <td>NaN</td>\n",
              "      <td>3</td>\n",
              "    </tr>\n",
              "    <tr>\n",
              "      <th>189700</th>\n",
              "      <td>18/05/2023 23:57:10</td>\n",
              "      <td>82,0</td>\n",
              "      <td>NaN</td>\n",
              "      <td>941</td>\n",
              "      <td>105</td>\n",
              "      <td>2778,000</td>\n",
              "      <td>168:36</td>\n",
              "      <td>Отпущ.</td>\n",
              "      <td>NaN</td>\n",
              "      <td>-171.0</td>\n",
              "      <td>...</td>\n",
              "      <td>0</td>\n",
              "      <td>NaN</td>\n",
              "      <td>NaN</td>\n",
              "      <td>NaN</td>\n",
              "      <td>NaN</td>\n",
              "      <td>NaN</td>\n",
              "      <td>NaN</td>\n",
              "      <td>NaN</td>\n",
              "      <td>NaN</td>\n",
              "      <td>3</td>\n",
              "    </tr>\n",
              "    <tr>\n",
              "      <th>189701</th>\n",
              "      <td>18/05/2023 23:57:36</td>\n",
              "      <td>10,0</td>\n",
              "      <td>NaN</td>\n",
              "      <td>1187</td>\n",
              "      <td>182</td>\n",
              "      <td>2518,000</td>\n",
              "      <td>168:36</td>\n",
              "      <td>Отпущ.</td>\n",
              "      <td>NaN</td>\n",
              "      <td>-197.0</td>\n",
              "      <td>...</td>\n",
              "      <td>0</td>\n",
              "      <td>NaN</td>\n",
              "      <td>NaN</td>\n",
              "      <td>NaN</td>\n",
              "      <td>NaN</td>\n",
              "      <td>NaN</td>\n",
              "      <td>NaN</td>\n",
              "      <td>NaN</td>\n",
              "      <td>NaN</td>\n",
              "      <td>3</td>\n",
              "    </tr>\n",
              "    <tr>\n",
              "      <th>189702</th>\n",
              "      <td>18/05/2023 23:58:06</td>\n",
              "      <td>22,0</td>\n",
              "      <td>NaN</td>\n",
              "      <td>1199</td>\n",
              "      <td>65</td>\n",
              "      <td>1291,000</td>\n",
              "      <td>168:36</td>\n",
              "      <td>Отпущ.</td>\n",
              "      <td>NaN</td>\n",
              "      <td>-61.0</td>\n",
              "      <td>...</td>\n",
              "      <td>0</td>\n",
              "      <td>NaN</td>\n",
              "      <td>NaN</td>\n",
              "      <td>NaN</td>\n",
              "      <td>NaN</td>\n",
              "      <td>NaN</td>\n",
              "      <td>NaN</td>\n",
              "      <td>NaN</td>\n",
              "      <td>NaN</td>\n",
              "      <td>3</td>\n",
              "    </tr>\n",
              "    <tr>\n",
              "      <th>189703</th>\n",
              "      <td>18/05/2023 23:58:36</td>\n",
              "      <td>55,0</td>\n",
              "      <td>NaN</td>\n",
              "      <td>751</td>\n",
              "      <td>181</td>\n",
              "      <td>4770,000</td>\n",
              "      <td>168:36</td>\n",
              "      <td>Отпущ.</td>\n",
              "      <td>NaN</td>\n",
              "      <td>-12.0</td>\n",
              "      <td>...</td>\n",
              "      <td>0</td>\n",
              "      <td>NaN</td>\n",
              "      <td>NaN</td>\n",
              "      <td>NaN</td>\n",
              "      <td>NaN</td>\n",
              "      <td>NaN</td>\n",
              "      <td>NaN</td>\n",
              "      <td>NaN</td>\n",
              "      <td>NaN</td>\n",
              "      <td>3</td>\n",
              "    </tr>\n",
              "  </tbody>\n",
              "</table>\n",
              "<p>3345794 rows × 56 columns</p>\n",
              "</div>"
            ],
            "text/plain": [
              "               Дата и время Полож.пед.акселер.,%  Нагрузка на двигатель, %  \\\n",
              "0       01/06/2023 00:28:27                  NaN                       NaN   \n",
              "1       01/06/2023 01:29:33                  NaN                       NaN   \n",
              "2       01/06/2023 01:29:45                  NaN                       NaN   \n",
              "3       01/06/2023 04:46:32                  NaN                       NaN   \n",
              "4       01/06/2023 04:47:01                  NaN                       NaN   \n",
              "...                     ...                  ...                       ...   \n",
              "189699  18/05/2023 23:56:40                  8,0                       NaN   \n",
              "189700  18/05/2023 23:57:10                 82,0                       NaN   \n",
              "189701  18/05/2023 23:57:36                 10,0                       NaN   \n",
              "189702  18/05/2023 23:58:06                 22,0                       NaN   \n",
              "189703  18/05/2023 23:58:36                 55,0                       NaN   \n",
              "\n",
              "       Давл.масла двиг.,кПа Темп.масла двиг.,°С Обор.двиг.,об/мин  \\\n",
              "0                       NaN                 NaN               NaN   \n",
              "1                       NaN                 NaN               NaN   \n",
              "2                       NaN                 NaN               NaN   \n",
              "3                       NaN                 NaN               NaN   \n",
              "4                       NaN                 NaN               NaN   \n",
              "...                     ...                 ...               ...   \n",
              "189699                  458                   6          3350,000   \n",
              "189700                  941                 105          2778,000   \n",
              "189701                 1187                 182          2518,000   \n",
              "189702                 1199                  65          1291,000   \n",
              "189703                  751                 181          4770,000   \n",
              "\n",
              "       Значение счетчика моточасов, час:мин Сост.пед.сцепл.  iButton2  \\\n",
              "0                                       NaN             NaN       NaN   \n",
              "1                                       NaN             NaN       NaN   \n",
              "2                                       NaN             NaN       NaN   \n",
              "3                                       NaN             NaN       NaN   \n",
              "4                                       NaN             NaN       NaN   \n",
              "...                                     ...             ...       ...   \n",
              "189699                               168:36          Отпущ.       NaN   \n",
              "189700                               168:36          Отпущ.       NaN   \n",
              "189701                               168:36          Отпущ.       NaN   \n",
              "189702                               168:36          Отпущ.       NaN   \n",
              "189703                               168:36          Отпущ.       NaN   \n",
              "\n",
              "        КПП. Температура масла  ... Холодный старт (spn3871)  \\\n",
              "0                          NaN  ...                      NaN   \n",
              "1                          NaN  ...                      NaN   \n",
              "2                          NaN  ...                      NaN   \n",
              "3                          NaN  ...                      NaN   \n",
              "4                          NaN  ...                      NaN   \n",
              "...                        ...  ...                      ...   \n",
              "189699                  -238.0  ...                        0   \n",
              "189700                  -171.0  ...                        0   \n",
              "189701                  -197.0  ...                        0   \n",
              "189702                   -61.0  ...                        0   \n",
              "189703                   -12.0  ...                        0   \n",
              "\n",
              "       Крутящий момент (spn513), Нм Положение рейки ТНВД (spn51), %  \\\n",
              "0                               NaN                             NaN   \n",
              "1                               NaN                             NaN   \n",
              "2                               NaN                             NaN   \n",
              "3                               NaN                             NaN   \n",
              "4                               NaN                             NaN   \n",
              "...                             ...                             ...   \n",
              "189699                          NaN                             NaN   \n",
              "189700                          NaN                             NaN   \n",
              "189701                          NaN                             NaN   \n",
              "189702                          NaN                             NaN   \n",
              "189703                          NaN                             NaN   \n",
              "\n",
              "       Расход топлива (spn183), л/ч ДВС. Температура наддувочного воздуха, °С  \\\n",
              "0                               NaN                                       NaN   \n",
              "1                               NaN                                       NaN   \n",
              "2                               NaN                                       NaN   \n",
              "3                               NaN                                       NaN   \n",
              "4                               NaN                                       NaN   \n",
              "...                             ...                                       ...   \n",
              "189699                          NaN                                       NaN   \n",
              "189700                          NaN                                       NaN   \n",
              "189701                          NaN                                       NaN   \n",
              "189702                          NaN                                       NaN   \n",
              "189703                          NaN                                       NaN   \n",
              "\n",
              "       Давление наддувочного воздуха двигателя (spn106), кПа  \\\n",
              "0                                                     NaN      \n",
              "1                                                     NaN      \n",
              "2                                                     NaN      \n",
              "3                                                     NaN      \n",
              "4                                                     NaN      \n",
              "...                                                   ...      \n",
              "189699                                                NaN      \n",
              "189700                                                NaN      \n",
              "189701                                                NaN      \n",
              "189702                                                NaN      \n",
              "189703                                                NaN      \n",
              "\n",
              "       Текущая передача (spn523) Температура масла гидравлики (spn5536), С  \\\n",
              "0                            NaN                                       NaN   \n",
              "1                            NaN                                       NaN   \n",
              "2                            NaN                                       NaN   \n",
              "3                            NaN                                       NaN   \n",
              "4                            NaN                                       NaN   \n",
              "...                          ...                                       ...   \n",
              "189699                       NaN                                       NaN   \n",
              "189700                       NaN                                       NaN   \n",
              "189701                       NaN                                       NaN   \n",
              "189702                       NaN                                       NaN   \n",
              "189703                       NaN                                       NaN   \n",
              "\n",
              "       Педаль слива (spn598) Рабочий  \n",
              "0                        NaN       1  \n",
              "1                        NaN       1  \n",
              "2                        NaN       1  \n",
              "3                        NaN       1  \n",
              "4                        NaN       1  \n",
              "...                      ...     ...  \n",
              "189699                   NaN       3  \n",
              "189700                   NaN       3  \n",
              "189701                   NaN       3  \n",
              "189702                   NaN       3  \n",
              "189703                   NaN       3  \n",
              "\n",
              "[3345794 rows x 56 columns]"
            ]
          },
          "execution_count": 15,
          "metadata": {},
          "output_type": "execute_result"
        }
      ],
      "source": [
        "combinet"
      ]
    },
    {
      "cell_type": "code",
      "execution_count": null,
      "metadata": {
        "id": "bNh3_0MYYL03"
      },
      "outputs": [],
      "source": [
        "combinet = combinet[combinet.iloc[:, 1:-1].notna().any(axis=1)]"
      ]
    },
    {
      "cell_type": "code",
      "execution_count": null,
      "metadata": {
        "id": "AjEiYPwhYL03",
        "outputId": "334350cf-26f3-42bf-ddd7-620407d4fe23"
      },
      "outputs": [
        {
          "data": {
            "text/html": [
              "<div>\n",
              "<style scoped>\n",
              "    .dataframe tbody tr th:only-of-type {\n",
              "        vertical-align: middle;\n",
              "    }\n",
              "\n",
              "    .dataframe tbody tr th {\n",
              "        vertical-align: top;\n",
              "    }\n",
              "\n",
              "    .dataframe thead th {\n",
              "        text-align: right;\n",
              "    }\n",
              "</style>\n",
              "<table border=\"1\" class=\"dataframe\">\n",
              "  <thead>\n",
              "    <tr style=\"text-align: right;\">\n",
              "      <th></th>\n",
              "      <th>Дата и время</th>\n",
              "      <th>Полож.пед.акселер.,%</th>\n",
              "      <th>Нагрузка на двигатель, %</th>\n",
              "      <th>Давл.масла двиг.,кПа</th>\n",
              "      <th>Темп.масла двиг.,°С</th>\n",
              "      <th>Обор.двиг.,об/мин</th>\n",
              "      <th>Значение счетчика моточасов, час:мин</th>\n",
              "      <th>Сост.пед.сцепл.</th>\n",
              "      <th>iButton2</th>\n",
              "      <th>КПП. Температура масла</th>\n",
              "      <th>...</th>\n",
              "      <th>Холодный старт (spn3871)</th>\n",
              "      <th>Крутящий момент (spn513), Нм</th>\n",
              "      <th>Положение рейки ТНВД (spn51), %</th>\n",
              "      <th>Расход топлива (spn183), л/ч</th>\n",
              "      <th>ДВС. Температура наддувочного воздуха, °С</th>\n",
              "      <th>Давление наддувочного воздуха двигателя (spn106), кПа</th>\n",
              "      <th>Текущая передача (spn523)</th>\n",
              "      <th>Температура масла гидравлики (spn5536), С</th>\n",
              "      <th>Педаль слива (spn598)</th>\n",
              "      <th>Рабочий</th>\n",
              "    </tr>\n",
              "  </thead>\n",
              "  <tbody>\n",
              "    <tr>\n",
              "      <th>384</th>\n",
              "      <td>01/06/2023 07:57:01</td>\n",
              "      <td>0,0</td>\n",
              "      <td>NaN</td>\n",
              "      <td>0</td>\n",
              "      <td>NaN</td>\n",
              "      <td>0,000</td>\n",
              "      <td>NaN</td>\n",
              "      <td>Отпущ.</td>\n",
              "      <td>NaN</td>\n",
              "      <td>NaN</td>\n",
              "      <td>...</td>\n",
              "      <td>NaN</td>\n",
              "      <td>NaN</td>\n",
              "      <td>NaN</td>\n",
              "      <td>NaN</td>\n",
              "      <td>NaN</td>\n",
              "      <td>NaN</td>\n",
              "      <td>NaN</td>\n",
              "      <td>NaN</td>\n",
              "      <td>NaN</td>\n",
              "      <td>1</td>\n",
              "    </tr>\n",
              "    <tr>\n",
              "      <th>386</th>\n",
              "      <td>01/06/2023 07:57:31</td>\n",
              "      <td>0,0</td>\n",
              "      <td>NaN</td>\n",
              "      <td>380</td>\n",
              "      <td>NaN</td>\n",
              "      <td>649,000</td>\n",
              "      <td>422:24</td>\n",
              "      <td>Отпущ.</td>\n",
              "      <td>NaN</td>\n",
              "      <td>NaN</td>\n",
              "      <td>...</td>\n",
              "      <td>NaN</td>\n",
              "      <td>NaN</td>\n",
              "      <td>NaN</td>\n",
              "      <td>NaN</td>\n",
              "      <td>NaN</td>\n",
              "      <td>NaN</td>\n",
              "      <td>NaN</td>\n",
              "      <td>NaN</td>\n",
              "      <td>NaN</td>\n",
              "      <td>1</td>\n",
              "    </tr>\n",
              "    <tr>\n",
              "      <th>387</th>\n",
              "      <td>01/06/2023 07:58:01</td>\n",
              "      <td>0,0</td>\n",
              "      <td>NaN</td>\n",
              "      <td>360</td>\n",
              "      <td>NaN</td>\n",
              "      <td>651,000</td>\n",
              "      <td>422:24</td>\n",
              "      <td>Отпущ.</td>\n",
              "      <td>NaN</td>\n",
              "      <td>NaN</td>\n",
              "      <td>...</td>\n",
              "      <td>NaN</td>\n",
              "      <td>NaN</td>\n",
              "      <td>NaN</td>\n",
              "      <td>NaN</td>\n",
              "      <td>NaN</td>\n",
              "      <td>NaN</td>\n",
              "      <td>NaN</td>\n",
              "      <td>NaN</td>\n",
              "      <td>NaN</td>\n",
              "      <td>1</td>\n",
              "    </tr>\n",
              "    <tr>\n",
              "      <th>388</th>\n",
              "      <td>01/06/2023 07:58:31</td>\n",
              "      <td>0,0</td>\n",
              "      <td>NaN</td>\n",
              "      <td>348</td>\n",
              "      <td>NaN</td>\n",
              "      <td>656,000</td>\n",
              "      <td>422:24</td>\n",
              "      <td>Отпущ.</td>\n",
              "      <td>NaN</td>\n",
              "      <td>NaN</td>\n",
              "      <td>...</td>\n",
              "      <td>NaN</td>\n",
              "      <td>NaN</td>\n",
              "      <td>NaN</td>\n",
              "      <td>NaN</td>\n",
              "      <td>NaN</td>\n",
              "      <td>NaN</td>\n",
              "      <td>NaN</td>\n",
              "      <td>NaN</td>\n",
              "      <td>NaN</td>\n",
              "      <td>1</td>\n",
              "    </tr>\n",
              "    <tr>\n",
              "      <th>389</th>\n",
              "      <td>01/06/2023 07:59:01</td>\n",
              "      <td>0,0</td>\n",
              "      <td>NaN</td>\n",
              "      <td>360</td>\n",
              "      <td>NaN</td>\n",
              "      <td>671,875</td>\n",
              "      <td>422:24</td>\n",
              "      <td>Отпущ.</td>\n",
              "      <td>NaN</td>\n",
              "      <td>NaN</td>\n",
              "      <td>...</td>\n",
              "      <td>NaN</td>\n",
              "      <td>NaN</td>\n",
              "      <td>NaN</td>\n",
              "      <td>NaN</td>\n",
              "      <td>NaN</td>\n",
              "      <td>NaN</td>\n",
              "      <td>NaN</td>\n",
              "      <td>NaN</td>\n",
              "      <td>NaN</td>\n",
              "      <td>1</td>\n",
              "    </tr>\n",
              "    <tr>\n",
              "      <th>...</th>\n",
              "      <td>...</td>\n",
              "      <td>...</td>\n",
              "      <td>...</td>\n",
              "      <td>...</td>\n",
              "      <td>...</td>\n",
              "      <td>...</td>\n",
              "      <td>...</td>\n",
              "      <td>...</td>\n",
              "      <td>...</td>\n",
              "      <td>...</td>\n",
              "      <td>...</td>\n",
              "      <td>...</td>\n",
              "      <td>...</td>\n",
              "      <td>...</td>\n",
              "      <td>...</td>\n",
              "      <td>...</td>\n",
              "      <td>...</td>\n",
              "      <td>...</td>\n",
              "      <td>...</td>\n",
              "      <td>...</td>\n",
              "      <td>...</td>\n",
              "    </tr>\n",
              "    <tr>\n",
              "      <th>189699</th>\n",
              "      <td>18/05/2023 23:56:40</td>\n",
              "      <td>8,0</td>\n",
              "      <td>NaN</td>\n",
              "      <td>458</td>\n",
              "      <td>6</td>\n",
              "      <td>3350,000</td>\n",
              "      <td>168:36</td>\n",
              "      <td>Отпущ.</td>\n",
              "      <td>NaN</td>\n",
              "      <td>-238.0</td>\n",
              "      <td>...</td>\n",
              "      <td>0</td>\n",
              "      <td>NaN</td>\n",
              "      <td>NaN</td>\n",
              "      <td>NaN</td>\n",
              "      <td>NaN</td>\n",
              "      <td>NaN</td>\n",
              "      <td>NaN</td>\n",
              "      <td>NaN</td>\n",
              "      <td>NaN</td>\n",
              "      <td>3</td>\n",
              "    </tr>\n",
              "    <tr>\n",
              "      <th>189700</th>\n",
              "      <td>18/05/2023 23:57:10</td>\n",
              "      <td>82,0</td>\n",
              "      <td>NaN</td>\n",
              "      <td>941</td>\n",
              "      <td>105</td>\n",
              "      <td>2778,000</td>\n",
              "      <td>168:36</td>\n",
              "      <td>Отпущ.</td>\n",
              "      <td>NaN</td>\n",
              "      <td>-171.0</td>\n",
              "      <td>...</td>\n",
              "      <td>0</td>\n",
              "      <td>NaN</td>\n",
              "      <td>NaN</td>\n",
              "      <td>NaN</td>\n",
              "      <td>NaN</td>\n",
              "      <td>NaN</td>\n",
              "      <td>NaN</td>\n",
              "      <td>NaN</td>\n",
              "      <td>NaN</td>\n",
              "      <td>3</td>\n",
              "    </tr>\n",
              "    <tr>\n",
              "      <th>189701</th>\n",
              "      <td>18/05/2023 23:57:36</td>\n",
              "      <td>10,0</td>\n",
              "      <td>NaN</td>\n",
              "      <td>1187</td>\n",
              "      <td>182</td>\n",
              "      <td>2518,000</td>\n",
              "      <td>168:36</td>\n",
              "      <td>Отпущ.</td>\n",
              "      <td>NaN</td>\n",
              "      <td>-197.0</td>\n",
              "      <td>...</td>\n",
              "      <td>0</td>\n",
              "      <td>NaN</td>\n",
              "      <td>NaN</td>\n",
              "      <td>NaN</td>\n",
              "      <td>NaN</td>\n",
              "      <td>NaN</td>\n",
              "      <td>NaN</td>\n",
              "      <td>NaN</td>\n",
              "      <td>NaN</td>\n",
              "      <td>3</td>\n",
              "    </tr>\n",
              "    <tr>\n",
              "      <th>189702</th>\n",
              "      <td>18/05/2023 23:58:06</td>\n",
              "      <td>22,0</td>\n",
              "      <td>NaN</td>\n",
              "      <td>1199</td>\n",
              "      <td>65</td>\n",
              "      <td>1291,000</td>\n",
              "      <td>168:36</td>\n",
              "      <td>Отпущ.</td>\n",
              "      <td>NaN</td>\n",
              "      <td>-61.0</td>\n",
              "      <td>...</td>\n",
              "      <td>0</td>\n",
              "      <td>NaN</td>\n",
              "      <td>NaN</td>\n",
              "      <td>NaN</td>\n",
              "      <td>NaN</td>\n",
              "      <td>NaN</td>\n",
              "      <td>NaN</td>\n",
              "      <td>NaN</td>\n",
              "      <td>NaN</td>\n",
              "      <td>3</td>\n",
              "    </tr>\n",
              "    <tr>\n",
              "      <th>189703</th>\n",
              "      <td>18/05/2023 23:58:36</td>\n",
              "      <td>55,0</td>\n",
              "      <td>NaN</td>\n",
              "      <td>751</td>\n",
              "      <td>181</td>\n",
              "      <td>4770,000</td>\n",
              "      <td>168:36</td>\n",
              "      <td>Отпущ.</td>\n",
              "      <td>NaN</td>\n",
              "      <td>-12.0</td>\n",
              "      <td>...</td>\n",
              "      <td>0</td>\n",
              "      <td>NaN</td>\n",
              "      <td>NaN</td>\n",
              "      <td>NaN</td>\n",
              "      <td>NaN</td>\n",
              "      <td>NaN</td>\n",
              "      <td>NaN</td>\n",
              "      <td>NaN</td>\n",
              "      <td>NaN</td>\n",
              "      <td>3</td>\n",
              "    </tr>\n",
              "  </tbody>\n",
              "</table>\n",
              "<p>2856643 rows × 56 columns</p>\n",
              "</div>"
            ],
            "text/plain": [
              "               Дата и время Полож.пед.акселер.,%  Нагрузка на двигатель, %  \\\n",
              "384     01/06/2023 07:57:01                  0,0                       NaN   \n",
              "386     01/06/2023 07:57:31                  0,0                       NaN   \n",
              "387     01/06/2023 07:58:01                  0,0                       NaN   \n",
              "388     01/06/2023 07:58:31                  0,0                       NaN   \n",
              "389     01/06/2023 07:59:01                  0,0                       NaN   \n",
              "...                     ...                  ...                       ...   \n",
              "189699  18/05/2023 23:56:40                  8,0                       NaN   \n",
              "189700  18/05/2023 23:57:10                 82,0                       NaN   \n",
              "189701  18/05/2023 23:57:36                 10,0                       NaN   \n",
              "189702  18/05/2023 23:58:06                 22,0                       NaN   \n",
              "189703  18/05/2023 23:58:36                 55,0                       NaN   \n",
              "\n",
              "       Давл.масла двиг.,кПа Темп.масла двиг.,°С Обор.двиг.,об/мин  \\\n",
              "384                       0                 NaN             0,000   \n",
              "386                     380                 NaN           649,000   \n",
              "387                     360                 NaN           651,000   \n",
              "388                     348                 NaN           656,000   \n",
              "389                     360                 NaN           671,875   \n",
              "...                     ...                 ...               ...   \n",
              "189699                  458                   6          3350,000   \n",
              "189700                  941                 105          2778,000   \n",
              "189701                 1187                 182          2518,000   \n",
              "189702                 1199                  65          1291,000   \n",
              "189703                  751                 181          4770,000   \n",
              "\n",
              "       Значение счетчика моточасов, час:мин Сост.пед.сцепл.  iButton2  \\\n",
              "384                                     NaN          Отпущ.       NaN   \n",
              "386                                  422:24          Отпущ.       NaN   \n",
              "387                                  422:24          Отпущ.       NaN   \n",
              "388                                  422:24          Отпущ.       NaN   \n",
              "389                                  422:24          Отпущ.       NaN   \n",
              "...                                     ...             ...       ...   \n",
              "189699                               168:36          Отпущ.       NaN   \n",
              "189700                               168:36          Отпущ.       NaN   \n",
              "189701                               168:36          Отпущ.       NaN   \n",
              "189702                               168:36          Отпущ.       NaN   \n",
              "189703                               168:36          Отпущ.       NaN   \n",
              "\n",
              "        КПП. Температура масла  ... Холодный старт (spn3871)  \\\n",
              "384                        NaN  ...                      NaN   \n",
              "386                        NaN  ...                      NaN   \n",
              "387                        NaN  ...                      NaN   \n",
              "388                        NaN  ...                      NaN   \n",
              "389                        NaN  ...                      NaN   \n",
              "...                        ...  ...                      ...   \n",
              "189699                  -238.0  ...                        0   \n",
              "189700                  -171.0  ...                        0   \n",
              "189701                  -197.0  ...                        0   \n",
              "189702                   -61.0  ...                        0   \n",
              "189703                   -12.0  ...                        0   \n",
              "\n",
              "       Крутящий момент (spn513), Нм Положение рейки ТНВД (spn51), %  \\\n",
              "384                             NaN                             NaN   \n",
              "386                             NaN                             NaN   \n",
              "387                             NaN                             NaN   \n",
              "388                             NaN                             NaN   \n",
              "389                             NaN                             NaN   \n",
              "...                             ...                             ...   \n",
              "189699                          NaN                             NaN   \n",
              "189700                          NaN                             NaN   \n",
              "189701                          NaN                             NaN   \n",
              "189702                          NaN                             NaN   \n",
              "189703                          NaN                             NaN   \n",
              "\n",
              "       Расход топлива (spn183), л/ч ДВС. Температура наддувочного воздуха, °С  \\\n",
              "384                             NaN                                       NaN   \n",
              "386                             NaN                                       NaN   \n",
              "387                             NaN                                       NaN   \n",
              "388                             NaN                                       NaN   \n",
              "389                             NaN                                       NaN   \n",
              "...                             ...                                       ...   \n",
              "189699                          NaN                                       NaN   \n",
              "189700                          NaN                                       NaN   \n",
              "189701                          NaN                                       NaN   \n",
              "189702                          NaN                                       NaN   \n",
              "189703                          NaN                                       NaN   \n",
              "\n",
              "       Давление наддувочного воздуха двигателя (spn106), кПа  \\\n",
              "384                                                   NaN      \n",
              "386                                                   NaN      \n",
              "387                                                   NaN      \n",
              "388                                                   NaN      \n",
              "389                                                   NaN      \n",
              "...                                                   ...      \n",
              "189699                                                NaN      \n",
              "189700                                                NaN      \n",
              "189701                                                NaN      \n",
              "189702                                                NaN      \n",
              "189703                                                NaN      \n",
              "\n",
              "       Текущая передача (spn523) Температура масла гидравлики (spn5536), С  \\\n",
              "384                          NaN                                       NaN   \n",
              "386                          NaN                                       NaN   \n",
              "387                          NaN                                       NaN   \n",
              "388                          NaN                                       NaN   \n",
              "389                          NaN                                       NaN   \n",
              "...                          ...                                       ...   \n",
              "189699                       NaN                                       NaN   \n",
              "189700                       NaN                                       NaN   \n",
              "189701                       NaN                                       NaN   \n",
              "189702                       NaN                                       NaN   \n",
              "189703                       NaN                                       NaN   \n",
              "\n",
              "       Педаль слива (spn598) Рабочий  \n",
              "384                      NaN       1  \n",
              "386                      NaN       1  \n",
              "387                      NaN       1  \n",
              "388                      NaN       1  \n",
              "389                      NaN       1  \n",
              "...                      ...     ...  \n",
              "189699                   NaN       3  \n",
              "189700                   NaN       3  \n",
              "189701                   NaN       3  \n",
              "189702                   NaN       3  \n",
              "189703                   NaN       3  \n",
              "\n",
              "[2856643 rows x 56 columns]"
            ]
          },
          "execution_count": 17,
          "metadata": {},
          "output_type": "execute_result"
        }
      ],
      "source": [
        "combinet"
      ]
    },
    {
      "cell_type": "code",
      "execution_count": null,
      "metadata": {
        "id": "aAPZWdyFYL03"
      },
      "outputs": [],
      "source": [
        "#drop index\n",
        "combinet.reset_index(drop=True, inplace=True)"
      ]
    },
    {
      "cell_type": "code",
      "execution_count": null,
      "metadata": {
        "id": "uUdBecjBYL03",
        "outputId": "ed481571-0fac-40ba-a538-3b842d73e0e6"
      },
      "outputs": [
        {
          "name": "stderr",
          "output_type": "stream",
          "text": [
            "C:\\Users\\karlo\\AppData\\Local\\Temp\\ipykernel_11020\\3210479092.py:1: SettingWithCopyWarning: \n",
            "A value is trying to be set on a copy of a slice from a DataFrame\n",
            "\n",
            "See the caveats in the documentation: https://pandas.pydata.org/pandas-docs/stable/user_guide/indexing.html#returning-a-view-versus-a-copy\n",
            "  combinet.drop_duplicates(inplace=True)\n"
          ]
        }
      ],
      "source": [
        "combinet.drop_duplicates(inplace=True)"
      ]
    },
    {
      "cell_type": "code",
      "execution_count": null,
      "metadata": {
        "id": "kXnjtjFwYL03",
        "outputId": "e358cc79-6223-4f87-d02b-0843719ca74b"
      },
      "outputs": [
        {
          "data": {
            "text/html": [
              "<div>\n",
              "<style scoped>\n",
              "    .dataframe tbody tr th:only-of-type {\n",
              "        vertical-align: middle;\n",
              "    }\n",
              "\n",
              "    .dataframe tbody tr th {\n",
              "        vertical-align: top;\n",
              "    }\n",
              "\n",
              "    .dataframe thead th {\n",
              "        text-align: right;\n",
              "    }\n",
              "</style>\n",
              "<table border=\"1\" class=\"dataframe\">\n",
              "  <thead>\n",
              "    <tr style=\"text-align: right;\">\n",
              "      <th></th>\n",
              "      <th>Дата и время</th>\n",
              "      <th>Полож.пед.акселер.,%</th>\n",
              "      <th>Нагрузка на двигатель, %</th>\n",
              "      <th>Давл.масла двиг.,кПа</th>\n",
              "      <th>Темп.масла двиг.,°С</th>\n",
              "      <th>Обор.двиг.,об/мин</th>\n",
              "      <th>Значение счетчика моточасов, час:мин</th>\n",
              "      <th>Сост.пед.сцепл.</th>\n",
              "      <th>iButton2</th>\n",
              "      <th>КПП. Температура масла</th>\n",
              "      <th>...</th>\n",
              "      <th>Холодный старт (spn3871)</th>\n",
              "      <th>Крутящий момент (spn513), Нм</th>\n",
              "      <th>Положение рейки ТНВД (spn51), %</th>\n",
              "      <th>Расход топлива (spn183), л/ч</th>\n",
              "      <th>ДВС. Температура наддувочного воздуха, °С</th>\n",
              "      <th>Давление наддувочного воздуха двигателя (spn106), кПа</th>\n",
              "      <th>Текущая передача (spn523)</th>\n",
              "      <th>Температура масла гидравлики (spn5536), С</th>\n",
              "      <th>Педаль слива (spn598)</th>\n",
              "      <th>Рабочий</th>\n",
              "    </tr>\n",
              "  </thead>\n",
              "  <tbody>\n",
              "    <tr>\n",
              "      <th>0</th>\n",
              "      <td>01/06/2023 07:57:01</td>\n",
              "      <td>0,0</td>\n",
              "      <td>NaN</td>\n",
              "      <td>0</td>\n",
              "      <td>NaN</td>\n",
              "      <td>0,000</td>\n",
              "      <td>NaN</td>\n",
              "      <td>Отпущ.</td>\n",
              "      <td>NaN</td>\n",
              "      <td>NaN</td>\n",
              "      <td>...</td>\n",
              "      <td>NaN</td>\n",
              "      <td>NaN</td>\n",
              "      <td>NaN</td>\n",
              "      <td>NaN</td>\n",
              "      <td>NaN</td>\n",
              "      <td>NaN</td>\n",
              "      <td>NaN</td>\n",
              "      <td>NaN</td>\n",
              "      <td>NaN</td>\n",
              "      <td>1</td>\n",
              "    </tr>\n",
              "    <tr>\n",
              "      <th>1</th>\n",
              "      <td>01/06/2023 07:57:31</td>\n",
              "      <td>0,0</td>\n",
              "      <td>NaN</td>\n",
              "      <td>380</td>\n",
              "      <td>NaN</td>\n",
              "      <td>649,000</td>\n",
              "      <td>422:24</td>\n",
              "      <td>Отпущ.</td>\n",
              "      <td>NaN</td>\n",
              "      <td>NaN</td>\n",
              "      <td>...</td>\n",
              "      <td>NaN</td>\n",
              "      <td>NaN</td>\n",
              "      <td>NaN</td>\n",
              "      <td>NaN</td>\n",
              "      <td>NaN</td>\n",
              "      <td>NaN</td>\n",
              "      <td>NaN</td>\n",
              "      <td>NaN</td>\n",
              "      <td>NaN</td>\n",
              "      <td>1</td>\n",
              "    </tr>\n",
              "    <tr>\n",
              "      <th>2</th>\n",
              "      <td>01/06/2023 07:58:01</td>\n",
              "      <td>0,0</td>\n",
              "      <td>NaN</td>\n",
              "      <td>360</td>\n",
              "      <td>NaN</td>\n",
              "      <td>651,000</td>\n",
              "      <td>422:24</td>\n",
              "      <td>Отпущ.</td>\n",
              "      <td>NaN</td>\n",
              "      <td>NaN</td>\n",
              "      <td>...</td>\n",
              "      <td>NaN</td>\n",
              "      <td>NaN</td>\n",
              "      <td>NaN</td>\n",
              "      <td>NaN</td>\n",
              "      <td>NaN</td>\n",
              "      <td>NaN</td>\n",
              "      <td>NaN</td>\n",
              "      <td>NaN</td>\n",
              "      <td>NaN</td>\n",
              "      <td>1</td>\n",
              "    </tr>\n",
              "    <tr>\n",
              "      <th>3</th>\n",
              "      <td>01/06/2023 07:58:31</td>\n",
              "      <td>0,0</td>\n",
              "      <td>NaN</td>\n",
              "      <td>348</td>\n",
              "      <td>NaN</td>\n",
              "      <td>656,000</td>\n",
              "      <td>422:24</td>\n",
              "      <td>Отпущ.</td>\n",
              "      <td>NaN</td>\n",
              "      <td>NaN</td>\n",
              "      <td>...</td>\n",
              "      <td>NaN</td>\n",
              "      <td>NaN</td>\n",
              "      <td>NaN</td>\n",
              "      <td>NaN</td>\n",
              "      <td>NaN</td>\n",
              "      <td>NaN</td>\n",
              "      <td>NaN</td>\n",
              "      <td>NaN</td>\n",
              "      <td>NaN</td>\n",
              "      <td>1</td>\n",
              "    </tr>\n",
              "    <tr>\n",
              "      <th>4</th>\n",
              "      <td>01/06/2023 07:59:01</td>\n",
              "      <td>0,0</td>\n",
              "      <td>NaN</td>\n",
              "      <td>360</td>\n",
              "      <td>NaN</td>\n",
              "      <td>671,875</td>\n",
              "      <td>422:24</td>\n",
              "      <td>Отпущ.</td>\n",
              "      <td>NaN</td>\n",
              "      <td>NaN</td>\n",
              "      <td>...</td>\n",
              "      <td>NaN</td>\n",
              "      <td>NaN</td>\n",
              "      <td>NaN</td>\n",
              "      <td>NaN</td>\n",
              "      <td>NaN</td>\n",
              "      <td>NaN</td>\n",
              "      <td>NaN</td>\n",
              "      <td>NaN</td>\n",
              "      <td>NaN</td>\n",
              "      <td>1</td>\n",
              "    </tr>\n",
              "    <tr>\n",
              "      <th>...</th>\n",
              "      <td>...</td>\n",
              "      <td>...</td>\n",
              "      <td>...</td>\n",
              "      <td>...</td>\n",
              "      <td>...</td>\n",
              "      <td>...</td>\n",
              "      <td>...</td>\n",
              "      <td>...</td>\n",
              "      <td>...</td>\n",
              "      <td>...</td>\n",
              "      <td>...</td>\n",
              "      <td>...</td>\n",
              "      <td>...</td>\n",
              "      <td>...</td>\n",
              "      <td>...</td>\n",
              "      <td>...</td>\n",
              "      <td>...</td>\n",
              "      <td>...</td>\n",
              "      <td>...</td>\n",
              "      <td>...</td>\n",
              "      <td>...</td>\n",
              "    </tr>\n",
              "    <tr>\n",
              "      <th>2856638</th>\n",
              "      <td>18/05/2023 23:56:40</td>\n",
              "      <td>8,0</td>\n",
              "      <td>NaN</td>\n",
              "      <td>458</td>\n",
              "      <td>6</td>\n",
              "      <td>3350,000</td>\n",
              "      <td>168:36</td>\n",
              "      <td>Отпущ.</td>\n",
              "      <td>NaN</td>\n",
              "      <td>-238.0</td>\n",
              "      <td>...</td>\n",
              "      <td>0</td>\n",
              "      <td>NaN</td>\n",
              "      <td>NaN</td>\n",
              "      <td>NaN</td>\n",
              "      <td>NaN</td>\n",
              "      <td>NaN</td>\n",
              "      <td>NaN</td>\n",
              "      <td>NaN</td>\n",
              "      <td>NaN</td>\n",
              "      <td>3</td>\n",
              "    </tr>\n",
              "    <tr>\n",
              "      <th>2856639</th>\n",
              "      <td>18/05/2023 23:57:10</td>\n",
              "      <td>82,0</td>\n",
              "      <td>NaN</td>\n",
              "      <td>941</td>\n",
              "      <td>105</td>\n",
              "      <td>2778,000</td>\n",
              "      <td>168:36</td>\n",
              "      <td>Отпущ.</td>\n",
              "      <td>NaN</td>\n",
              "      <td>-171.0</td>\n",
              "      <td>...</td>\n",
              "      <td>0</td>\n",
              "      <td>NaN</td>\n",
              "      <td>NaN</td>\n",
              "      <td>NaN</td>\n",
              "      <td>NaN</td>\n",
              "      <td>NaN</td>\n",
              "      <td>NaN</td>\n",
              "      <td>NaN</td>\n",
              "      <td>NaN</td>\n",
              "      <td>3</td>\n",
              "    </tr>\n",
              "    <tr>\n",
              "      <th>2856640</th>\n",
              "      <td>18/05/2023 23:57:36</td>\n",
              "      <td>10,0</td>\n",
              "      <td>NaN</td>\n",
              "      <td>1187</td>\n",
              "      <td>182</td>\n",
              "      <td>2518,000</td>\n",
              "      <td>168:36</td>\n",
              "      <td>Отпущ.</td>\n",
              "      <td>NaN</td>\n",
              "      <td>-197.0</td>\n",
              "      <td>...</td>\n",
              "      <td>0</td>\n",
              "      <td>NaN</td>\n",
              "      <td>NaN</td>\n",
              "      <td>NaN</td>\n",
              "      <td>NaN</td>\n",
              "      <td>NaN</td>\n",
              "      <td>NaN</td>\n",
              "      <td>NaN</td>\n",
              "      <td>NaN</td>\n",
              "      <td>3</td>\n",
              "    </tr>\n",
              "    <tr>\n",
              "      <th>2856641</th>\n",
              "      <td>18/05/2023 23:58:06</td>\n",
              "      <td>22,0</td>\n",
              "      <td>NaN</td>\n",
              "      <td>1199</td>\n",
              "      <td>65</td>\n",
              "      <td>1291,000</td>\n",
              "      <td>168:36</td>\n",
              "      <td>Отпущ.</td>\n",
              "      <td>NaN</td>\n",
              "      <td>-61.0</td>\n",
              "      <td>...</td>\n",
              "      <td>0</td>\n",
              "      <td>NaN</td>\n",
              "      <td>NaN</td>\n",
              "      <td>NaN</td>\n",
              "      <td>NaN</td>\n",
              "      <td>NaN</td>\n",
              "      <td>NaN</td>\n",
              "      <td>NaN</td>\n",
              "      <td>NaN</td>\n",
              "      <td>3</td>\n",
              "    </tr>\n",
              "    <tr>\n",
              "      <th>2856642</th>\n",
              "      <td>18/05/2023 23:58:36</td>\n",
              "      <td>55,0</td>\n",
              "      <td>NaN</td>\n",
              "      <td>751</td>\n",
              "      <td>181</td>\n",
              "      <td>4770,000</td>\n",
              "      <td>168:36</td>\n",
              "      <td>Отпущ.</td>\n",
              "      <td>NaN</td>\n",
              "      <td>-12.0</td>\n",
              "      <td>...</td>\n",
              "      <td>0</td>\n",
              "      <td>NaN</td>\n",
              "      <td>NaN</td>\n",
              "      <td>NaN</td>\n",
              "      <td>NaN</td>\n",
              "      <td>NaN</td>\n",
              "      <td>NaN</td>\n",
              "      <td>NaN</td>\n",
              "      <td>NaN</td>\n",
              "      <td>3</td>\n",
              "    </tr>\n",
              "  </tbody>\n",
              "</table>\n",
              "<p>2834231 rows × 56 columns</p>\n",
              "</div>"
            ],
            "text/plain": [
              "                Дата и время Полож.пед.акселер.,%  Нагрузка на двигатель, %  \\\n",
              "0        01/06/2023 07:57:01                  0,0                       NaN   \n",
              "1        01/06/2023 07:57:31                  0,0                       NaN   \n",
              "2        01/06/2023 07:58:01                  0,0                       NaN   \n",
              "3        01/06/2023 07:58:31                  0,0                       NaN   \n",
              "4        01/06/2023 07:59:01                  0,0                       NaN   \n",
              "...                      ...                  ...                       ...   \n",
              "2856638  18/05/2023 23:56:40                  8,0                       NaN   \n",
              "2856639  18/05/2023 23:57:10                 82,0                       NaN   \n",
              "2856640  18/05/2023 23:57:36                 10,0                       NaN   \n",
              "2856641  18/05/2023 23:58:06                 22,0                       NaN   \n",
              "2856642  18/05/2023 23:58:36                 55,0                       NaN   \n",
              "\n",
              "        Давл.масла двиг.,кПа Темп.масла двиг.,°С Обор.двиг.,об/мин  \\\n",
              "0                          0                 NaN             0,000   \n",
              "1                        380                 NaN           649,000   \n",
              "2                        360                 NaN           651,000   \n",
              "3                        348                 NaN           656,000   \n",
              "4                        360                 NaN           671,875   \n",
              "...                      ...                 ...               ...   \n",
              "2856638                  458                   6          3350,000   \n",
              "2856639                  941                 105          2778,000   \n",
              "2856640                 1187                 182          2518,000   \n",
              "2856641                 1199                  65          1291,000   \n",
              "2856642                  751                 181          4770,000   \n",
              "\n",
              "        Значение счетчика моточасов, час:мин Сост.пед.сцепл.  iButton2  \\\n",
              "0                                        NaN          Отпущ.       NaN   \n",
              "1                                     422:24          Отпущ.       NaN   \n",
              "2                                     422:24          Отпущ.       NaN   \n",
              "3                                     422:24          Отпущ.       NaN   \n",
              "4                                     422:24          Отпущ.       NaN   \n",
              "...                                      ...             ...       ...   \n",
              "2856638                               168:36          Отпущ.       NaN   \n",
              "2856639                               168:36          Отпущ.       NaN   \n",
              "2856640                               168:36          Отпущ.       NaN   \n",
              "2856641                               168:36          Отпущ.       NaN   \n",
              "2856642                               168:36          Отпущ.       NaN   \n",
              "\n",
              "         КПП. Температура масла  ... Холодный старт (spn3871)  \\\n",
              "0                           NaN  ...                      NaN   \n",
              "1                           NaN  ...                      NaN   \n",
              "2                           NaN  ...                      NaN   \n",
              "3                           NaN  ...                      NaN   \n",
              "4                           NaN  ...                      NaN   \n",
              "...                         ...  ...                      ...   \n",
              "2856638                  -238.0  ...                        0   \n",
              "2856639                  -171.0  ...                        0   \n",
              "2856640                  -197.0  ...                        0   \n",
              "2856641                   -61.0  ...                        0   \n",
              "2856642                   -12.0  ...                        0   \n",
              "\n",
              "        Крутящий момент (spn513), Нм Положение рейки ТНВД (spn51), %  \\\n",
              "0                                NaN                             NaN   \n",
              "1                                NaN                             NaN   \n",
              "2                                NaN                             NaN   \n",
              "3                                NaN                             NaN   \n",
              "4                                NaN                             NaN   \n",
              "...                              ...                             ...   \n",
              "2856638                          NaN                             NaN   \n",
              "2856639                          NaN                             NaN   \n",
              "2856640                          NaN                             NaN   \n",
              "2856641                          NaN                             NaN   \n",
              "2856642                          NaN                             NaN   \n",
              "\n",
              "        Расход топлива (spn183), л/ч  \\\n",
              "0                                NaN   \n",
              "1                                NaN   \n",
              "2                                NaN   \n",
              "3                                NaN   \n",
              "4                                NaN   \n",
              "...                              ...   \n",
              "2856638                          NaN   \n",
              "2856639                          NaN   \n",
              "2856640                          NaN   \n",
              "2856641                          NaN   \n",
              "2856642                          NaN   \n",
              "\n",
              "        ДВС. Температура наддувочного воздуха, °С  \\\n",
              "0                                             NaN   \n",
              "1                                             NaN   \n",
              "2                                             NaN   \n",
              "3                                             NaN   \n",
              "4                                             NaN   \n",
              "...                                           ...   \n",
              "2856638                                       NaN   \n",
              "2856639                                       NaN   \n",
              "2856640                                       NaN   \n",
              "2856641                                       NaN   \n",
              "2856642                                       NaN   \n",
              "\n",
              "        Давление наддувочного воздуха двигателя (spn106), кПа  \\\n",
              "0                                                      NaN      \n",
              "1                                                      NaN      \n",
              "2                                                      NaN      \n",
              "3                                                      NaN      \n",
              "4                                                      NaN      \n",
              "...                                                    ...      \n",
              "2856638                                                NaN      \n",
              "2856639                                                NaN      \n",
              "2856640                                                NaN      \n",
              "2856641                                                NaN      \n",
              "2856642                                                NaN      \n",
              "\n",
              "        Текущая передача (spn523) Температура масла гидравлики (spn5536), С  \\\n",
              "0                             NaN                                       NaN   \n",
              "1                             NaN                                       NaN   \n",
              "2                             NaN                                       NaN   \n",
              "3                             NaN                                       NaN   \n",
              "4                             NaN                                       NaN   \n",
              "...                           ...                                       ...   \n",
              "2856638                       NaN                                       NaN   \n",
              "2856639                       NaN                                       NaN   \n",
              "2856640                       NaN                                       NaN   \n",
              "2856641                       NaN                                       NaN   \n",
              "2856642                       NaN                                       NaN   \n",
              "\n",
              "        Педаль слива (spn598) Рабочий  \n",
              "0                         NaN       1  \n",
              "1                         NaN       1  \n",
              "2                         NaN       1  \n",
              "3                         NaN       1  \n",
              "4                         NaN       1  \n",
              "...                       ...     ...  \n",
              "2856638                   NaN       3  \n",
              "2856639                   NaN       3  \n",
              "2856640                   NaN       3  \n",
              "2856641                   NaN       3  \n",
              "2856642                   NaN       3  \n",
              "\n",
              "[2834231 rows x 56 columns]"
            ]
          },
          "execution_count": 20,
          "metadata": {},
          "output_type": "execute_result"
        }
      ],
      "source": [
        "combinet"
      ]
    },
    {
      "cell_type": "code",
      "execution_count": null,
      "metadata": {
        "id": "ZOegh2rYYL03"
      },
      "outputs": [],
      "source": [
        "combinet = combinet.drop(columns=['Дата и время', 'iButton2','Нагрузка на двигатель, %', 'Крутящий момент (spn513), Нм', 'Положение рейки ТНВД (spn51), %' , 'Расход топлива (spn183), л/ч', 'ДВС. Температура наддувочного воздуха, °С', 'Давление наддувочного воздуха двигателя (spn106), кПа', 'Текущая передача (spn523)', 'Температура масла гидравлики (spn5536), С', 'Педаль слива (spn598)'])"
      ]
    },
    {
      "cell_type": "code",
      "execution_count": null,
      "metadata": {
        "id": "Lr3K-P1OYL03"
      },
      "outputs": [],
      "source": [
        "combinet[\"Сост.пед.сцепл.\"] = combinet[\"Сост.пед.сцепл.\"].astype(bool)"
      ]
    },
    {
      "cell_type": "code",
      "execution_count": null,
      "metadata": {
        "id": "UZLpym0sYL03"
      },
      "outputs": [],
      "source": [
        "combinet['Обор.двиг.,об/мин'] = combinet['Обор.двиг.,об/мин'].str.replace(',', '.').astype(float)"
      ]
    },
    {
      "cell_type": "code",
      "execution_count": null,
      "metadata": {
        "id": "GWauhUWAYL04"
      },
      "outputs": [],
      "source": [
        "combinet['Значение счетчика моточасов, час:мин'] = combinet['Значение счетчика моточасов, час:мин'].str.replace(':', '').astype(float)"
      ]
    },
    {
      "cell_type": "code",
      "execution_count": 17,
      "metadata": {
        "id": "T7GWt_P7YL04"
      },
      "outputs": [],
      "source": [
        "combinet['Сост.пед.сцепл.'] = combinet['Сост.пед.сцепл.'].replace(',', '.').astype(float)\n",
        "combinet['Сост.пед.сцепл.'] = combinet['Сост.пед.сцепл.'].astype(str)"
      ]
    },
    {
      "cell_type": "code",
      "execution_count": null,
      "metadata": {
        "id": "CkRWTcQIYL04"
      },
      "outputs": [],
      "source": [
        "combinet['Полож.пед.акселер.,%'] = combinet['Полож.пед.акселер.,%'].str.replace(',', '.').astype(float)"
      ]
    },
    {
      "cell_type": "code",
      "execution_count": null,
      "metadata": {
        "id": "81zw6h8sYL04"
      },
      "outputs": [],
      "source": [
        "combinet['Темп.масла двиг.,°С'] = combinet['Темп.масла двиг.,°С'].str.replace(',', '.').astype(float)"
      ]
    },
    {
      "cell_type": "code",
      "execution_count": null,
      "metadata": {
        "id": "UWKl2pnAYL04"
      },
      "outputs": [],
      "source": [
        "combinet['КПП. Температура масла'] = combinet['КПП. Температура масла'].astype(float)"
      ]
    },
    {
      "cell_type": "code",
      "execution_count": null,
      "metadata": {
        "id": "DAPlGXPZYL04"
      },
      "outputs": [],
      "source": [
        "combinet.drop(['Нейтраль КПП (spn3843)', 'Стояночный тормоз (spn3842)', 'Аварийная температура охлаждающей жидкости (spn3841)', 'Засоренность воздушного фильтра (spn3840)', 'Засоренность фильтра КПП (spn3847)', 'Аварийное давление масла ДВС (spn3846)',\n",
        "       'Засоренность фильтра ДВС (spn3845)',\n",
        "       'Засоренность фильтра рулевого управления (spn3844)',\n",
        "       'Засоренность фильтра навесного оборудования (spn3851)',\n",
        "       'Недопустимый уровень масла в гидробаке (spn3850)',\n",
        "       'Аварийная температура масла в гидросистеме (spn3849)',\n",
        "       'Аварийное давление в I контуре тормозной системы (spn3848)',\n",
        "       'Аварийное давление в II контуре тормозной системы (spn3855)',\n",
        "       'Зарядка АКБ (spn3854)', 'Отопитель (spn3853)',\n",
        "       'Выход блока управления двигателем (spn3852)',\n",
        "       'Включение тормозков (spn3859)', 'Засоренность фильтра слива (spn3858)',\n",
        "       'Аварийное давление масла КПП (spn3857)',\n",
        "       'Аварийная температура масла ДВС(spn3856)',\n",
        "       'Неисправность тормозной системы (spn3863)', 'Термостарт (spn3862)',\n",
        "       'Разрешение запуска двигателя (spn3861)', 'Низкий уровень ОЖ (spn3860)',\n",
        "       'Аварийная температура масла ГТР (spn3867)',\n",
        "       'Необходимость сервисного обслуживания (spn3866)',\n",
        "       'Подогрев топливного фильтра (spn3865)', 'Вода в топливе (spn3864)',\n",
        "       'Холодный старт (spn3871)'], axis=1, inplace=True)"
      ]
    },
    {
      "cell_type": "code",
      "execution_count": 24,
      "metadata": {
        "id": "Nw3GKn5SYL04"
      },
      "outputs": [],
      "source": [
        "cat_cols =['Сост.пед.сцепл.']"
      ]
    },
    {
      "cell_type": "code",
      "source": [
        "!pip install ipympl"
      ],
      "metadata": {
        "colab": {
          "base_uri": "https://localhost:8080/"
        },
        "id": "J81WqvgMajWz",
        "outputId": "5859b6e7-eec7-496e-ef71-06282df7eb53"
      },
      "execution_count": 27,
      "outputs": [
        {
          "output_type": "stream",
          "name": "stdout",
          "text": [
            "Collecting ipympl\n",
            "  Downloading ipympl-0.9.3-py2.py3-none-any.whl (511 kB)\n",
            "\u001b[?25l     \u001b[90m━━━━━━━━━━━━━━━━━━━━━━━━━━━━━━━━━━━━━━━━\u001b[0m \u001b[32m0.0/511.6 kB\u001b[0m \u001b[31m?\u001b[0m eta \u001b[36m-:--:--\u001b[0m\r\u001b[2K     \u001b[91m━━━━━━━━━━━━━━━━━\u001b[0m\u001b[91m╸\u001b[0m\u001b[90m━━━━━━━━━━━━━━━━━━━━━━\u001b[0m \u001b[32m225.3/511.6 kB\u001b[0m \u001b[31m6.8 MB/s\u001b[0m eta \u001b[36m0:00:01\u001b[0m\r\u001b[2K     \u001b[90m━━━━━━━━━━━━━━━━━━━━━━━━━━━━━━━━━━━━━━━━\u001b[0m \u001b[32m511.6/511.6 kB\u001b[0m \u001b[31m7.9 MB/s\u001b[0m eta \u001b[36m0:00:00\u001b[0m\n",
            "\u001b[?25hRequirement already satisfied: ipython<9 in /usr/local/lib/python3.10/dist-packages (from ipympl) (7.34.0)\n",
            "Requirement already satisfied: numpy in /usr/local/lib/python3.10/dist-packages (from ipympl) (1.25.2)\n",
            "Requirement already satisfied: ipython-genutils in /usr/local/lib/python3.10/dist-packages (from ipympl) (0.2.0)\n",
            "Requirement already satisfied: pillow in /usr/local/lib/python3.10/dist-packages (from ipympl) (9.4.0)\n",
            "Requirement already satisfied: traitlets<6 in /usr/local/lib/python3.10/dist-packages (from ipympl) (5.7.1)\n",
            "Requirement already satisfied: ipywidgets<9,>=7.6.0 in /usr/local/lib/python3.10/dist-packages (from ipympl) (7.7.1)\n",
            "Requirement already satisfied: matplotlib<4,>=3.4.0 in /usr/local/lib/python3.10/dist-packages (from ipympl) (3.7.1)\n",
            "Requirement already satisfied: setuptools>=18.5 in /usr/local/lib/python3.10/dist-packages (from ipython<9->ipympl) (67.7.2)\n",
            "Collecting jedi>=0.16 (from ipython<9->ipympl)\n",
            "  Downloading jedi-0.19.1-py2.py3-none-any.whl (1.6 MB)\n",
            "\u001b[2K     \u001b[90m━━━━━━━━━━━━━━━━━━━━━━━━━━━━━━━━━━━━━━━━\u001b[0m \u001b[32m1.6/1.6 MB\u001b[0m \u001b[31m16.2 MB/s\u001b[0m eta \u001b[36m0:00:00\u001b[0m\n",
            "\u001b[?25hRequirement already satisfied: decorator in /usr/local/lib/python3.10/dist-packages (from ipython<9->ipympl) (4.4.2)\n",
            "Requirement already satisfied: pickleshare in /usr/local/lib/python3.10/dist-packages (from ipython<9->ipympl) (0.7.5)\n",
            "Requirement already satisfied: prompt-toolkit!=3.0.0,!=3.0.1,<3.1.0,>=2.0.0 in /usr/local/lib/python3.10/dist-packages (from ipython<9->ipympl) (3.0.43)\n",
            "Requirement already satisfied: pygments in /usr/local/lib/python3.10/dist-packages (from ipython<9->ipympl) (2.16.1)\n",
            "Requirement already satisfied: backcall in /usr/local/lib/python3.10/dist-packages (from ipython<9->ipympl) (0.2.0)\n",
            "Requirement already satisfied: matplotlib-inline in /usr/local/lib/python3.10/dist-packages (from ipython<9->ipympl) (0.1.6)\n",
            "Requirement already satisfied: pexpect>4.3 in /usr/local/lib/python3.10/dist-packages (from ipython<9->ipympl) (4.9.0)\n",
            "Requirement already satisfied: ipykernel>=4.5.1 in /usr/local/lib/python3.10/dist-packages (from ipywidgets<9,>=7.6.0->ipympl) (5.5.6)\n",
            "Requirement already satisfied: widgetsnbextension~=3.6.0 in /usr/local/lib/python3.10/dist-packages (from ipywidgets<9,>=7.6.0->ipympl) (3.6.6)\n",
            "Requirement already satisfied: jupyterlab-widgets>=1.0.0 in /usr/local/lib/python3.10/dist-packages (from ipywidgets<9,>=7.6.0->ipympl) (3.0.10)\n",
            "Requirement already satisfied: contourpy>=1.0.1 in /usr/local/lib/python3.10/dist-packages (from matplotlib<4,>=3.4.0->ipympl) (1.2.0)\n",
            "Requirement already satisfied: cycler>=0.10 in /usr/local/lib/python3.10/dist-packages (from matplotlib<4,>=3.4.0->ipympl) (0.12.1)\n",
            "Requirement already satisfied: fonttools>=4.22.0 in /usr/local/lib/python3.10/dist-packages (from matplotlib<4,>=3.4.0->ipympl) (4.50.0)\n",
            "Requirement already satisfied: kiwisolver>=1.0.1 in /usr/local/lib/python3.10/dist-packages (from matplotlib<4,>=3.4.0->ipympl) (1.4.5)\n",
            "Requirement already satisfied: packaging>=20.0 in /usr/local/lib/python3.10/dist-packages (from matplotlib<4,>=3.4.0->ipympl) (24.0)\n",
            "Requirement already satisfied: pyparsing>=2.3.1 in /usr/local/lib/python3.10/dist-packages (from matplotlib<4,>=3.4.0->ipympl) (3.1.2)\n",
            "Requirement already satisfied: python-dateutil>=2.7 in /usr/local/lib/python3.10/dist-packages (from matplotlib<4,>=3.4.0->ipympl) (2.8.2)\n",
            "Requirement already satisfied: jupyter-client in /usr/local/lib/python3.10/dist-packages (from ipykernel>=4.5.1->ipywidgets<9,>=7.6.0->ipympl) (6.1.12)\n",
            "Requirement already satisfied: tornado>=4.2 in /usr/local/lib/python3.10/dist-packages (from ipykernel>=4.5.1->ipywidgets<9,>=7.6.0->ipympl) (6.3.3)\n",
            "Requirement already satisfied: parso<0.9.0,>=0.8.3 in /usr/local/lib/python3.10/dist-packages (from jedi>=0.16->ipython<9->ipympl) (0.8.3)\n",
            "Requirement already satisfied: ptyprocess>=0.5 in /usr/local/lib/python3.10/dist-packages (from pexpect>4.3->ipython<9->ipympl) (0.7.0)\n",
            "Requirement already satisfied: wcwidth in /usr/local/lib/python3.10/dist-packages (from prompt-toolkit!=3.0.0,!=3.0.1,<3.1.0,>=2.0.0->ipython<9->ipympl) (0.2.13)\n",
            "Requirement already satisfied: six>=1.5 in /usr/local/lib/python3.10/dist-packages (from python-dateutil>=2.7->matplotlib<4,>=3.4.0->ipympl) (1.16.0)\n",
            "Requirement already satisfied: notebook>=4.4.1 in /usr/local/lib/python3.10/dist-packages (from widgetsnbextension~=3.6.0->ipywidgets<9,>=7.6.0->ipympl) (6.5.5)\n",
            "Requirement already satisfied: jinja2 in /usr/local/lib/python3.10/dist-packages (from notebook>=4.4.1->widgetsnbextension~=3.6.0->ipywidgets<9,>=7.6.0->ipympl) (3.1.3)\n",
            "Requirement already satisfied: pyzmq<25,>=17 in /usr/local/lib/python3.10/dist-packages (from notebook>=4.4.1->widgetsnbextension~=3.6.0->ipywidgets<9,>=7.6.0->ipympl) (23.2.1)\n",
            "Requirement already satisfied: argon2-cffi in /usr/local/lib/python3.10/dist-packages (from notebook>=4.4.1->widgetsnbextension~=3.6.0->ipywidgets<9,>=7.6.0->ipympl) (23.1.0)\n",
            "Requirement already satisfied: jupyter-core>=4.6.1 in /usr/local/lib/python3.10/dist-packages (from notebook>=4.4.1->widgetsnbextension~=3.6.0->ipywidgets<9,>=7.6.0->ipympl) (5.7.2)\n",
            "Requirement already satisfied: nbformat in /usr/local/lib/python3.10/dist-packages (from notebook>=4.4.1->widgetsnbextension~=3.6.0->ipywidgets<9,>=7.6.0->ipympl) (5.10.3)\n",
            "Requirement already satisfied: nbconvert>=5 in /usr/local/lib/python3.10/dist-packages (from notebook>=4.4.1->widgetsnbextension~=3.6.0->ipywidgets<9,>=7.6.0->ipympl) (6.5.4)\n",
            "Requirement already satisfied: nest-asyncio>=1.5 in /usr/local/lib/python3.10/dist-packages (from notebook>=4.4.1->widgetsnbextension~=3.6.0->ipywidgets<9,>=7.6.0->ipympl) (1.6.0)\n",
            "Requirement already satisfied: Send2Trash>=1.8.0 in /usr/local/lib/python3.10/dist-packages (from notebook>=4.4.1->widgetsnbextension~=3.6.0->ipywidgets<9,>=7.6.0->ipympl) (1.8.2)\n",
            "Requirement already satisfied: terminado>=0.8.3 in /usr/local/lib/python3.10/dist-packages (from notebook>=4.4.1->widgetsnbextension~=3.6.0->ipywidgets<9,>=7.6.0->ipympl) (0.18.1)\n",
            "Requirement already satisfied: prometheus-client in /usr/local/lib/python3.10/dist-packages (from notebook>=4.4.1->widgetsnbextension~=3.6.0->ipywidgets<9,>=7.6.0->ipympl) (0.20.0)\n",
            "Requirement already satisfied: nbclassic>=0.4.7 in /usr/local/lib/python3.10/dist-packages (from notebook>=4.4.1->widgetsnbextension~=3.6.0->ipywidgets<9,>=7.6.0->ipympl) (1.0.0)\n",
            "Requirement already satisfied: platformdirs>=2.5 in /usr/local/lib/python3.10/dist-packages (from jupyter-core>=4.6.1->notebook>=4.4.1->widgetsnbextension~=3.6.0->ipywidgets<9,>=7.6.0->ipympl) (4.2.0)\n",
            "Requirement already satisfied: jupyter-server>=1.8 in /usr/local/lib/python3.10/dist-packages (from nbclassic>=0.4.7->notebook>=4.4.1->widgetsnbextension~=3.6.0->ipywidgets<9,>=7.6.0->ipympl) (1.24.0)\n",
            "Requirement already satisfied: notebook-shim>=0.2.3 in /usr/local/lib/python3.10/dist-packages (from nbclassic>=0.4.7->notebook>=4.4.1->widgetsnbextension~=3.6.0->ipywidgets<9,>=7.6.0->ipympl) (0.2.4)\n",
            "Requirement already satisfied: lxml in /usr/local/lib/python3.10/dist-packages (from nbconvert>=5->notebook>=4.4.1->widgetsnbextension~=3.6.0->ipywidgets<9,>=7.6.0->ipympl) (4.9.4)\n",
            "Requirement already satisfied: beautifulsoup4 in /usr/local/lib/python3.10/dist-packages (from nbconvert>=5->notebook>=4.4.1->widgetsnbextension~=3.6.0->ipywidgets<9,>=7.6.0->ipympl) (4.12.3)\n",
            "Requirement already satisfied: bleach in /usr/local/lib/python3.10/dist-packages (from nbconvert>=5->notebook>=4.4.1->widgetsnbextension~=3.6.0->ipywidgets<9,>=7.6.0->ipympl) (6.1.0)\n",
            "Requirement already satisfied: defusedxml in /usr/local/lib/python3.10/dist-packages (from nbconvert>=5->notebook>=4.4.1->widgetsnbextension~=3.6.0->ipywidgets<9,>=7.6.0->ipympl) (0.7.1)\n",
            "Requirement already satisfied: entrypoints>=0.2.2 in /usr/local/lib/python3.10/dist-packages (from nbconvert>=5->notebook>=4.4.1->widgetsnbextension~=3.6.0->ipywidgets<9,>=7.6.0->ipympl) (0.4)\n",
            "Requirement already satisfied: jupyterlab-pygments in /usr/local/lib/python3.10/dist-packages (from nbconvert>=5->notebook>=4.4.1->widgetsnbextension~=3.6.0->ipywidgets<9,>=7.6.0->ipympl) (0.3.0)\n",
            "Requirement already satisfied: MarkupSafe>=2.0 in /usr/local/lib/python3.10/dist-packages (from nbconvert>=5->notebook>=4.4.1->widgetsnbextension~=3.6.0->ipywidgets<9,>=7.6.0->ipympl) (2.1.5)\n",
            "Requirement already satisfied: mistune<2,>=0.8.1 in /usr/local/lib/python3.10/dist-packages (from nbconvert>=5->notebook>=4.4.1->widgetsnbextension~=3.6.0->ipywidgets<9,>=7.6.0->ipympl) (0.8.4)\n",
            "Requirement already satisfied: nbclient>=0.5.0 in /usr/local/lib/python3.10/dist-packages (from nbconvert>=5->notebook>=4.4.1->widgetsnbextension~=3.6.0->ipywidgets<9,>=7.6.0->ipympl) (0.10.0)\n",
            "Requirement already satisfied: pandocfilters>=1.4.1 in /usr/local/lib/python3.10/dist-packages (from nbconvert>=5->notebook>=4.4.1->widgetsnbextension~=3.6.0->ipywidgets<9,>=7.6.0->ipympl) (1.5.1)\n",
            "Requirement already satisfied: tinycss2 in /usr/local/lib/python3.10/dist-packages (from nbconvert>=5->notebook>=4.4.1->widgetsnbextension~=3.6.0->ipywidgets<9,>=7.6.0->ipympl) (1.2.1)\n",
            "Requirement already satisfied: fastjsonschema in /usr/local/lib/python3.10/dist-packages (from nbformat->notebook>=4.4.1->widgetsnbextension~=3.6.0->ipywidgets<9,>=7.6.0->ipympl) (2.19.1)\n",
            "Requirement already satisfied: jsonschema>=2.6 in /usr/local/lib/python3.10/dist-packages (from nbformat->notebook>=4.4.1->widgetsnbextension~=3.6.0->ipywidgets<9,>=7.6.0->ipympl) (4.19.2)\n",
            "Requirement already satisfied: argon2-cffi-bindings in /usr/local/lib/python3.10/dist-packages (from argon2-cffi->notebook>=4.4.1->widgetsnbextension~=3.6.0->ipywidgets<9,>=7.6.0->ipympl) (21.2.0)\n",
            "Requirement already satisfied: attrs>=22.2.0 in /usr/local/lib/python3.10/dist-packages (from jsonschema>=2.6->nbformat->notebook>=4.4.1->widgetsnbextension~=3.6.0->ipywidgets<9,>=7.6.0->ipympl) (23.2.0)\n",
            "Requirement already satisfied: jsonschema-specifications>=2023.03.6 in /usr/local/lib/python3.10/dist-packages (from jsonschema>=2.6->nbformat->notebook>=4.4.1->widgetsnbextension~=3.6.0->ipywidgets<9,>=7.6.0->ipympl) (2023.12.1)\n",
            "Requirement already satisfied: referencing>=0.28.4 in /usr/local/lib/python3.10/dist-packages (from jsonschema>=2.6->nbformat->notebook>=4.4.1->widgetsnbextension~=3.6.0->ipywidgets<9,>=7.6.0->ipympl) (0.34.0)\n",
            "Requirement already satisfied: rpds-py>=0.7.1 in /usr/local/lib/python3.10/dist-packages (from jsonschema>=2.6->nbformat->notebook>=4.4.1->widgetsnbextension~=3.6.0->ipywidgets<9,>=7.6.0->ipympl) (0.18.0)\n",
            "Requirement already satisfied: anyio<4,>=3.1.0 in /usr/local/lib/python3.10/dist-packages (from jupyter-server>=1.8->nbclassic>=0.4.7->notebook>=4.4.1->widgetsnbextension~=3.6.0->ipywidgets<9,>=7.6.0->ipympl) (3.7.1)\n",
            "Requirement already satisfied: websocket-client in /usr/local/lib/python3.10/dist-packages (from jupyter-server>=1.8->nbclassic>=0.4.7->notebook>=4.4.1->widgetsnbextension~=3.6.0->ipywidgets<9,>=7.6.0->ipympl) (1.7.0)\n",
            "Requirement already satisfied: cffi>=1.0.1 in /usr/local/lib/python3.10/dist-packages (from argon2-cffi-bindings->argon2-cffi->notebook>=4.4.1->widgetsnbextension~=3.6.0->ipywidgets<9,>=7.6.0->ipympl) (1.16.0)\n",
            "Requirement already satisfied: soupsieve>1.2 in /usr/local/lib/python3.10/dist-packages (from beautifulsoup4->nbconvert>=5->notebook>=4.4.1->widgetsnbextension~=3.6.0->ipywidgets<9,>=7.6.0->ipympl) (2.5)\n",
            "Requirement already satisfied: webencodings in /usr/local/lib/python3.10/dist-packages (from bleach->nbconvert>=5->notebook>=4.4.1->widgetsnbextension~=3.6.0->ipywidgets<9,>=7.6.0->ipympl) (0.5.1)\n",
            "Requirement already satisfied: idna>=2.8 in /usr/local/lib/python3.10/dist-packages (from anyio<4,>=3.1.0->jupyter-server>=1.8->nbclassic>=0.4.7->notebook>=4.4.1->widgetsnbextension~=3.6.0->ipywidgets<9,>=7.6.0->ipympl) (3.6)\n",
            "Requirement already satisfied: sniffio>=1.1 in /usr/local/lib/python3.10/dist-packages (from anyio<4,>=3.1.0->jupyter-server>=1.8->nbclassic>=0.4.7->notebook>=4.4.1->widgetsnbextension~=3.6.0->ipywidgets<9,>=7.6.0->ipympl) (1.3.1)\n",
            "Requirement already satisfied: exceptiongroup in /usr/local/lib/python3.10/dist-packages (from anyio<4,>=3.1.0->jupyter-server>=1.8->nbclassic>=0.4.7->notebook>=4.4.1->widgetsnbextension~=3.6.0->ipywidgets<9,>=7.6.0->ipympl) (1.2.0)\n",
            "Requirement already satisfied: pycparser in /usr/local/lib/python3.10/dist-packages (from cffi>=1.0.1->argon2-cffi-bindings->argon2-cffi->notebook>=4.4.1->widgetsnbextension~=3.6.0->ipywidgets<9,>=7.6.0->ipympl) (2.21)\n",
            "Installing collected packages: jedi, ipympl\n",
            "Successfully installed ipympl-0.9.3 jedi-0.19.1\n"
          ]
        }
      ]
    },
    {
      "cell_type": "code",
      "source": [
        "from sklearn.model_selection import train_test_split\n",
        "from catboost import CatBoostClassifier\n",
        "\n",
        "import pandas as pd\n",
        "import numpy as np\n",
        "from google.colab import output\n",
        "output.disable_custom_widget_manager()\n",
        "%matplotlib inline\n",
        "%matplotlib widget"
      ],
      "metadata": {
        "id": "9pjahM2pZ6ze"
      },
      "execution_count": 32,
      "outputs": []
    },
    {
      "cell_type": "code",
      "source": [
        "!unzip /content/dataset.zip"
      ],
      "metadata": {
        "colab": {
          "base_uri": "https://localhost:8080/"
        },
        "id": "v2xiSVszbZ1v",
        "outputId": "1a14a432-30e1-4de3-b919-b3df10eec0ca"
      },
      "execution_count": 7,
      "outputs": [
        {
          "output_type": "stream",
          "name": "stdout",
          "text": [
            "Archive:  /content/dataset.zip\n",
            "  inflating: dataset.csv             \n"
          ]
        }
      ]
    },
    {
      "cell_type": "code",
      "source": [
        "combinet = pd.read_csv(\"/content/dataset.csv\")"
      ],
      "metadata": {
        "id": "17J47bPodeD1"
      },
      "execution_count": 16,
      "outputs": []
    },
    {
      "cell_type": "code",
      "execution_count": 18,
      "metadata": {
        "id": "wD74qy8qYL05"
      },
      "outputs": [],
      "source": [
        "X_train, X_test, y_train, y_test = train_test_split(combinet.drop(['Рабочий'], axis=1), combinet['Рабочий'], test_size = 0.1, random_state = 69)"
      ]
    },
    {
      "cell_type": "code",
      "execution_count": 33,
      "metadata": {
        "colab": {
          "base_uri": "https://localhost:8080/",
          "height": 1000,
          "referenced_widgets": [
            "aa393e98c6ef47b58dc10a5b91aab35d"
          ]
        },
        "id": "N3a5wulKYL05",
        "outputId": "41892796-14e6-4cb3-9de9-1fdb0924c910"
      },
      "outputs": [
        {
          "output_type": "display_data",
          "data": {
            "text/plain": [
              "MetricVisualizer(layout=Layout(align_self='stretch', height='500px'))"
            ],
            "application/vnd.jupyter.widget-view+json": {
              "version_major": 2,
              "version_minor": 0,
              "model_id": "aa393e98c6ef47b58dc10a5b91aab35d"
            }
          },
          "metadata": {}
        },
        {
          "output_type": "stream",
          "name": "stdout",
          "text": [
            "Learning rate set to 0.04202\n",
            "0:\tlearn: 0.9448978\ttest: 0.9448882\tbest: 0.9448882 (0)\ttotal: 49.1ms\tremaining: 40m 56s\n",
            "100:\tlearn: 0.9762028\ttest: 0.9760677\tbest: 0.9760677 (100)\ttotal: 4.68s\tremaining: 38m 33s\n",
            "200:\tlearn: 0.9844888\ttest: 0.9842780\tbest: 0.9842780 (200)\ttotal: 7.4s\tremaining: 30m 33s\n",
            "300:\tlearn: 0.9881837\ttest: 0.9879439\tbest: 0.9879439 (300)\ttotal: 10.1s\tremaining: 27m 50s\n",
            "400:\tlearn: 0.9898107\ttest: 0.9895916\tbest: 0.9895916 (400)\ttotal: 12.8s\tremaining: 26m 28s\n",
            "500:\tlearn: 0.9909452\ttest: 0.9908547\tbest: 0.9908547 (500)\ttotal: 16.5s\tremaining: 27m 11s\n",
            "600:\tlearn: 0.9919582\ttest: 0.9919096\tbest: 0.9919096 (600)\ttotal: 20s\tremaining: 27m 24s\n",
            "700:\tlearn: 0.9926572\ttest: 0.9926012\tbest: 0.9926012 (700)\ttotal: 22.7s\tremaining: 26m 36s\n",
            "800:\tlearn: 0.9933017\ttest: 0.9933139\tbest: 0.9933139 (800)\ttotal: 25.5s\tremaining: 26m 4s\n",
            "900:\tlearn: 0.9937451\ttest: 0.9936561\tbest: 0.9936561 (900)\ttotal: 28.6s\tremaining: 26m\n",
            "1000:\tlearn: 0.9941591\ttest: 0.9940901\tbest: 0.9940901 (1000)\ttotal: 32.7s\tremaining: 26m 40s\n",
            "1100:\tlearn: 0.9944735\ttest: 0.9943830\tbest: 0.9943830 (1100)\ttotal: 35.4s\tremaining: 26m 13s\n",
            "1200:\tlearn: 0.9947479\ttest: 0.9945523\tbest: 0.9945523 (1200)\ttotal: 38.1s\tremaining: 25m 49s\n",
            "1300:\tlearn: 0.9950192\ttest: 0.9947852\tbest: 0.9947852 (1300)\ttotal: 40.9s\tremaining: 25m 30s\n",
            "1400:\tlearn: 0.9952266\ttest: 0.9950040\tbest: 0.9950040 (1400)\ttotal: 45.4s\tremaining: 26m 14s\n",
            "1500:\tlearn: 0.9954171\ttest: 0.9951486\tbest: 0.9951486 (1500)\ttotal: 48.2s\tremaining: 25m 55s\n",
            "1600:\tlearn: 0.9956061\ttest: 0.9953074\tbest: 0.9953074 (1600)\ttotal: 50.9s\tremaining: 25m 39s\n",
            "1700:\tlearn: 0.9957868\ttest: 0.9954309\tbest: 0.9954309 (1700)\ttotal: 53.6s\tremaining: 25m 23s\n",
            "1800:\tlearn: 0.9959338\ttest: 0.9956143\tbest: 0.9956143 (1800)\ttotal: 58.1s\tremaining: 25m 55s\n",
            "1900:\tlearn: 0.9960460\ttest: 0.9957519\tbest: 0.9957519 (1900)\ttotal: 1m\tremaining: 25m 38s\n",
            "2000:\tlearn: 0.9961444\ttest: 0.9957908\tbest: 0.9957908 (2000)\ttotal: 1m 3s\tremaining: 25m 24s\n",
            "2100:\tlearn: 0.9962353\ttest: 0.9958543\tbest: 0.9958543 (2100)\ttotal: 1m 6s\tremaining: 25m 10s\n",
            "2200:\tlearn: 0.9963329\ttest: 0.9959354\tbest: 0.9959354 (2200)\ttotal: 1m 10s\tremaining: 25m 37s\n",
            "2300:\tlearn: 0.9964164\ttest: 0.9960095\tbest: 0.9960095 (2300)\ttotal: 1m 13s\tremaining: 25m 23s\n",
            "2400:\tlearn: 0.9965007\ttest: 0.9960801\tbest: 0.9960801 (2400)\ttotal: 1m 16s\tremaining: 25m 11s\n",
            "2500:\tlearn: 0.9965548\ttest: 0.9961401\tbest: 0.9961401 (2500)\ttotal: 1m 19s\tremaining: 25m\n",
            "2600:\tlearn: 0.9966313\ttest: 0.9962071\tbest: 0.9962071 (2600)\ttotal: 1m 23s\tremaining: 25m 14s\n",
            "2700:\tlearn: 0.9966760\ttest: 0.9962494\tbest: 0.9962494 (2700)\ttotal: 1m 26s\tremaining: 25m 10s\n",
            "2800:\tlearn: 0.9967277\ttest: 0.9963165\tbest: 0.9963165 (2800)\ttotal: 1m 29s\tremaining: 24m 59s\n",
            "2900:\tlearn: 0.9967810\ttest: 0.9963623\tbest: 0.9963623 (2900)\ttotal: 1m 31s\tremaining: 24m 49s\n",
            "3000:\tlearn: 0.9968367\ttest: 0.9964012\tbest: 0.9964012 (3000)\ttotal: 1m 35s\tremaining: 24m 53s\n",
            "3100:\tlearn: 0.9968704\ttest: 0.9964294\tbest: 0.9964294 (3100)\ttotal: 1m 39s\tremaining: 24m 57s\n",
            "3200:\tlearn: 0.9969076\ttest: 0.9964400\tbest: 0.9964400 (3200)\ttotal: 1m 41s\tremaining: 24m 47s\n",
            "3300:\tlearn: 0.9969586\ttest: 0.9964611\tbest: 0.9964611 (3300)\ttotal: 1m 44s\tremaining: 24m 37s\n",
            "3400:\tlearn: 0.9970002\ttest: 0.9965246\tbest: 0.9965246 (3400)\ttotal: 1m 47s\tremaining: 24m 28s\n",
            "3500:\tlearn: 0.9970331\ttest: 0.9965388\tbest: 0.9965388 (3500)\ttotal: 1m 51s\tremaining: 24m 43s\n",
            "3600:\tlearn: 0.9970652\ttest: 0.9965882\tbest: 0.9965882 (3600)\ttotal: 1m 54s\tremaining: 24m 33s\n",
            "3700:\tlearn: 0.9970856\ttest: 0.9966164\tbest: 0.9966164 (3700)\ttotal: 1m 57s\tremaining: 24m 23s\n",
            "3800:\tlearn: 0.9971123\ttest: 0.9966234\tbest: 0.9966234 (3800)\ttotal: 1m 59s\tremaining: 24m 14s\n",
            "3900:\tlearn: 0.9971397\ttest: 0.9966552\tbest: 0.9966552 (3900)\ttotal: 2m 4s\tremaining: 24m 27s\n",
            "4000:\tlearn: 0.9971778\ttest: 0.9967011\tbest: 0.9967011 (4000)\ttotal: 2m 6s\tremaining: 24m 18s\n",
            "4100:\tlearn: 0.9972044\ttest: 0.9967152\tbest: 0.9967152 (4100)\ttotal: 2m 9s\tremaining: 24m 10s\n",
            "4200:\tlearn: 0.9972291\ttest: 0.9967469\tbest: 0.9967469 (4200)\ttotal: 2m 12s\tremaining: 24m 2s\n",
            "4300:\tlearn: 0.9972554\ttest: 0.9967575\tbest: 0.9967575 (4300)\ttotal: 2m 16s\tremaining: 24m 13s\n",
            "4400:\tlearn: 0.9972824\ttest: 0.9967998\tbest: 0.9967998 (4400)\ttotal: 2m 19s\tremaining: 24m 5s\n",
            "4500:\tlearn: 0.9973036\ttest: 0.9968245\tbest: 0.9968245 (4500)\ttotal: 2m 22s\tremaining: 23m 57s\n",
            "4600:\tlearn: 0.9973240\ttest: 0.9968104\tbest: 0.9968245 (4500)\ttotal: 2m 24s\tremaining: 23m 50s\n",
            "4700:\tlearn: 0.9973534\ttest: 0.9968210\tbest: 0.9968245 (4500)\ttotal: 2m 28s\tremaining: 23m 55s\n",
            "4800:\tlearn: 0.9973687\ttest: 0.9968281\tbest: 0.9968281 (4800)\ttotal: 2m 32s\tremaining: 23m 52s\n",
            "4900:\tlearn: 0.9973820\ttest: 0.9968387\tbest: 0.9968387 (4900)\ttotal: 2m 34s\tremaining: 23m 44s\n",
            "5000:\tlearn: 0.9974036\ttest: 0.9968634\tbest: 0.9968634 (5000)\ttotal: 2m 37s\tremaining: 23m 36s\n",
            "5100:\tlearn: 0.9974255\ttest: 0.9968986\tbest: 0.9968986 (5100)\ttotal: 2m 40s\tremaining: 23m 34s\n",
            "5200:\tlearn: 0.9974412\ttest: 0.9969269\tbest: 0.9969269 (5200)\ttotal: 2m 44s\tremaining: 23m 38s\n",
            "5300:\tlearn: 0.9974604\ttest: 0.9969551\tbest: 0.9969551 (5300)\ttotal: 2m 47s\tremaining: 23m 31s\n",
            "5400:\tlearn: 0.9974784\ttest: 0.9969445\tbest: 0.9969551 (5300)\ttotal: 2m 50s\tremaining: 23m 24s\n",
            "5500:\tlearn: 0.9975008\ttest: 0.9969516\tbest: 0.9969551 (5300)\ttotal: 2m 52s\tremaining: 23m 17s\n",
            "5600:\tlearn: 0.9975055\ttest: 0.9969621\tbest: 0.9969621 (5600)\ttotal: 2m 57s\tremaining: 23m 25s\n",
            "5700:\tlearn: 0.9975259\ttest: 0.9969551\tbest: 0.9969621 (5600)\ttotal: 2m 59s\tremaining: 23m 18s\n",
            "5800:\tlearn: 0.9975404\ttest: 0.9969692\tbest: 0.9969692 (5800)\ttotal: 3m 2s\tremaining: 23m 12s\n",
            "5900:\tlearn: 0.9975569\ttest: 0.9969868\tbest: 0.9969868 (5900)\ttotal: 3m 5s\tremaining: 23m 5s\n",
            "6000:\tlearn: 0.9975780\ttest: 0.9969798\tbest: 0.9969868 (5900)\ttotal: 3m 9s\tremaining: 23m 12s\n",
            "6100:\tlearn: 0.9975886\ttest: 0.9969939\tbest: 0.9969939 (6100)\ttotal: 3m 12s\tremaining: 23m 6s\n",
            "6200:\tlearn: 0.9976051\ttest: 0.9970080\tbest: 0.9970080 (6200)\ttotal: 3m 15s\tremaining: 22m 59s\n",
            "6300:\tlearn: 0.9976137\ttest: 0.9970221\tbest: 0.9970221 (6300)\ttotal: 3m 17s\tremaining: 22m 53s\n",
            "6400:\tlearn: 0.9976286\ttest: 0.9970045\tbest: 0.9970221 (6300)\ttotal: 3m 22s\tremaining: 22m 59s\n",
            "6500:\tlearn: 0.9976443\ttest: 0.9970186\tbest: 0.9970221 (6300)\ttotal: 3m 25s\tremaining: 22m 52s\n",
            "6600:\tlearn: 0.9976572\ttest: 0.9970186\tbest: 0.9970221 (6300)\ttotal: 3m 27s\tremaining: 22m 46s\n",
            "6700:\tlearn: 0.9976623\ttest: 0.9970433\tbest: 0.9970433 (6700)\ttotal: 3m 30s\tremaining: 22m 40s\n",
            "6800:\tlearn: 0.9976705\ttest: 0.9970362\tbest: 0.9970433 (6700)\ttotal: 3m 34s\tremaining: 22m 41s\n",
            "6900:\tlearn: 0.9976858\ttest: 0.9970609\tbest: 0.9970609 (6900)\ttotal: 3m 37s\tremaining: 22m 40s\n",
            "7000:\tlearn: 0.9977015\ttest: 0.9970786\tbest: 0.9970786 (7000)\ttotal: 3m 40s\tremaining: 22m 34s\n",
            "7100:\tlearn: 0.9977152\ttest: 0.9970892\tbest: 0.9970892 (7100)\ttotal: 3m 43s\tremaining: 22m 28s\n",
            "7200:\tlearn: 0.9977341\ttest: 0.9970892\tbest: 0.9970892 (7100)\ttotal: 3m 46s\tremaining: 22m 24s\n",
            "7300:\tlearn: 0.9977435\ttest: 0.9970892\tbest: 0.9970892 (7100)\ttotal: 3m 50s\tremaining: 22m 26s\n",
            "7400:\tlearn: 0.9977556\ttest: 0.9971068\tbest: 0.9971068 (7400)\ttotal: 3m 52s\tremaining: 22m 20s\n",
            "7500:\tlearn: 0.9977627\ttest: 0.9971103\tbest: 0.9971103 (7500)\ttotal: 3m 55s\tremaining: 22m 15s\n",
            "7600:\tlearn: 0.9977748\ttest: 0.9971280\tbest: 0.9971280 (7600)\ttotal: 3m 58s\tremaining: 22m 9s\n",
            "7700:\tlearn: 0.9977815\ttest: 0.9971315\tbest: 0.9971315 (7700)\ttotal: 4m 2s\tremaining: 22m 13s\n",
            "7800:\tlearn: 0.9977936\ttest: 0.9971421\tbest: 0.9971421 (7800)\ttotal: 4m 5s\tremaining: 22m 7s\n",
            "7900:\tlearn: 0.9978097\ttest: 0.9971491\tbest: 0.9971491 (7900)\ttotal: 4m 8s\tremaining: 22m 2s\n",
            "8000:\tlearn: 0.9978207\ttest: 0.9971421\tbest: 0.9971491 (7900)\ttotal: 4m 10s\tremaining: 21m 56s\n",
            "8100:\tlearn: 0.9978270\ttest: 0.9971527\tbest: 0.9971527 (8100)\ttotal: 4m 15s\tremaining: 22m\n",
            "8200:\tlearn: 0.9978387\ttest: 0.9971562\tbest: 0.9971562 (8200)\ttotal: 4m 18s\tremaining: 21m 55s\n",
            "8300:\tlearn: 0.9978442\ttest: 0.9971562\tbest: 0.9971562 (8200)\ttotal: 4m 20s\tremaining: 21m 49s\n",
            "8400:\tlearn: 0.9978517\ttest: 0.9971527\tbest: 0.9971562 (8200)\ttotal: 4m 23s\tremaining: 21m 44s\n",
            "8500:\tlearn: 0.9978595\ttest: 0.9971491\tbest: 0.9971562 (8200)\ttotal: 4m 27s\tremaining: 21m 44s\n",
            "8600:\tlearn: 0.9978728\ttest: 0.9971703\tbest: 0.9971703 (8600)\ttotal: 4m 30s\tremaining: 21m 42s\n",
            "8700:\tlearn: 0.9978783\ttest: 0.9971950\tbest: 0.9971950 (8700)\ttotal: 4m 33s\tremaining: 21m 37s\n",
            "8800:\tlearn: 0.9978866\ttest: 0.9972021\tbest: 0.9972021 (8800)\ttotal: 4m 36s\tremaining: 21m 32s\n",
            "8900:\tlearn: 0.9978928\ttest: 0.9971985\tbest: 0.9972021 (8800)\ttotal: 4m 39s\tremaining: 21m 28s\n",
            "9000:\tlearn: 0.9978987\ttest: 0.9972056\tbest: 0.9972056 (9000)\ttotal: 4m 43s\tremaining: 21m 29s\n",
            "9100:\tlearn: 0.9979069\ttest: 0.9972021\tbest: 0.9972056 (9000)\ttotal: 4m 45s\tremaining: 21m 24s\n",
            "9200:\tlearn: 0.9979132\ttest: 0.9972197\tbest: 0.9972197 (9200)\ttotal: 4m 48s\tremaining: 21m 19s\n",
            "9300:\tlearn: 0.9979179\ttest: 0.9972197\tbest: 0.9972197 (9200)\ttotal: 4m 51s\tremaining: 21m 14s\n",
            "9400:\tlearn: 0.9979265\ttest: 0.9972197\tbest: 0.9972197 (9200)\ttotal: 4m 55s\tremaining: 21m 17s\n",
            "9500:\tlearn: 0.9979375\ttest: 0.9972303\tbest: 0.9972303 (9500)\ttotal: 4m 58s\tremaining: 21m 12s\n",
            "9600:\tlearn: 0.9979461\ttest: 0.9972444\tbest: 0.9972444 (9600)\ttotal: 5m 1s\tremaining: 21m 7s\n",
            "9700:\tlearn: 0.9979501\ttest: 0.9972550\tbest: 0.9972550 (9700)\ttotal: 5m 3s\tremaining: 21m 2s\n",
            "9800:\tlearn: 0.9979563\ttest: 0.9972550\tbest: 0.9972550 (9700)\ttotal: 5m 8s\tremaining: 21m 5s\n",
            "9900:\tlearn: 0.9979634\ttest: 0.9972691\tbest: 0.9972691 (9900)\ttotal: 5m 11s\tremaining: 21m\n",
            "10000:\tlearn: 0.9979748\ttest: 0.9972762\tbest: 0.9972762 (10000)\ttotal: 5m 13s\tremaining: 20m 55s\n",
            "10100:\tlearn: 0.9979787\ttest: 0.9972691\tbest: 0.9972762 (10000)\ttotal: 5m 16s\tremaining: 20m 50s\n",
            "10200:\tlearn: 0.9979948\ttest: 0.9972797\tbest: 0.9972797 (10200)\ttotal: 5m 20s\tremaining: 20m 49s\n",
            "10300:\tlearn: 0.9980010\ttest: 0.9972832\tbest: 0.9972832 (10300)\ttotal: 5m 23s\tremaining: 20m 47s\n",
            "10400:\tlearn: 0.9980136\ttest: 0.9972903\tbest: 0.9972903 (10400)\ttotal: 5m 26s\tremaining: 20m 41s\n",
            "10500:\tlearn: 0.9980183\ttest: 0.9972903\tbest: 0.9972903 (10400)\ttotal: 5m 28s\tremaining: 20m 36s\n",
            "10600:\tlearn: 0.9980281\ttest: 0.9972938\tbest: 0.9972938 (10600)\ttotal: 5m 31s\tremaining: 20m 32s\n",
            "10700:\tlearn: 0.9980363\ttest: 0.9972938\tbest: 0.9972938 (10600)\ttotal: 5m 36s\tremaining: 20m 34s\n",
            "10800:\tlearn: 0.9980492\ttest: 0.9973114\tbest: 0.9973114 (10800)\ttotal: 5m 38s\tremaining: 20m 29s\n",
            "10900:\tlearn: 0.9980571\ttest: 0.9973079\tbest: 0.9973114 (10800)\ttotal: 5m 41s\tremaining: 20m 24s\n",
            "11000:\tlearn: 0.9980614\ttest: 0.9973044\tbest: 0.9973114 (10800)\ttotal: 5m 44s\tremaining: 20m 19s\n",
            "11100:\tlearn: 0.9980661\ttest: 0.9973150\tbest: 0.9973150 (11100)\ttotal: 5m 48s\tremaining: 20m 21s\n",
            "11200:\tlearn: 0.9980728\ttest: 0.9973185\tbest: 0.9973185 (11200)\ttotal: 5m 51s\tremaining: 20m 16s\n",
            "11300:\tlearn: 0.9980822\ttest: 0.9973256\tbest: 0.9973256 (11300)\ttotal: 5m 53s\tremaining: 20m 11s\n",
            "11400:\tlearn: 0.9980884\ttest: 0.9973361\tbest: 0.9973361 (11400)\ttotal: 5m 56s\tremaining: 20m 7s\n",
            "11500:\tlearn: 0.9980908\ttest: 0.9973432\tbest: 0.9973432 (11500)\ttotal: 6m\tremaining: 20m 8s\n",
            "11600:\tlearn: 0.9980982\ttest: 0.9973432\tbest: 0.9973432 (11500)\ttotal: 6m 3s\tremaining: 20m 4s\n",
            "11700:\tlearn: 0.9981061\ttest: 0.9973503\tbest: 0.9973503 (11700)\ttotal: 6m 6s\tremaining: 19m 59s\n",
            "11800:\tlearn: 0.9981088\ttest: 0.9973467\tbest: 0.9973503 (11700)\ttotal: 6m 9s\tremaining: 19m 54s\n",
            "11900:\tlearn: 0.9981206\ttest: 0.9973608\tbest: 0.9973608 (11900)\ttotal: 6m 12s\tremaining: 19m 52s\n",
            "12000:\tlearn: 0.9981245\ttest: 0.9973608\tbest: 0.9973608 (11900)\ttotal: 6m 16s\tremaining: 19m 51s\n",
            "12100:\tlearn: 0.9981292\ttest: 0.9973538\tbest: 0.9973608 (11900)\ttotal: 6m 18s\tremaining: 19m 46s\n",
            "12200:\tlearn: 0.9981378\ttest: 0.9973608\tbest: 0.9973608 (11900)\ttotal: 6m 21s\tremaining: 19m 42s\n",
            "12300:\tlearn: 0.9981414\ttest: 0.9973608\tbest: 0.9973608 (11900)\ttotal: 6m 24s\tremaining: 19m 37s\n",
            "12400:\tlearn: 0.9981469\ttest: 0.9973608\tbest: 0.9973608 (11900)\ttotal: 6m 28s\tremaining: 19m 38s\n",
            "12500:\tlearn: 0.9981520\ttest: 0.9973538\tbest: 0.9973608 (11900)\ttotal: 6m 31s\tremaining: 19m 33s\n",
            "12600:\tlearn: 0.9981637\ttest: 0.9973785\tbest: 0.9973785 (12600)\ttotal: 6m 33s\tremaining: 19m 29s\n",
            "12700:\tlearn: 0.9981692\ttest: 0.9973750\tbest: 0.9973785 (12600)\ttotal: 6m 36s\tremaining: 19m 24s\n",
            "12800:\tlearn: 0.9981739\ttest: 0.9973785\tbest: 0.9973785 (12600)\ttotal: 6m 41s\tremaining: 19m 25s\n",
            "12900:\tlearn: 0.9981790\ttest: 0.9973820\tbest: 0.9973820 (12900)\ttotal: 6m 43s\tremaining: 19m 21s\n",
            "13000:\tlearn: 0.9981802\ttest: 0.9973961\tbest: 0.9973961 (13000)\ttotal: 6m 46s\tremaining: 19m 16s\n",
            "13100:\tlearn: 0.9981841\ttest: 0.9974032\tbest: 0.9974032 (13100)\ttotal: 6m 49s\tremaining: 19m 12s\n",
            "13200:\tlearn: 0.9981888\ttest: 0.9974032\tbest: 0.9974032 (13100)\ttotal: 6m 52s\tremaining: 19m 10s\n",
            "13300:\tlearn: 0.9981919\ttest: 0.9974067\tbest: 0.9974067 (13300)\ttotal: 6m 56s\tremaining: 19m 8s\n",
            "13400:\tlearn: 0.9981931\ttest: 0.9974032\tbest: 0.9974067 (13300)\ttotal: 6m 58s\tremaining: 19m 3s\n",
            "13500:\tlearn: 0.9982029\ttest: 0.9973961\tbest: 0.9974067 (13300)\ttotal: 7m 1s\tremaining: 18m 59s\n",
            "13600:\tlearn: 0.9982104\ttest: 0.9974032\tbest: 0.9974067 (13300)\ttotal: 7m 4s\tremaining: 18m 54s\n",
            "13700:\tlearn: 0.9982115\ttest: 0.9974208\tbest: 0.9974208 (13700)\ttotal: 7m 8s\tremaining: 18m 55s\n",
            "13800:\tlearn: 0.9982198\ttest: 0.9974455\tbest: 0.9974455 (13800)\ttotal: 7m 11s\tremaining: 18m 51s\n",
            "13900:\tlearn: 0.9982233\ttest: 0.9974491\tbest: 0.9974491 (13900)\ttotal: 7m 13s\tremaining: 18m 46s\n",
            "14000:\tlearn: 0.9982261\ttest: 0.9974455\tbest: 0.9974491 (13900)\ttotal: 7m 16s\tremaining: 18m 42s\n",
            "14100:\tlearn: 0.9982351\ttest: 0.9974455\tbest: 0.9974491 (13900)\ttotal: 7m 21s\tremaining: 18m 42s\n",
            "14200:\tlearn: 0.9982366\ttest: 0.9974596\tbest: 0.9974596 (14200)\ttotal: 7m 23s\tremaining: 18m 38s\n",
            "14300:\tlearn: 0.9982406\ttest: 0.9974667\tbest: 0.9974667 (14300)\ttotal: 7m 26s\tremaining: 18m 34s\n",
            "14400:\tlearn: 0.9982476\ttest: 0.9974632\tbest: 0.9974667 (14300)\ttotal: 7m 28s\tremaining: 18m 29s\n",
            "14500:\tlearn: 0.9982531\ttest: 0.9974667\tbest: 0.9974667 (14300)\ttotal: 7m 33s\tremaining: 18m 29s\n",
            "14600:\tlearn: 0.9982558\ttest: 0.9974667\tbest: 0.9974667 (14300)\ttotal: 7m 36s\tremaining: 18m 26s\n",
            "14700:\tlearn: 0.9982594\ttest: 0.9974667\tbest: 0.9974667 (14300)\ttotal: 7m 38s\tremaining: 18m 21s\n",
            "14800:\tlearn: 0.9982676\ttest: 0.9974667\tbest: 0.9974667 (14300)\ttotal: 7m 41s\tremaining: 18m 17s\n",
            "14900:\tlearn: 0.9982723\ttest: 0.9974702\tbest: 0.9974702 (14900)\ttotal: 7m 44s\tremaining: 18m 13s\n",
            "15000:\tlearn: 0.9982747\ttest: 0.9974667\tbest: 0.9974702 (14900)\ttotal: 7m 48s\tremaining: 18m 13s\n",
            "15100:\tlearn: 0.9982782\ttest: 0.9974737\tbest: 0.9974737 (15100)\ttotal: 7m 51s\tremaining: 18m 8s\n",
            "15200:\tlearn: 0.9982856\ttest: 0.9974702\tbest: 0.9974737 (15100)\ttotal: 7m 53s\tremaining: 18m 4s\n",
            "15300:\tlearn: 0.9982884\ttest: 0.9974773\tbest: 0.9974773 (15300)\ttotal: 7m 56s\tremaining: 18m\n",
            "15400:\tlearn: 0.9982915\ttest: 0.9974702\tbest: 0.9974773 (15300)\ttotal: 8m\tremaining: 18m\n",
            "15500:\tlearn: 0.9982962\ttest: 0.9974773\tbest: 0.9974773 (15300)\ttotal: 8m 3s\tremaining: 17m 56s\n",
            "15600:\tlearn: 0.9982994\ttest: 0.9974808\tbest: 0.9974808 (15600)\ttotal: 8m 6s\tremaining: 17m 52s\n",
            "15700:\tlearn: 0.9983052\ttest: 0.9974879\tbest: 0.9974879 (15700)\ttotal: 8m 8s\tremaining: 17m 47s\n",
            "15800:\tlearn: 0.9983072\ttest: 0.9974843\tbest: 0.9974879 (15700)\ttotal: 8m 13s\tremaining: 17m 47s\n",
            "15900:\tlearn: 0.9983123\ttest: 0.9974843\tbest: 0.9974879 (15700)\ttotal: 8m 15s\tremaining: 17m 43s\n",
            "16000:\tlearn: 0.9983127\ttest: 0.9974843\tbest: 0.9974879 (15700)\ttotal: 8m 18s\tremaining: 17m 39s\n",
            "16100:\tlearn: 0.9983166\ttest: 0.9974949\tbest: 0.9974949 (16100)\ttotal: 8m 21s\tremaining: 17m 35s\n",
            "16200:\tlearn: 0.9983201\ttest: 0.9974984\tbest: 0.9974984 (16200)\ttotal: 8m 24s\tremaining: 17m 32s\n",
            "16300:\tlearn: 0.9983229\ttest: 0.9974984\tbest: 0.9974984 (16200)\ttotal: 8m 28s\tremaining: 17m 30s\n",
            "16400:\tlearn: 0.9983311\ttest: 0.9975020\tbest: 0.9975020 (16400)\ttotal: 8m 31s\tremaining: 17m 26s\n",
            "16500:\tlearn: 0.9983378\ttest: 0.9975055\tbest: 0.9975055 (16500)\ttotal: 8m 33s\tremaining: 17m 22s\n",
            "16600:\tlearn: 0.9983437\ttest: 0.9975055\tbest: 0.9975055 (16500)\ttotal: 8m 36s\tremaining: 17m 18s\n",
            "16700:\tlearn: 0.9983452\ttest: 0.9975161\tbest: 0.9975161 (16700)\ttotal: 8m 40s\tremaining: 17m 18s\n",
            "16800:\tlearn: 0.9983488\ttest: 0.9975090\tbest: 0.9975161 (16700)\ttotal: 8m 43s\tremaining: 17m 14s\n",
            "16900:\tlearn: 0.9983515\ttest: 0.9975161\tbest: 0.9975161 (16700)\ttotal: 8m 46s\tremaining: 17m 10s\n",
            "17000:\tlearn: 0.9983546\ttest: 0.9975161\tbest: 0.9975161 (16700)\ttotal: 8m 48s\tremaining: 17m 6s\n",
            "17100:\tlearn: 0.9983586\ttest: 0.9975126\tbest: 0.9975161 (16700)\ttotal: 8m 52s\tremaining: 17m 5s\n",
            "17200:\tlearn: 0.9983605\ttest: 0.9975161\tbest: 0.9975161 (16700)\ttotal: 8m 55s\tremaining: 17m 1s\n",
            "17300:\tlearn: 0.9983640\ttest: 0.9975126\tbest: 0.9975161 (16700)\ttotal: 8m 58s\tremaining: 16m 57s\n",
            "17400:\tlearn: 0.9983688\ttest: 0.9975231\tbest: 0.9975231 (17400)\ttotal: 9m 1s\tremaining: 16m 53s\n",
            "17500:\tlearn: 0.9983672\ttest: 0.9975161\tbest: 0.9975231 (17400)\ttotal: 9m 4s\tremaining: 16m 50s\n",
            "17600:\tlearn: 0.9983735\ttest: 0.9975196\tbest: 0.9975231 (17400)\ttotal: 9m 8s\tremaining: 16m 48s\n",
            "17700:\tlearn: 0.9983731\ttest: 0.9975196\tbest: 0.9975231 (17400)\ttotal: 9m 10s\tremaining: 16m 44s\n",
            "17800:\tlearn: 0.9983774\ttest: 0.9975196\tbest: 0.9975231 (17400)\ttotal: 9m 13s\tremaining: 16m 41s\n",
            "17900:\tlearn: 0.9983770\ttest: 0.9975231\tbest: 0.9975231 (17400)\ttotal: 9m 16s\tremaining: 16m 37s\n",
            "18000:\tlearn: 0.9983793\ttest: 0.9975231\tbest: 0.9975231 (17400)\ttotal: 9m 20s\tremaining: 16m 36s\n",
            "18100:\tlearn: 0.9983829\ttest: 0.9975302\tbest: 0.9975302 (18100)\ttotal: 9m 23s\tremaining: 16m 32s\n",
            "18200:\tlearn: 0.9983872\ttest: 0.9975231\tbest: 0.9975302 (18100)\ttotal: 9m 25s\tremaining: 16m 28s\n",
            "18300:\tlearn: 0.9983899\ttest: 0.9975302\tbest: 0.9975302 (18100)\ttotal: 9m 28s\tremaining: 16m 24s\n",
            "18400:\tlearn: 0.9983978\ttest: 0.9975196\tbest: 0.9975302 (18100)\ttotal: 9m 32s\tremaining: 16m 23s\n",
            "18500:\tlearn: 0.9984029\ttest: 0.9975196\tbest: 0.9975302 (18100)\ttotal: 9m 35s\tremaining: 16m 19s\n",
            "18600:\tlearn: 0.9984048\ttest: 0.9975267\tbest: 0.9975302 (18100)\ttotal: 9m 38s\tremaining: 16m 16s\n",
            "18700:\tlearn: 0.9984087\ttest: 0.9975231\tbest: 0.9975302 (18100)\ttotal: 9m 40s\tremaining: 16m 12s\n",
            "18800:\tlearn: 0.9984142\ttest: 0.9975267\tbest: 0.9975302 (18100)\ttotal: 9m 43s\tremaining: 16m 9s\n",
            "18900:\tlearn: 0.9984174\ttest: 0.9975267\tbest: 0.9975302 (18100)\ttotal: 9m 47s\tremaining: 16m 7s\n",
            "19000:\tlearn: 0.9984193\ttest: 0.9975373\tbest: 0.9975373 (19000)\ttotal: 9m 50s\tremaining: 16m 3s\n",
            "19100:\tlearn: 0.9984221\ttest: 0.9975302\tbest: 0.9975373 (19000)\ttotal: 9m 53s\tremaining: 15m 59s\n",
            "19200:\tlearn: 0.9984279\ttest: 0.9975267\tbest: 0.9975373 (19000)\ttotal: 9m 55s\tremaining: 15m 55s\n",
            "19300:\tlearn: 0.9984303\ttest: 0.9975337\tbest: 0.9975373 (19000)\ttotal: 10m\tremaining: 15m 54s\n",
            "19400:\tlearn: 0.9984315\ttest: 0.9975267\tbest: 0.9975373 (19000)\ttotal: 10m 2s\tremaining: 15m 50s\n",
            "19500:\tlearn: 0.9984342\ttest: 0.9975337\tbest: 0.9975373 (19000)\ttotal: 10m 5s\tremaining: 15m 46s\n",
            "19600:\tlearn: 0.9984358\ttest: 0.9975337\tbest: 0.9975373 (19000)\ttotal: 10m 8s\tremaining: 15m 43s\n",
            "19700:\tlearn: 0.9984366\ttest: 0.9975373\tbest: 0.9975373 (19000)\ttotal: 10m 12s\tremaining: 15m 41s\n",
            "19800:\tlearn: 0.9984409\ttest: 0.9975408\tbest: 0.9975408 (19800)\ttotal: 10m 15s\tremaining: 15m 38s\n",
            "19900:\tlearn: 0.9984425\ttest: 0.9975443\tbest: 0.9975443 (19900)\ttotal: 10m 17s\tremaining: 15m 34s\n",
            "20000:\tlearn: 0.9984472\ttest: 0.9975443\tbest: 0.9975443 (19900)\ttotal: 10m 20s\tremaining: 15m 30s\n",
            "20100:\tlearn: 0.9984499\ttest: 0.9975443\tbest: 0.9975443 (19900)\ttotal: 10m 23s\tremaining: 15m 27s\n",
            "20200:\tlearn: 0.9984562\ttest: 0.9975478\tbest: 0.9975478 (20200)\ttotal: 10m 27s\tremaining: 15m 25s\n",
            "20300:\tlearn: 0.9984609\ttest: 0.9975478\tbest: 0.9975478 (20200)\ttotal: 10m 30s\tremaining: 15m 21s\n",
            "20400:\tlearn: 0.9984617\ttest: 0.9975443\tbest: 0.9975478 (20200)\ttotal: 10m 32s\tremaining: 15m 17s\n",
            "20500:\tlearn: 0.9984644\ttest: 0.9975443\tbest: 0.9975478 (20200)\ttotal: 10m 35s\tremaining: 15m 14s\n",
            "20600:\tlearn: 0.9984707\ttest: 0.9975478\tbest: 0.9975478 (20200)\ttotal: 10m 39s\tremaining: 15m 12s\n",
            "20700:\tlearn: 0.9984726\ttest: 0.9975478\tbest: 0.9975478 (20200)\ttotal: 10m 42s\tremaining: 15m 8s\n",
            "20800:\tlearn: 0.9984754\ttest: 0.9975514\tbest: 0.9975514 (20800)\ttotal: 10m 44s\tremaining: 15m 5s\n",
            "20900:\tlearn: 0.9984793\ttest: 0.9975584\tbest: 0.9975584 (20900)\ttotal: 10m 47s\tremaining: 15m 1s\n",
            "21000:\tlearn: 0.9984832\ttest: 0.9975620\tbest: 0.9975620 (21000)\ttotal: 10m 51s\tremaining: 14m 59s\n",
            "21100:\tlearn: 0.9984836\ttest: 0.9975549\tbest: 0.9975620 (21000)\ttotal: 10m 54s\tremaining: 14m 56s\n",
            "21200:\tlearn: 0.9984864\ttest: 0.9975584\tbest: 0.9975620 (21000)\ttotal: 10m 57s\tremaining: 14m 52s\n",
            "21300:\tlearn: 0.9984891\ttest: 0.9975584\tbest: 0.9975620 (21000)\ttotal: 10m 59s\tremaining: 14m 48s\n",
            "21400:\tlearn: 0.9984911\ttest: 0.9975584\tbest: 0.9975620 (21000)\ttotal: 11m 2s\tremaining: 14m 45s\n",
            "21500:\tlearn: 0.9984926\ttest: 0.9975655\tbest: 0.9975655 (21500)\ttotal: 11m 6s\tremaining: 14m 43s\n",
            "21600:\tlearn: 0.9984966\ttest: 0.9975690\tbest: 0.9975690 (21600)\ttotal: 11m 9s\tremaining: 14m 39s\n",
            "21700:\tlearn: 0.9984966\ttest: 0.9975725\tbest: 0.9975725 (21700)\ttotal: 11m 11s\tremaining: 14m 36s\n",
            "21800:\tlearn: 0.9984993\ttest: 0.9975690\tbest: 0.9975725 (21700)\ttotal: 11m 14s\tremaining: 14m 32s\n",
            "21900:\tlearn: 0.9985013\ttest: 0.9975725\tbest: 0.9975725 (21700)\ttotal: 11m 18s\tremaining: 14m 31s\n",
            "22000:\tlearn: 0.9985083\ttest: 0.9975761\tbest: 0.9975761 (22000)\ttotal: 11m 21s\tremaining: 14m 27s\n",
            "22100:\tlearn: 0.9985099\ttest: 0.9975796\tbest: 0.9975796 (22100)\ttotal: 11m 24s\tremaining: 14m 23s\n",
            "22200:\tlearn: 0.9985122\ttest: 0.9975831\tbest: 0.9975831 (22200)\ttotal: 11m 26s\tremaining: 14m 20s\n",
            "22300:\tlearn: 0.9985162\ttest: 0.9975867\tbest: 0.9975867 (22300)\ttotal: 11m 30s\tremaining: 14m 17s\n",
            "22400:\tlearn: 0.9985173\ttest: 0.9975831\tbest: 0.9975867 (22300)\ttotal: 11m 33s\tremaining: 14m 14s\n",
            "22500:\tlearn: 0.9985177\ttest: 0.9975937\tbest: 0.9975937 (22500)\ttotal: 11m 36s\tremaining: 14m 11s\n",
            "22600:\tlearn: 0.9985185\ttest: 0.9975902\tbest: 0.9975937 (22500)\ttotal: 11m 39s\tremaining: 14m 7s\n",
            "22700:\tlearn: 0.9985236\ttest: 0.9975972\tbest: 0.9975972 (22700)\ttotal: 11m 41s\tremaining: 14m 3s\n",
            "22800:\tlearn: 0.9985271\ttest: 0.9976008\tbest: 0.9976008 (22800)\ttotal: 11m 46s\tremaining: 14m 2s\n",
            "22900:\tlearn: 0.9985271\ttest: 0.9976008\tbest: 0.9976008 (22800)\ttotal: 11m 48s\tremaining: 13m 58s\n",
            "23000:\tlearn: 0.9985303\ttest: 0.9975902\tbest: 0.9976008 (22800)\ttotal: 11m 51s\tremaining: 13m 55s\n",
            "23100:\tlearn: 0.9985326\ttest: 0.9976008\tbest: 0.9976008 (22800)\ttotal: 11m 54s\tremaining: 13m 51s\n",
            "23200:\tlearn: 0.9985350\ttest: 0.9976008\tbest: 0.9976008 (22800)\ttotal: 11m 58s\tremaining: 13m 49s\n",
            "23300:\tlearn: 0.9985373\ttest: 0.9976043\tbest: 0.9976043 (23300)\ttotal: 12m 1s\tremaining: 13m 46s\n",
            "23400:\tlearn: 0.9985409\ttest: 0.9976043\tbest: 0.9976043 (23300)\ttotal: 12m 3s\tremaining: 13m 42s\n",
            "23500:\tlearn: 0.9985444\ttest: 0.9976008\tbest: 0.9976043 (23300)\ttotal: 12m 6s\tremaining: 13m 38s\n",
            "23600:\tlearn: 0.9985456\ttest: 0.9976008\tbest: 0.9976043 (23300)\ttotal: 12m 9s\tremaining: 13m 35s\n",
            "23700:\tlearn: 0.9985499\ttest: 0.9976078\tbest: 0.9976078 (23700)\ttotal: 12m 13s\tremaining: 13m 33s\n",
            "23800:\tlearn: 0.9985522\ttest: 0.9976008\tbest: 0.9976078 (23700)\ttotal: 12m 15s\tremaining: 13m 29s\n",
            "23900:\tlearn: 0.9985573\ttest: 0.9976184\tbest: 0.9976184 (23900)\ttotal: 12m 18s\tremaining: 13m 26s\n",
            "24000:\tlearn: 0.9985581\ttest: 0.9976219\tbest: 0.9976219 (24000)\ttotal: 12m 21s\tremaining: 13m 22s\n",
            "24100:\tlearn: 0.9985581\ttest: 0.9976325\tbest: 0.9976325 (24100)\ttotal: 12m 25s\tremaining: 13m 21s\n",
            "24200:\tlearn: 0.9985644\ttest: 0.9976290\tbest: 0.9976325 (24100)\ttotal: 12m 28s\tremaining: 13m 17s\n",
            "24300:\tlearn: 0.9985640\ttest: 0.9976325\tbest: 0.9976325 (24100)\ttotal: 12m 30s\tremaining: 13m 13s\n",
            "24400:\tlearn: 0.9985683\ttest: 0.9976255\tbest: 0.9976325 (24100)\ttotal: 12m 33s\tremaining: 13m 10s\n",
            "24500:\tlearn: 0.9985714\ttest: 0.9976290\tbest: 0.9976325 (24100)\ttotal: 12m 37s\tremaining: 13m 7s\n",
            "24600:\tlearn: 0.9985706\ttest: 0.9976290\tbest: 0.9976325 (24100)\ttotal: 12m 40s\tremaining: 13m 4s\n",
            "24700:\tlearn: 0.9985746\ttest: 0.9976255\tbest: 0.9976325 (24100)\ttotal: 12m 42s\tremaining: 13m 1s\n",
            "24800:\tlearn: 0.9985777\ttest: 0.9976219\tbest: 0.9976325 (24100)\ttotal: 12m 45s\tremaining: 12m 57s\n",
            "24900:\tlearn: 0.9985789\ttest: 0.9976290\tbest: 0.9976325 (24100)\ttotal: 12m 48s\tremaining: 12m 54s\n",
            "25000:\tlearn: 0.9985801\ttest: 0.9976361\tbest: 0.9976361 (25000)\ttotal: 12m 52s\tremaining: 12m 52s\n",
            "25100:\tlearn: 0.9985840\ttest: 0.9976219\tbest: 0.9976361 (25000)\ttotal: 12m 55s\tremaining: 12m 48s\n",
            "25200:\tlearn: 0.9985832\ttest: 0.9976431\tbest: 0.9976431 (25200)\ttotal: 12m 57s\tremaining: 12m 45s\n",
            "25300:\tlearn: 0.9985879\ttest: 0.9976396\tbest: 0.9976431 (25200)\ttotal: 13m\tremaining: 12m 41s\n",
            "25400:\tlearn: 0.9985875\ttest: 0.9976361\tbest: 0.9976431 (25200)\ttotal: 13m 4s\tremaining: 12m 39s\n",
            "25500:\tlearn: 0.9985930\ttest: 0.9976290\tbest: 0.9976431 (25200)\ttotal: 13m 7s\tremaining: 12m 36s\n",
            "25600:\tlearn: 0.9985973\ttest: 0.9976325\tbest: 0.9976431 (25200)\ttotal: 13m 9s\tremaining: 12m 32s\n",
            "25700:\tlearn: 0.9985985\ttest: 0.9976431\tbest: 0.9976431 (25200)\ttotal: 13m 12s\tremaining: 12m 29s\n",
            "25800:\tlearn: 0.9986016\ttest: 0.9976361\tbest: 0.9976431 (25200)\ttotal: 13m 15s\tremaining: 12m 26s\n",
            "25900:\tlearn: 0.9986055\ttest: 0.9976466\tbest: 0.9976466 (25900)\ttotal: 13m 19s\tremaining: 12m 23s\n",
            "26000:\tlearn: 0.9986055\ttest: 0.9976466\tbest: 0.9976466 (25900)\ttotal: 13m 22s\tremaining: 12m 20s\n",
            "26100:\tlearn: 0.9986091\ttest: 0.9976537\tbest: 0.9976537 (26100)\ttotal: 13m 24s\tremaining: 12m 16s\n",
            "26200:\tlearn: 0.9986102\ttest: 0.9976466\tbest: 0.9976537 (26100)\ttotal: 13m 27s\tremaining: 12m 13s\n",
            "26300:\tlearn: 0.9986126\ttest: 0.9976572\tbest: 0.9976572 (26300)\ttotal: 13m 31s\tremaining: 12m 11s\n",
            "26400:\tlearn: 0.9986138\ttest: 0.9976466\tbest: 0.9976572 (26300)\ttotal: 13m 34s\tremaining: 12m 7s\n",
            "26500:\tlearn: 0.9986149\ttest: 0.9976466\tbest: 0.9976572 (26300)\ttotal: 13m 36s\tremaining: 12m 4s\n",
            "26600:\tlearn: 0.9986169\ttest: 0.9976502\tbest: 0.9976572 (26300)\ttotal: 13m 39s\tremaining: 12m\n",
            "26700:\tlearn: 0.9986212\ttest: 0.9976431\tbest: 0.9976572 (26300)\ttotal: 13m 43s\tremaining: 11m 58s\n",
            "26800:\tlearn: 0.9986232\ttest: 0.9976431\tbest: 0.9976572 (26300)\ttotal: 13m 46s\tremaining: 11m 55s\n",
            "26900:\tlearn: 0.9986224\ttest: 0.9976431\tbest: 0.9976572 (26300)\ttotal: 13m 49s\tremaining: 11m 51s\n",
            "27000:\tlearn: 0.9986255\ttest: 0.9976502\tbest: 0.9976572 (26300)\ttotal: 13m 51s\tremaining: 11m 48s\n",
            "27100:\tlearn: 0.9986271\ttest: 0.9976466\tbest: 0.9976572 (26300)\ttotal: 13m 54s\tremaining: 11m 45s\n",
            "27200:\tlearn: 0.9986295\ttest: 0.9976466\tbest: 0.9976572 (26300)\ttotal: 13m 58s\tremaining: 11m 43s\n",
            "27300:\tlearn: 0.9986330\ttest: 0.9976502\tbest: 0.9976572 (26300)\ttotal: 14m 1s\tremaining: 11m 39s\n",
            "27400:\tlearn: 0.9986326\ttest: 0.9976502\tbest: 0.9976572 (26300)\ttotal: 14m 3s\tremaining: 11m 36s\n",
            "27500:\tlearn: 0.9986345\ttest: 0.9976502\tbest: 0.9976572 (26300)\ttotal: 14m 6s\tremaining: 11m 32s\n",
            "27600:\tlearn: 0.9986389\ttest: 0.9976431\tbest: 0.9976572 (26300)\ttotal: 14m 11s\tremaining: 11m 30s\n",
            "27700:\tlearn: 0.9986393\ttest: 0.9976502\tbest: 0.9976572 (26300)\ttotal: 14m 13s\tremaining: 11m 27s\n",
            "27800:\tlearn: 0.9986420\ttest: 0.9976537\tbest: 0.9976572 (26300)\ttotal: 14m 16s\tremaining: 11m 23s\n",
            "27900:\tlearn: 0.9986420\ttest: 0.9976502\tbest: 0.9976572 (26300)\ttotal: 14m 18s\tremaining: 11m 20s\n",
            "28000:\tlearn: 0.9986440\ttest: 0.9976607\tbest: 0.9976607 (28000)\ttotal: 14m 22s\tremaining: 11m 17s\n",
            "28100:\tlearn: 0.9986444\ttest: 0.9976643\tbest: 0.9976643 (28100)\ttotal: 14m 25s\tremaining: 11m 14s\n",
            "28200:\tlearn: 0.9986487\ttest: 0.9976572\tbest: 0.9976643 (28100)\ttotal: 14m 28s\tremaining: 11m 11s\n",
            "28300:\tlearn: 0.9986514\ttest: 0.9976607\tbest: 0.9976643 (28100)\ttotal: 14m 31s\tremaining: 11m 7s\n",
            "28400:\tlearn: 0.9986538\ttest: 0.9976607\tbest: 0.9976643 (28100)\ttotal: 14m 33s\tremaining: 11m 4s\n",
            "28500:\tlearn: 0.9986557\ttest: 0.9976607\tbest: 0.9976643 (28100)\ttotal: 14m 38s\tremaining: 11m 2s\n",
            "28600:\tlearn: 0.9986596\ttest: 0.9976643\tbest: 0.9976643 (28100)\ttotal: 14m 40s\tremaining: 10m 58s\n",
            "28700:\tlearn: 0.9986616\ttest: 0.9976749\tbest: 0.9976749 (28700)\ttotal: 14m 43s\tremaining: 10m 55s\n",
            "28800:\tlearn: 0.9986640\ttest: 0.9976819\tbest: 0.9976819 (28800)\ttotal: 14m 45s\tremaining: 10m 52s\n",
            "28900:\tlearn: 0.9986655\ttest: 0.9976784\tbest: 0.9976819 (28800)\ttotal: 14m 50s\tremaining: 10m 50s\n",
            "29000:\tlearn: 0.9986667\ttest: 0.9976854\tbest: 0.9976854 (29000)\ttotal: 14m 53s\tremaining: 10m 46s\n",
            "29100:\tlearn: 0.9986667\ttest: 0.9976749\tbest: 0.9976854 (29000)\ttotal: 14m 55s\tremaining: 10m 43s\n",
            "29200:\tlearn: 0.9986667\ttest: 0.9976784\tbest: 0.9976854 (29000)\ttotal: 14m 58s\tremaining: 10m 39s\n",
            "29300:\tlearn: 0.9986706\ttest: 0.9976713\tbest: 0.9976854 (29000)\ttotal: 15m 1s\tremaining: 10m 36s\n",
            "29400:\tlearn: 0.9986730\ttest: 0.9976713\tbest: 0.9976854 (29000)\ttotal: 15m 5s\tremaining: 10m 34s\n",
            "29500:\tlearn: 0.9986741\ttest: 0.9976678\tbest: 0.9976854 (29000)\ttotal: 15m 7s\tremaining: 10m 30s\n",
            "29600:\tlearn: 0.9986765\ttest: 0.9976749\tbest: 0.9976854 (29000)\ttotal: 15m 10s\tremaining: 10m 27s\n",
            "29700:\tlearn: 0.9986773\ttest: 0.9976819\tbest: 0.9976854 (29000)\ttotal: 15m 13s\tremaining: 10m 24s\n",
            "29800:\tlearn: 0.9986792\ttest: 0.9976749\tbest: 0.9976854 (29000)\ttotal: 15m 17s\tremaining: 10m 21s\n",
            "29900:\tlearn: 0.9986781\ttest: 0.9976749\tbest: 0.9976854 (29000)\ttotal: 15m 20s\tremaining: 10m 18s\n",
            "30000:\tlearn: 0.9986812\ttest: 0.9976890\tbest: 0.9976890 (30000)\ttotal: 15m 22s\tremaining: 10m 15s\n",
            "30100:\tlearn: 0.9986820\ttest: 0.9976890\tbest: 0.9976890 (30000)\ttotal: 15m 25s\tremaining: 10m 11s\n",
            "30200:\tlearn: 0.9986859\ttest: 0.9976890\tbest: 0.9976890 (30000)\ttotal: 15m 29s\tremaining: 10m 9s\n",
            "30300:\tlearn: 0.9986883\ttest: 0.9976854\tbest: 0.9976890 (30000)\ttotal: 15m 32s\tremaining: 10m 6s\n",
            "30400:\tlearn: 0.9986910\ttest: 0.9976890\tbest: 0.9976890 (30000)\ttotal: 15m 34s\tremaining: 10m 2s\n",
            "30500:\tlearn: 0.9986918\ttest: 0.9976890\tbest: 0.9976890 (30000)\ttotal: 15m 37s\tremaining: 9m 59s\n",
            "30600:\tlearn: 0.9986949\ttest: 0.9976854\tbest: 0.9976890 (30000)\ttotal: 15m 40s\tremaining: 9m 56s\n",
            "30700:\tlearn: 0.9986953\ttest: 0.9976890\tbest: 0.9976890 (30000)\ttotal: 15m 44s\tremaining: 9m 53s\n",
            "30800:\tlearn: 0.9986957\ttest: 0.9976819\tbest: 0.9976890 (30000)\ttotal: 15m 47s\tremaining: 9m 50s\n",
            "30900:\tlearn: 0.9987000\ttest: 0.9976819\tbest: 0.9976890 (30000)\ttotal: 15m 49s\tremaining: 9m 47s\n",
            "31000:\tlearn: 0.9986985\ttest: 0.9976854\tbest: 0.9976890 (30000)\ttotal: 15m 52s\tremaining: 9m 43s\n",
            "31100:\tlearn: 0.9987020\ttest: 0.9976925\tbest: 0.9976925 (31100)\ttotal: 15m 56s\tremaining: 9m 41s\n",
            "31200:\tlearn: 0.9987012\ttest: 0.9976890\tbest: 0.9976925 (31100)\ttotal: 15m 59s\tremaining: 9m 38s\n",
            "31300:\tlearn: 0.9987028\ttest: 0.9976960\tbest: 0.9976960 (31300)\ttotal: 16m 2s\tremaining: 9m 34s\n",
            "31400:\tlearn: 0.9987032\ttest: 0.9976996\tbest: 0.9976996 (31400)\ttotal: 16m 4s\tremaining: 9m 31s\n",
            "31500:\tlearn: 0.9987035\ttest: 0.9976925\tbest: 0.9976996 (31400)\ttotal: 16m 8s\tremaining: 9m 28s\n",
            "31600:\tlearn: 0.9987063\ttest: 0.9976925\tbest: 0.9976996 (31400)\ttotal: 16m 11s\tremaining: 9m 25s\n",
            "31700:\tlearn: 0.9987090\ttest: 0.9976996\tbest: 0.9976996 (31400)\ttotal: 16m 14s\tremaining: 9m 22s\n",
            "31800:\tlearn: 0.9987090\ttest: 0.9976996\tbest: 0.9976996 (31400)\ttotal: 16m 16s\tremaining: 9m 19s\n",
            "31900:\tlearn: 0.9987130\ttest: 0.9977066\tbest: 0.9977066 (31900)\ttotal: 16m 19s\tremaining: 9m 15s\n",
            "32000:\tlearn: 0.9987161\ttest: 0.9977031\tbest: 0.9977066 (31900)\ttotal: 16m 23s\tremaining: 9m 13s\n",
            "32100:\tlearn: 0.9987169\ttest: 0.9976996\tbest: 0.9977066 (31900)\ttotal: 16m 26s\tremaining: 9m 9s\n",
            "32200:\tlearn: 0.9987181\ttest: 0.9977066\tbest: 0.9977066 (31900)\ttotal: 16m 28s\tremaining: 9m 6s\n",
            "32300:\tlearn: 0.9987228\ttest: 0.9977101\tbest: 0.9977101 (32300)\ttotal: 16m 31s\tremaining: 9m 3s\n",
            "32400:\tlearn: 0.9987228\ttest: 0.9977066\tbest: 0.9977101 (32300)\ttotal: 16m 35s\tremaining: 9m\n",
            "32500:\tlearn: 0.9987271\ttest: 0.9977101\tbest: 0.9977101 (32300)\ttotal: 16m 38s\tremaining: 8m 57s\n",
            "32600:\tlearn: 0.9987259\ttest: 0.9977101\tbest: 0.9977101 (32300)\ttotal: 16m 41s\tremaining: 8m 54s\n",
            "32700:\tlearn: 0.9987271\ttest: 0.9977031\tbest: 0.9977101 (32300)\ttotal: 16m 43s\tremaining: 8m 50s\n",
            "32800:\tlearn: 0.9987282\ttest: 0.9977031\tbest: 0.9977101 (32300)\ttotal: 16m 47s\tremaining: 8m 48s\n",
            "32900:\tlearn: 0.9987322\ttest: 0.9977031\tbest: 0.9977101 (32300)\ttotal: 16m 50s\tremaining: 8m 45s\n",
            "33000:\tlearn: 0.9987333\ttest: 0.9977031\tbest: 0.9977101 (32300)\ttotal: 16m 53s\tremaining: 8m 41s\n",
            "33100:\tlearn: 0.9987349\ttest: 0.9976996\tbest: 0.9977101 (32300)\ttotal: 16m 55s\tremaining: 8m 38s\n",
            "33200:\tlearn: 0.9987361\ttest: 0.9977066\tbest: 0.9977101 (32300)\ttotal: 16m 58s\tremaining: 8m 35s\n",
            "33300:\tlearn: 0.9987365\ttest: 0.9977137\tbest: 0.9977137 (33300)\ttotal: 17m 3s\tremaining: 8m 33s\n",
            "33400:\tlearn: 0.9987373\ttest: 0.9977101\tbest: 0.9977137 (33300)\ttotal: 17m 5s\tremaining: 8m 29s\n",
            "33500:\tlearn: 0.9987400\ttest: 0.9977066\tbest: 0.9977137 (33300)\ttotal: 17m 8s\tremaining: 8m 26s\n",
            "33600:\tlearn: 0.9987400\ttest: 0.9977066\tbest: 0.9977137 (33300)\ttotal: 17m 10s\tremaining: 8m 23s\n",
            "33700:\tlearn: 0.9987420\ttest: 0.9977137\tbest: 0.9977137 (33300)\ttotal: 17m 14s\tremaining: 8m 20s\n",
            "33800:\tlearn: 0.9987431\ttest: 0.9977207\tbest: 0.9977207 (33800)\ttotal: 17m 17s\tremaining: 8m 17s\n",
            "33900:\tlearn: 0.9987451\ttest: 0.9977207\tbest: 0.9977207 (33800)\ttotal: 17m 20s\tremaining: 8m 14s\n",
            "34000:\tlearn: 0.9987443\ttest: 0.9977243\tbest: 0.9977243 (34000)\ttotal: 17m 23s\tremaining: 8m 10s\n",
            "34100:\tlearn: 0.9987467\ttest: 0.9977243\tbest: 0.9977243 (34000)\ttotal: 17m 25s\tremaining: 8m 7s\n",
            "34200:\tlearn: 0.9987463\ttest: 0.9977243\tbest: 0.9977243 (34000)\ttotal: 17m 30s\tremaining: 8m 5s\n",
            "34300:\tlearn: 0.9987490\ttest: 0.9977278\tbest: 0.9977278 (34300)\ttotal: 17m 32s\tremaining: 8m 1s\n",
            "34400:\tlearn: 0.9987510\ttest: 0.9977243\tbest: 0.9977278 (34300)\ttotal: 17m 35s\tremaining: 7m 58s\n",
            "34500:\tlearn: 0.9987526\ttest: 0.9977348\tbest: 0.9977348 (34500)\ttotal: 17m 37s\tremaining: 7m 55s\n",
            "34600:\tlearn: 0.9987545\ttest: 0.9977348\tbest: 0.9977348 (34500)\ttotal: 17m 42s\tremaining: 7m 52s\n",
            "34700:\tlearn: 0.9987557\ttest: 0.9977348\tbest: 0.9977348 (34500)\ttotal: 17m 45s\tremaining: 7m 49s\n",
            "34800:\tlearn: 0.9987584\ttest: 0.9977313\tbest: 0.9977348 (34500)\ttotal: 17m 47s\tremaining: 7m 46s\n",
            "34900:\tlearn: 0.9987573\ttest: 0.9977243\tbest: 0.9977348 (34500)\ttotal: 17m 50s\tremaining: 7m 42s\n",
            "35000:\tlearn: 0.9987584\ttest: 0.9977278\tbest: 0.9977348 (34500)\ttotal: 17m 53s\tremaining: 7m 40s\n",
            "35100:\tlearn: 0.9987584\ttest: 0.9977313\tbest: 0.9977348 (34500)\ttotal: 17m 57s\tremaining: 7m 37s\n",
            "35200:\tlearn: 0.9987608\ttest: 0.9977313\tbest: 0.9977348 (34500)\ttotal: 17m 59s\tremaining: 7m 33s\n",
            "35300:\tlearn: 0.9987639\ttest: 0.9977384\tbest: 0.9977384 (35300)\ttotal: 18m 2s\tremaining: 7m 30s\n",
            "35400:\tlearn: 0.9987674\ttest: 0.9977348\tbest: 0.9977384 (35300)\ttotal: 18m 5s\tremaining: 7m 27s\n",
            "35500:\tlearn: 0.9987706\ttest: 0.9977348\tbest: 0.9977384 (35300)\ttotal: 18m 9s\tremaining: 7m 24s\n",
            "35600:\tlearn: 0.9987714\ttest: 0.9977313\tbest: 0.9977384 (35300)\ttotal: 18m 12s\tremaining: 7m 21s\n",
            "35700:\tlearn: 0.9987729\ttest: 0.9977313\tbest: 0.9977384 (35300)\ttotal: 18m 14s\tremaining: 7m 18s\n",
            "35800:\tlearn: 0.9987753\ttest: 0.9977243\tbest: 0.9977384 (35300)\ttotal: 18m 17s\tremaining: 7m 15s\n",
            "35900:\tlearn: 0.9987741\ttest: 0.9977243\tbest: 0.9977384 (35300)\ttotal: 18m 21s\tremaining: 7m 12s\n",
            "36000:\tlearn: 0.9987737\ttest: 0.9977313\tbest: 0.9977384 (35300)\ttotal: 18m 24s\tremaining: 7m 9s\n",
            "36100:\tlearn: 0.9987784\ttest: 0.9977313\tbest: 0.9977384 (35300)\ttotal: 18m 26s\tremaining: 7m 6s\n",
            "36200:\tlearn: 0.9987761\ttest: 0.9977243\tbest: 0.9977384 (35300)\ttotal: 18m 29s\tremaining: 7m 2s\n",
            "36300:\tlearn: 0.9987808\ttest: 0.9977313\tbest: 0.9977384 (35300)\ttotal: 18m 32s\tremaining: 6m 59s\n",
            "36400:\tlearn: 0.9987765\ttest: 0.9977348\tbest: 0.9977384 (35300)\ttotal: 18m 36s\tremaining: 6m 57s\n",
            "36500:\tlearn: 0.9987780\ttest: 0.9977348\tbest: 0.9977384 (35300)\ttotal: 18m 39s\tremaining: 6m 53s\n",
            "36600:\tlearn: 0.9987800\ttest: 0.9977348\tbest: 0.9977384 (35300)\ttotal: 18m 41s\tremaining: 6m 50s\n",
            "36700:\tlearn: 0.9987812\ttest: 0.9977278\tbest: 0.9977384 (35300)\ttotal: 18m 44s\tremaining: 6m 47s\n",
            "36800:\tlearn: 0.9987812\ttest: 0.9977348\tbest: 0.9977384 (35300)\ttotal: 18m 48s\tremaining: 6m 44s\n",
            "36900:\tlearn: 0.9987835\ttest: 0.9977313\tbest: 0.9977384 (35300)\ttotal: 18m 51s\tremaining: 6m 41s\n",
            "37000:\tlearn: 0.9987855\ttest: 0.9977384\tbest: 0.9977384 (35300)\ttotal: 18m 53s\tremaining: 6m 38s\n",
            "37100:\tlearn: 0.9987878\ttest: 0.9977384\tbest: 0.9977384 (35300)\ttotal: 18m 56s\tremaining: 6m 35s\n",
            "37200:\tlearn: 0.9987914\ttest: 0.9977419\tbest: 0.9977419 (37200)\ttotal: 19m\tremaining: 6m 32s\n",
            "37300:\tlearn: 0.9987929\ttest: 0.9977384\tbest: 0.9977419 (37200)\ttotal: 19m 3s\tremaining: 6m 29s\n",
            "37400:\tlearn: 0.9987937\ttest: 0.9977454\tbest: 0.9977454 (37400)\ttotal: 19m 6s\tremaining: 6m 26s\n",
            "37500:\tlearn: 0.9987949\ttest: 0.9977454\tbest: 0.9977454 (37400)\ttotal: 19m 8s\tremaining: 6m 22s\n",
            "37600:\tlearn: 0.9987965\ttest: 0.9977348\tbest: 0.9977454 (37400)\ttotal: 19m 11s\tremaining: 6m 19s\n",
            "37700:\tlearn: 0.9987965\ttest: 0.9977419\tbest: 0.9977454 (37400)\ttotal: 19m 15s\tremaining: 6m 17s\n",
            "37800:\tlearn: 0.9988008\ttest: 0.9977490\tbest: 0.9977490 (37800)\ttotal: 19m 18s\tremaining: 6m 13s\n",
            "37900:\tlearn: 0.9988016\ttest: 0.9977454\tbest: 0.9977490 (37800)\ttotal: 19m 20s\tremaining: 6m 10s\n",
            "38000:\tlearn: 0.9988023\ttest: 0.9977419\tbest: 0.9977490 (37800)\ttotal: 19m 23s\tremaining: 6m 7s\n",
            "38100:\tlearn: 0.9988027\ttest: 0.9977490\tbest: 0.9977490 (37800)\ttotal: 19m 27s\tremaining: 6m 4s\n",
            "38200:\tlearn: 0.9988035\ttest: 0.9977490\tbest: 0.9977490 (37800)\ttotal: 19m 30s\tremaining: 6m 1s\n",
            "38300:\tlearn: 0.9988023\ttest: 0.9977490\tbest: 0.9977490 (37800)\ttotal: 19m 33s\tremaining: 5m 58s\n",
            "38400:\tlearn: 0.9988043\ttest: 0.9977560\tbest: 0.9977560 (38400)\ttotal: 19m 35s\tremaining: 5m 55s\n",
            "38500:\tlearn: 0.9988063\ttest: 0.9977560\tbest: 0.9977560 (38400)\ttotal: 19m 39s\tremaining: 5m 52s\n",
            "38600:\tlearn: 0.9988094\ttest: 0.9977560\tbest: 0.9977560 (38400)\ttotal: 19m 42s\tremaining: 5m 49s\n",
            "38700:\tlearn: 0.9988106\ttest: 0.9977631\tbest: 0.9977631 (38700)\ttotal: 19m 45s\tremaining: 5m 46s\n",
            "38800:\tlearn: 0.9988125\ttest: 0.9977490\tbest: 0.9977631 (38700)\ttotal: 19m 47s\tremaining: 5m 42s\n",
            "38900:\tlearn: 0.9988141\ttest: 0.9977560\tbest: 0.9977631 (38700)\ttotal: 19m 50s\tremaining: 5m 39s\n",
            "39000:\tlearn: 0.9988165\ttest: 0.9977595\tbest: 0.9977631 (38700)\ttotal: 19m 54s\tremaining: 5m 36s\n",
            "39100:\tlearn: 0.9988153\ttest: 0.9977560\tbest: 0.9977631 (38700)\ttotal: 19m 57s\tremaining: 5m 33s\n",
            "39200:\tlearn: 0.9988168\ttest: 0.9977560\tbest: 0.9977631 (38700)\ttotal: 20m\tremaining: 5m 30s\n",
            "39300:\tlearn: 0.9988184\ttest: 0.9977560\tbest: 0.9977631 (38700)\ttotal: 20m 2s\tremaining: 5m 27s\n",
            "39400:\tlearn: 0.9988200\ttest: 0.9977595\tbest: 0.9977631 (38700)\ttotal: 20m 7s\tremaining: 5m 24s\n",
            "39500:\tlearn: 0.9988223\ttest: 0.9977631\tbest: 0.9977631 (38700)\ttotal: 20m 9s\tremaining: 5m 21s\n",
            "39600:\tlearn: 0.9988239\ttest: 0.9977595\tbest: 0.9977631 (38700)\ttotal: 20m 12s\tremaining: 5m 18s\n",
            "39700:\tlearn: 0.9988243\ttest: 0.9977701\tbest: 0.9977701 (39700)\ttotal: 20m 14s\tremaining: 5m 15s\n",
            "39800:\tlearn: 0.9988251\ttest: 0.9977737\tbest: 0.9977737 (39800)\ttotal: 20m 18s\tremaining: 5m 12s\n",
            "39900:\tlearn: 0.9988247\ttest: 0.9977737\tbest: 0.9977737 (39800)\ttotal: 20m 21s\tremaining: 5m 9s\n",
            "40000:\tlearn: 0.9988263\ttest: 0.9977737\tbest: 0.9977737 (39800)\ttotal: 20m 24s\tremaining: 5m 6s\n",
            "40100:\tlearn: 0.9988290\ttest: 0.9977772\tbest: 0.9977772 (40100)\ttotal: 20m 27s\tremaining: 5m 2s\n",
            "40200:\tlearn: 0.9988286\ttest: 0.9977842\tbest: 0.9977842 (40200)\ttotal: 20m 29s\tremaining: 4m 59s\n",
            "40300:\tlearn: 0.9988286\ttest: 0.9977772\tbest: 0.9977842 (40200)\ttotal: 20m 34s\tremaining: 4m 57s\n",
            "40400:\tlearn: 0.9988321\ttest: 0.9977701\tbest: 0.9977842 (40200)\ttotal: 20m 36s\tremaining: 4m 53s\n",
            "40500:\tlearn: 0.9988333\ttest: 0.9977772\tbest: 0.9977842 (40200)\ttotal: 20m 39s\tremaining: 4m 50s\n",
            "40600:\tlearn: 0.9988329\ttest: 0.9977701\tbest: 0.9977842 (40200)\ttotal: 20m 41s\tremaining: 4m 47s\n",
            "40700:\tlearn: 0.9988329\ttest: 0.9977772\tbest: 0.9977842 (40200)\ttotal: 20m 46s\tremaining: 4m 44s\n",
            "40800:\tlearn: 0.9988341\ttest: 0.9977737\tbest: 0.9977842 (40200)\ttotal: 20m 48s\tremaining: 4m 41s\n",
            "40900:\tlearn: 0.9988357\ttest: 0.9977737\tbest: 0.9977842 (40200)\ttotal: 20m 51s\tremaining: 4m 38s\n",
            "41000:\tlearn: 0.9988364\ttest: 0.9977737\tbest: 0.9977842 (40200)\ttotal: 20m 54s\tremaining: 4m 35s\n",
            "41100:\tlearn: 0.9988368\ttest: 0.9977772\tbest: 0.9977842 (40200)\ttotal: 20m 56s\tremaining: 4m 32s\n",
            "41200:\tlearn: 0.9988364\ttest: 0.9977772\tbest: 0.9977842 (40200)\ttotal: 21m 1s\tremaining: 4m 29s\n",
            "41300:\tlearn: 0.9988380\ttest: 0.9977772\tbest: 0.9977842 (40200)\ttotal: 21m 3s\tremaining: 4m 26s\n",
            "41400:\tlearn: 0.9988412\ttest: 0.9977701\tbest: 0.9977842 (40200)\ttotal: 21m 6s\tremaining: 4m 23s\n",
            "41500:\tlearn: 0.9988412\ttest: 0.9977701\tbest: 0.9977842 (40200)\ttotal: 21m 8s\tremaining: 4m 19s\n",
            "41600:\tlearn: 0.9988412\ttest: 0.9977772\tbest: 0.9977842 (40200)\ttotal: 21m 13s\tremaining: 4m 17s\n",
            "41700:\tlearn: 0.9988443\ttest: 0.9977772\tbest: 0.9977842 (40200)\ttotal: 21m 15s\tremaining: 4m 13s\n",
            "41800:\tlearn: 0.9988455\ttest: 0.9977807\tbest: 0.9977842 (40200)\ttotal: 21m 18s\tremaining: 4m 10s\n",
            "41900:\tlearn: 0.9988470\ttest: 0.9977772\tbest: 0.9977842 (40200)\ttotal: 21m 21s\tremaining: 4m 7s\n",
            "42000:\tlearn: 0.9988482\ttest: 0.9977842\tbest: 0.9977842 (40200)\ttotal: 21m 24s\tremaining: 4m 4s\n",
            "42100:\tlearn: 0.9988482\ttest: 0.9977807\tbest: 0.9977842 (40200)\ttotal: 21m 28s\tremaining: 4m 1s\n",
            "42200:\tlearn: 0.9988494\ttest: 0.9977807\tbest: 0.9977842 (40200)\ttotal: 21m 30s\tremaining: 3m 58s\n",
            "42300:\tlearn: 0.9988506\ttest: 0.9977878\tbest: 0.9977878 (42300)\ttotal: 21m 33s\tremaining: 3m 55s\n",
            "42400:\tlearn: 0.9988553\ttest: 0.9977878\tbest: 0.9977878 (42300)\ttotal: 21m 36s\tremaining: 3m 52s\n",
            "42500:\tlearn: 0.9988553\ttest: 0.9977878\tbest: 0.9977878 (42300)\ttotal: 21m 40s\tremaining: 3m 49s\n",
            "42600:\tlearn: 0.9988568\ttest: 0.9977984\tbest: 0.9977984 (42600)\ttotal: 21m 43s\tremaining: 3m 46s\n",
            "42700:\tlearn: 0.9988564\ttest: 0.9977948\tbest: 0.9977984 (42600)\ttotal: 21m 45s\tremaining: 3m 43s\n",
            "42800:\tlearn: 0.9988568\ttest: 0.9977878\tbest: 0.9977984 (42600)\ttotal: 21m 48s\tremaining: 3m 40s\n",
            "42900:\tlearn: 0.9988600\ttest: 0.9977878\tbest: 0.9977984 (42600)\ttotal: 21m 52s\tremaining: 3m 37s\n",
            "43000:\tlearn: 0.9988604\ttest: 0.9978019\tbest: 0.9978019 (43000)\ttotal: 21m 55s\tremaining: 3m 34s\n",
            "43100:\tlearn: 0.9988600\ttest: 0.9977948\tbest: 0.9978019 (43000)\ttotal: 21m 57s\tremaining: 3m 30s\n",
            "43200:\tlearn: 0.9988647\ttest: 0.9977948\tbest: 0.9978019 (43000)\ttotal: 22m\tremaining: 3m 27s\n",
            "43300:\tlearn: 0.9988658\ttest: 0.9977948\tbest: 0.9978019 (43000)\ttotal: 22m 3s\tremaining: 3m 24s\n",
            "43400:\tlearn: 0.9988651\ttest: 0.9977984\tbest: 0.9978019 (43000)\ttotal: 22m 7s\tremaining: 3m 21s\n",
            "43500:\tlearn: 0.9988651\ttest: 0.9977948\tbest: 0.9978019 (43000)\ttotal: 22m 9s\tremaining: 3m 18s\n",
            "43600:\tlearn: 0.9988686\ttest: 0.9977878\tbest: 0.9978019 (43000)\ttotal: 22m 12s\tremaining: 3m 15s\n",
            "43700:\tlearn: 0.9988686\ttest: 0.9977878\tbest: 0.9978019 (43000)\ttotal: 22m 15s\tremaining: 3m 12s\n",
            "43800:\tlearn: 0.9988702\ttest: 0.9977948\tbest: 0.9978019 (43000)\ttotal: 22m 19s\tremaining: 3m 9s\n",
            "43900:\tlearn: 0.9988717\ttest: 0.9977948\tbest: 0.9978019 (43000)\ttotal: 22m 22s\tremaining: 3m 6s\n",
            "44000:\tlearn: 0.9988709\ttest: 0.9977913\tbest: 0.9978019 (43000)\ttotal: 22m 24s\tremaining: 3m 3s\n",
            "44100:\tlearn: 0.9988717\ttest: 0.9977984\tbest: 0.9978019 (43000)\ttotal: 22m 27s\tremaining: 3m\n",
            "44200:\tlearn: 0.9988733\ttest: 0.9978019\tbest: 0.9978019 (43000)\ttotal: 22m 31s\tremaining: 2m 57s\n",
            "44300:\tlearn: 0.9988753\ttest: 0.9977984\tbest: 0.9978019 (43000)\ttotal: 22m 34s\tremaining: 2m 54s\n",
            "44400:\tlearn: 0.9988753\ttest: 0.9978019\tbest: 0.9978019 (43000)\ttotal: 22m 37s\tremaining: 2m 51s\n",
            "44500:\tlearn: 0.9988768\ttest: 0.9978019\tbest: 0.9978019 (43000)\ttotal: 22m 39s\tremaining: 2m 48s\n",
            "44600:\tlearn: 0.9988753\ttest: 0.9978054\tbest: 0.9978054 (44600)\ttotal: 22m 42s\tremaining: 2m 44s\n",
            "44700:\tlearn: 0.9988776\ttest: 0.9978054\tbest: 0.9978054 (44600)\ttotal: 22m 46s\tremaining: 2m 42s\n",
            "44800:\tlearn: 0.9988807\ttest: 0.9978054\tbest: 0.9978054 (44600)\ttotal: 22m 49s\tremaining: 2m 38s\n",
            "44900:\tlearn: 0.9988788\ttest: 0.9978089\tbest: 0.9978089 (44900)\ttotal: 22m 51s\tremaining: 2m 35s\n",
            "45000:\tlearn: 0.9988815\ttest: 0.9978019\tbest: 0.9978089 (44900)\ttotal: 22m 54s\tremaining: 2m 32s\n",
            "45100:\tlearn: 0.9988807\ttest: 0.9977984\tbest: 0.9978089 (44900)\ttotal: 22m 58s\tremaining: 2m 29s\n",
            "45200:\tlearn: 0.9988811\ttest: 0.9977984\tbest: 0.9978089 (44900)\ttotal: 23m 1s\tremaining: 2m 26s\n",
            "45300:\tlearn: 0.9988815\ttest: 0.9978019\tbest: 0.9978089 (44900)\ttotal: 23m 3s\tremaining: 2m 23s\n",
            "45400:\tlearn: 0.9988823\ttest: 0.9978054\tbest: 0.9978089 (44900)\ttotal: 23m 6s\tremaining: 2m 20s\n",
            "45500:\tlearn: 0.9988823\ttest: 0.9978089\tbest: 0.9978089 (44900)\ttotal: 23m 9s\tremaining: 2m 17s\n",
            "45600:\tlearn: 0.9988823\ttest: 0.9978125\tbest: 0.9978125 (45600)\ttotal: 23m 13s\tremaining: 2m 14s\n",
            "45700:\tlearn: 0.9988862\ttest: 0.9978089\tbest: 0.9978125 (45600)\ttotal: 23m 16s\tremaining: 2m 11s\n",
            "45800:\tlearn: 0.9988847\ttest: 0.9978089\tbest: 0.9978125 (45600)\ttotal: 23m 18s\tremaining: 2m 8s\n",
            "45900:\tlearn: 0.9988870\ttest: 0.9978089\tbest: 0.9978125 (45600)\ttotal: 23m 21s\tremaining: 2m 5s\n",
            "46000:\tlearn: 0.9988882\ttest: 0.9978089\tbest: 0.9978125 (45600)\ttotal: 23m 25s\tremaining: 2m 2s\n",
            "46100:\tlearn: 0.9988902\ttest: 0.9978089\tbest: 0.9978125 (45600)\ttotal: 23m 28s\tremaining: 1m 59s\n",
            "46200:\tlearn: 0.9988905\ttest: 0.9978089\tbest: 0.9978125 (45600)\ttotal: 23m 30s\tremaining: 1m 56s\n",
            "46300:\tlearn: 0.9988909\ttest: 0.9978125\tbest: 0.9978125 (45600)\ttotal: 23m 33s\tremaining: 1m 52s\n",
            "46400:\tlearn: 0.9988905\ttest: 0.9978089\tbest: 0.9978125 (45600)\ttotal: 23m 37s\tremaining: 1m 49s\n",
            "46500:\tlearn: 0.9988925\ttest: 0.9978125\tbest: 0.9978125 (45600)\ttotal: 23m 40s\tremaining: 1m 46s\n",
            "46600:\tlearn: 0.9988941\ttest: 0.9978160\tbest: 0.9978160 (46600)\ttotal: 23m 43s\tremaining: 1m 43s\n",
            "46700:\tlearn: 0.9988949\ttest: 0.9978160\tbest: 0.9978160 (46600)\ttotal: 23m 45s\tremaining: 1m 40s\n",
            "46800:\tlearn: 0.9988988\ttest: 0.9978195\tbest: 0.9978195 (46800)\ttotal: 23m 48s\tremaining: 1m 37s\n",
            "46900:\tlearn: 0.9989000\ttest: 0.9978160\tbest: 0.9978195 (46800)\ttotal: 23m 52s\tremaining: 1m 34s\n",
            "47000:\tlearn: 0.9989011\ttest: 0.9978160\tbest: 0.9978195 (46800)\ttotal: 23m 55s\tremaining: 1m 31s\n",
            "47100:\tlearn: 0.9989007\ttest: 0.9978089\tbest: 0.9978195 (46800)\ttotal: 23m 58s\tremaining: 1m 28s\n",
            "47200:\tlearn: 0.9989019\ttest: 0.9978160\tbest: 0.9978195 (46800)\ttotal: 24m\tremaining: 1m 25s\n",
            "47300:\tlearn: 0.9989051\ttest: 0.9978160\tbest: 0.9978195 (46800)\ttotal: 24m 4s\tremaining: 1m 22s\n",
            "47400:\tlearn: 0.9989051\ttest: 0.9978195\tbest: 0.9978195 (46800)\ttotal: 24m 7s\tremaining: 1m 19s\n",
            "47500:\tlearn: 0.9989074\ttest: 0.9978195\tbest: 0.9978195 (46800)\ttotal: 24m 10s\tremaining: 1m 16s\n",
            "47600:\tlearn: 0.9989066\ttest: 0.9978089\tbest: 0.9978195 (46800)\ttotal: 24m 12s\tremaining: 1m 13s\n",
            "47700:\tlearn: 0.9989074\ttest: 0.9978195\tbest: 0.9978195 (46800)\ttotal: 24m 16s\tremaining: 1m 10s\n",
            "47800:\tlearn: 0.9989086\ttest: 0.9978125\tbest: 0.9978195 (46800)\ttotal: 24m 19s\tremaining: 1m 7s\n",
            "47900:\tlearn: 0.9989086\ttest: 0.9978266\tbest: 0.9978266 (47900)\ttotal: 24m 22s\tremaining: 1m 4s\n",
            "48000:\tlearn: 0.9989098\ttest: 0.9978266\tbest: 0.9978266 (47900)\ttotal: 24m 24s\tremaining: 1m\n",
            "48100:\tlearn: 0.9989117\ttest: 0.9978301\tbest: 0.9978301 (48100)\ttotal: 24m 27s\tremaining: 57.9s\n",
            "48200:\tlearn: 0.9989129\ttest: 0.9978301\tbest: 0.9978301 (48100)\ttotal: 24m 31s\tremaining: 54.9s\n",
            "48300:\tlearn: 0.9989152\ttest: 0.9978336\tbest: 0.9978336 (48300)\ttotal: 24m 34s\tremaining: 51.9s\n",
            "48400:\tlearn: 0.9989152\ttest: 0.9978301\tbest: 0.9978336 (48300)\ttotal: 24m 36s\tremaining: 48.8s\n",
            "48500:\tlearn: 0.9989149\ttest: 0.9978301\tbest: 0.9978336 (48300)\ttotal: 24m 39s\tremaining: 45.7s\n",
            "48600:\tlearn: 0.9989172\ttest: 0.9978230\tbest: 0.9978336 (48300)\ttotal: 24m 43s\tremaining: 42.7s\n",
            "48700:\tlearn: 0.9989180\ttest: 0.9978301\tbest: 0.9978336 (48300)\ttotal: 24m 46s\tremaining: 39.6s\n",
            "48800:\tlearn: 0.9989184\ttest: 0.9978301\tbest: 0.9978336 (48300)\ttotal: 24m 48s\tremaining: 36.6s\n",
            "48900:\tlearn: 0.9989188\ttest: 0.9978230\tbest: 0.9978336 (48300)\ttotal: 24m 51s\tremaining: 33.5s\n",
            "49000:\tlearn: 0.9989192\ttest: 0.9978230\tbest: 0.9978336 (48300)\ttotal: 24m 54s\tremaining: 30.5s\n",
            "49100:\tlearn: 0.9989196\ttest: 0.9978266\tbest: 0.9978336 (48300)\ttotal: 24m 58s\tremaining: 27.4s\n",
            "49200:\tlearn: 0.9989211\ttest: 0.9978230\tbest: 0.9978336 (48300)\ttotal: 25m\tremaining: 24.4s\n",
            "49300:\tlearn: 0.9989219\ttest: 0.9978266\tbest: 0.9978336 (48300)\ttotal: 25m 3s\tremaining: 21.3s\n",
            "49400:\tlearn: 0.9989227\ttest: 0.9978301\tbest: 0.9978336 (48300)\ttotal: 25m 5s\tremaining: 18.3s\n",
            "49500:\tlearn: 0.9989247\ttest: 0.9978336\tbest: 0.9978336 (48300)\ttotal: 25m 10s\tremaining: 15.2s\n",
            "49600:\tlearn: 0.9989247\ttest: 0.9978372\tbest: 0.9978372 (49600)\ttotal: 25m 12s\tremaining: 12.2s\n",
            "49700:\tlearn: 0.9989254\ttest: 0.9978372\tbest: 0.9978372 (49600)\ttotal: 25m 15s\tremaining: 9.12s\n",
            "49800:\tlearn: 0.9989278\ttest: 0.9978372\tbest: 0.9978372 (49600)\ttotal: 25m 18s\tremaining: 6.07s\n",
            "49900:\tlearn: 0.9989290\ttest: 0.9978372\tbest: 0.9978372 (49600)\ttotal: 25m 21s\tremaining: 3.02s\n",
            "49999:\tlearn: 0.9989290\ttest: 0.9978372\tbest: 0.9978372 (49600)\ttotal: 25m 25s\tremaining: 0us\n",
            "bestTest = 0.9978371627\n",
            "bestIteration = 49600\n",
            "Shrink model to first 49601 iterations.\n"
          ]
        },
        {
          "output_type": "execute_result",
          "data": {
            "text/plain": [
              "<catboost.core.CatBoostClassifier at 0x7d5595057c10>"
            ]
          },
          "metadata": {},
          "execution_count": 33
        }
      ],
      "source": [
        "model = CatBoostClassifier(iterations = 50000,\n",
        "                                            random_state = 69,\n",
        "                                            loss_function  = \"MultiClass\",\n",
        "                                            eval_metric= 'Accuracy',\n",
        "                                            cat_features = cat_cols,\n",
        "                                            metric_period=100,\n",
        "                                            task_type = 'GPU'\n",
        "                                            )\n",
        "\n",
        "model.fit(X_train, y_train, plot=True, eval_set = (X_test, y_test))"
      ]
    },
    {
      "cell_type": "code",
      "source": [
        "model.get_feature_importance(prettified=True)"
      ],
      "metadata": {
        "colab": {
          "base_uri": "https://localhost:8080/",
          "height": 519
        },
        "id": "jy8HlsPfl1U3",
        "outputId": "c088c271-00d8-4206-c489-534726171752"
      },
      "execution_count": 34,
      "outputs": [
        {
          "output_type": "execute_result",
          "data": {
            "text/plain": [
              "                                Feature Id  Importances\n",
              "0               Электросистема. Напряжение    24.613057\n",
              "1    ДВС. Температура охлаждающей жидкости    11.264609\n",
              "2                   КПП. Температура масла     9.729970\n",
              "3                     Полож.пед.акселер.,%     9.218025\n",
              "4     КПП. Давление масла в системе смазки     9.029200\n",
              "5     Значение счетчика моточасов, час:мин     8.972413\n",
              "6   Давление в пневмостистеме (spn46), кПа     7.963685\n",
              "7   ДВС. Частота вращения коленчатого вала     5.222944\n",
              "8                     ДВС. Давление смазки     4.144133\n",
              "9                                 Скорость     3.523335\n",
              "10                       Обор.двиг.,об/мин     3.405608\n",
              "11                    Давл.масла двиг.,кПа     2.508649\n",
              "12                     Темп.масла двиг.,°С     0.336934\n",
              "13               Уровень топлива % (spn96)     0.067439\n",
              "14                         Сост.пед.сцепл.     0.000000"
            ],
            "text/html": [
              "\n",
              "  <div id=\"df-e9515d12-8279-4428-90d7-c5f14f973f7e\" class=\"colab-df-container\">\n",
              "    <div>\n",
              "<style scoped>\n",
              "    .dataframe tbody tr th:only-of-type {\n",
              "        vertical-align: middle;\n",
              "    }\n",
              "\n",
              "    .dataframe tbody tr th {\n",
              "        vertical-align: top;\n",
              "    }\n",
              "\n",
              "    .dataframe thead th {\n",
              "        text-align: right;\n",
              "    }\n",
              "</style>\n",
              "<table border=\"1\" class=\"dataframe\">\n",
              "  <thead>\n",
              "    <tr style=\"text-align: right;\">\n",
              "      <th></th>\n",
              "      <th>Feature Id</th>\n",
              "      <th>Importances</th>\n",
              "    </tr>\n",
              "  </thead>\n",
              "  <tbody>\n",
              "    <tr>\n",
              "      <th>0</th>\n",
              "      <td>Электросистема. Напряжение</td>\n",
              "      <td>24.613057</td>\n",
              "    </tr>\n",
              "    <tr>\n",
              "      <th>1</th>\n",
              "      <td>ДВС. Температура охлаждающей жидкости</td>\n",
              "      <td>11.264609</td>\n",
              "    </tr>\n",
              "    <tr>\n",
              "      <th>2</th>\n",
              "      <td>КПП. Температура масла</td>\n",
              "      <td>9.729970</td>\n",
              "    </tr>\n",
              "    <tr>\n",
              "      <th>3</th>\n",
              "      <td>Полож.пед.акселер.,%</td>\n",
              "      <td>9.218025</td>\n",
              "    </tr>\n",
              "    <tr>\n",
              "      <th>4</th>\n",
              "      <td>КПП. Давление масла в системе смазки</td>\n",
              "      <td>9.029200</td>\n",
              "    </tr>\n",
              "    <tr>\n",
              "      <th>5</th>\n",
              "      <td>Значение счетчика моточасов, час:мин</td>\n",
              "      <td>8.972413</td>\n",
              "    </tr>\n",
              "    <tr>\n",
              "      <th>6</th>\n",
              "      <td>Давление в пневмостистеме (spn46), кПа</td>\n",
              "      <td>7.963685</td>\n",
              "    </tr>\n",
              "    <tr>\n",
              "      <th>7</th>\n",
              "      <td>ДВС. Частота вращения коленчатого вала</td>\n",
              "      <td>5.222944</td>\n",
              "    </tr>\n",
              "    <tr>\n",
              "      <th>8</th>\n",
              "      <td>ДВС. Давление смазки</td>\n",
              "      <td>4.144133</td>\n",
              "    </tr>\n",
              "    <tr>\n",
              "      <th>9</th>\n",
              "      <td>Скорость</td>\n",
              "      <td>3.523335</td>\n",
              "    </tr>\n",
              "    <tr>\n",
              "      <th>10</th>\n",
              "      <td>Обор.двиг.,об/мин</td>\n",
              "      <td>3.405608</td>\n",
              "    </tr>\n",
              "    <tr>\n",
              "      <th>11</th>\n",
              "      <td>Давл.масла двиг.,кПа</td>\n",
              "      <td>2.508649</td>\n",
              "    </tr>\n",
              "    <tr>\n",
              "      <th>12</th>\n",
              "      <td>Темп.масла двиг.,°С</td>\n",
              "      <td>0.336934</td>\n",
              "    </tr>\n",
              "    <tr>\n",
              "      <th>13</th>\n",
              "      <td>Уровень топлива % (spn96)</td>\n",
              "      <td>0.067439</td>\n",
              "    </tr>\n",
              "    <tr>\n",
              "      <th>14</th>\n",
              "      <td>Сост.пед.сцепл.</td>\n",
              "      <td>0.000000</td>\n",
              "    </tr>\n",
              "  </tbody>\n",
              "</table>\n",
              "</div>\n",
              "    <div class=\"colab-df-buttons\">\n",
              "\n",
              "  <div class=\"colab-df-container\">\n",
              "    <button class=\"colab-df-convert\" onclick=\"convertToInteractive('df-e9515d12-8279-4428-90d7-c5f14f973f7e')\"\n",
              "            title=\"Convert this dataframe to an interactive table.\"\n",
              "            style=\"display:none;\">\n",
              "\n",
              "  <svg xmlns=\"http://www.w3.org/2000/svg\" height=\"24px\" viewBox=\"0 -960 960 960\">\n",
              "    <path d=\"M120-120v-720h720v720H120Zm60-500h600v-160H180v160Zm220 220h160v-160H400v160Zm0 220h160v-160H400v160ZM180-400h160v-160H180v160Zm440 0h160v-160H620v160ZM180-180h160v-160H180v160Zm440 0h160v-160H620v160Z\"/>\n",
              "  </svg>\n",
              "    </button>\n",
              "\n",
              "  <style>\n",
              "    .colab-df-container {\n",
              "      display:flex;\n",
              "      gap: 12px;\n",
              "    }\n",
              "\n",
              "    .colab-df-convert {\n",
              "      background-color: #E8F0FE;\n",
              "      border: none;\n",
              "      border-radius: 50%;\n",
              "      cursor: pointer;\n",
              "      display: none;\n",
              "      fill: #1967D2;\n",
              "      height: 32px;\n",
              "      padding: 0 0 0 0;\n",
              "      width: 32px;\n",
              "    }\n",
              "\n",
              "    .colab-df-convert:hover {\n",
              "      background-color: #E2EBFA;\n",
              "      box-shadow: 0px 1px 2px rgba(60, 64, 67, 0.3), 0px 1px 3px 1px rgba(60, 64, 67, 0.15);\n",
              "      fill: #174EA6;\n",
              "    }\n",
              "\n",
              "    .colab-df-buttons div {\n",
              "      margin-bottom: 4px;\n",
              "    }\n",
              "\n",
              "    [theme=dark] .colab-df-convert {\n",
              "      background-color: #3B4455;\n",
              "      fill: #D2E3FC;\n",
              "    }\n",
              "\n",
              "    [theme=dark] .colab-df-convert:hover {\n",
              "      background-color: #434B5C;\n",
              "      box-shadow: 0px 1px 3px 1px rgba(0, 0, 0, 0.15);\n",
              "      filter: drop-shadow(0px 1px 2px rgba(0, 0, 0, 0.3));\n",
              "      fill: #FFFFFF;\n",
              "    }\n",
              "  </style>\n",
              "\n",
              "    <script>\n",
              "      const buttonEl =\n",
              "        document.querySelector('#df-e9515d12-8279-4428-90d7-c5f14f973f7e button.colab-df-convert');\n",
              "      buttonEl.style.display =\n",
              "        google.colab.kernel.accessAllowed ? 'block' : 'none';\n",
              "\n",
              "      async function convertToInteractive(key) {\n",
              "        const element = document.querySelector('#df-e9515d12-8279-4428-90d7-c5f14f973f7e');\n",
              "        const dataTable =\n",
              "          await google.colab.kernel.invokeFunction('convertToInteractive',\n",
              "                                                    [key], {});\n",
              "        if (!dataTable) return;\n",
              "\n",
              "        const docLinkHtml = 'Like what you see? Visit the ' +\n",
              "          '<a target=\"_blank\" href=https://colab.research.google.com/notebooks/data_table.ipynb>data table notebook</a>'\n",
              "          + ' to learn more about interactive tables.';\n",
              "        element.innerHTML = '';\n",
              "        dataTable['output_type'] = 'display_data';\n",
              "        await google.colab.output.renderOutput(dataTable, element);\n",
              "        const docLink = document.createElement('div');\n",
              "        docLink.innerHTML = docLinkHtml;\n",
              "        element.appendChild(docLink);\n",
              "      }\n",
              "    </script>\n",
              "  </div>\n",
              "\n",
              "\n",
              "<div id=\"df-19e29697-9adf-4e6b-97b7-a66e4c81297f\">\n",
              "  <button class=\"colab-df-quickchart\" onclick=\"quickchart('df-19e29697-9adf-4e6b-97b7-a66e4c81297f')\"\n",
              "            title=\"Suggest charts\"\n",
              "            style=\"display:none;\">\n",
              "\n",
              "<svg xmlns=\"http://www.w3.org/2000/svg\" height=\"24px\"viewBox=\"0 0 24 24\"\n",
              "     width=\"24px\">\n",
              "    <g>\n",
              "        <path d=\"M19 3H5c-1.1 0-2 .9-2 2v14c0 1.1.9 2 2 2h14c1.1 0 2-.9 2-2V5c0-1.1-.9-2-2-2zM9 17H7v-7h2v7zm4 0h-2V7h2v10zm4 0h-2v-4h2v4z\"/>\n",
              "    </g>\n",
              "</svg>\n",
              "  </button>\n",
              "\n",
              "<style>\n",
              "  .colab-df-quickchart {\n",
              "      --bg-color: #E8F0FE;\n",
              "      --fill-color: #1967D2;\n",
              "      --hover-bg-color: #E2EBFA;\n",
              "      --hover-fill-color: #174EA6;\n",
              "      --disabled-fill-color: #AAA;\n",
              "      --disabled-bg-color: #DDD;\n",
              "  }\n",
              "\n",
              "  [theme=dark] .colab-df-quickchart {\n",
              "      --bg-color: #3B4455;\n",
              "      --fill-color: #D2E3FC;\n",
              "      --hover-bg-color: #434B5C;\n",
              "      --hover-fill-color: #FFFFFF;\n",
              "      --disabled-bg-color: #3B4455;\n",
              "      --disabled-fill-color: #666;\n",
              "  }\n",
              "\n",
              "  .colab-df-quickchart {\n",
              "    background-color: var(--bg-color);\n",
              "    border: none;\n",
              "    border-radius: 50%;\n",
              "    cursor: pointer;\n",
              "    display: none;\n",
              "    fill: var(--fill-color);\n",
              "    height: 32px;\n",
              "    padding: 0;\n",
              "    width: 32px;\n",
              "  }\n",
              "\n",
              "  .colab-df-quickchart:hover {\n",
              "    background-color: var(--hover-bg-color);\n",
              "    box-shadow: 0 1px 2px rgba(60, 64, 67, 0.3), 0 1px 3px 1px rgba(60, 64, 67, 0.15);\n",
              "    fill: var(--button-hover-fill-color);\n",
              "  }\n",
              "\n",
              "  .colab-df-quickchart-complete:disabled,\n",
              "  .colab-df-quickchart-complete:disabled:hover {\n",
              "    background-color: var(--disabled-bg-color);\n",
              "    fill: var(--disabled-fill-color);\n",
              "    box-shadow: none;\n",
              "  }\n",
              "\n",
              "  .colab-df-spinner {\n",
              "    border: 2px solid var(--fill-color);\n",
              "    border-color: transparent;\n",
              "    border-bottom-color: var(--fill-color);\n",
              "    animation:\n",
              "      spin 1s steps(1) infinite;\n",
              "  }\n",
              "\n",
              "  @keyframes spin {\n",
              "    0% {\n",
              "      border-color: transparent;\n",
              "      border-bottom-color: var(--fill-color);\n",
              "      border-left-color: var(--fill-color);\n",
              "    }\n",
              "    20% {\n",
              "      border-color: transparent;\n",
              "      border-left-color: var(--fill-color);\n",
              "      border-top-color: var(--fill-color);\n",
              "    }\n",
              "    30% {\n",
              "      border-color: transparent;\n",
              "      border-left-color: var(--fill-color);\n",
              "      border-top-color: var(--fill-color);\n",
              "      border-right-color: var(--fill-color);\n",
              "    }\n",
              "    40% {\n",
              "      border-color: transparent;\n",
              "      border-right-color: var(--fill-color);\n",
              "      border-top-color: var(--fill-color);\n",
              "    }\n",
              "    60% {\n",
              "      border-color: transparent;\n",
              "      border-right-color: var(--fill-color);\n",
              "    }\n",
              "    80% {\n",
              "      border-color: transparent;\n",
              "      border-right-color: var(--fill-color);\n",
              "      border-bottom-color: var(--fill-color);\n",
              "    }\n",
              "    90% {\n",
              "      border-color: transparent;\n",
              "      border-bottom-color: var(--fill-color);\n",
              "    }\n",
              "  }\n",
              "</style>\n",
              "\n",
              "  <script>\n",
              "    async function quickchart(key) {\n",
              "      const quickchartButtonEl =\n",
              "        document.querySelector('#' + key + ' button');\n",
              "      quickchartButtonEl.disabled = true;  // To prevent multiple clicks.\n",
              "      quickchartButtonEl.classList.add('colab-df-spinner');\n",
              "      try {\n",
              "        const charts = await google.colab.kernel.invokeFunction(\n",
              "            'suggestCharts', [key], {});\n",
              "      } catch (error) {\n",
              "        console.error('Error during call to suggestCharts:', error);\n",
              "      }\n",
              "      quickchartButtonEl.classList.remove('colab-df-spinner');\n",
              "      quickchartButtonEl.classList.add('colab-df-quickchart-complete');\n",
              "    }\n",
              "    (() => {\n",
              "      let quickchartButtonEl =\n",
              "        document.querySelector('#df-19e29697-9adf-4e6b-97b7-a66e4c81297f button');\n",
              "      quickchartButtonEl.style.display =\n",
              "        google.colab.kernel.accessAllowed ? 'block' : 'none';\n",
              "    })();\n",
              "  </script>\n",
              "</div>\n",
              "    </div>\n",
              "  </div>\n"
            ],
            "application/vnd.google.colaboratory.intrinsic+json": {
              "type": "dataframe",
              "summary": "{\n  \"name\": \"model\",\n  \"rows\": 15,\n  \"fields\": [\n    {\n      \"column\": \"Feature Id\",\n      \"properties\": {\n        \"dtype\": \"string\",\n        \"num_unique_values\": 15,\n        \"samples\": [\n          \"\\u0421\\u043a\\u043e\\u0440\\u043e\\u0441\\u0442\\u044c\",\n          \"\\u0414\\u0430\\u0432\\u043b.\\u043c\\u0430\\u0441\\u043b\\u0430 \\u0434\\u0432\\u0438\\u0433.,\\u043a\\u041f\\u0430\",\n          \"\\u042d\\u043b\\u0435\\u043a\\u0442\\u0440\\u043e\\u0441\\u0438\\u0441\\u0442\\u0435\\u043c\\u0430. \\u041d\\u0430\\u043f\\u0440\\u044f\\u0436\\u0435\\u043d\\u0438\\u0435\"\n        ],\n        \"semantic_type\": \"\",\n        \"description\": \"\"\n      }\n    },\n    {\n      \"column\": \"Importances\",\n      \"properties\": {\n        \"dtype\": \"number\",\n        \"std\": 6.244992095991776,\n        \"min\": 0.0,\n        \"max\": 24.613056972318837,\n        \"num_unique_values\": 15,\n        \"samples\": [\n          3.523334606678383,\n          2.508648510708203,\n          24.613056972318837\n        ],\n        \"semantic_type\": \"\",\n        \"description\": \"\"\n      }\n    }\n  ]\n}"
            }
          },
          "metadata": {},
          "execution_count": 34
        }
      ]
    },
    {
      "cell_type": "code",
      "source": [
        "model.save_model('model.cbm', format=\"cbm\")"
      ],
      "metadata": {
        "id": "2ufSFpjLmdkM"
      },
      "execution_count": 35,
      "outputs": []
    },
    {
      "cell_type": "code",
      "source": [
        "X_test['result'] = model.predict(X_test)"
      ],
      "metadata": {
        "id": "q6zORyscmj-w"
      },
      "execution_count": 36,
      "outputs": []
    },
    {
      "cell_type": "code",
      "source": [
        "X_test['result_true'] = y_test"
      ],
      "metadata": {
        "id": "aCXzyqb7ncrD"
      },
      "execution_count": 37,
      "outputs": []
    },
    {
      "cell_type": "code",
      "source": [
        "X_test"
      ],
      "metadata": {
        "colab": {
          "base_uri": "https://localhost:8080/",
          "height": 513
        },
        "id": "gr-2fbRtns-j",
        "outputId": "b717482e-c571-4a30-b452-4a4b051a1f82"
      },
      "execution_count": 38,
      "outputs": [
        {
          "output_type": "execute_result",
          "data": {
            "text/plain": [
              "         Полож.пед.акселер.,%  Давл.масла двиг.,кПа  Темп.масла двиг.,°С  \\\n",
              "1366103                   0.0                 260.0                  NaN   \n",
              "120095                    0.0                 328.0                  NaN   \n",
              "74306                    94.8                 508.0                  NaN   \n",
              "1277480                  94.8                 460.0                  NaN   \n",
              "1796794                  94.8                 500.0                  NaN   \n",
              "...                       ...                   ...                  ...   \n",
              "1854601                  56.4                 412.0                  NaN   \n",
              "1054544                   0.0                 240.0                  NaN   \n",
              "299541                    0.0                 188.0                  NaN   \n",
              "252207                    0.0                 240.0                  NaN   \n",
              "1741218                   0.0                 140.0                  NaN   \n",
              "\n",
              "         Обор.двиг.,об/мин  Значение счетчика моточасов, час:мин  \\\n",
              "1366103            955.375                                   NaN   \n",
              "120095            1385.000                               16618.0   \n",
              "74306             1914.750                               53730.0   \n",
              "1277480           1924.125                                   NaN   \n",
              "1796794           1903.875                              287954.0   \n",
              "...                    ...                                   ...   \n",
              "1854601           1437.750                              295936.0   \n",
              "1054544            970.750                                   NaN   \n",
              "299541             701.125                              338000.0   \n",
              "252207             647.500                                   NaN   \n",
              "1741218            651.625                              334600.0   \n",
              "\n",
              "        Сост.пед.сцепл.  КПП. Температура масла  \\\n",
              "1366103             1.0                     NaN   \n",
              "120095              1.0                     NaN   \n",
              "74306               1.0                     NaN   \n",
              "1277480             1.0                     NaN   \n",
              "1796794             1.0                     NaN   \n",
              "...                 ...                     ...   \n",
              "1854601             1.0                     NaN   \n",
              "1054544             1.0                     NaN   \n",
              "299541              1.0                     NaN   \n",
              "252207              1.0                     NaN   \n",
              "1741218             1.0                     NaN   \n",
              "\n",
              "         КПП. Давление масла в системе смазки  Скорость  ДВС. Давление смазки  \\\n",
              "1366103                                1248.0       0.0                 260.0   \n",
              "120095                                 1216.0       0.0                 328.0   \n",
              "74306                                  1200.0       0.0                 508.0   \n",
              "1277480                                1280.0      10.5                 460.0   \n",
              "1796794                                1248.0       0.0                 500.0   \n",
              "...                                       ...       ...                   ...   \n",
              "1854601                                1216.0       0.0                 412.0   \n",
              "1054544                                1248.0       0.0                 240.0   \n",
              "299541                                 1200.0       0.0                 188.0   \n",
              "252207                                 1200.0       NaN                 240.0   \n",
              "1741218                                1216.0       0.0                 140.0   \n",
              "\n",
              "         ДВС. Температура охлаждающей жидкости  \\\n",
              "1366103                                   72.0   \n",
              "120095                                    84.0   \n",
              "74306                                     81.0   \n",
              "1277480                                   75.0   \n",
              "1796794                                   77.0   \n",
              "...                                        ...   \n",
              "1854601                                   76.0   \n",
              "1054544                                   72.0   \n",
              "299541                                    64.0   \n",
              "252207                                    57.0   \n",
              "1741218                                   73.0   \n",
              "\n",
              "         Давление в пневмостистеме (spn46), кПа  Уровень топлива % (spn96)  \\\n",
              "1366103                                   768.0                        NaN   \n",
              "120095                                    824.0                        NaN   \n",
              "74306                                     808.0                        NaN   \n",
              "1277480                                   760.0                        NaN   \n",
              "1796794                                   696.0                        NaN   \n",
              "...                                         ...                        ...   \n",
              "1854601                                   720.0                        NaN   \n",
              "1054544                                   600.0                        NaN   \n",
              "299541                                    784.0                        NaN   \n",
              "252207                                    776.0                        NaN   \n",
              "1741218                                   696.0                        NaN   \n",
              "\n",
              "         Электросистема. Напряжение  ДВС. Частота вращения коленчатого вала  \\\n",
              "1366103                       28.20                                 955.375   \n",
              "120095                        27.80                                1385.000   \n",
              "74306                           NaN                                1914.750   \n",
              "1277480                         NaN                                1924.125   \n",
              "1796794                       27.95                                1903.875   \n",
              "...                             ...                                     ...   \n",
              "1854601                       28.00                                1437.750   \n",
              "1054544                       28.00                                 970.750   \n",
              "299541                        28.10                                 701.125   \n",
              "252207                          NaN                                 647.500   \n",
              "1741218                       28.05                                 651.625   \n",
              "\n",
              "         result  result_true  \n",
              "1366103       2            2  \n",
              "120095        1            1  \n",
              "74306         1            1  \n",
              "1277480       2            2  \n",
              "1796794       2            2  \n",
              "...         ...          ...  \n",
              "1854601       2            2  \n",
              "1054544       2            2  \n",
              "299541        1            1  \n",
              "252207        1            1  \n",
              "1741218       2            2  \n",
              "\n",
              "[283424 rows x 17 columns]"
            ],
            "text/html": [
              "\n",
              "  <div id=\"df-78eda349-e361-4c58-b569-4ac27f04db56\" class=\"colab-df-container\">\n",
              "    <div>\n",
              "<style scoped>\n",
              "    .dataframe tbody tr th:only-of-type {\n",
              "        vertical-align: middle;\n",
              "    }\n",
              "\n",
              "    .dataframe tbody tr th {\n",
              "        vertical-align: top;\n",
              "    }\n",
              "\n",
              "    .dataframe thead th {\n",
              "        text-align: right;\n",
              "    }\n",
              "</style>\n",
              "<table border=\"1\" class=\"dataframe\">\n",
              "  <thead>\n",
              "    <tr style=\"text-align: right;\">\n",
              "      <th></th>\n",
              "      <th>Полож.пед.акселер.,%</th>\n",
              "      <th>Давл.масла двиг.,кПа</th>\n",
              "      <th>Темп.масла двиг.,°С</th>\n",
              "      <th>Обор.двиг.,об/мин</th>\n",
              "      <th>Значение счетчика моточасов, час:мин</th>\n",
              "      <th>Сост.пед.сцепл.</th>\n",
              "      <th>КПП. Температура масла</th>\n",
              "      <th>КПП. Давление масла в системе смазки</th>\n",
              "      <th>Скорость</th>\n",
              "      <th>ДВС. Давление смазки</th>\n",
              "      <th>ДВС. Температура охлаждающей жидкости</th>\n",
              "      <th>Давление в пневмостистеме (spn46), кПа</th>\n",
              "      <th>Уровень топлива % (spn96)</th>\n",
              "      <th>Электросистема. Напряжение</th>\n",
              "      <th>ДВС. Частота вращения коленчатого вала</th>\n",
              "      <th>result</th>\n",
              "      <th>result_true</th>\n",
              "    </tr>\n",
              "  </thead>\n",
              "  <tbody>\n",
              "    <tr>\n",
              "      <th>1366103</th>\n",
              "      <td>0.0</td>\n",
              "      <td>260.0</td>\n",
              "      <td>NaN</td>\n",
              "      <td>955.375</td>\n",
              "      <td>NaN</td>\n",
              "      <td>1.0</td>\n",
              "      <td>NaN</td>\n",
              "      <td>1248.0</td>\n",
              "      <td>0.0</td>\n",
              "      <td>260.0</td>\n",
              "      <td>72.0</td>\n",
              "      <td>768.0</td>\n",
              "      <td>NaN</td>\n",
              "      <td>28.20</td>\n",
              "      <td>955.375</td>\n",
              "      <td>2</td>\n",
              "      <td>2</td>\n",
              "    </tr>\n",
              "    <tr>\n",
              "      <th>120095</th>\n",
              "      <td>0.0</td>\n",
              "      <td>328.0</td>\n",
              "      <td>NaN</td>\n",
              "      <td>1385.000</td>\n",
              "      <td>16618.0</td>\n",
              "      <td>1.0</td>\n",
              "      <td>NaN</td>\n",
              "      <td>1216.0</td>\n",
              "      <td>0.0</td>\n",
              "      <td>328.0</td>\n",
              "      <td>84.0</td>\n",
              "      <td>824.0</td>\n",
              "      <td>NaN</td>\n",
              "      <td>27.80</td>\n",
              "      <td>1385.000</td>\n",
              "      <td>1</td>\n",
              "      <td>1</td>\n",
              "    </tr>\n",
              "    <tr>\n",
              "      <th>74306</th>\n",
              "      <td>94.8</td>\n",
              "      <td>508.0</td>\n",
              "      <td>NaN</td>\n",
              "      <td>1914.750</td>\n",
              "      <td>53730.0</td>\n",
              "      <td>1.0</td>\n",
              "      <td>NaN</td>\n",
              "      <td>1200.0</td>\n",
              "      <td>0.0</td>\n",
              "      <td>508.0</td>\n",
              "      <td>81.0</td>\n",
              "      <td>808.0</td>\n",
              "      <td>NaN</td>\n",
              "      <td>NaN</td>\n",
              "      <td>1914.750</td>\n",
              "      <td>1</td>\n",
              "      <td>1</td>\n",
              "    </tr>\n",
              "    <tr>\n",
              "      <th>1277480</th>\n",
              "      <td>94.8</td>\n",
              "      <td>460.0</td>\n",
              "      <td>NaN</td>\n",
              "      <td>1924.125</td>\n",
              "      <td>NaN</td>\n",
              "      <td>1.0</td>\n",
              "      <td>NaN</td>\n",
              "      <td>1280.0</td>\n",
              "      <td>10.5</td>\n",
              "      <td>460.0</td>\n",
              "      <td>75.0</td>\n",
              "      <td>760.0</td>\n",
              "      <td>NaN</td>\n",
              "      <td>NaN</td>\n",
              "      <td>1924.125</td>\n",
              "      <td>2</td>\n",
              "      <td>2</td>\n",
              "    </tr>\n",
              "    <tr>\n",
              "      <th>1796794</th>\n",
              "      <td>94.8</td>\n",
              "      <td>500.0</td>\n",
              "      <td>NaN</td>\n",
              "      <td>1903.875</td>\n",
              "      <td>287954.0</td>\n",
              "      <td>1.0</td>\n",
              "      <td>NaN</td>\n",
              "      <td>1248.0</td>\n",
              "      <td>0.0</td>\n",
              "      <td>500.0</td>\n",
              "      <td>77.0</td>\n",
              "      <td>696.0</td>\n",
              "      <td>NaN</td>\n",
              "      <td>27.95</td>\n",
              "      <td>1903.875</td>\n",
              "      <td>2</td>\n",
              "      <td>2</td>\n",
              "    </tr>\n",
              "    <tr>\n",
              "      <th>...</th>\n",
              "      <td>...</td>\n",
              "      <td>...</td>\n",
              "      <td>...</td>\n",
              "      <td>...</td>\n",
              "      <td>...</td>\n",
              "      <td>...</td>\n",
              "      <td>...</td>\n",
              "      <td>...</td>\n",
              "      <td>...</td>\n",
              "      <td>...</td>\n",
              "      <td>...</td>\n",
              "      <td>...</td>\n",
              "      <td>...</td>\n",
              "      <td>...</td>\n",
              "      <td>...</td>\n",
              "      <td>...</td>\n",
              "      <td>...</td>\n",
              "    </tr>\n",
              "    <tr>\n",
              "      <th>1854601</th>\n",
              "      <td>56.4</td>\n",
              "      <td>412.0</td>\n",
              "      <td>NaN</td>\n",
              "      <td>1437.750</td>\n",
              "      <td>295936.0</td>\n",
              "      <td>1.0</td>\n",
              "      <td>NaN</td>\n",
              "      <td>1216.0</td>\n",
              "      <td>0.0</td>\n",
              "      <td>412.0</td>\n",
              "      <td>76.0</td>\n",
              "      <td>720.0</td>\n",
              "      <td>NaN</td>\n",
              "      <td>28.00</td>\n",
              "      <td>1437.750</td>\n",
              "      <td>2</td>\n",
              "      <td>2</td>\n",
              "    </tr>\n",
              "    <tr>\n",
              "      <th>1054544</th>\n",
              "      <td>0.0</td>\n",
              "      <td>240.0</td>\n",
              "      <td>NaN</td>\n",
              "      <td>970.750</td>\n",
              "      <td>NaN</td>\n",
              "      <td>1.0</td>\n",
              "      <td>NaN</td>\n",
              "      <td>1248.0</td>\n",
              "      <td>0.0</td>\n",
              "      <td>240.0</td>\n",
              "      <td>72.0</td>\n",
              "      <td>600.0</td>\n",
              "      <td>NaN</td>\n",
              "      <td>28.00</td>\n",
              "      <td>970.750</td>\n",
              "      <td>2</td>\n",
              "      <td>2</td>\n",
              "    </tr>\n",
              "    <tr>\n",
              "      <th>299541</th>\n",
              "      <td>0.0</td>\n",
              "      <td>188.0</td>\n",
              "      <td>NaN</td>\n",
              "      <td>701.125</td>\n",
              "      <td>338000.0</td>\n",
              "      <td>1.0</td>\n",
              "      <td>NaN</td>\n",
              "      <td>1200.0</td>\n",
              "      <td>0.0</td>\n",
              "      <td>188.0</td>\n",
              "      <td>64.0</td>\n",
              "      <td>784.0</td>\n",
              "      <td>NaN</td>\n",
              "      <td>28.10</td>\n",
              "      <td>701.125</td>\n",
              "      <td>1</td>\n",
              "      <td>1</td>\n",
              "    </tr>\n",
              "    <tr>\n",
              "      <th>252207</th>\n",
              "      <td>0.0</td>\n",
              "      <td>240.0</td>\n",
              "      <td>NaN</td>\n",
              "      <td>647.500</td>\n",
              "      <td>NaN</td>\n",
              "      <td>1.0</td>\n",
              "      <td>NaN</td>\n",
              "      <td>1200.0</td>\n",
              "      <td>NaN</td>\n",
              "      <td>240.0</td>\n",
              "      <td>57.0</td>\n",
              "      <td>776.0</td>\n",
              "      <td>NaN</td>\n",
              "      <td>NaN</td>\n",
              "      <td>647.500</td>\n",
              "      <td>1</td>\n",
              "      <td>1</td>\n",
              "    </tr>\n",
              "    <tr>\n",
              "      <th>1741218</th>\n",
              "      <td>0.0</td>\n",
              "      <td>140.0</td>\n",
              "      <td>NaN</td>\n",
              "      <td>651.625</td>\n",
              "      <td>334600.0</td>\n",
              "      <td>1.0</td>\n",
              "      <td>NaN</td>\n",
              "      <td>1216.0</td>\n",
              "      <td>0.0</td>\n",
              "      <td>140.0</td>\n",
              "      <td>73.0</td>\n",
              "      <td>696.0</td>\n",
              "      <td>NaN</td>\n",
              "      <td>28.05</td>\n",
              "      <td>651.625</td>\n",
              "      <td>2</td>\n",
              "      <td>2</td>\n",
              "    </tr>\n",
              "  </tbody>\n",
              "</table>\n",
              "<p>283424 rows × 17 columns</p>\n",
              "</div>\n",
              "    <div class=\"colab-df-buttons\">\n",
              "\n",
              "  <div class=\"colab-df-container\">\n",
              "    <button class=\"colab-df-convert\" onclick=\"convertToInteractive('df-78eda349-e361-4c58-b569-4ac27f04db56')\"\n",
              "            title=\"Convert this dataframe to an interactive table.\"\n",
              "            style=\"display:none;\">\n",
              "\n",
              "  <svg xmlns=\"http://www.w3.org/2000/svg\" height=\"24px\" viewBox=\"0 -960 960 960\">\n",
              "    <path d=\"M120-120v-720h720v720H120Zm60-500h600v-160H180v160Zm220 220h160v-160H400v160Zm0 220h160v-160H400v160ZM180-400h160v-160H180v160Zm440 0h160v-160H620v160ZM180-180h160v-160H180v160Zm440 0h160v-160H620v160Z\"/>\n",
              "  </svg>\n",
              "    </button>\n",
              "\n",
              "  <style>\n",
              "    .colab-df-container {\n",
              "      display:flex;\n",
              "      gap: 12px;\n",
              "    }\n",
              "\n",
              "    .colab-df-convert {\n",
              "      background-color: #E8F0FE;\n",
              "      border: none;\n",
              "      border-radius: 50%;\n",
              "      cursor: pointer;\n",
              "      display: none;\n",
              "      fill: #1967D2;\n",
              "      height: 32px;\n",
              "      padding: 0 0 0 0;\n",
              "      width: 32px;\n",
              "    }\n",
              "\n",
              "    .colab-df-convert:hover {\n",
              "      background-color: #E2EBFA;\n",
              "      box-shadow: 0px 1px 2px rgba(60, 64, 67, 0.3), 0px 1px 3px 1px rgba(60, 64, 67, 0.15);\n",
              "      fill: #174EA6;\n",
              "    }\n",
              "\n",
              "    .colab-df-buttons div {\n",
              "      margin-bottom: 4px;\n",
              "    }\n",
              "\n",
              "    [theme=dark] .colab-df-convert {\n",
              "      background-color: #3B4455;\n",
              "      fill: #D2E3FC;\n",
              "    }\n",
              "\n",
              "    [theme=dark] .colab-df-convert:hover {\n",
              "      background-color: #434B5C;\n",
              "      box-shadow: 0px 1px 3px 1px rgba(0, 0, 0, 0.15);\n",
              "      filter: drop-shadow(0px 1px 2px rgba(0, 0, 0, 0.3));\n",
              "      fill: #FFFFFF;\n",
              "    }\n",
              "  </style>\n",
              "\n",
              "    <script>\n",
              "      const buttonEl =\n",
              "        document.querySelector('#df-78eda349-e361-4c58-b569-4ac27f04db56 button.colab-df-convert');\n",
              "      buttonEl.style.display =\n",
              "        google.colab.kernel.accessAllowed ? 'block' : 'none';\n",
              "\n",
              "      async function convertToInteractive(key) {\n",
              "        const element = document.querySelector('#df-78eda349-e361-4c58-b569-4ac27f04db56');\n",
              "        const dataTable =\n",
              "          await google.colab.kernel.invokeFunction('convertToInteractive',\n",
              "                                                    [key], {});\n",
              "        if (!dataTable) return;\n",
              "\n",
              "        const docLinkHtml = 'Like what you see? Visit the ' +\n",
              "          '<a target=\"_blank\" href=https://colab.research.google.com/notebooks/data_table.ipynb>data table notebook</a>'\n",
              "          + ' to learn more about interactive tables.';\n",
              "        element.innerHTML = '';\n",
              "        dataTable['output_type'] = 'display_data';\n",
              "        await google.colab.output.renderOutput(dataTable, element);\n",
              "        const docLink = document.createElement('div');\n",
              "        docLink.innerHTML = docLinkHtml;\n",
              "        element.appendChild(docLink);\n",
              "      }\n",
              "    </script>\n",
              "  </div>\n",
              "\n",
              "\n",
              "<div id=\"df-5b1e2f0f-b561-48bd-8393-6985e4fb7342\">\n",
              "  <button class=\"colab-df-quickchart\" onclick=\"quickchart('df-5b1e2f0f-b561-48bd-8393-6985e4fb7342')\"\n",
              "            title=\"Suggest charts\"\n",
              "            style=\"display:none;\">\n",
              "\n",
              "<svg xmlns=\"http://www.w3.org/2000/svg\" height=\"24px\"viewBox=\"0 0 24 24\"\n",
              "     width=\"24px\">\n",
              "    <g>\n",
              "        <path d=\"M19 3H5c-1.1 0-2 .9-2 2v14c0 1.1.9 2 2 2h14c1.1 0 2-.9 2-2V5c0-1.1-.9-2-2-2zM9 17H7v-7h2v7zm4 0h-2V7h2v10zm4 0h-2v-4h2v4z\"/>\n",
              "    </g>\n",
              "</svg>\n",
              "  </button>\n",
              "\n",
              "<style>\n",
              "  .colab-df-quickchart {\n",
              "      --bg-color: #E8F0FE;\n",
              "      --fill-color: #1967D2;\n",
              "      --hover-bg-color: #E2EBFA;\n",
              "      --hover-fill-color: #174EA6;\n",
              "      --disabled-fill-color: #AAA;\n",
              "      --disabled-bg-color: #DDD;\n",
              "  }\n",
              "\n",
              "  [theme=dark] .colab-df-quickchart {\n",
              "      --bg-color: #3B4455;\n",
              "      --fill-color: #D2E3FC;\n",
              "      --hover-bg-color: #434B5C;\n",
              "      --hover-fill-color: #FFFFFF;\n",
              "      --disabled-bg-color: #3B4455;\n",
              "      --disabled-fill-color: #666;\n",
              "  }\n",
              "\n",
              "  .colab-df-quickchart {\n",
              "    background-color: var(--bg-color);\n",
              "    border: none;\n",
              "    border-radius: 50%;\n",
              "    cursor: pointer;\n",
              "    display: none;\n",
              "    fill: var(--fill-color);\n",
              "    height: 32px;\n",
              "    padding: 0;\n",
              "    width: 32px;\n",
              "  }\n",
              "\n",
              "  .colab-df-quickchart:hover {\n",
              "    background-color: var(--hover-bg-color);\n",
              "    box-shadow: 0 1px 2px rgba(60, 64, 67, 0.3), 0 1px 3px 1px rgba(60, 64, 67, 0.15);\n",
              "    fill: var(--button-hover-fill-color);\n",
              "  }\n",
              "\n",
              "  .colab-df-quickchart-complete:disabled,\n",
              "  .colab-df-quickchart-complete:disabled:hover {\n",
              "    background-color: var(--disabled-bg-color);\n",
              "    fill: var(--disabled-fill-color);\n",
              "    box-shadow: none;\n",
              "  }\n",
              "\n",
              "  .colab-df-spinner {\n",
              "    border: 2px solid var(--fill-color);\n",
              "    border-color: transparent;\n",
              "    border-bottom-color: var(--fill-color);\n",
              "    animation:\n",
              "      spin 1s steps(1) infinite;\n",
              "  }\n",
              "\n",
              "  @keyframes spin {\n",
              "    0% {\n",
              "      border-color: transparent;\n",
              "      border-bottom-color: var(--fill-color);\n",
              "      border-left-color: var(--fill-color);\n",
              "    }\n",
              "    20% {\n",
              "      border-color: transparent;\n",
              "      border-left-color: var(--fill-color);\n",
              "      border-top-color: var(--fill-color);\n",
              "    }\n",
              "    30% {\n",
              "      border-color: transparent;\n",
              "      border-left-color: var(--fill-color);\n",
              "      border-top-color: var(--fill-color);\n",
              "      border-right-color: var(--fill-color);\n",
              "    }\n",
              "    40% {\n",
              "      border-color: transparent;\n",
              "      border-right-color: var(--fill-color);\n",
              "      border-top-color: var(--fill-color);\n",
              "    }\n",
              "    60% {\n",
              "      border-color: transparent;\n",
              "      border-right-color: var(--fill-color);\n",
              "    }\n",
              "    80% {\n",
              "      border-color: transparent;\n",
              "      border-right-color: var(--fill-color);\n",
              "      border-bottom-color: var(--fill-color);\n",
              "    }\n",
              "    90% {\n",
              "      border-color: transparent;\n",
              "      border-bottom-color: var(--fill-color);\n",
              "    }\n",
              "  }\n",
              "</style>\n",
              "\n",
              "  <script>\n",
              "    async function quickchart(key) {\n",
              "      const quickchartButtonEl =\n",
              "        document.querySelector('#' + key + ' button');\n",
              "      quickchartButtonEl.disabled = true;  // To prevent multiple clicks.\n",
              "      quickchartButtonEl.classList.add('colab-df-spinner');\n",
              "      try {\n",
              "        const charts = await google.colab.kernel.invokeFunction(\n",
              "            'suggestCharts', [key], {});\n",
              "      } catch (error) {\n",
              "        console.error('Error during call to suggestCharts:', error);\n",
              "      }\n",
              "      quickchartButtonEl.classList.remove('colab-df-spinner');\n",
              "      quickchartButtonEl.classList.add('colab-df-quickchart-complete');\n",
              "    }\n",
              "    (() => {\n",
              "      let quickchartButtonEl =\n",
              "        document.querySelector('#df-5b1e2f0f-b561-48bd-8393-6985e4fb7342 button');\n",
              "      quickchartButtonEl.style.display =\n",
              "        google.colab.kernel.accessAllowed ? 'block' : 'none';\n",
              "    })();\n",
              "  </script>\n",
              "</div>\n",
              "    </div>\n",
              "  </div>\n"
            ],
            "application/vnd.google.colaboratory.intrinsic+json": {
              "type": "dataframe",
              "variable_name": "X_test"
            }
          },
          "metadata": {},
          "execution_count": 38
        }
      ]
    },
    {
      "cell_type": "code",
      "source": [],
      "metadata": {
        "id": "m7Kc02YLokA4"
      },
      "execution_count": null,
      "outputs": []
    },
    {
      "cell_type": "markdown",
      "source": [
        "# Новый раздел"
      ],
      "metadata": {
        "id": "Sz6IeJShp9Fl"
      }
    },
    {
      "cell_type": "code",
      "execution_count": null,
      "metadata": {
        "id": "jam1MmPvYL05"
      },
      "outputs": [],
      "source": [
        "# save data\n",
        "# combinet.to_csv(\"EDA/dataset.csv\", index=False)"
      ]
    }
  ],
  "metadata": {
    "kernelspec": {
      "display_name": "Python 3",
      "name": "python3"
    },
    "language_info": {
      "codemirror_mode": {
        "name": "ipython",
        "version": 3
      },
      "file_extension": ".py",
      "mimetype": "text/x-python",
      "name": "python",
      "nbconvert_exporter": "python",
      "pygments_lexer": "ipython3",
      "version": "3.10.11"
    },
    "colab": {
      "provenance": [],
      "gpuType": "T4"
    },
    "accelerator": "GPU",
    "widgets": {
      "application/vnd.jupyter.widget-state+json": {
        "aa393e98c6ef47b58dc10a5b91aab35d": {
          "model_module": "catboost-widget",
          "model_name": "CatboostWidgetModel",
          "model_module_version": "^1.0.0",
          "state": {
            "_dom_classes": [],
            "_model_module": "catboost-widget",
            "_model_module_version": "^1.0.0",
            "_model_name": "CatboostWidgetModel",
            "_view_count": null,
            "_view_module": "catboost-widget",
            "_view_module_version": "^1.0.0",
            "_view_name": "CatboostWidgetView",
            "data": {
              "catboost_info": {
                "path": "catboost_info",
                "name": "catboost_info",
                "content": {
                  "passed_iterations": 49999,
                  "total_iterations": 50000,
                  "data": {
                    "iterations": [
                      {
                        "learn": [
                          0.9448978304,
                          1.027030269
                        ],
                        "iteration": 0,
                        "passed_time": 0.0491230807,
                        "remaining_time": 2456.104912,
                        "test": [
                          0.944888224,
                          1.027029071
                        ]
                      },
                      {
                        "learn": [
                          0.9762028252,
                          0.0887520964
                        ],
                        "iteration": 100,
                        "passed_time": 4.683602736,
                        "remaining_time": 2313.931613,
                        "test": [
                          0.9760676583,
                          0.08906415802
                        ]
                      },
                      {
                        "learn": [
                          0.9844888304,
                          0.05350585496
                        ],
                        "iteration": 200,
                        "passed_time": 7.402095886,
                        "remaining_time": 1833.915289,
                        "test": [
                          0.9842779722,
                          0.05396667598
                        ]
                      },
                      {
                        "learn": [
                          0.9881837395,
                          0.04017625292
                        ],
                        "iteration": 300,
                        "passed_time": 10.11904926,
                        "remaining_time": 1670.786144,
                        "test": [
                          0.987943858,
                          0.04067411204
                        ]
                      },
                      {
                        "learn": [
                          0.9898106756,
                          0.03284420443
                        ],
                        "iteration": 400,
                        "passed_time": 12.83873713,
                        "remaining_time": 1588.001304,
                        "test": [
                          0.989591566,
                          0.03338415622
                        ]
                      },
                      {
                        "learn": [
                          0.9909452185,
                          0.02835116249
                        ],
                        "iteration": 500,
                        "passed_time": 16.50815568,
                        "remaining_time": 1631.012372,
                        "test": [
                          0.9908546912,
                          0.02891415969
                        ]
                      },
                      {
                        "learn": [
                          0.9919582313,
                          0.02508311738
                        ],
                        "iteration": 600,
                        "passed_time": 20.01046373,
                        "remaining_time": 1644.753574,
                        "test": [
                          0.9919096477,
                          0.02563670205
                        ]
                      },
                      {
                        "learn": [
                          0.9926572257,
                          0.0227925448
                        ],
                        "iteration": 700,
                        "passed_time": 22.7050337,
                        "remaining_time": 1596.769553,
                        "test": [
                          0.9926011911,
                          0.02336707217
                        ]
                      },
                      {
                        "learn": [
                          0.9933017276,
                          0.02096851574
                        ],
                        "iteration": 800,
                        "passed_time": 25.47349552,
                        "remaining_time": 1564.632342,
                        "test": [
                          0.9933139043,
                          0.02156474508
                        ]
                      },
                      {
                        "learn": [
                          0.9937451167,
                          0.01955079957
                        ],
                        "iteration": 900,
                        "passed_time": 28.64290955,
                        "remaining_time": 1560.863725,
                        "test": [
                          0.9936561477,
                          0.02016928342
                        ]
                      },
                      {
                        "learn": [
                          0.9941591034,
                          0.01836990338
                        ],
                        "iteration": 1000,
                        "passed_time": 32.69772621,
                        "remaining_time": 1600.555331,
                        "test": [
                          0.9940901265,
                          0.01901757648
                        ]
                      },
                      {
                        "learn": [
                          0.9944735137,
                          0.01733765193
                        ],
                        "iteration": 1100,
                        "passed_time": 35.4344517,
                        "remaining_time": 1573.75954,
                        "test": [
                          0.9943829739,
                          0.01800289027
                        ]
                      },
                      {
                        "learn": [
                          0.9947479366,
                          0.01655697834
                        ],
                        "iteration": 1200,
                        "passed_time": 38.1432076,
                        "remaining_time": 1549.833795,
                        "test": [
                          0.9945523315,
                          0.01724779298
                        ]
                      },
                      {
                        "learn": [
                          0.9950192233,
                          0.01580121415
                        ],
                        "iteration": 1300,
                        "passed_time": 40.89884779,
                        "remaining_time": 1530.924665,
                        "test": [
                          0.9947851981,
                          0.01653738841
                        ]
                      },
                      {
                        "learn": [
                          0.9952266087,
                          0.01518926167
                        ],
                        "iteration": 1400,
                        "passed_time": 45.39673216,
                        "remaining_time": 1574.757877,
                        "test": [
                          0.9950039517,
                          0.01596044355
                        ]
                      },
                      {
                        "learn": [
                          0.9954171366,
                          0.01461310516
                        ],
                        "iteration": 1500,
                        "passed_time": 48.15516286,
                        "remaining_time": 1555.947531,
                        "test": [
                          0.9951486113,
                          0.01541179904
                        ]
                      },
                      {
                        "learn": [
                          0.9956060964,
                          0.01407089471
                        ],
                        "iteration": 1600,
                        "passed_time": 50.9174545,
                        "remaining_time": 1539.259138,
                        "test": [
                          0.995307384,
                          0.01488854334
                        ]
                      },
                      {
                        "learn": [
                          0.9957868235,
                          0.01357687366
                        ],
                        "iteration": 1700,
                        "passed_time": 53.64121577,
                        "remaining_time": 1523.114098,
                        "test": [
                          0.9954308739,
                          0.01441905089
                        ]
                      },
                      {
                        "learn": [
                          0.9959338358,
                          0.01317254084
                        ],
                        "iteration": 1800,
                        "passed_time": 58.12408934,
                        "remaining_time": 1555.537469,
                        "test": [
                          0.9956143446,
                          0.01404400029
                        ]
                      },
                      {
                        "learn": [
                          0.9960459572,
                          0.01283297918
                        ],
                        "iteration": 1900,
                        "passed_time": 60.81698809,
                        "remaining_time": 1538.788169,
                        "test": [
                          0.9957519476,
                          0.01372475617
                        ]
                      },
                      {
                        "learn": [
                          0.9961443575,
                          0.01253163689
                        ],
                        "iteration": 2000,
                        "passed_time": 63.55971014,
                        "remaining_time": 1524.638944,
                        "test": [
                          0.9957907587,
                          0.01344921331
                        ]
                      },
                      {
                        "learn": [
                          0.9962353091,
                          0.01223224482
                        ],
                        "iteration": 2100,
                        "passed_time": 66.2771035,
                        "remaining_time": 1510.998087,
                        "test": [
                          0.9958542678,
                          0.01317012667
                        ]
                      },
                      {
                        "learn": [
                          0.9963329252,
                          0.01192914298
                        ],
                        "iteration": 2200,
                        "passed_time": 70.81624879,
                        "remaining_time": 1537.91271,
                        "test": [
                          0.9959354183,
                          0.01288226238
                        ]
                      },
                      {
                        "learn": [
                          0.9964164282,
                          0.01166976504
                        ],
                        "iteration": 2300,
                        "passed_time": 73.50937721,
                        "remaining_time": 1523.826069,
                        "test": [
                          0.9960095123,
                          0.0126417112
                        ]
                      },
                      {
                        "learn": [
                          0.9965007153,
                          0.0114363723
                        ],
                        "iteration": 2400,
                        "passed_time": 76.25869302,
                        "remaining_time": 1511.802386,
                        "test": [
                          0.9960800779,
                          0.01242814587
                        ]
                      },
                      {
                        "learn": [
                          0.9965548158,
                          0.01122767686
                        ],
                        "iteration": 2500,
                        "passed_time": 79.01986509,
                        "remaining_time": 1500.745531,
                        "test": [
                          0.9961400587,
                          0.0122325734
                        ]
                      },
                      {
                        "learn": [
                          0.9966312622,
                          0.01101886579
                        ],
                        "iteration": 2600,
                        "passed_time": 83.08654977,
                        "remaining_time": 1514.117406,
                        "test": [
                          0.9962070961,
                          0.01203894769
                        ]
                      },
                      {
                        "learn": [
                          0.9966759539,
                          0.01086726472
                        ],
                        "iteration": 2700,
                        "passed_time": 86.25906444,
                        "remaining_time": 1510.539611,
                        "test": [
                          0.9962494355,
                          0.01190165304
                        ]
                      },
                      {
                        "learn": [
                          0.9967277023,
                          0.01070254663
                        ],
                        "iteration": 2800,
                        "passed_time": 89.01244027,
                        "remaining_time": 1499.927943,
                        "test": [
                          0.9963164728,
                          0.01174815293
                        ]
                      },
                      {
                        "learn": [
                          0.9967810187,
                          0.01054407809
                        ],
                        "iteration": 2900,
                        "passed_time": 91.72176362,
                        "remaining_time": 1489.142828,
                        "test": [
                          0.9963623405,
                          0.01160562444
                        ]
                      },
                      {
                        "learn": [
                          0.9968366874,
                          0.01037903075
                        ],
                        "iteration": 3000,
                        "passed_time": 95.36004584,
                        "remaining_time": 1493.44445,
                        "test": [
                          0.9964011516,
                          0.01144941609
                        ]
                      },
                      {
                        "learn": [
                          0.9968704022,
                          0.01024204822
                        ],
                        "iteration": 3100,
                        "passed_time": 99.02936505,
                        "remaining_time": 1497.703383,
                        "test": [
                          0.9964293779,
                          0.01132401045
                        ]
                      },
                      {
                        "learn": [
                          0.9969076453,
                          0.01009866069
                        ],
                        "iteration": 3200,
                        "passed_time": 101.7341989,
                        "remaining_time": 1487.366064,
                        "test": [
                          0.9964399627,
                          0.01119437104
                        ]
                      },
                      {
                        "learn": [
                          0.9969586096,
                          0.009958186609
                        ],
                        "iteration": 3300,
                        "passed_time": 104.4381422,
                        "remaining_time": 1477.478583,
                        "test": [
                          0.9964611324,
                          0.01106808677
                        ]
                      },
                      {
                        "learn": [
                          0.997000165,
                          0.009843263573
                        ],
                        "iteration": 3400,
                        "passed_time": 107.1791916,
                        "remaining_time": 1468.521949,
                        "test": [
                          0.9965246415,
                          0.01096363031
                        ]
                      },
                      {
                        "learn": [
                          0.9970330958,
                          0.009727711141
                        ],
                        "iteration": 3500,
                        "passed_time": 111.6625875,
                        "remaining_time": 1483.061599,
                        "test": [
                          0.9965387547,
                          0.01086342743
                        ]
                      },
                      {
                        "learn": [
                          0.9970652425,
                          0.009626260404
                        ],
                        "iteration": 3600,
                        "passed_time": 114.3224443,
                        "remaining_time": 1473.048346,
                        "test": [
                          0.9965881506,
                          0.01077918451
                        ]
                      },
                      {
                        "learn": [
                          0.9970856282,
                          0.009528827237
                        ],
                        "iteration": 3700,
                        "passed_time": 117.0155676,
                        "remaining_time": 1463.848626,
                        "test": [
                          0.9966163769,
                          0.0106950863
                        ]
                      },
                      {
                        "learn": [
                          0.9971122864,
                          0.00943467658
                        ],
                        "iteration": 3800,
                        "passed_time": 119.7060457,
                        "remaining_time": 1454.959118,
                        "test": [
                          0.9966234334,
                          0.01061032396
                        ]
                      },
                      {
                        "learn": [
                          0.9971397287,
                          0.009334333029
                        ],
                        "iteration": 3900,
                        "passed_time": 124.2015733,
                        "remaining_time": 1467.718105,
                        "test": [
                          0.996655188,
                          0.01051843356
                        ]
                      },
                      {
                        "learn": [
                          0.9971777559,
                          0.009230231477
                        ],
                        "iteration": 4000,
                        "passed_time": 126.8920845,
                        "remaining_time": 1458.862534,
                        "test": [
                          0.9967010557,
                          0.01042795413
                        ]
                      },
                      {
                        "learn": [
                          0.9972044141,
                          0.009134379458
                        ],
                        "iteration": 4100,
                        "passed_time": 129.624901,
                        "remaining_time": 1450.78111,
                        "test": [
                          0.9967151688,
                          0.01034447441
                        ]
                      },
                      {
                        "learn": [
                          0.9972291122,
                          0.009052453792
                        ],
                        "iteration": 4200,
                        "passed_time": 132.3223133,
                        "remaining_time": 1442.568348,
                        "test": [
                          0.9967469233,
                          0.01027204986
                        ]
                      },
                      {
                        "learn": [
                          0.9972553784,
                          0.008961872011
                        ],
                        "iteration": 4300,
                        "passed_time": 136.8129714,
                        "remaining_time": 1453.665655,
                        "test": [
                          0.9967575082,
                          0.01019620901
                        ]
                      },
                      {
                        "learn": [
                          0.9972824287,
                          0.008875330006
                        ],
                        "iteration": 4400,
                        "passed_time": 139.5261723,
                        "remaining_time": 1445.638248,
                        "test": [
                          0.9967998476,
                          0.01011495083
                        ]
                      },
                      {
                        "learn": [
                          0.9973035984,
                          0.008800948674
                        ],
                        "iteration": 4500,
                        "passed_time": 142.2293175,
                        "remaining_time": 1437.745327,
                        "test": [
                          0.9968245456,
                          0.01005474606
                        ]
                      },
                      {
                        "learn": [
                          0.9973239841,
                          0.008724022192
                        ],
                        "iteration": 4600,
                        "passed_time": 144.9320145,
                        "remaining_time": 1430.073576,
                        "test": [
                          0.9968104324,
                          0.009984955664
                        ]
                      },
                      {
                        "learn": [
                          0.9973533866,
                          0.008648575787
                        ],
                        "iteration": 4700,
                        "passed_time": 148.9828654,
                        "remaining_time": 1435.604089,
                        "test": [
                          0.9968210173,
                          0.009924785351
                        ]
                      },
                      {
                        "learn": [
                          0.9973686759,
                          0.008586156049
                        ],
                        "iteration": 4800,
                        "passed_time": 152.1089583,
                        "remaining_time": 1432.029329,
                        "test": [
                          0.9968280738,
                          0.009869461258
                        ]
                      },
                      {
                        "learn": [
                          0.997382005,
                          0.008523600019
                        ],
                        "iteration": 4900,
                        "passed_time": 154.8005636,
                        "remaining_time": 1424.474723,
                        "test": [
                          0.9968386587,
                          0.009815033018
                        ]
                      },
                      {
                        "learn": [
                          0.9974035668,
                          0.008460501115
                        ],
                        "iteration": 5000,
                        "passed_time": 157.458219,
                        "remaining_time": 1416.809118,
                        "test": [
                          0.9968633567,
                          0.009759347999
                        ]
                      },
                      {
                        "learn": [
                          0.9974255206,
                          0.008398308788
                        ],
                        "iteration": 5100,
                        "passed_time": 160.6530819,
                        "remaining_time": 1414.068364,
                        "test": [
                          0.9968986395,
                          0.009706273875
                        ]
                      },
                      {
                        "learn": [
                          0.9974412019,
                          0.008348344514
                        ],
                        "iteration": 5200,
                        "passed_time": 164.6869037,
                        "remaining_time": 1418.53655,
                        "test": [
                          0.9969268658,
                          0.009666607398
                        ]
                      },
                      {
                        "learn": [
                          0.9974604115,
                          0.008283221129
                        ],
                        "iteration": 5300,
                        "passed_time": 167.3939949,
                        "remaining_time": 1411.496733,
                        "test": [
                          0.996955092,
                          0.009613483313
                        ]
                      },
                      {
                        "learn": [
                          0.9974784451,
                          0.008229800535
                        ],
                        "iteration": 5400,
                        "passed_time": 170.071785,
                        "remaining_time": 1404.375401,
                        "test": [
                          0.9969445072,
                          0.009570093016
                        ]
                      },
                      {
                        "learn": [
                          0.9975007909,
                          0.008171860078
                        ],
                        "iteration": 5500,
                        "passed_time": 172.7706931,
                        "remaining_time": 1397.586452,
                        "test": [
                          0.9969515637,
                          0.00952041452
                        ]
                      },
                      {
                        "learn": [
                          0.9975054953,
                          0.008123317689
                        ],
                        "iteration": 5600,
                        "passed_time": 177.2911033,
                        "remaining_time": 1405.382556,
                        "test": [
                          0.9969621486,
                          0.009482335597
                        ]
                      },
                      {
                        "learn": [
                          0.997525881,
                          0.008067014276
                        ],
                        "iteration": 5700,
                        "passed_time": 179.9588855,
                        "remaining_time": 1398.350933,
                        "test": [
                          0.996955092,
                          0.009434157655
                        ]
                      },
                      {
                        "learn": [
                          0.9975403862,
                          0.008015249102
                        ],
                        "iteration": 5800,
                        "passed_time": 182.7124059,
                        "remaining_time": 1392.123018,
                        "test": [
                          0.9969692051,
                          0.009388751689
                        ]
                      },
                      {
                        "learn": [
                          0.9975568516,
                          0.007970678342
                        ],
                        "iteration": 5900,
                        "passed_time": 185.3685704,
                        "remaining_time": 1385.285305,
                        "test": [
                          0.9969868466,
                          0.009349425463
                        ]
                      },
                      {
                        "learn": [
                          0.9975780214,
                          0.007920229387
                        ],
                        "iteration": 6000,
                        "passed_time": 189.9377065,
                        "remaining_time": 1392.612756,
                        "test": [
                          0.99697979,
                          0.009303523332
                        ]
                      },
                      {
                        "learn": [
                          0.9975886063,
                          0.007868974928
                        ],
                        "iteration": 6100,
                        "passed_time": 192.655816,
                        "remaining_time": 1386.231383,
                        "test": [
                          0.9969939031,
                          0.009258406795
                        ]
                      },
                      {
                        "learn": [
                          0.9976050716,
                          0.007823836792
                        ],
                        "iteration": 6200,
                        "passed_time": 195.3110167,
                        "remaining_time": 1379.523822,
                        "test": [
                          0.9970080163,
                          0.009220359745
                        ]
                      },
                      {
                        "learn": [
                          0.9976136964,
                          0.007781229259
                        ],
                        "iteration": 6300,
                        "passed_time": 197.987009,
                        "remaining_time": 1373.089082,
                        "test": [
                          0.9970221294,
                          0.009187626653
                        ]
                      },
                      {
                        "learn": [
                          0.9976285936,
                          0.007736546709
                        ],
                        "iteration": 6400,
                        "passed_time": 202.4825426,
                        "remaining_time": 1379.165189,
                        "test": [
                          0.997004488,
                          0.0091539555
                        ]
                      },
                      {
                        "learn": [
                          0.9976442749,
                          0.007688675063
                        ],
                        "iteration": 6500,
                        "passed_time": 205.1742077,
                        "remaining_time": 1372.846156,
                        "test": [
                          0.9970186011,
                          0.009114940239
                        ]
                      },
                      {
                        "learn": [
                          0.997657212,
                          0.007642062976
                        ],
                        "iteration": 6600,
                        "passed_time": 207.8803781,
                        "remaining_time": 1366.732394,
                        "test": [
                          0.9970186011,
                          0.009080381847
                        ]
                      },
                      {
                        "learn": [
                          0.9976623084,
                          0.007604473004
                        ],
                        "iteration": 6700,
                        "passed_time": 210.5251483,
                        "remaining_time": 1360.323593,
                        "test": [
                          0.9970432991,
                          0.009047976947
                        ]
                      },
                      {
                        "learn": [
                          0.9976705411,
                          0.007567599716
                        ],
                        "iteration": 6800,
                        "passed_time": 214.3259215,
                        "remaining_time": 1361.368252,
                        "test": [
                          0.9970362425,
                          0.009020671519
                        ]
                      },
                      {
                        "learn": [
                          0.9976858304,
                          0.007525342103
                        ],
                        "iteration": 6900,
                        "passed_time": 217.8488643,
                        "remaining_time": 1360.537343,
                        "test": [
                          0.9970609405,
                          0.008988345007
                        ]
                      },
                      {
                        "learn": [
                          0.9977015117,
                          0.007482840234
                        ],
                        "iteration": 7000,
                        "passed_time": 220.5126718,
                        "remaining_time": 1354.35286,
                        "test": [
                          0.9970785819,
                          0.008952620283
                        ]
                      },
                      {
                        "learn": [
                          0.9977152329,
                          0.007440479253
                        ],
                        "iteration": 7100,
                        "passed_time": 223.2061809,
                        "remaining_time": 1348.446973,
                        "test": [
                          0.9970891668,
                          0.008917010125
                        ]
                      },
                      {
                        "learn": [
                          0.9977340504,
                          0.007402055445
                        ],
                        "iteration": 7200,
                        "passed_time": 226.1869839,
                        "remaining_time": 1344.337832,
                        "test": [
                          0.9970891668,
                          0.008890108692
                        ]
                      },
                      {
                        "learn": [
                          0.9977434592,
                          0.007363394273
                        ],
                        "iteration": 7300,
                        "passed_time": 230.2626925,
                        "remaining_time": 1346.66302,
                        "test": [
                          0.9970891668,
                          0.008859412805
                        ]
                      },
                      {
                        "learn": [
                          0.9977556122,
                          0.007331468103
                        ],
                        "iteration": 7400,
                        "passed_time": 232.9642551,
                        "remaining_time": 1340.905865,
                        "test": [
                          0.9971068082,
                          0.008835423756
                        ]
                      },
                      {
                        "learn": [
                          0.9977626688,
                          0.007299309162
                        ],
                        "iteration": 7500,
                        "passed_time": 235.6316763,
                        "remaining_time": 1335.036744,
                        "test": [
                          0.9971103365,
                          0.008811600956
                        ]
                      },
                      {
                        "learn": [
                          0.9977748219,
                          0.007262951949
                        ],
                        "iteration": 7600,
                        "passed_time": 238.3237872,
                        "remaining_time": 1329.389587,
                        "test": [
                          0.9971279779,
                          0.008782208363
                        ]
                      },
                      {
                        "learn": [
                          0.9977814864,
                          0.007228137599
                        ],
                        "iteration": 7700,
                        "passed_time": 242.7898455,
                        "remaining_time": 1333.562872,
                        "test": [
                          0.9971315062,
                          0.008754162133
                        ]
                      },
                      {
                        "learn": [
                          0.9977936394,
                          0.007194403636
                        ],
                        "iteration": 7800,
                        "passed_time": 245.4839817,
                        "remaining_time": 1327.929566,
                        "test": [
                          0.997142091,
                          0.008727302047
                        ]
                      },
                      {
                        "learn": [
                          0.9978097128,
                          0.007162974398
                        ],
                        "iteration": 7900,
                        "passed_time": 248.1344181,
                        "remaining_time": 1322.137814,
                        "test": [
                          0.9971491476,
                          0.008699826063
                        ]
                      },
                      {
                        "learn": [
                          0.9978206897,
                          0.007135269471
                        ],
                        "iteration": 8000,
                        "passed_time": 250.7854834,
                        "remaining_time": 1316.427886,
                        "test": [
                          0.997142091,
                          0.00867890531
                        ]
                      },
                      {
                        "learn": [
                          0.9978269622,
                          0.00710000413
                        ],
                        "iteration": 8100,
                        "passed_time": 255.4060321,
                        "remaining_time": 1320.979798,
                        "test": [
                          0.9971526758,
                          0.008651531832
                        ]
                      },
                      {
                        "learn": [
                          0.9978387232,
                          0.007068668305
                        ],
                        "iteration": 8200,
                        "passed_time": 258.0598649,
                        "remaining_time": 1315.284026,
                        "test": [
                          0.9971562041,
                          0.008629485233
                        ]
                      },
                      {
                        "learn": [
                          0.9978442117,
                          0.007038318688
                        ],
                        "iteration": 8300,
                        "passed_time": 260.7387179,
                        "remaining_time": 1309.78723,
                        "test": [
                          0.9971562041,
                          0.008608135505
                        ]
                      },
                      {
                        "learn": [
                          0.9978516603,
                          0.007009852666
                        ],
                        "iteration": 8400,
                        "passed_time": 263.3711746,
                        "remaining_time": 1304.127782,
                        "test": [
                          0.9971526758,
                          0.008585837378
                        ]
                      },
                      {
                        "learn": [
                          0.9978595009,
                          0.006985602528
                        ],
                        "iteration": 8500,
                        "passed_time": 267.1711759,
                        "remaining_time": 1304.239105,
                        "test": [
                          0.9971491476,
                          0.008568751566
                        ]
                      },
                      {
                        "learn": [
                          0.99787283,
                          0.006959344753
                        ],
                        "iteration": 8600,
                        "passed_time": 270.676786,
                        "remaining_time": 1302.842491,
                        "test": [
                          0.9971703173,
                          0.008549898166
                        ]
                      },
                      {
                        "learn": [
                          0.9978783185,
                          0.006927657478
                        ],
                        "iteration": 8700,
                        "passed_time": 273.4217683,
                        "remaining_time": 1297.787106,
                        "test": [
                          0.9971950152,
                          0.00852403644
                        ]
                      },
                      {
                        "learn": [
                          0.9978865512,
                          0.006905722018
                        ],
                        "iteration": 8800,
                        "passed_time": 276.0809963,
                        "remaining_time": 1292.382793,
                        "test": [
                          0.9972020718,
                          0.008509969824
                        ]
                      },
                      {
                        "learn": [
                          0.9978928237,
                          0.006879046177
                        ],
                        "iteration": 8900,
                        "passed_time": 279.0981848,
                        "remaining_time": 1288.692989,
                        "test": [
                          0.9971985435,
                          0.008491050959
                        ]
                      },
                      {
                        "learn": [
                          0.9978987042,
                          0.00685084738
                        ],
                        "iteration": 9000,
                        "passed_time": 283.1891632,
                        "remaining_time": 1289.909177,
                        "test": [
                          0.9972056001,
                          0.008470945088
                        ]
                      },
                      {
                        "learn": [
                          0.9979069369,
                          0.00682611103
                        ],
                        "iteration": 9100,
                        "passed_time": 285.8958519,
                        "remaining_time": 1284.787875,
                        "test": [
                          0.9972020718,
                          0.008454031555
                        ]
                      },
                      {
                        "learn": [
                          0.9979132094,
                          0.006804134988
                        ],
                        "iteration": 9200,
                        "passed_time": 288.5471679,
                        "remaining_time": 1279.473525,
                        "test": [
                          0.9972197132,
                          0.008440990864
                        ]
                      },
                      {
                        "learn": [
                          0.9979179138,
                          0.006777272319
                        ],
                        "iteration": 9300,
                        "passed_time": 291.2092379,
                        "remaining_time": 1274.263496,
                        "test": [
                          0.9972197132,
                          0.00841852821
                        ]
                      },
                      {
                        "learn": [
                          0.9979265385,
                          0.006754035187
                        ],
                        "iteration": 9400,
                        "passed_time": 295.8032425,
                        "remaining_time": 1277.450892,
                        "test": [
                          0.9972197132,
                          0.008402349449
                        ]
                      },
                      {
                        "learn": [
                          0.9979375155,
                          0.006728423654
                        ],
                        "iteration": 9500,
                        "passed_time": 298.463373,
                        "remaining_time": 1272.231149,
                        "test": [
                          0.9972302981,
                          0.008379338086
                        ]
                      },
                      {
                        "learn": [
                          0.9979461402,
                          0.00669918888
                        ],
                        "iteration": 9600,
                        "passed_time": 301.1550371,
                        "remaining_time": 1267.197411,
                        "test": [
                          0.9972444112,
                          0.008355759062
                        ]
                      },
                      {
                        "learn": [
                          0.9979500605,
                          0.006670938017
                        ],
                        "iteration": 9700,
                        "passed_time": 303.873761,
                        "remaining_time": 1262.324368,
                        "test": [
                          0.997254996,
                          0.0083332051
                        ]
                      },
                      {
                        "learn": [
                          0.997956333,
                          0.006651376193
                        ],
                        "iteration": 9800,
                        "passed_time": 308.5439065,
                        "remaining_time": 1265.499081,
                        "test": [
                          0.997254996,
                          0.008321222204
                        ]
                      },
                      {
                        "learn": [
                          0.9979633896,
                          0.006630599986
                        ],
                        "iteration": 9900,
                        "passed_time": 311.1805243,
                        "remaining_time": 1260.279552,
                        "test": [
                          0.9972691092,
                          0.00830641048
                        ]
                      },
                      {
                        "learn": [
                          0.9979747586,
                          0.00660824646
                        ],
                        "iteration": 10000,
                        "passed_time": 313.8296772,
                        "remaining_time": 1255.16181,
                        "test": [
                          0.9972761657,
                          0.008288667422
                        ]
                      },
                      {
                        "learn": [
                          0.9979786789,
                          0.006588207612
                        ],
                        "iteration": 10100,
                        "passed_time": 316.4952454,
                        "remaining_time": 1250.157786,
                        "test": [
                          0.9972691092,
                          0.008272731575
                        ]
                      },
                      {
                        "learn": [
                          0.9979947522,
                          0.006568517918
                        ],
                        "iteration": 10200,
                        "passed_time": 320.2134758,
                        "remaining_time": 1249.306551,
                        "test": [
                          0.997279694,
                          0.008256822431
                        ]
                      },
                      {
                        "learn": [
                          0.9980010248,
                          0.006542854318
                        ],
                        "iteration": 10300,
                        "passed_time": 323.5710698,
                        "remaining_time": 1247.009795,
                        "test": [
                          0.9972832223,
                          0.008238077567
                        ]
                      },
                      {
                        "learn": [
                          0.9980135698,
                          0.006522344571
                        ],
                        "iteration": 10400,
                        "passed_time": 326.2194449,
                        "remaining_time": 1241.992481,
                        "test": [
                          0.9972902789,
                          0.008222644776
                        ]
                      },
                      {
                        "learn": [
                          0.9980182742,
                          0.006502416747
                        ],
                        "iteration": 10500,
                        "passed_time": 328.8569804,
                        "remaining_time": 1236.979513,
                        "test": [
                          0.9972902789,
                          0.008208069936
                        ]
                      },
                      {
                        "learn": [
                          0.998028075,
                          0.006480569342
                        ],
                        "iteration": 10600,
                        "passed_time": 331.5469567,
                        "remaining_time": 1232.206259,
                        "test": [
                          0.9972938072,
                          0.008192286557
                        ]
                      },
                      {
                        "learn": [
                          0.9980363077,
                          0.006457829908
                        ],
                        "iteration": 10700,
                        "passed_time": 336.0750285,
                        "remaining_time": 1234.222273,
                        "test": [
                          0.9972938072,
                          0.008175708968
                        ]
                      },
                      {
                        "learn": [
                          0.9980492448,
                          0.006433427398
                        ],
                        "iteration": 10800,
                        "passed_time": 338.760552,
                        "remaining_time": 1229.430134,
                        "test": [
                          0.9973114486,
                          0.008160038432
                        ]
                      },
                      {
                        "learn": [
                          0.9980570855,
                          0.006414226214
                        ],
                        "iteration": 10900,
                        "passed_time": 341.4424695,
                        "remaining_time": 1224.663711,
                        "test": [
                          0.9973079203,
                          0.008145612614
                        ]
                      },
                      {
                        "learn": [
                          0.9980613978,
                          0.006388484513
                        ],
                        "iteration": 11000,
                        "passed_time": 344.0799889,
                        "remaining_time": 1219.777792,
                        "test": [
                          0.997304392,
                          0.008128621555
                        ]
                      },
                      {
                        "learn": [
                          0.9980661022,
                          0.006368615265
                        ],
                        "iteration": 11100,
                        "passed_time": 348.5752723,
                        "remaining_time": 1221.442169,
                        "test": [
                          0.9973149769,
                          0.008114256896
                        ]
                      },
                      {
                        "learn": [
                          0.9980727668,
                          0.006347094809
                        ],
                        "iteration": 11200,
                        "passed_time": 351.2334351,
                        "remaining_time": 1216.632983,
                        "test": [
                          0.9973185051,
                          0.008098144462
                        ]
                      },
                      {
                        "learn": [
                          0.9980821756,
                          0.006329001576
                        ],
                        "iteration": 11300,
                        "passed_time": 353.8937864,
                        "remaining_time": 1211.86936,
                        "test": [
                          0.9973255617,
                          0.008084179492
                        ]
                      },
                      {
                        "learn": [
                          0.9980884481,
                          0.006309531252
                        ],
                        "iteration": 11400,
                        "passed_time": 356.5845653,
                        "remaining_time": 1207.245648,
                        "test": [
                          0.9973361466,
                          0.00806920238
                        ]
                      },
                      {
                        "learn": [
                          0.9980908003,
                          0.006290990857
                        ],
                        "iteration": 11500,
                        "passed_time": 360.984029,
                        "remaining_time": 1208.375283,
                        "test": [
                          0.9973432031,
                          0.008054681808
                        ]
                      },
                      {
                        "learn": [
                          0.9980982489,
                          0.006275124632
                        ],
                        "iteration": 11600,
                        "passed_time": 363.750781,
                        "remaining_time": 1204.005365,
                        "test": [
                          0.9973432031,
                          0.008044114188
                        ]
                      },
                      {
                        "learn": [
                          0.9981060896,
                          0.006255151633
                        ],
                        "iteration": 11700,
                        "passed_time": 366.3840916,
                        "remaining_time": 1199.226077,
                        "test": [
                          0.9973502597,
                          0.008029149996
                        ]
                      },
                      {
                        "learn": [
                          0.9981088338,
                          0.006239436248
                        ],
                        "iteration": 11800,
                        "passed_time": 369.065595,
                        "remaining_time": 1194.639155,
                        "test": [
                          0.9973467314,
                          0.008018754656
                        ]
                      },
                      {
                        "learn": [
                          0.9981205948,
                          0.006219763781
                        ],
                        "iteration": 11900,
                        "passed_time": 372.4019695,
                        "remaining_time": 1192.18071,
                        "test": [
                          0.9973608445,
                          0.008003920535
                        ]
                      },
                      {
                        "learn": [
                          0.9981245151,
                          0.006199587875
                        ],
                        "iteration": 12000,
                        "passed_time": 376.2535084,
                        "remaining_time": 1191.338811,
                        "test": [
                          0.9973608445,
                          0.007987740051
                        ]
                      },
                      {
                        "learn": [
                          0.9981292195,
                          0.006182881305
                        ],
                        "iteration": 12100,
                        "passed_time": 378.8887257,
                        "remaining_time": 1186.637783,
                        "test": [
                          0.997353788,
                          0.007978722946
                        ]
                      },
                      {
                        "learn": [
                          0.9981378442,
                          0.006166265853
                        ],
                        "iteration": 12200,
                        "passed_time": 381.5641946,
                        "remaining_time": 1182.095319,
                        "test": [
                          0.9973608445,
                          0.007969782505
                        ]
                      },
                      {
                        "learn": [
                          0.9981413725,
                          0.006153515982
                        ],
                        "iteration": 12300,
                        "passed_time": 384.1603675,
                        "remaining_time": 1177.340191,
                        "test": [
                          0.9973608445,
                          0.00796445218
                        ]
                      },
                      {
                        "learn": [
                          0.998146861,
                          0.006137529543
                        ],
                        "iteration": 12400,
                        "passed_time": 388.6424267,
                        "remaining_time": 1178.337763,
                        "test": [
                          0.9973608445,
                          0.007953886282
                        ]
                      },
                      {
                        "learn": [
                          0.9981519574,
                          0.006121295021
                        ],
                        "iteration": 12500,
                        "passed_time": 391.2834846,
                        "remaining_time": 1173.725253,
                        "test": [
                          0.997353788,
                          0.007943106758
                        ]
                      },
                      {
                        "learn": [
                          0.9981637184,
                          0.006106924568
                        ],
                        "iteration": 12600,
                        "passed_time": 393.9391912,
                        "remaining_time": 1169.18751,
                        "test": [
                          0.9973784859,
                          0.00793429122
                        ]
                      },
                      {
                        "learn": [
                          0.9981692068,
                          0.006090557199
                        ],
                        "iteration": 12700,
                        "passed_time": 396.6002717,
                        "remaining_time": 1164.695184,
                        "test": [
                          0.9973749577,
                          0.007922798459
                        ]
                      },
                      {
                        "learn": [
                          0.9981739112,
                          0.006075904973
                        ],
                        "iteration": 12800,
                        "passed_time": 401.1306253,
                        "remaining_time": 1165.663474,
                        "test": [
                          0.9973784859,
                          0.007913149088
                        ]
                      },
                      {
                        "learn": [
                          0.9981790077,
                          0.006058980183
                        ],
                        "iteration": 12900,
                        "passed_time": 403.7746828,
                        "remaining_time": 1161.122158,
                        "test": [
                          0.9973820142,
                          0.007902497051
                        ]
                      },
                      {
                        "learn": [
                          0.9981801838,
                          0.006046018215
                        ],
                        "iteration": 13000,
                        "passed_time": 406.3964309,
                        "remaining_time": 1156.546539,
                        "test": [
                          0.9973961274,
                          0.007892396308
                        ]
                      },
                      {
                        "learn": [
                          0.9981841041,
                          0.0060320107
                        ],
                        "iteration": 13100,
                        "passed_time": 409.0398369,
                        "remaining_time": 1152.061747,
                        "test": [
                          0.9974031839,
                          0.0078835868
                        ]
                      },
                      {
                        "learn": [
                          0.9981888085,
                          0.006016657486
                        ],
                        "iteration": 13200,
                        "passed_time": 412.6686106,
                        "remaining_time": 1150.351655,
                        "test": [
                          0.9974031839,
                          0.007871471249
                        ]
                      },
                      {
                        "learn": [
                          0.9981919447,
                          0.006002687489
                        ],
                        "iteration": 13300,
                        "passed_time": 416.1108824,
                        "remaining_time": 1148.098133,
                        "test": [
                          0.9974067122,
                          0.007862395568
                        ]
                      },
                      {
                        "learn": [
                          0.9981931208,
                          0.005988901258
                        ],
                        "iteration": 13400,
                        "passed_time": 418.749658,
                        "remaining_time": 1143.63247,
                        "test": [
                          0.9974031839,
                          0.007851988168
                        ]
                      },
                      {
                        "learn": [
                          0.9982029217,
                          0.005971587114
                        ],
                        "iteration": 13500,
                        "passed_time": 421.414864,
                        "remaining_time": 1139.265323,
                        "test": [
                          0.9973961274,
                          0.007841629006
                        ]
                      },
                      {
                        "learn": [
                          0.9982103703,
                          0.005951777589
                        ],
                        "iteration": 13600,
                        "passed_time": 424.1024029,
                        "remaining_time": 1134.982969,
                        "test": [
                          0.9974031839,
                          0.007828241171
                        ]
                      },
                      {
                        "learn": [
                          0.9982115464,
                          0.005935496743
                        ],
                        "iteration": 13700,
                        "passed_time": 428.6014496,
                        "remaining_time": 1135.523248,
                        "test": [
                          0.9974208253,
                          0.007817639095
                        ]
                      },
                      {
                        "learn": [
                          0.9982197791,
                          0.005916915001
                        ],
                        "iteration": 13800,
                        "passed_time": 431.2731305,
                        "remaining_time": 1131.197453,
                        "test": [
                          0.9974455233,
                          0.007805263403
                        ]
                      },
                      {
                        "learn": [
                          0.9982233074,
                          0.005900861564
                        ],
                        "iteration": 13900,
                        "passed_time": 433.9324005,
                        "remaining_time": 1126.863228,
                        "test": [
                          0.9974490516,
                          0.007793593194
                        ]
                      },
                      {
                        "learn": [
                          0.9982260516,
                          0.005885346024
                        ],
                        "iteration": 14000,
                        "passed_time": 436.5732286,
                        "remaining_time": 1122.505511,
                        "test": [
                          0.9974455233,
                          0.007784515791
                        ]
                      },
                      {
                        "learn": [
                          0.9982350684,
                          0.005869831633
                        ],
                        "iteration": 14100,
                        "passed_time": 441.0256973,
                        "remaining_time": 1122.784307,
                        "test": [
                          0.9974455233,
                          0.00777506368
                        ]
                      },
                      {
                        "learn": [
                          0.9982366365,
                          0.005855316848
                        ],
                        "iteration": 14200,
                        "passed_time": 443.6402684,
                        "remaining_time": 1118.363352,
                        "test": [
                          0.9974596364,
                          0.007768019174
                        ]
                      },
                      {
                        "learn": [
                          0.9982405568,
                          0.005841124036
                        ],
                        "iteration": 14300,
                        "passed_time": 446.2802289,
                        "remaining_time": 1114.031039,
                        "test": [
                          0.997466693,
                          0.007757704805
                        ]
                      },
                      {
                        "learn": [
                          0.9982476134,
                          0.005823417093
                        ],
                        "iteration": 14400,
                        "passed_time": 448.9592674,
                        "remaining_time": 1109.818829,
                        "test": [
                          0.9974631647,
                          0.007743685566
                        ]
                      },
                      {
                        "learn": [
                          0.9982531019,
                          0.005807903468
                        ],
                        "iteration": 14500,
                        "passed_time": 453.0174919,
                        "remaining_time": 1109.004065,
                        "test": [
                          0.997466693,
                          0.00773437817
                        ]
                      },
                      {
                        "learn": [
                          0.9982558461,
                          0.005794621442
                        ],
                        "iteration": 14600,
                        "passed_time": 456.2001044,
                        "remaining_time": 1106.022019,
                        "test": [
                          0.997466693,
                          0.007728600779
                        ]
                      },
                      {
                        "learn": [
                          0.9982593744,
                          0.005784074076
                        ],
                        "iteration": 14700,
                        "passed_time": 458.7973778,
                        "remaining_time": 1101.631769,
                        "test": [
                          0.997466693,
                          0.007723083531
                        ]
                      },
                      {
                        "learn": [
                          0.9982676071,
                          0.0057708579
                        ],
                        "iteration": 14800,
                        "passed_time": 461.4786429,
                        "remaining_time": 1097.465492,
                        "test": [
                          0.997466693,
                          0.007715778021
                        ]
                      },
                      {
                        "learn": [
                          0.9982723115,
                          0.005758472114
                        ],
                        "iteration": 14900,
                        "passed_time": 464.3332411,
                        "remaining_time": 1093.72743,
                        "test": [
                          0.9974702213,
                          0.007709259829
                        ]
                      },
                      {
                        "learn": [
                          0.9982746637,
                          0.005744437033
                        ],
                        "iteration": 15000,
                        "passed_time": 468.4891156,
                        "remaining_time": 1093.037168,
                        "test": [
                          0.997466693,
                          0.007698041854
                        ]
                      },
                      {
                        "learn": [
                          0.998278192,
                          0.0057332239
                        ],
                        "iteration": 15100,
                        "passed_time": 471.1568909,
                        "remaining_time": 1088.861952,
                        "test": [
                          0.9974737496,
                          0.007692255849
                        ]
                      },
                      {
                        "learn": [
                          0.9982856406,
                          0.005718042966
                        ],
                        "iteration": 15200,
                        "passed_time": 473.8139887,
                        "remaining_time": 1084.682126,
                        "test": [
                          0.9974702213,
                          0.007681487524
                        ]
                      },
                      {
                        "learn": [
                          0.9982883848,
                          0.005703790047
                        ],
                        "iteration": 15300,
                        "passed_time": 476.4527261,
                        "remaining_time": 1080.480566,
                        "test": [
                          0.9974772779,
                          0.007670773466
                        ]
                      },
                      {
                        "learn": [
                          0.9982915211,
                          0.005689606423
                        ],
                        "iteration": 15400,
                        "passed_time": 480.9128104,
                        "remaining_time": 1080.391035,
                        "test": [
                          0.9974702213,
                          0.007660275619
                        ]
                      },
                      {
                        "learn": [
                          0.9982962255,
                          0.005678309064
                        ],
                        "iteration": 15500,
                        "passed_time": 483.5800636,
                        "remaining_time": 1076.254991,
                        "test": [
                          0.9974772779,
                          0.007654349207
                        ]
                      },
                      {
                        "learn": [
                          0.9982993617,
                          0.005667197001
                        ],
                        "iteration": 15600,
                        "passed_time": 486.2078104,
                        "remaining_time": 1072.050668,
                        "test": [
                          0.9974808061,
                          0.007646962726
                        ]
                      },
                      {
                        "learn": [
                          0.9983052422,
                          0.005657282094
                        ],
                        "iteration": 15700,
                        "passed_time": 488.8122216,
                        "remaining_time": 1067.81545,
                        "test": [
                          0.9974878627,
                          0.007640231769
                        ]
                      },
                      {
                        "learn": [
                          0.9983072024,
                          0.005645264987
                        ],
                        "iteration": 15800,
                        "passed_time": 493.1668297,
                        "remaining_time": 1067.388925,
                        "test": [
                          0.9974843344,
                          0.007635000504
                        ]
                      },
                      {
                        "learn": [
                          0.9983122988,
                          0.005635355056
                        ],
                        "iteration": 15900,
                        "passed_time": 495.9199038,
                        "remaining_time": 1063.478574,
                        "test": [
                          0.9974843344,
                          0.007628113634
                        ]
                      },
                      {
                        "learn": [
                          0.9983126908,
                          0.005623329527
                        ],
                        "iteration": 16000,
                        "passed_time": 498.5556533,
                        "remaining_time": 1059.333395,
                        "test": [
                          0.9974843344,
                          0.007619317907
                        ]
                      },
                      {
                        "learn": [
                          0.9983166112,
                          0.005610720925
                        ],
                        "iteration": 16100,
                        "passed_time": 501.1816088,
                        "remaining_time": 1055.186346,
                        "test": [
                          0.9974949193,
                          0.007611392192
                        ]
                      },
                      {
                        "learn": [
                          0.9983201395,
                          0.005596785384
                        ],
                        "iteration": 16200,
                        "passed_time": 504.3429068,
                        "remaining_time": 1052.174922,
                        "test": [
                          0.9974984476,
                          0.007599934749
                        ]
                      },
                      {
                        "learn": [
                          0.9983228837,
                          0.005585694378
                        ],
                        "iteration": 16300,
                        "passed_time": 508.3830241,
                        "remaining_time": 1050.978439,
                        "test": [
                          0.9974984476,
                          0.007591590395
                        ]
                      },
                      {
                        "learn": [
                          0.9983311164,
                          0.005574748471
                        ],
                        "iteration": 16400,
                        "passed_time": 511.0262191,
                        "remaining_time": 1046.885552,
                        "test": [
                          0.9975019758,
                          0.007584848239
                        ]
                      },
                      {
                        "learn": [
                          0.9983377809,
                          0.005561783823
                        ],
                        "iteration": 16500,
                        "passed_time": 513.6970665,
                        "remaining_time": 1042.866374,
                        "test": [
                          0.9975055041,
                          0.00757385595
                        ]
                      },
                      {
                        "learn": [
                          0.9983436614,
                          0.005549566489
                        ],
                        "iteration": 16600,
                        "passed_time": 516.3504622,
                        "remaining_time": 1038.828329,
                        "test": [
                          0.9975055041,
                          0.007565800164
                        ]
                      },
                      {
                        "learn": [
                          0.9983452296,
                          0.005537470899
                        ],
                        "iteration": 16700,
                        "passed_time": 520.7848959,
                        "remaining_time": 1038.357958,
                        "test": [
                          0.997516089,
                          0.007561257156
                        ]
                      },
                      {
                        "learn": [
                          0.9983487579,
                          0.005525878749
                        ],
                        "iteration": 16800,
                        "passed_time": 523.4602748,
                        "remaining_time": 1034.364482,
                        "test": [
                          0.9975090324,
                          0.007551876541
                        ]
                      },
                      {
                        "learn": [
                          0.9983515021,
                          0.005517129221
                        ],
                        "iteration": 16900,
                        "passed_time": 526.0256726,
                        "remaining_time": 1030.171217,
                        "test": [
                          0.997516089,
                          0.007547161253
                        ]
                      },
                      {
                        "learn": [
                          0.9983546384,
                          0.005503965877
                        ],
                        "iteration": 17000,
                        "passed_time": 528.6772833,
                        "remaining_time": 1026.164442,
                        "test": [
                          0.997516089,
                          0.007537722063
                        ]
                      },
                      {
                        "learn": [
                          0.9983585587,
                          0.005493457178
                        ],
                        "iteration": 17100,
                        "passed_time": 532.955985,
                        "remaining_time": 1025.303722,
                        "test": [
                          0.9975125607,
                          0.007531985158
                        ]
                      },
                      {
                        "learn": [
                          0.9983605188,
                          0.005483218001
                        ],
                        "iteration": 17200,
                        "passed_time": 535.7683253,
                        "remaining_time": 1021.607192,
                        "test": [
                          0.997516089,
                          0.007525428203
                        ]
                      },
                      {
                        "learn": [
                          0.9983640471,
                          0.005474354384
                        ],
                        "iteration": 17300,
                        "passed_time": 538.3880436,
                        "remaining_time": 1017.556826,
                        "test": [
                          0.9975125607,
                          0.007521346042
                        ]
                      },
                      {
                        "learn": [
                          0.9983687515,
                          0.005464974311
                        ],
                        "iteration": 17400,
                        "passed_time": 541.0128088,
                        "remaining_time": 1013.532358,
                        "test": [
                          0.9975231455,
                          0.007516851271
                        ]
                      },
                      {
                        "learn": [
                          0.9983671834,
                          0.005456376388
                        ],
                        "iteration": 17500,
                        "passed_time": 544.1477425,
                        "remaining_time": 1010.471258,
                        "test": [
                          0.997516089,
                          0.007512408185
                        ]
                      },
                      {
                        "learn": [
                          0.9983734559,
                          0.005447125333
                        ],
                        "iteration": 17600,
                        "passed_time": 548.0860904,
                        "remaining_time": 1008.888202,
                        "test": [
                          0.9975196173,
                          0.007508295875
                        ]
                      },
                      {
                        "learn": [
                          0.9983730639,
                          0.005435309603
                        ],
                        "iteration": 17700,
                        "passed_time": 550.7348607,
                        "remaining_time": 1004.925443,
                        "test": [
                          0.9975196173,
                          0.007501508065
                        ]
                      },
                      {
                        "learn": [
                          0.9983773763,
                          0.005424187586
                        ],
                        "iteration": 17800,
                        "passed_time": 553.4055848,
                        "remaining_time": 1001.017158,
                        "test": [
                          0.9975196173,
                          0.007494434272
                        ]
                      },
                      {
                        "learn": [
                          0.9983769842,
                          0.005415516923
                        ],
                        "iteration": 17900,
                        "passed_time": 556.0790327,
                        "remaining_time": 997.1275834,
                        "test": [
                          0.9975231455,
                          0.007489546704
                        ]
                      },
                      {
                        "learn": [
                          0.9983793364,
                          0.005404764352
                        ],
                        "iteration": 18000,
                        "passed_time": 560.440962,
                        "remaining_time": 996.253005,
                        "test": [
                          0.9975231455,
                          0.007481776902
                        ]
                      },
                      {
                        "learn": [
                          0.9983828647,
                          0.005391137001
                        ],
                        "iteration": 18100,
                        "passed_time": 563.1310478,
                        "remaining_time": 992.3936409,
                        "test": [
                          0.9975302021,
                          0.007470712256
                        ]
                      },
                      {
                        "learn": [
                          0.9983871771,
                          0.005378899758
                        ],
                        "iteration": 18200,
                        "passed_time": 565.7650466,
                        "remaining_time": 988.4491356,
                        "test": [
                          0.9975231455,
                          0.007461566802
                        ]
                      },
                      {
                        "learn": [
                          0.9983899213,
                          0.005366678213
                        ],
                        "iteration": 18300,
                        "passed_time": 568.3724828,
                        "remaining_time": 984.4729431,
                        "test": [
                          0.9975302021,
                          0.007452949385
                        ]
                      },
                      {
                        "learn": [
                          0.998397762,
                          0.005356572649
                        ],
                        "iteration": 18400,
                        "passed_time": 572.9837928,
                        "remaining_time": 983.9527671,
                        "test": [
                          0.9975196173,
                          0.007448693222
                        ]
                      },
                      {
                        "learn": [
                          0.9984028584,
                          0.005346607588
                        ],
                        "iteration": 18500,
                        "passed_time": 575.6025346,
                        "remaining_time": 979.995905,
                        "test": [
                          0.9975196173,
                          0.007442052711
                        ]
                      },
                      {
                        "learn": [
                          0.9984048186,
                          0.005336933873
                        ],
                        "iteration": 18600,
                        "passed_time": 578.2036734,
                        "remaining_time": 976.023716,
                        "test": [
                          0.9975266738,
                          0.007435885108
                        ]
                      },
                      {
                        "learn": [
                          0.9984087389,
                          0.005327339406
                        ],
                        "iteration": 18700,
                        "passed_time": 580.8084554,
                        "remaining_time": 972.0722873,
                        "test": [
                          0.9975231455,
                          0.007428401289
                        ]
                      },
                      {
                        "learn": [
                          0.9984142273,
                          0.005317994554
                        ],
                        "iteration": 18800,
                        "passed_time": 583.9805225,
                        "remaining_time": 969.0765556,
                        "test": [
                          0.9975266738,
                          0.007423135569
                        ]
                      },
                      {
                        "learn": [
                          0.9984173636,
                          0.005310174189
                        ],
                        "iteration": 18900,
                        "passed_time": 587.9210224,
                        "remaining_time": 967.3433087,
                        "test": [
                          0.9975266738,
                          0.00742046696
                        ]
                      },
                      {
                        "learn": [
                          0.9984193238,
                          0.005301737061
                        ],
                        "iteration": 19000,
                        "passed_time": 590.5218076,
                        "remaining_time": 963.4011638,
                        "test": [
                          0.9975372587,
                          0.007415606096
                        ]
                      },
                      {
                        "learn": [
                          0.998422068,
                          0.005289617735
                        ],
                        "iteration": 19100,
                        "passed_time": 593.1934444,
                        "remaining_time": 959.5876781,
                        "test": [
                          0.9975302021,
                          0.007409025883
                        ]
                      },
                      {
                        "learn": [
                          0.9984279485,
                          0.005279543564
                        ],
                        "iteration": 19200,
                        "passed_time": 595.8220102,
                        "remaining_time": 955.7169988,
                        "test": [
                          0.9975266738,
                          0.007402445671
                        ]
                      },
                      {
                        "learn": [
                          0.9984303007,
                          0.005270812412
                        ],
                        "iteration": 19300,
                        "passed_time": 600.2214528,
                        "remaining_time": 954.6758395,
                        "test": [
                          0.9975337304,
                          0.007396734607
                        ]
                      },
                      {
                        "learn": [
                          0.9984314768,
                          0.005261863804
                        ],
                        "iteration": 19400,
                        "passed_time": 602.8570162,
                        "remaining_time": 950.8180939,
                        "test": [
                          0.9975266738,
                          0.007391213913
                        ]
                      },
                      {
                        "learn": [
                          0.998434221,
                          0.005252671707
                        ],
                        "iteration": 19500,
                        "passed_time": 605.4731225,
                        "remaining_time": 946.9424523,
                        "test": [
                          0.9975337304,
                          0.007384502768
                        ]
                      },
                      {
                        "learn": [
                          0.9984357891,
                          0.00524385518
                        ],
                        "iteration": 19600,
                        "passed_time": 608.0738169,
                        "remaining_time": 943.0557604,
                        "test": [
                          0.9975337304,
                          0.007379299068
                        ]
                      },
                      {
                        "learn": [
                          0.9984365732,
                          0.005237722393
                        ],
                        "iteration": 19700,
                        "passed_time": 612.1911327,
                        "remaining_time": 941.5145998,
                        "test": [
                          0.9975372587,
                          0.007375565773
                        ]
                      },
                      {
                        "learn": [
                          0.9984408856,
                          0.00522980402
                        ],
                        "iteration": 19800,
                        "passed_time": 615.1313533,
                        "remaining_time": 938.1522014,
                        "test": [
                          0.9975407869,
                          0.007371755813
                        ]
                      },
                      {
                        "learn": [
                          0.9984424537,
                          0.005221026544
                        ],
                        "iteration": 19900,
                        "passed_time": 617.7161326,
                        "remaining_time": 934.2564632,
                        "test": [
                          0.9975443152,
                          0.007367119774
                        ]
                      },
                      {
                        "learn": [
                          0.9984471581,
                          0.005210999845
                        ],
                        "iteration": 20000,
                        "passed_time": 620.3183876,
                        "remaining_time": 930.4000454,
                        "test": [
                          0.9975443152,
                          0.007359911602
                        ]
                      },
                      {
                        "learn": [
                          0.9984499023,
                          0.005200717024
                        ],
                        "iteration": 20100,
                        "passed_time": 623.2825086,
                        "remaining_time": 927.0943597,
                        "test": [
                          0.9975443152,
                          0.007354589891
                        ]
                      },
                      {
                        "learn": [
                          0.9984561748,
                          0.005190809008
                        ],
                        "iteration": 20200,
                        "passed_time": 627.42992,
                        "remaining_time": 925.5375569,
                        "test": [
                          0.9975478435,
                          0.007348586814
                        ]
                      },
                      {
                        "learn": [
                          0.9984608792,
                          0.00518031256
                        ],
                        "iteration": 20300,
                        "passed_time": 630.0171416,
                        "remaining_time": 921.6727791,
                        "test": [
                          0.9975478435,
                          0.007340436274
                        ]
                      },
                      {
                        "learn": [
                          0.9984616633,
                          0.005170434788
                        ],
                        "iteration": 20400,
                        "passed_time": 632.6794746,
                        "remaining_time": 917.9295019,
                        "test": [
                          0.9975443152,
                          0.007335878622
                        ]
                      },
                      {
                        "learn": [
                          0.9984644075,
                          0.005161851796
                        ],
                        "iteration": 20500,
                        "passed_time": 635.2940568,
                        "remaining_time": 914.1280612,
                        "test": [
                          0.9975443152,
                          0.00732989708
                        ]
                      },
                      {
                        "learn": [
                          0.9984706801,
                          0.005153209081
                        ],
                        "iteration": 20600,
                        "passed_time": 639.6530831,
                        "remaining_time": 912.8275808,
                        "test": [
                          0.9975478435,
                          0.007323580455
                        ]
                      },
                      {
                        "learn": [
                          0.9984726402,
                          0.005144069817
                        ],
                        "iteration": 20700,
                        "passed_time": 642.2304981,
                        "remaining_time": 908.9759607,
                        "test": [
                          0.9975478435,
                          0.007318416379
                        ]
                      },
                      {
                        "learn": [
                          0.9984753845,
                          0.005135152602
                        ],
                        "iteration": 20800,
                        "passed_time": 644.8677012,
                        "remaining_time": 905.2205186,
                        "test": [
                          0.9975513718,
                          0.007313949173
                        ]
                      },
                      {
                        "learn": [
                          0.9984793048,
                          0.005125975436
                        ],
                        "iteration": 20900,
                        "passed_time": 647.5040204,
                        "remaining_time": 901.4745461,
                        "test": [
                          0.9975584284,
                          0.007307200127
                        ]
                      },
                      {
                        "learn": [
                          0.9984832251,
                          0.005117832716
                        ],
                        "iteration": 21000,
                        "passed_time": 651.1857436,
                        "remaining_time": 899.182676,
                        "test": [
                          0.9975619566,
                          0.007302695881
                        ]
                      },
                      {
                        "learn": [
                          0.9984836171,
                          0.005108606928
                        ],
                        "iteration": 21100,
                        "passed_time": 654.5256163,
                        "remaining_time": 896.4094491,
                        "test": [
                          0.9975549001,
                          0.007297459448
                        ]
                      },
                      {
                        "learn": [
                          0.9984863614,
                          0.005100654482
                        ],
                        "iteration": 21200,
                        "passed_time": 657.131372,
                        "remaining_time": 892.6336674,
                        "test": [
                          0.9975584284,
                          0.007292889736
                        ]
                      },
                      {
                        "learn": [
                          0.9984891056,
                          0.005092520567
                        ],
                        "iteration": 21300,
                        "passed_time": 659.7429807,
                        "remaining_time": 888.8767571,
                        "test": [
                          0.9975584284,
                          0.007287453458
                        ]
                      },
                      {
                        "learn": [
                          0.9984910658,
                          0.005084604873
                        ],
                        "iteration": 21400,
                        "passed_time": 662.3922723,
                        "remaining_time": 885.1809073,
                        "test": [
                          0.9975584284,
                          0.007283030184
                        ]
                      },
                      {
                        "learn": [
                          0.9984926339,
                          0.005076296764
                        ],
                        "iteration": 21500,
                        "passed_time": 666.7469565,
                        "remaining_time": 883.7552445,
                        "test": [
                          0.9975654849,
                          0.007279121164
                        ]
                      },
                      {
                        "learn": [
                          0.9984965542,
                          0.005068260858
                        ],
                        "iteration": 21600,
                        "passed_time": 669.3396888,
                        "remaining_time": 879.9860109,
                        "test": [
                          0.9975690132,
                          0.007271881982
                        ]
                      },
                      {
                        "learn": [
                          0.9984965542,
                          0.00506060703
                        ],
                        "iteration": 21700,
                        "passed_time": 671.9269197,
                        "remaining_time": 876.2204461,
                        "test": [
                          0.9975725415,
                          0.007266329416
                        ]
                      },
                      {
                        "learn": [
                          0.9984992985,
                          0.005054922554
                        ],
                        "iteration": 21800,
                        "passed_time": 674.5065467,
                        "remaining_time": 872.4558557,
                        "test": [
                          0.9975690132,
                          0.007264142329
                        ]
                      },
                      {
                        "learn": [
                          0.9985012586,
                          0.005049094512
                        ],
                        "iteration": 21900,
                        "passed_time": 678.9910277,
                        "remaining_time": 871.1460156,
                        "test": [
                          0.9975725415,
                          0.007261549523
                        ]
                      },
                      {
                        "learn": [
                          0.9985083152,
                          0.005041692596
                        ],
                        "iteration": 22000,
                        "passed_time": 681.5691108,
                        "remaining_time": 867.3811888,
                        "test": [
                          0.9975760698,
                          0.007258139252
                        ]
                      },
                      {
                        "learn": [
                          0.9985098833,
                          0.005034057528
                        ],
                        "iteration": 22100,
                        "passed_time": 684.1661589,
                        "remaining_time": 863.6510414,
                        "test": [
                          0.9975795981,
                          0.007254388729
                        ]
                      },
                      {
                        "learn": [
                          0.9985122355,
                          0.005025514735
                        ],
                        "iteration": 22200,
                        "passed_time": 686.8194466,
                        "remaining_time": 860.0015222,
                        "test": [
                          0.9975831263,
                          0.007247500136
                        ]
                      },
                      {
                        "learn": [
                          0.9985161559,
                          0.005017616269
                        ],
                        "iteration": 22300,
                        "passed_time": 690.3215005,
                        "remaining_time": 857.4151492,
                        "test": [
                          0.9975866546,
                          0.007242978662
                        ]
                      },
                      {
                        "learn": [
                          0.998517332,
                          0.005009426076
                        ],
                        "iteration": 22400,
                        "passed_time": 693.9517707,
                        "remaining_time": 854.9785688,
                        "test": [
                          0.9975831263,
                          0.007238931818
                        ]
                      },
                      {
                        "learn": [
                          0.998517724,
                          0.005002369486
                        ],
                        "iteration": 22500,
                        "passed_time": 696.545068,
                        "remaining_time": 851.2640693,
                        "test": [
                          0.9975937112,
                          0.007236194298
                        ]
                      },
                      {
                        "learn": [
                          0.9985185081,
                          0.00499354492
                        ],
                        "iteration": 22600,
                        "passed_time": 699.181515,
                        "remaining_time": 847.6118016,
                        "test": [
                          0.9975901829,
                          0.007231833045
                        ]
                      },
                      {
                        "learn": [
                          0.9985236045,
                          0.004984897993
                        ],
                        "iteration": 22700,
                        "passed_time": 701.7617666,
                        "remaining_time": 843.900906,
                        "test": [
                          0.9975972395,
                          0.007224402633
                        ]
                      },
                      {
                        "learn": [
                          0.9985271328,
                          0.004979300041
                        ],
                        "iteration": 22800,
                        "passed_time": 706.1522312,
                        "remaining_time": 842.359306,
                        "test": [
                          0.9976007678,
                          0.007221144398
                        ]
                      },
                      {
                        "learn": [
                          0.9985271328,
                          0.004972596816
                        ],
                        "iteration": 22900,
                        "passed_time": 708.7733034,
                        "remaining_time": 838.6990852,
                        "test": [
                          0.9976007678,
                          0.007216344262
                        ]
                      },
                      {
                        "learn": [
                          0.998530269,
                          0.004963121414
                        ],
                        "iteration": 23000,
                        "passed_time": 711.4041899,
                        "remaining_time": 835.0594201,
                        "test": [
                          0.9975901829,
                          0.007211666445
                        ]
                      },
                      {
                        "learn": [
                          0.9985326212,
                          0.004956461067
                        ],
                        "iteration": 23100,
                        "passed_time": 714.0135766,
                        "remaining_time": 831.4034542,
                        "test": [
                          0.9976007678,
                          0.007209370822
                        ]
                      },
                      {
                        "learn": [
                          0.9985349734,
                          0.004947987569
                        ],
                        "iteration": 23200,
                        "passed_time": 718.1351505,
                        "remaining_time": 829.5032066,
                        "test": [
                          0.9976007678,
                          0.007206180638
                        ]
                      },
                      {
                        "learn": [
                          0.9985373256,
                          0.004939786274
                        ],
                        "iteration": 23300,
                        "passed_time": 721.0154575,
                        "remaining_time": 826.1616111,
                        "test": [
                          0.997604296,
                          0.007201331833
                        ]
                      },
                      {
                        "learn": [
                          0.9985408539,
                          0.004933332281
                        ],
                        "iteration": 23400,
                        "passed_time": 723.643597,
                        "remaining_time": 822.537329,
                        "test": [
                          0.997604296,
                          0.007197126492
                        ]
                      },
                      {
                        "learn": [
                          0.9985443822,
                          0.004926341157
                        ],
                        "iteration": 23500,
                        "passed_time": 726.2173542,
                        "remaining_time": 818.8602046,
                        "test": [
                          0.9976007678,
                          0.007192599419
                        ]
                      },
                      {
                        "learn": [
                          0.9985455583,
                          0.004918630668
                        ],
                        "iteration": 23600,
                        "passed_time": 729.1680332,
                        "remaining_time": 815.614038,
                        "test": [
                          0.9976007678,
                          0.00718880195
                        ]
                      },
                      {
                        "learn": [
                          0.9985498707,
                          0.00491056222
                        ],
                        "iteration": 23700,
                        "passed_time": 733.275007,
                        "remaining_time": 813.6534074,
                        "test": [
                          0.9976078243,
                          0.007184507885
                        ]
                      },
                      {
                        "learn": [
                          0.9985522229,
                          0.004904255239
                        ],
                        "iteration": 23800,
                        "passed_time": 735.8565377,
                        "remaining_time": 809.9956066,
                        "test": [
                          0.9976007678,
                          0.007180069106
                        ]
                      },
                      {
                        "learn": [
                          0.9985573193,
                          0.00489485564
                        ],
                        "iteration": 23900,
                        "passed_time": 738.526075,
                        "remaining_time": 806.4429117,
                        "test": [
                          0.9976184092,
                          0.007171922442
                        ]
                      },
                      {
                        "learn": [
                          0.9985581034,
                          0.004887735115
                        ],
                        "iteration": 24000,
                        "passed_time": 741.1112824,
                        "remaining_time": 802.806226,
                        "test": [
                          0.9976219375,
                          0.007168106022
                        ]
                      },
                      {
                        "learn": [
                          0.9985581034,
                          0.00487821224
                        ],
                        "iteration": 24100,
                        "passed_time": 745.5203088,
                        "remaining_time": 801.1381469,
                        "test": [
                          0.9976325223,
                          0.007160488257
                        ]
                      },
                      {
                        "learn": [
                          0.9985643759,
                          0.004869335224
                        ],
                        "iteration": 24200,
                        "passed_time": 748.1644229,
                        "remaining_time": 797.5659661,
                        "test": [
                          0.997628994,
                          0.007157373014
                        ]
                      },
                      {
                        "learn": [
                          0.9985639839,
                          0.004864183285
                        ],
                        "iteration": 24300,
                        "passed_time": 750.7242948,
                        "remaining_time": 793.912335,
                        "test": [
                          0.9976325223,
                          0.007156296698
                        ]
                      },
                      {
                        "learn": [
                          0.9985682962,
                          0.004856964369
                        ],
                        "iteration": 24400,
                        "passed_time": 753.3052422,
                        "remaining_time": 790.2897789,
                        "test": [
                          0.9976254657,
                          0.007152682706
                        ]
                      },
                      {
                        "learn": [
                          0.9985714325,
                          0.004851068563
                        ],
                        "iteration": 24500,
                        "passed_time": 757.0569848,
                        "remaining_time": 787.8942107,
                        "test": [
                          0.997628994,
                          0.007150961204
                        ]
                      },
                      {
                        "learn": [
                          0.9985706484,
                          0.004845453765
                        ],
                        "iteration": 24600,
                        "passed_time": 760.2779489,
                        "remaining_time": 784.9396213,
                        "test": [
                          0.997628994,
                          0.007148643615
                        ]
                      },
                      {
                        "learn": [
                          0.9985745688,
                          0.004838775425
                        ],
                        "iteration": 24700,
                        "passed_time": 762.8744216,
                        "remaining_time": 781.3432651,
                        "test": [
                          0.9976254657,
                          0.007144508047
                        ]
                      },
                      {
                        "learn": [
                          0.998577705,
                          0.004832335598
                        ],
                        "iteration": 24800,
                        "passed_time": 765.4989335,
                        "remaining_time": 777.7834614,
                        "test": [
                          0.9976219375,
                          0.007141185639
                        ]
                      },
                      {
                        "learn": [
                          0.9985788811,
                          0.004825860165
                        ],
                        "iteration": 24900,
                        "passed_time": 768.0838389,
                        "remaining_time": 774.1912482,
                        "test": [
                          0.997628994,
                          0.007135589141
                        ]
                      },
                      {
                        "learn": [
                          0.9985800572,
                          0.004818670728
                        ],
                        "iteration": 25000,
                        "passed_time": 772.5494271,
                        "remaining_time": 772.4876257,
                        "test": [
                          0.9976360506,
                          0.007132047076
                        ]
                      },
                      {
                        "learn": [
                          0.9985839775,
                          0.004811629451
                        ],
                        "iteration": 25100,
                        "passed_time": 775.129669,
                        "remaining_time": 768.8918222,
                        "test": [
                          0.9976219375,
                          0.007129078271
                        ]
                      },
                      {
                        "learn": [
                          0.9985831935,
                          0.004804101197
                        ],
                        "iteration": 25200,
                        "passed_time": 777.7208981,
                        "remaining_time": 765.3148903,
                        "test": [
                          0.9976431071,
                          0.00712383107
                        ]
                      },
                      {
                        "learn": [
                          0.9985878979,
                          0.00479622417
                        ],
                        "iteration": 25300,
                        "passed_time": 780.3397057,
                        "remaining_time": 761.7726727,
                        "test": [
                          0.9976395789,
                          0.007118661395
                        ]
                      },
                      {
                        "learn": [
                          0.9985875058,
                          0.004789744527
                        ],
                        "iteration": 25400,
                        "passed_time": 784.732184,
                        "remaining_time": 759.9553953,
                        "test": [
                          0.9976360506,
                          0.007115601282
                        ]
                      },
                      {
                        "learn": [
                          0.9985929943,
                          0.004781976994
                        ],
                        "iteration": 25500,
                        "passed_time": 787.3274998,
                        "remaining_time": 756.3913736,
                        "test": [
                          0.997628994,
                          0.007111440734
                        ]
                      },
                      {
                        "learn": [
                          0.9985973067,
                          0.004775658145
                        ],
                        "iteration": 25600,
                        "passed_time": 789.9365169,
                        "remaining_time": 752.8479777,
                        "test": [
                          0.9976325223,
                          0.007108620519
                        ]
                      },
                      {
                        "learn": [
                          0.9985984828,
                          0.004766830133
                        ],
                        "iteration": 25700,
                        "passed_time": 792.523944,
                        "remaining_time": 749.2914406,
                        "test": [
                          0.9976431071,
                          0.007102804797
                        ]
                      },
                      {
                        "learn": [
                          0.998601619,
                          0.004760667485
                        ],
                        "iteration": 25800,
                        "passed_time": 795.6896218,
                        "remaining_time": 746.2847626,
                        "test": [
                          0.9976360506,
                          0.007100436385
                        ]
                      },
                      {
                        "learn": [
                          0.9986055393,
                          0.004753250255
                        ],
                        "iteration": 25900,
                        "passed_time": 799.5389282,
                        "remaining_time": 743.9129235,
                        "test": [
                          0.9976466354,
                          0.007096417106
                        ]
                      },
                      {
                        "learn": [
                          0.9986055393,
                          0.004747456669
                        ],
                        "iteration": 26000,
                        "passed_time": 802.1545509,
                        "remaining_time": 740.391026,
                        "test": [
                          0.9976466354,
                          0.007094543567
                        ]
                      },
                      {
                        "learn": [
                          0.9986090676,
                          0.004739842657
                        ],
                        "iteration": 26100,
                        "passed_time": 804.76101,
                        "remaining_time": 736.8676824,
                        "test": [
                          0.997653692,
                          0.007090087129
                        ]
                      },
                      {
                        "learn": [
                          0.9986102437,
                          0.004734433064
                        ],
                        "iteration": 26200,
                        "passed_time": 807.3336732,
                        "remaining_time": 733.32064,
                        "test": [
                          0.9976466354,
                          0.007086013582
                        ]
                      },
                      {
                        "learn": [
                          0.9986125959,
                          0.004728669339
                        ],
                        "iteration": 26300,
                        "passed_time": 811.7650896,
                        "remaining_time": 731.4558708,
                        "test": [
                          0.9976572203,
                          0.007083122733
                        ]
                      },
                      {
                        "learn": [
                          0.998613772,
                          0.004723680492
                        ],
                        "iteration": 26400,
                        "passed_time": 814.3358795,
                        "remaining_time": 727.9085042,
                        "test": [
                          0.9976466354,
                          0.007079441122
                        ]
                      },
                      {
                        "learn": [
                          0.9986149481,
                          0.004717642268
                        ],
                        "iteration": 26500,
                        "passed_time": 816.9566271,
                        "remaining_time": 724.4128063,
                        "test": [
                          0.9976466354,
                          0.007076130342
                        ]
                      },
                      {
                        "learn": [
                          0.9986169083,
                          0.004711089884
                        ],
                        "iteration": 26600,
                        "passed_time": 819.5409483,
                        "remaining_time": 720.8916451,
                        "test": [
                          0.9976501637,
                          0.007072530994
                        ]
                      },
                      {
                        "learn": [
                          0.9986212207,
                          0.004704530226
                        ],
                        "iteration": 26700,
                        "passed_time": 823.6523853,
                        "remaining_time": 718.7100455,
                        "test": [
                          0.9976431071,
                          0.007068895467
                        ]
                      },
                      {
                        "learn": [
                          0.9986231808,
                          0.004700262658
                        ],
                        "iteration": 26800,
                        "passed_time": 826.5242528,
                        "remaining_time": 715.4410709,
                        "test": [
                          0.9976431071,
                          0.007067326002
                        ]
                      },
                      {
                        "learn": [
                          0.9986223968,
                          0.004693078198
                        ],
                        "iteration": 26900,
                        "passed_time": 829.1118609,
                        "remaining_time": 711.9309644,
                        "test": [
                          0.9976431071,
                          0.007063518196
                        ]
                      },
                      {
                        "learn": [
                          0.998625533,
                          0.004686955365
                        ],
                        "iteration": 27000,
                        "passed_time": 831.7174783,
                        "remaining_time": 708.4430311,
                        "test": [
                          0.9976501637,
                          0.007059493748
                        ]
                      },
                      {
                        "learn": [
                          0.9986271011,
                          0.004680268603
                        ],
                        "iteration": 27100,
                        "passed_time": 834.5503299,
                        "remaining_time": 705.1536107,
                        "test": [
                          0.9976466354,
                          0.007058073735
                        ]
                      },
                      {
                        "learn": [
                          0.9986294533,
                          0.004673061555
                        ],
                        "iteration": 27200,
                        "passed_time": 838.7468111,
                        "remaining_time": 703.0104976,
                        "test": [
                          0.9976466354,
                          0.007055127757
                        ]
                      },
                      {
                        "learn": [
                          0.9986329816,
                          0.004667139715
                        ],
                        "iteration": 27300,
                        "passed_time": 841.3807768,
                        "remaining_time": 699.5532124,
                        "test": [
                          0.9976501637,
                          0.007053722818
                        ]
                      },
                      {
                        "learn": [
                          0.9986325896,
                          0.004662890524
                        ],
                        "iteration": 27400,
                        "passed_time": 843.9646799,
                        "remaining_time": 696.0606474,
                        "test": [
                          0.9976501637,
                          0.007051517641
                        ]
                      },
                      {
                        "learn": [
                          0.9986345498,
                          0.004656588903
                        ],
                        "iteration": 27500,
                        "passed_time": 846.5821598,
                        "remaining_time": 692.6021604,
                        "test": [
                          0.9976501637,
                          0.007047965239
                        ]
                      },
                      {
                        "learn": [
                          0.9986388621,
                          0.0046510568
                        ],
                        "iteration": 27600,
                        "passed_time": 851.0379105,
                        "remaining_time": 690.6415767,
                        "test": [
                          0.9976431071,
                          0.007043830533
                        ]
                      },
                      {
                        "learn": [
                          0.9986392542,
                          0.004645388404
                        ],
                        "iteration": 27700,
                        "passed_time": 853.6494784,
                        "remaining_time": 687.178431,
                        "test": [
                          0.9976501637,
                          0.007039931419
                        ]
                      },
                      {
                        "learn": [
                          0.9986419984,
                          0.004638152642
                        ],
                        "iteration": 27800,
                        "passed_time": 856.2444189,
                        "remaining_time": 683.7081348,
                        "test": [
                          0.997653692,
                          0.007034990014
                        ]
                      },
                      {
                        "learn": [
                          0.9986419984,
                          0.004632501091
                        ],
                        "iteration": 27900,
                        "passed_time": 858.8453478,
                        "remaining_time": 680.2488563,
                        "test": [
                          0.9976501637,
                          0.007032600929
                        ]
                      },
                      {
                        "learn": [
                          0.9986439586,
                          0.004626009962
                        ],
                        "iteration": 28000,
                        "passed_time": 862.5932575,
                        "remaining_time": 677.6968348,
                        "test": [
                          0.9976607486,
                          0.007028702246
                        ]
                      },
                      {
                        "learn": [
                          0.9986443506,
                          0.004619889427
                        ],
                        "iteration": 28100,
                        "passed_time": 865.9326914,
                        "remaining_time": 674.8179783,
                        "test": [
                          0.9976642768,
                          0.007025835085
                        ]
                      },
                      {
                        "learn": [
                          0.998648663,
                          0.004614152119
                        ],
                        "iteration": 28200,
                        "passed_time": 868.4959438,
                        "remaining_time": 671.3358774,
                        "test": [
                          0.9976572203,
                          0.007021784365
                        ]
                      },
                      {
                        "learn": [
                          0.9986514072,
                          0.004609144129
                        ],
                        "iteration": 28300,
                        "passed_time": 871.087229,
                        "remaining_time": 667.8817633,
                        "test": [
                          0.9976607486,
                          0.00701902531
                        ]
                      },
                      {
                        "learn": [
                          0.9986537594,
                          0.004604203521
                        ],
                        "iteration": 28400,
                        "passed_time": 873.7076225,
                        "remaining_time": 664.4558621,
                        "test": [
                          0.9976607486,
                          0.007016396326
                        ]
                      },
                      {
                        "learn": [
                          0.9986557195,
                          0.004598801967
                        ],
                        "iteration": 28500,
                        "passed_time": 878.1452206,
                        "remaining_time": 662.4063751,
                        "test": [
                          0.9976607486,
                          0.007013763035
                        ]
                      },
                      {
                        "learn": [
                          0.9986596399,
                          0.004593488851
                        ],
                        "iteration": 28600,
                        "passed_time": 880.724093,
                        "remaining_time": 658.9495076,
                        "test": [
                          0.9976642768,
                          0.007010506092
                        ]
                      },
                      {
                        "learn": [
                          0.9986616,
                          0.004588539437
                        ],
                        "iteration": 28700,
                        "passed_time": 883.3326061,
                        "remaining_time": 655.5207546,
                        "test": [
                          0.9976748617,
                          0.007009343206
                        ]
                      },
                      {
                        "learn": [
                          0.9986639522,
                          0.004583233212
                        ],
                        "iteration": 28800,
                        "passed_time": 885.9299376,
                        "remaining_time": 652.0894673,
                        "test": [
                          0.9976819183,
                          0.007004851881
                        ]
                      },
                      {
                        "learn": [
                          0.9986655204,
                          0.004576585499
                        ],
                        "iteration": 28900,
                        "passed_time": 890.4566631,
                        "remaining_time": 650.0724935,
                        "test": [
                          0.99767839,
                          0.007000249006
                        ]
                      },
                      {
                        "learn": [
                          0.9986666965,
                          0.004571285017
                        ],
                        "iteration": 29000,
                        "passed_time": 893.0426038,
                        "remaining_time": 646.6329312,
                        "test": [
                          0.9976854465,
                          0.00699814892
                        ]
                      },
                      {
                        "learn": [
                          0.9986666965,
                          0.004565008281
                        ],
                        "iteration": 29100,
                        "passed_time": 895.6337611,
                        "remaining_time": 643.2029818,
                        "test": [
                          0.9976748617,
                          0.006993943579
                        ]
                      },
                      {
                        "learn": [
                          0.9986666965,
                          0.004559146548
                        ],
                        "iteration": 29200,
                        "passed_time": 898.2274859,
                        "remaining_time": 639.7806061,
                        "test": [
                          0.99767839,
                          0.006991022581
                        ]
                      },
                      {
                        "learn": [
                          0.9986706168,
                          0.004552905417
                        ],
                        "iteration": 29300,
                        "passed_time": 901.6483646,
                        "remaining_time": 636.94821,
                        "test": [
                          0.9976713334,
                          0.006988290229
                        ]
                      },
                      {
                        "learn": [
                          0.998672969,
                          0.004546831206
                        ],
                        "iteration": 29400,
                        "passed_time": 905.2929174,
                        "remaining_time": 634.2685216,
                        "test": [
                          0.9976713334,
                          0.006984833873
                        ]
                      },
                      {
                        "learn": [
                          0.9986741451,
                          0.004542729792
                        ],
                        "iteration": 29500,
                        "passed_time": 907.843066,
                        "remaining_time": 630.8218369,
                        "test": [
                          0.9976678051,
                          0.006983298002
                        ]
                      },
                      {
                        "learn": [
                          0.9986764973,
                          0.004536080931
                        ],
                        "iteration": 29600,
                        "passed_time": 910.4735447,
                        "remaining_time": 627.4365676,
                        "test": [
                          0.9976748617,
                          0.006981137618
                        ]
                      },
                      {
                        "learn": [
                          0.9986772813,
                          0.00453019508
                        ],
                        "iteration": 29700,
                        "passed_time": 913.0766181,
                        "remaining_time": 624.0376509,
                        "test": [
                          0.9976819183,
                          0.006977975429
                        ]
                      },
                      {
                        "learn": [
                          0.9986792415,
                          0.004524724231
                        ],
                        "iteration": 29800,
                        "passed_time": 917.507524,
                        "remaining_time": 621.882973,
                        "test": [
                          0.9976748617,
                          0.006974737006
                        ]
                      },
                      {
                        "learn": [
                          0.9986780654,
                          0.004520598699
                        ],
                        "iteration": 29900,
                        "passed_time": 920.0747054,
                        "remaining_time": 618.4603024,
                        "test": [
                          0.9976748617,
                          0.006973272201
                        ]
                      },
                      {
                        "learn": [
                          0.9986812017,
                          0.004514789799
                        ],
                        "iteration": 30000,
                        "passed_time": 922.6669633,
                        "remaining_time": 615.0600513,
                        "test": [
                          0.9976889748,
                          0.006970284445
                        ]
                      },
                      {
                        "learn": [
                          0.9986819857,
                          0.004509224771
                        ],
                        "iteration": 30100,
                        "passed_time": 925.2941212,
                        "remaining_time": 611.6882402,
                        "test": [
                          0.9976889748,
                          0.00696769853
                        ]
                      },
                      {
                        "learn": [
                          0.9986859061,
                          0.004505657042
                        ],
                        "iteration": 30200,
                        "passed_time": 929.7363901,
                        "remaining_time": 609.5113005,
                        "test": [
                          0.9976889748,
                          0.006967079617
                        ]
                      },
                      {
                        "learn": [
                          0.9986882583,
                          0.004501422016
                        ],
                        "iteration": 30300,
                        "passed_time": 932.3238731,
                        "remaining_time": 606.1135928,
                        "test": [
                          0.9976854465,
                          0.006964784855
                        ]
                      },
                      {
                        "learn": [
                          0.9986910025,
                          0.004494682038
                        ],
                        "iteration": 30400,
                        "passed_time": 934.991255,
                        "remaining_time": 602.7727248,
                        "test": [
                          0.9976889748,
                          0.006960865067
                        ]
                      },
                      {
                        "learn": [
                          0.9986917866,
                          0.004490309571
                        ],
                        "iteration": 30500,
                        "passed_time": 937.5950138,
                        "remaining_time": 599.3955993,
                        "test": [
                          0.9976889748,
                          0.006958735262
                        ]
                      },
                      {
                        "learn": [
                          0.9986949228,
                          0.004484085668
                        ],
                        "iteration": 30600,
                        "passed_time": 940.783636,
                        "remaining_time": 596.3942928,
                        "test": [
                          0.9976854465,
                          0.006956350484
                        ]
                      },
                      {
                        "learn": [
                          0.9986953149,
                          0.004479341075
                        ],
                        "iteration": 30700,
                        "passed_time": 944.629579,
                        "remaining_time": 593.8049655,
                        "test": [
                          0.9976889748,
                          0.006955315946
                        ]
                      },
                      {
                        "learn": [
                          0.9986957069,
                          0.004472983559
                        ],
                        "iteration": 30800,
                        "passed_time": 947.253298,
                        "remaining_time": 590.4456371,
                        "test": [
                          0.9976819183,
                          0.006951257904
                        ]
                      },
                      {
                        "learn": [
                          0.9987000192,
                          0.004468590418
                        ],
                        "iteration": 30900,
                        "passed_time": 949.8174503,
                        "remaining_time": 587.0542533,
                        "test": [
                          0.9976819183,
                          0.006948241292
                        ]
                      },
                      {
                        "learn": [
                          0.9986984511,
                          0.004463062143
                        ],
                        "iteration": 31000,
                        "passed_time": 952.4253612,
                        "remaining_time": 583.695024,
                        "test": [
                          0.9976854465,
                          0.006947392385
                        ]
                      },
                      {
                        "learn": [
                          0.9987019794,
                          0.004456662897
                        ],
                        "iteration": 31100,
                        "passed_time": 956.8433274,
                        "remaining_time": 581.4405339,
                        "test": [
                          0.9976925031,
                          0.006943768487
                        ]
                      },
                      {
                        "learn": [
                          0.9987011953,
                          0.004452655663
                        ],
                        "iteration": 31200,
                        "passed_time": 959.4021276,
                        "remaining_time": 578.0520046,
                        "test": [
                          0.9976889748,
                          0.006942473807
                        ]
                      },
                      {
                        "learn": [
                          0.9987027635,
                          0.004446931755
                        ],
                        "iteration": 31300,
                        "passed_time": 962.0385188,
                        "remaining_time": 574.7151293,
                        "test": [
                          0.9976960314,
                          0.006941381986
                        ]
                      },
                      {
                        "learn": [
                          0.9987031555,
                          0.004442683329
                        ],
                        "iteration": 31400,
                        "passed_time": 964.6407867,
                        "remaining_time": 571.3625041,
                        "test": [
                          0.9976995597,
                          0.006939929671
                        ]
                      },
                      {
                        "learn": [
                          0.9987035475,
                          0.004437219372
                        ],
                        "iteration": 31500,
                        "passed_time": 968.6455756,
                        "remaining_time": 568.8382751,
                        "test": [
                          0.9976925031,
                          0.006937212393
                        ]
                      },
                      {
                        "learn": [
                          0.9987062918,
                          0.004432276849
                        ],
                        "iteration": 31600,
                        "passed_time": 971.6088456,
                        "remaining_time": 565.6982738,
                        "test": [
                          0.9976925031,
                          0.006935096802
                        ]
                      },
                      {
                        "learn": [
                          0.998709036,
                          0.00442794458
                        ],
                        "iteration": 31700,
                        "passed_time": 974.2285865,
                        "remaining_time": 562.3610897,
                        "test": [
                          0.9976995597,
                          0.006932837357
                        ]
                      },
                      {
                        "learn": [
                          0.998709036,
                          0.0044238826
                        ],
                        "iteration": 31800,
                        "passed_time": 976.8120455,
                        "remaining_time": 559.0076544,
                        "test": [
                          0.9976995597,
                          0.006929832373
                        ]
                      },
                      {
                        "learn": [
                          0.9987129563,
                          0.004419342447
                        ],
                        "iteration": 31900,
                        "passed_time": 979.5145744,
                        "remaining_time": 555.7266005,
                        "test": [
                          0.9977066162,
                          0.006927671128
                        ]
                      },
                      {
                        "learn": [
                          0.9987160926,
                          0.004415420205
                        ],
                        "iteration": 32000,
                        "passed_time": 983.7263751,
                        "remaining_time": 553.298054,
                        "test": [
                          0.997703088,
                          0.006926417364
                        ]
                      },
                      {
                        "learn": [
                          0.9987168767,
                          0.004410101728
                        ],
                        "iteration": 32100,
                        "passed_time": 986.339348,
                        "remaining_time": 549.9669166,
                        "test": [
                          0.9976995597,
                          0.0069236652
                        ]
                      },
                      {
                        "learn": [
                          0.9987180528,
                          0.004405331868
                        ],
                        "iteration": 32200,
                        "passed_time": 988.9086749,
                        "remaining_time": 546.6161145,
                        "test": [
                          0.9977066162,
                          0.006919673917
                        ]
                      },
                      {
                        "learn": [
                          0.9987227572,
                          0.004400522958
                        ],
                        "iteration": 32300,
                        "passed_time": 991.508576,
                        "remaining_time": 543.286904,
                        "test": [
                          0.9977101445,
                          0.006916750765
                        ]
                      },
                      {
                        "learn": [
                          0.9987227572,
                          0.00439557699
                        ],
                        "iteration": 32400,
                        "passed_time": 995.9867948,
                        "remaining_time": 540.9824265,
                        "test": [
                          0.9977066162,
                          0.006913629062
                        ]
                      },
                      {
                        "learn": [
                          0.9987270695,
                          0.004391213328
                        ],
                        "iteration": 32500,
                        "passed_time": 998.5444134,
                        "remaining_time": 537.6304941,
                        "test": [
                          0.9977101445,
                          0.006912001022
                        ]
                      },
                      {
                        "learn": [
                          0.9987258934,
                          0.004386116902
                        ],
                        "iteration": 32600,
                        "passed_time": 1001.138324,
                        "remaining_time": 534.3028034,
                        "test": [
                          0.9977101445,
                          0.006907793527
                        ]
                      },
                      {
                        "learn": [
                          0.9987270695,
                          0.004381688922
                        ],
                        "iteration": 32700,
                        "passed_time": 1003.712186,
                        "remaining_time": 530.968995,
                        "test": [
                          0.997703088,
                          0.006905377739
                        ]
                      },
                      {
                        "learn": [
                          0.9987282456,
                          0.004377555732
                        ],
                        "iteration": 32800,
                        "passed_time": 1007.018604,
                        "remaining_time": 528.0239311,
                        "test": [
                          0.997703088,
                          0.00690423768
                        ]
                      },
                      {
                        "learn": [
                          0.9987321659,
                          0.00437181919
                        ],
                        "iteration": 32900,
                        "passed_time": 1010.70771,
                        "remaining_time": 525.2755579,
                        "test": [
                          0.997703088,
                          0.006901383871
                        ]
                      },
                      {
                        "learn": [
                          0.998733342,
                          0.004368000699
                        ],
                        "iteration": 33000,
                        "passed_time": 1013.329917,
                        "remaining_time": 521.9719176,
                        "test": [
                          0.997703088,
                          0.006900080146
                        ]
                      },
                      {
                        "learn": [
                          0.9987349102,
                          0.004363228159
                        ],
                        "iteration": 33100,
                        "passed_time": 1015.903393,
                        "remaining_time": 518.6475162,
                        "test": [
                          0.9976995597,
                          0.006897781508
                        ]
                      },
                      {
                        "learn": [
                          0.9987360863,
                          0.004358640533
                        ],
                        "iteration": 33200,
                        "passed_time": 1018.501361,
                        "remaining_time": 515.3400308,
                        "test": [
                          0.9977066162,
                          0.006896817174
                        ]
                      },
                      {
                        "learn": [
                          0.9987364783,
                          0.004354815533
                        ],
                        "iteration": 33300,
                        "passed_time": 1023.026671,
                        "remaining_time": 513.0032847,
                        "test": [
                          0.9977136728,
                          0.006894444886
                        ]
                      },
                      {
                        "learn": [
                          0.9987372624,
                          0.004350810979
                        ],
                        "iteration": 33400,
                        "passed_time": 1025.620434,
                        "remaining_time": 509.6935294,
                        "test": [
                          0.9977101445,
                          0.006892582976
                        ]
                      },
                      {
                        "learn": [
                          0.9987400066,
                          0.004345659423
                        ],
                        "iteration": 33500,
                        "passed_time": 1028.248059,
                        "remaining_time": 506.4047259,
                        "test": [
                          0.9977066162,
                          0.006890964842
                        ]
                      },
                      {
                        "learn": [
                          0.9987400066,
                          0.004341062226
                        ],
                        "iteration": 33600,
                        "passed_time": 1030.837663,
                        "remaining_time": 503.1013014,
                        "test": [
                          0.9977066162,
                          0.006888631317
                        ]
                      },
                      {
                        "learn": [
                          0.9987419668,
                          0.004336280881
                        ],
                        "iteration": 33700,
                        "passed_time": 1034.96222,
                        "remaining_time": 500.5444712,
                        "test": [
                          0.9977136728,
                          0.006886535968
                        ]
                      },
                      {
                        "learn": [
                          0.9987431429,
                          0.004333259855
                        ],
                        "iteration": 33800,
                        "passed_time": 1037.914609,
                        "remaining_time": 497.4166077,
                        "test": [
                          0.9977207294,
                          0.006884865719
                        ]
                      },
                      {
                        "learn": [
                          0.998745103,
                          0.004329521761
                        ],
                        "iteration": 33900,
                        "passed_time": 1040.497646,
                        "remaining_time": 494.1143803,
                        "test": [
                          0.9977207294,
                          0.006883418572
                        ]
                      },
                      {
                        "learn": [
                          0.998744319,
                          0.004323439893
                        ],
                        "iteration": 34000,
                        "passed_time": 1043.100676,
                        "remaining_time": 490.8257909,
                        "test": [
                          0.9977242576,
                          0.006879653405
                        ]
                      },
                      {
                        "learn": [
                          0.9987466712,
                          0.004319454481
                        ],
                        "iteration": 34100,
                        "passed_time": 1045.8558,
                        "remaining_time": 487.6121336,
                        "test": [
                          0.9977242576,
                          0.006877017961
                        ]
                      },
                      {
                        "learn": [
                          0.9987462791,
                          0.00431486341
                        ],
                        "iteration": 34200,
                        "passed_time": 1050.067475,
                        "remaining_time": 485.0740048,
                        "test": [
                          0.9977242576,
                          0.00687439716
                        ]
                      },
                      {
                        "learn": [
                          0.9987490233,
                          0.004310105418
                        ],
                        "iteration": 34300,
                        "passed_time": 1052.636552,
                        "remaining_time": 481.7743283,
                        "test": [
                          0.9977277859,
                          0.006871958114
                        ]
                      },
                      {
                        "learn": [
                          0.9987509835,
                          0.00430578272
                        ],
                        "iteration": 34400,
                        "passed_time": 1055.269609,
                        "remaining_time": 478.5079108,
                        "test": [
                          0.9977242576,
                          0.006869221455
                        ]
                      },
                      {
                        "learn": [
                          0.9987525516,
                          0.004300144569
                        ],
                        "iteration": 34500,
                        "passed_time": 1057.94177,
                        "remaining_time": 475.2627311,
                        "test": [
                          0.9977348425,
                          0.006867148503
                        ]
                      },
                      {
                        "learn": [
                          0.9987545118,
                          0.004296360151
                        ],
                        "iteration": 34600,
                        "passed_time": 1062.444742,
                        "remaining_time": 472.8356576,
                        "test": [
                          0.9977348425,
                          0.006865481269
                        ]
                      },
                      {
                        "learn": [
                          0.9987556879,
                          0.004291884315
                        ],
                        "iteration": 34700,
                        "passed_time": 1065.021216,
                        "remaining_time": 469.5472635,
                        "test": [
                          0.9977348425,
                          0.006862359996
                        ]
                      },
                      {
                        "learn": [
                          0.9987584321,
                          0.004287184899
                        ],
                        "iteration": 34800,
                        "passed_time": 1067.592296,
                        "remaining_time": 466.2606047,
                        "test": [
                          0.9977313142,
                          0.006860343465
                        ]
                      },
                      {
                        "learn": [
                          0.998757256,
                          0.004283896647
                        ],
                        "iteration": 34900,
                        "passed_time": 1070.174346,
                        "remaining_time": 462.9827929,
                        "test": [
                          0.9977242576,
                          0.00685982232
                        ]
                      },
                      {
                        "learn": [
                          0.9987584321,
                          0.004280137114
                        ],
                        "iteration": 35000,
                        "passed_time": 1073.899225,
                        "remaining_time": 460.1986938,
                        "test": [
                          0.9977277859,
                          0.006858642206
                        ]
                      },
                      {
                        "learn": [
                          0.9987584321,
                          0.004276632172
                        ],
                        "iteration": 35100,
                        "passed_time": 1077.218185,
                        "remaining_time": 457.2369372,
                        "test": [
                          0.9977313142,
                          0.00685710978
                        ]
                      },
                      {
                        "learn": [
                          0.9987607843,
                          0.004272731369
                        ],
                        "iteration": 35200,
                        "passed_time": 1079.820529,
                        "remaining_time": 453.9718761,
                        "test": [
                          0.9977313142,
                          0.006854790469
                        ]
                      },
                      {
                        "learn": [
                          0.9987639206,
                          0.004268589757
                        ],
                        "iteration": 35300,
                        "passed_time": 1082.406658,
                        "remaining_time": 450.7038174,
                        "test": [
                          0.9977383708,
                          0.006852437132
                        ]
                      },
                      {
                        "learn": [
                          0.9987674489,
                          0.004263707341
                        ],
                        "iteration": 35400,
                        "passed_time": 1085.059889,
                        "remaining_time": 447.4672839,
                        "test": [
                          0.9977348425,
                          0.0068499085
                        ]
                      },
                      {
                        "learn": [
                          0.9987705852,
                          0.004258460074
                        ],
                        "iteration": 35500,
                        "passed_time": 1089.465638,
                        "remaining_time": 444.9497842,
                        "test": [
                          0.9977348425,
                          0.006846604181
                        ]
                      },
                      {
                        "learn": [
                          0.9987713692,
                          0.004254261035
                        ],
                        "iteration": 35600,
                        "passed_time": 1092.053342,
                        "remaining_time": 441.6863591,
                        "test": [
                          0.9977313142,
                          0.006846168314
                        ]
                      },
                      {
                        "learn": [
                          0.9987729373,
                          0.004250608315
                        ],
                        "iteration": 35700,
                        "passed_time": 1094.646159,
                        "remaining_time": 438.4287674,
                        "test": [
                          0.9977313142,
                          0.00684431631
                        ]
                      },
                      {
                        "learn": [
                          0.9987752895,
                          0.004246879793
                        ],
                        "iteration": 35800,
                        "passed_time": 1097.208802,
                        "remaining_time": 435.1629223,
                        "test": [
                          0.9977242576,
                          0.00684369955
                        ]
                      },
                      {
                        "learn": [
                          0.9987741134,
                          0.004242946448
                        ],
                        "iteration": 35900,
                        "passed_time": 1101.614961,
                        "remaining_time": 432.6249781,
                        "test": [
                          0.9977242576,
                          0.00684161583
                        ]
                      },
                      {
                        "learn": [
                          0.9987737214,
                          0.004238170462
                        ],
                        "iteration": 36000,
                        "passed_time": 1104.192765,
                        "remaining_time": 429.3656985,
                        "test": [
                          0.9977313142,
                          0.006839930937
                        ]
                      },
                      {
                        "learn": [
                          0.9987784258,
                          0.0042335591
                        ],
                        "iteration": 36100,
                        "passed_time": 1106.828629,
                        "remaining_time": 426.1325478,
                        "test": [
                          0.9977313142,
                          0.006837360959
                        ]
                      },
                      {
                        "learn": [
                          0.9987760736,
                          0.004229495205
                        ],
                        "iteration": 36200,
                        "passed_time": 1109.445511,
                        "remaining_time": 422.8954618,
                        "test": [
                          0.9977242576,
                          0.006834639805
                        ]
                      },
                      {
                        "learn": [
                          0.998780778,
                          0.004224922128
                        ],
                        "iteration": 36300,
                        "passed_time": 1112.80681,
                        "remaining_time": 419.9427146,
                        "test": [
                          0.9977313142,
                          0.006833115132
                        ]
                      },
                      {
                        "learn": [
                          0.9987764656,
                          0.004220196678
                        ],
                        "iteration": 36400,
                        "passed_time": 1116.375559,
                        "remaining_time": 417.0652243,
                        "test": [
                          0.9977348425,
                          0.006830791513
                        ]
                      },
                      {
                        "learn": [
                          0.9987780338,
                          0.004216408431
                        ],
                        "iteration": 36500,
                        "passed_time": 1119.00005,
                        "remaining_time": 413.8347355,
                        "test": [
                          0.9977348425,
                          0.00682850192
                        ]
                      },
                      {
                        "learn": [
                          0.9987799939,
                          0.004211897374
                        ],
                        "iteration": 36600,
                        "passed_time": 1121.61342,
                        "remaining_time": 410.6034865,
                        "test": [
                          0.9977348425,
                          0.006827024193
                        ]
                      },
                      {
                        "learn": [
                          0.99878117,
                          0.00420897359
                        ],
                        "iteration": 36700,
                        "passed_time": 1124.176307,
                        "remaining_time": 407.3573121,
                        "test": [
                          0.9977277859,
                          0.006825799286
                        ]
                      },
                      {
                        "learn": [
                          0.99878117,
                          0.004205322019
                        ],
                        "iteration": 36800,
                        "passed_time": 1128.664834,
                        "remaining_time": 404.8054983,
                        "test": [
                          0.9977348425,
                          0.006824508913
                        ]
                      },
                      {
                        "learn": [
                          0.9987835222,
                          0.004201270758
                        ],
                        "iteration": 36900,
                        "passed_time": 1131.287736,
                        "remaining_time": 401.5809344,
                        "test": [
                          0.9977313142,
                          0.006822079343
                        ]
                      },
                      {
                        "learn": [
                          0.9987854824,
                          0.004196917433
                        ],
                        "iteration": 37000,
                        "passed_time": 1133.872617,
                        "remaining_time": 398.3462651,
                        "test": [
                          0.9977383708,
                          0.006819844878
                        ]
                      },
                      {
                        "learn": [
                          0.9987878346,
                          0.004192806066
                        ],
                        "iteration": 37100,
                        "passed_time": 1136.494938,
                        "remaining_time": 395.1281153,
                        "test": [
                          0.9977383708,
                          0.006817597063
                        ]
                      },
                      {
                        "learn": [
                          0.9987913629,
                          0.004187984139
                        ],
                        "iteration": 37200,
                        "passed_time": 1140.927167,
                        "remaining_time": 392.5358678,
                        "test": [
                          0.9977418991,
                          0.006815411267
                        ]
                      },
                      {
                        "learn": [
                          0.998792931,
                          0.00418427361
                        ],
                        "iteration": 37300,
                        "passed_time": 1143.65376,
                        "remaining_time": 389.3530763,
                        "test": [
                          0.9977383708,
                          0.006814276807
                        ]
                      },
                      {
                        "learn": [
                          0.9987937151,
                          0.004180539727
                        ],
                        "iteration": 37400,
                        "passed_time": 1146.246091,
                        "remaining_time": 386.1274967,
                        "test": [
                          0.9977454273,
                          0.00681295284
                        ]
                      },
                      {
                        "learn": [
                          0.9987948912,
                          0.004177827274
                        ],
                        "iteration": 37500,
                        "passed_time": 1148.837828,
                        "remaining_time": 382.9050962,
                        "test": [
                          0.9977454273,
                          0.006811669358
                        ]
                      },
                      {
                        "learn": [
                          0.9987964593,
                          0.004173069282
                        ],
                        "iteration": 37600,
                        "passed_time": 1151.89775,
                        "remaining_time": 379.8404352,
                        "test": [
                          0.9977348425,
                          0.006809007641
                        ]
                      },
                      {
                        "learn": [
                          0.9987964593,
                          0.004168775681
                        ],
                        "iteration": 37700,
                        "passed_time": 1155.775728,
                        "remaining_time": 377.0426695,
                        "test": [
                          0.9977418991,
                          0.006805921686
                        ]
                      },
                      {
                        "learn": [
                          0.9988007717,
                          0.004164245481
                        ],
                        "iteration": 37800,
                        "passed_time": 1158.37851,
                        "remaining_time": 373.8276617,
                        "test": [
                          0.9977489556,
                          0.006802935222
                        ]
                      },
                      {
                        "learn": [
                          0.9988015557,
                          0.004161113047
                        ],
                        "iteration": 37900,
                        "passed_time": 1160.961887,
                        "remaining_time": 370.6096902,
                        "test": [
                          0.9977454273,
                          0.006801944615
                        ]
                      },
                      {
                        "learn": [
                          0.9988023398,
                          0.004157923952
                        ],
                        "iteration": 38000,
                        "passed_time": 1163.533804,
                        "remaining_time": 367.39144,
                        "test": [
                          0.9977418991,
                          0.006800685683
                        ]
                      },
                      {
                        "learn": [
                          0.9988027318,
                          0.004155228727
                        ],
                        "iteration": 38100,
                        "passed_time": 1167.95113,
                        "remaining_time": 364.7529066,
                        "test": [
                          0.9977489556,
                          0.006799738577
                        ]
                      },
                      {
                        "learn": [
                          0.9988035159,
                          0.004152133812
                        ],
                        "iteration": 38200,
                        "passed_time": 1170.514866,
                        "remaining_time": 361.5325489,
                        "test": [
                          0.9977489556,
                          0.00679760102
                        ]
                      },
                      {
                        "learn": [
                          0.9988023398,
                          0.004147518238
                        ],
                        "iteration": 38300,
                        "passed_time": 1173.155623,
                        "remaining_time": 358.3391459,
                        "test": [
                          0.9977489556,
                          0.006794777791
                        ]
                      },
                      {
                        "learn": [
                          0.9988043,
                          0.004144816504
                        ],
                        "iteration": 38400,
                        "passed_time": 1175.720158,
                        "remaining_time": 355.1255985,
                        "test": [
                          0.9977560122,
                          0.006794064554
                        ]
                      },
                      {
                        "learn": [
                          0.9988062601,
                          0.004140026737
                        ],
                        "iteration": 38500,
                        "passed_time": 1179.738293,
                        "remaining_time": 352.3495658,
                        "test": [
                          0.9977560122,
                          0.006791384747
                        ]
                      },
                      {
                        "learn": [
                          0.9988093964,
                          0.004136597981
                        ],
                        "iteration": 38600,
                        "passed_time": 1182.798354,
                        "remaining_time": 349.2841748,
                        "test": [
                          0.9977560122,
                          0.006789736464
                        ]
                      },
                      {
                        "learn": [
                          0.9988105725,
                          0.004133461336
                        ],
                        "iteration": 38700,
                        "passed_time": 1185.348287,
                        "remaining_time": 346.0698765,
                        "test": [
                          0.9977630688,
                          0.006788696327
                        ]
                      },
                      {
                        "learn": [
                          0.9988125327,
                          0.004129373322
                        ],
                        "iteration": 38800,
                        "passed_time": 1187.959439,
                        "remaining_time": 342.8766723,
                        "test": [
                          0.9977489556,
                          0.006787862925
                        ]
                      },
                      {
                        "learn": [
                          0.9988141008,
                          0.004125168923
                        ],
                        "iteration": 38900,
                        "passed_time": 1190.591848,
                        "remaining_time": 339.6925252,
                        "test": [
                          0.9977560122,
                          0.006787498554
                        ]
                      },
                      {
                        "learn": [
                          0.998816453,
                          0.004121735191
                        ],
                        "iteration": 39000,
                        "passed_time": 1194.890819,
                        "remaining_time": 336.9812086,
                        "test": [
                          0.9977595405,
                          0.006785758101
                        ]
                      },
                      {
                        "learn": [
                          0.9988152769,
                          0.004117605447
                        ],
                        "iteration": 39100,
                        "passed_time": 1197.486682,
                        "remaining_time": 333.7870476,
                        "test": [
                          0.9977560122,
                          0.006784580571
                        ]
                      },
                      {
                        "learn": [
                          0.998816845,
                          0.004113818732
                        ],
                        "iteration": 39200,
                        "passed_time": 1200.095629,
                        "remaining_time": 330.5995433,
                        "test": [
                          0.9977560122,
                          0.006783973717
                        ]
                      },
                      {
                        "learn": [
                          0.9988184132,
                          0.004110823356
                        ],
                        "iteration": 39300,
                        "passed_time": 1202.694711,
                        "remaining_time": 327.4122978,
                        "test": [
                          0.9977560122,
                          0.006784034876
                        ]
                      },
                      {
                        "learn": [
                          0.9988199813,
                          0.00410713886
                        ],
                        "iteration": 39400,
                        "passed_time": 1207.11918,
                        "remaining_time": 324.7190728,
                        "test": [
                          0.9977595405,
                          0.006781412353
                        ]
                      },
                      {
                        "learn": [
                          0.9988223335,
                          0.004104109029
                        ],
                        "iteration": 39500,
                        "passed_time": 1209.700252,
                        "remaining_time": 321.5271245,
                        "test": [
                          0.9977630688,
                          0.006780960981
                        ]
                      },
                      {
                        "learn": [
                          0.9988239016,
                          0.004099272171
                        ],
                        "iteration": 39600,
                        "passed_time": 1212.335846,
                        "remaining_time": 318.3525786,
                        "test": [
                          0.9977595405,
                          0.006778789829
                        ]
                      },
                      {
                        "learn": [
                          0.9988242936,
                          0.004096033689
                        ],
                        "iteration": 39700,
                        "passed_time": 1214.921227,
                        "remaining_time": 315.1677217,
                        "test": [
                          0.9977701253,
                          0.006777271617
                        ]
                      },
                      {
                        "learn": [
                          0.9988250777,
                          0.004093324681
                        ],
                        "iteration": 39800,
                        "passed_time": 1218.072114,
                        "remaining_time": 312.1307879,
                        "test": [
                          0.9977736536,
                          0.006776821106
                        ]
                      },
                      {
                        "learn": [
                          0.9988246857,
                          0.004088225192
                        ],
                        "iteration": 39900,
                        "passed_time": 1221.91791,
                        "remaining_time": 309.2691655,
                        "test": [
                          0.9977736536,
                          0.006774761505
                        ]
                      },
                      {
                        "learn": [
                          0.9988262538,
                          0.004084345446
                        ],
                        "iteration": 40000,
                        "passed_time": 1224.505197,
                        "remaining_time": 306.0880344,
                        "test": [
                          0.9977736536,
                          0.00677303182
                        ]
                      },
                      {
                        "learn": [
                          0.998828998,
                          0.004080446174
                        ],
                        "iteration": 40100,
                        "passed_time": 1227.106143,
                        "remaining_time": 302.9132368,
                        "test": [
                          0.9977771819,
                          0.006772510675
                        ]
                      },
                      {
                        "learn": [
                          0.998828606,
                          0.004076964586
                        ],
                        "iteration": 40200,
                        "passed_time": 1229.672593,
                        "remaining_time": 299.7328856,
                        "test": [
                          0.9977842385,
                          0.006770398959
                        ]
                      },
                      {
                        "learn": [
                          0.998828606,
                          0.004073270136
                        ],
                        "iteration": 40300,
                        "passed_time": 1234.172334,
                        "remaining_time": 297.0208549,
                        "test": [
                          0.9977771819,
                          0.006769100834
                        ]
                      },
                      {
                        "learn": [
                          0.9988321343,
                          0.004070693975
                        ],
                        "iteration": 40400,
                        "passed_time": 1236.7436,
                        "remaining_time": 293.8417815,
                        "test": [
                          0.9977701253,
                          0.006768834232
                        ]
                      },
                      {
                        "learn": [
                          0.9988333104,
                          0.004067896148
                        ],
                        "iteration": 40500,
                        "passed_time": 1239.336839,
                        "remaining_time": 290.6708632,
                        "test": [
                          0.9977771819,
                          0.00676814296
                        ]
                      },
                      {
                        "learn": [
                          0.9988329184,
                          0.004064646563
                        ],
                        "iteration": 40600,
                        "passed_time": 1241.923288,
                        "remaining_time": 287.5012187,
                        "test": [
                          0.9977701253,
                          0.006767799694
                        ]
                      },
                      {
                        "learn": [
                          0.9988329184,
                          0.004060097222
                        ],
                        "iteration": 40700,
                        "passed_time": 1246.060264,
                        "remaining_time": 284.6886905,
                        "test": [
                          0.9977771819,
                          0.006764306728
                        ]
                      },
                      {
                        "learn": [
                          0.9988340945,
                          0.004057064327
                        ],
                        "iteration": 40800,
                        "passed_time": 1248.917468,
                        "remaining_time": 281.5811324,
                        "test": [
                          0.9977736536,
                          0.006761455073
                        ]
                      },
                      {
                        "learn": [
                          0.9988356626,
                          0.004054308613
                        ],
                        "iteration": 40900,
                        "passed_time": 1251.486165,
                        "remaining_time": 278.4106163,
                        "test": [
                          0.9977736536,
                          0.006760981735
                        ]
                      },
                      {
                        "learn": [
                          0.9988364467,
                          0.004051202595
                        ],
                        "iteration": 41000,
                        "passed_time": 1254.070785,
                        "remaining_time": 275.2465305,
                        "test": [
                          0.9977736536,
                          0.006760463605
                        ]
                      },
                      {
                        "learn": [
                          0.9988368387,
                          0.004048026134
                        ],
                        "iteration": 41100,
                        "passed_time": 1256.766702,
                        "remaining_time": 272.1093618,
                        "test": [
                          0.9977771819,
                          0.00675969007
                        ]
                      },
                      {
                        "learn": [
                          0.9988364467,
                          0.004045519651
                        ],
                        "iteration": 41200,
                        "passed_time": 1261.060243,
                        "remaining_time": 269.3155282,
                        "test": [
                          0.9977771819,
                          0.006758798524
                        ]
                      },
                      {
                        "learn": [
                          0.9988380148,
                          0.004041831709
                        ],
                        "iteration": 41300,
                        "passed_time": 1263.67449,
                        "remaining_time": 266.1607318,
                        "test": [
                          0.9977771819,
                          0.006757854864
                        ]
                      },
                      {
                        "learn": [
                          0.9988411511,
                          0.004038161762
                        ],
                        "iteration": 41400,
                        "passed_time": 1266.2749,
                        "remaining_time": 263.0056729,
                        "test": [
                          0.9977701253,
                          0.00675604593
                        ]
                      },
                      {
                        "learn": [
                          0.9988411511,
                          0.00403452627
                        ],
                        "iteration": 41500,
                        "passed_time": 1268.855422,
                        "remaining_time": 259.849214,
                        "test": [
                          0.9977701253,
                          0.006754225367
                        ]
                      },
                      {
                        "learn": [
                          0.9988411511,
                          0.004031737631
                        ],
                        "iteration": 41600,
                        "passed_time": 1273.326669,
                        "remaining_time": 257.0772505,
                        "test": [
                          0.9977771819,
                          0.006753081862
                        ]
                      },
                      {
                        "learn": [
                          0.9988442873,
                          0.00402833912
                        ],
                        "iteration": 41700,
                        "passed_time": 1275.955019,
                        "remaining_time": 253.9303782,
                        "test": [
                          0.9977771819,
                          0.00675180441
                        ]
                      },
                      {
                        "learn": [
                          0.9988454634,
                          0.004023740391
                        ],
                        "iteration": 41800,
                        "passed_time": 1278.562734,
                        "remaining_time": 250.7819397,
                        "test": [
                          0.9977807102,
                          0.00674973878
                        ]
                      },
                      {
                        "learn": [
                          0.9988470315,
                          0.004020668447
                        ],
                        "iteration": 41900,
                        "passed_time": 1281.141382,
                        "remaining_time": 247.6304636,
                        "test": [
                          0.9977771819,
                          0.006747554276
                        ]
                      },
                      {
                        "learn": [
                          0.9988482076,
                          0.004017151637
                        ],
                        "iteration": 42000,
                        "passed_time": 1284.772023,
                        "remaining_time": 244.6820651,
                        "test": [
                          0.9977842385,
                          0.006746703647
                        ]
                      },
                      {
                        "learn": [
                          0.9988482076,
                          0.004014447606
                        ],
                        "iteration": 42100,
                        "passed_time": 1288.205301,
                        "remaining_time": 241.6933962,
                        "test": [
                          0.9977807102,
                          0.006746102392
                        ]
                      },
                      {
                        "learn": [
                          0.9988493837,
                          0.004010616864
                        ],
                        "iteration": 42200,
                        "passed_time": 1290.810229,
                        "remaining_time": 238.5495362,
                        "test": [
                          0.9977807102,
                          0.006744638878
                        ]
                      },
                      {
                        "learn": [
                          0.9988505598,
                          0.004007838561
                        ],
                        "iteration": 42300,
                        "passed_time": 1293.39569,
                        "remaining_time": 235.4046812,
                        "test": [
                          0.9977877667,
                          0.006743052615
                        ]
                      },
                      {
                        "learn": [
                          0.9988552642,
                          0.004003413644
                        ],
                        "iteration": 42400,
                        "passed_time": 1296.02421,
                        "remaining_time": 232.2701817,
                        "test": [
                          0.9977877667,
                          0.006741038668
                        ]
                      },
                      {
                        "learn": [
                          0.9988552642,
                          0.004001023546
                        ],
                        "iteration": 42500,
                        "passed_time": 1300.464272,
                        "remaining_time": 229.4576969,
                        "test": [
                          0.9977877667,
                          0.006739842188
                        ]
                      },
                      {
                        "learn": [
                          0.9988568324,
                          0.003997216157
                        ],
                        "iteration": 42600,
                        "passed_time": 1303.053628,
                        "remaining_time": 226.3161379,
                        "test": [
                          0.9977983516,
                          0.006737654239
                        ]
                      },
                      {
                        "learn": [
                          0.9988564403,
                          0.003994043907
                        ],
                        "iteration": 42700,
                        "passed_time": 1305.674541,
                        "remaining_time": 223.1825595,
                        "test": [
                          0.9977948233,
                          0.006735492132
                        ]
                      },
                      {
                        "learn": [
                          0.9988568324,
                          0.003990364771
                        ],
                        "iteration": 42800,
                        "passed_time": 1308.248421,
                        "remaining_time": 220.0434658,
                        "test": [
                          0.9977877667,
                          0.006732640908
                        ]
                      },
                      {
                        "learn": [
                          0.9988599686,
                          0.003986698269
                        ],
                        "iteration": 42900,
                        "passed_time": 1312.590612,
                        "remaining_time": 217.1996166,
                        "test": [
                          0.9977877667,
                          0.006731626182
                        ]
                      },
                      {
                        "learn": [
                          0.9988603607,
                          0.003983652358
                        ],
                        "iteration": 43000,
                        "passed_time": 1315.272531,
                        "remaining_time": 214.0785667,
                        "test": [
                          0.9978018799,
                          0.006730543836
                        ]
                      },
                      {
                        "learn": [
                          0.9988599686,
                          0.003979448342
                        ],
                        "iteration": 43100,
                        "passed_time": 1317.847517,
                        "remaining_time": 210.9424381,
                        "test": [
                          0.9977948233,
                          0.006729359415
                        ]
                      },
                      {
                        "learn": [
                          0.998864673,
                          0.003975558259
                        ],
                        "iteration": 43200,
                        "passed_time": 1320.433573,
                        "remaining_time": 207.8106494,
                        "test": [
                          0.9977948233,
                          0.006728259842
                        ]
                      },
                      {
                        "learn": [
                          0.9988658491,
                          0.00397228111
                        ],
                        "iteration": 43300,
                        "passed_time": 1323.469562,
                        "remaining_time": 204.7509894,
                        "test": [
                          0.9977948233,
                          0.006726381565
                        ]
                      },
                      {
                        "learn": [
                          0.9988650651,
                          0.003969697675
                        ],
                        "iteration": 43400,
                        "passed_time": 1327.353939,
                        "remaining_time": 201.8204337,
                        "test": [
                          0.9977983516,
                          0.006725212649
                        ]
                      },
                      {
                        "learn": [
                          0.9988650651,
                          0.003966744029
                        ],
                        "iteration": 43500,
                        "passed_time": 1329.945955,
                        "remaining_time": 198.6924154,
                        "test": [
                          0.9977948233,
                          0.006724182418
                        ]
                      },
                      {
                        "learn": [
                          0.9988685934,
                          0.00396365256
                        ],
                        "iteration": 43600,
                        "passed_time": 1332.539265,
                        "remaining_time": 195.5670457,
                        "test": [
                          0.9977877667,
                          0.006723086721
                        ]
                      },
                      {
                        "learn": [
                          0.9988685934,
                          0.003960277403
                        ],
                        "iteration": 43700,
                        "passed_time": 1335.142542,
                        "remaining_time": 192.4455475,
                        "test": [
                          0.9977877667,
                          0.006721101201
                        ]
                      },
                      {
                        "learn": [
                          0.9988701615,
                          0.003957505991
                        ],
                        "iteration": 43800,
                        "passed_time": 1339.636207,
                        "remaining_time": 189.5939555,
                        "test": [
                          0.9977948233,
                          0.006719510631
                        ]
                      },
                      {
                        "learn": [
                          0.9988717296,
                          0.003953359785
                        ],
                        "iteration": 43900,
                        "passed_time": 1342.244027,
                        "remaining_time": 186.4728894,
                        "test": [
                          0.9977948233,
                          0.006717556121
                        ]
                      },
                      {
                        "learn": [
                          0.9988709455,
                          0.003949648873
                        ],
                        "iteration": 44000,
                        "passed_time": 1344.868943,
                        "remaining_time": 183.3564871,
                        "test": [
                          0.997791295,
                          0.00671487373
                        ]
                      },
                      {
                        "learn": [
                          0.9988717296,
                          0.003946378615
                        ],
                        "iteration": 44100,
                        "passed_time": 1347.460609,
                        "remaining_time": 180.2378661,
                        "test": [
                          0.9977983516,
                          0.006712940324
                        ]
                      },
                      {
                        "learn": [
                          0.9988732977,
                          0.003941140536
                        ],
                        "iteration": 44200,
                        "passed_time": 1351.683115,
                        "remaining_time": 177.3355894,
                        "test": [
                          0.9978018799,
                          0.006710965571
                        ]
                      },
                      {
                        "learn": [
                          0.9988752579,
                          0.003937777247
                        ],
                        "iteration": 44300,
                        "passed_time": 1354.516048,
                        "remaining_time": 174.2485939,
                        "test": [
                          0.9977983516,
                          0.00671039791
                        ]
                      },
                      {
                        "learn": [
                          0.9988752579,
                          0.003935510042
                        ],
                        "iteration": 44400,
                        "passed_time": 1357.106526,
                        "remaining_time": 171.1321691,
                        "test": [
                          0.9978018799,
                          0.006708939565
                        ]
                      },
                      {
                        "learn": [
                          0.998876826,
                          0.003933374918
                        ],
                        "iteration": 44500,
                        "passed_time": 1359.65811,
                        "remaining_time": 168.0133019,
                        "test": [
                          0.9978018799,
                          0.006708756949
                        ]
                      },
                      {
                        "learn": [
                          0.9988752579,
                          0.003929696165
                        ],
                        "iteration": 44600,
                        "passed_time": 1362.445828,
                        "remaining_time": 164.9255628,
                        "test": [
                          0.9978054082,
                          0.006707221078
                        ]
                      },
                      {
                        "learn": [
                          0.9988776101,
                          0.003926842441
                        ],
                        "iteration": 44700,
                        "passed_time": 1366.629765,
                        "remaining_time": 162.0046783,
                        "test": [
                          0.9978054082,
                          0.006705678316
                        ]
                      },
                      {
                        "learn": [
                          0.9988807464,
                          0.00392350978
                        ],
                        "iteration": 44800,
                        "passed_time": 1369.190302,
                        "remaining_time": 158.8897654,
                        "test": [
                          0.9978054082,
                          0.006704477097
                        ]
                      },
                      {
                        "learn": [
                          0.9988787862,
                          0.003920705061
                        ],
                        "iteration": 44900,
                        "passed_time": 1371.759843,
                        "remaining_time": 155.7783444,
                        "test": [
                          0.9978089364,
                          0.00670317811
                        ]
                      },
                      {
                        "learn": [
                          0.9988815304,
                          0.003916867427
                        ],
                        "iteration": 45000,
                        "passed_time": 1374.391907,
                        "remaining_time": 152.676277,
                        "test": [
                          0.9978018799,
                          0.006702108255
                        ]
                      },
                      {
                        "learn": [
                          0.9988807464,
                          0.003913471213
                        ],
                        "iteration": 45100,
                        "passed_time": 1378.762987,
                        "remaining_time": 149.7651909,
                        "test": [
                          0.9977983516,
                          0.0067014579
                        ]
                      },
                      {
                        "learn": [
                          0.9988811384,
                          0.003910195979
                        ],
                        "iteration": 45200,
                        "passed_time": 1381.345095,
                        "remaining_time": 146.6577091,
                        "test": [
                          0.9977983516,
                          0.006698679894
                        ]
                      },
                      {
                        "learn": [
                          0.9988815304,
                          0.003906685677
                        ],
                        "iteration": 45300,
                        "passed_time": 1383.940495,
                        "remaining_time": 143.5539257,
                        "test": [
                          0.9978018799,
                          0.006697566108
                        ]
                      },
                      {
                        "learn": [
                          0.9988823145,
                          0.003903893592
                        ],
                        "iteration": 45400,
                        "passed_time": 1386.530592,
                        "remaining_time": 140.4518445,
                        "test": [
                          0.9978054082,
                          0.006695904042
                        ]
                      },
                      {
                        "learn": [
                          0.9988823145,
                          0.003900756947
                        ],
                        "iteration": 45500,
                        "passed_time": 1389.828125,
                        "remaining_time": 137.4219629,
                        "test": [
                          0.9978089364,
                          0.006694179094
                        ]
                      },
                      {
                        "learn": [
                          0.9988823145,
                          0.003897505831
                        ],
                        "iteration": 45600,
                        "passed_time": 1393.52941,
                        "remaining_time": 134.4298562,
                        "test": [
                          0.9978124647,
                          0.006692517459
                        ]
                      },
                      {
                        "learn": [
                          0.9988862348,
                          0.003894835873
                        ],
                        "iteration": 45700,
                        "passed_time": 1396.125176,
                        "remaining_time": 131.3306521,
                        "test": [
                          0.9978089364,
                          0.00669050179
                        ]
                      },
                      {
                        "learn": [
                          0.9988846667,
                          0.003891547622
                        ],
                        "iteration": 45800,
                        "passed_time": 1398.724907,
                        "remaining_time": 128.2340098,
                        "test": [
                          0.9978089364,
                          0.006688701901
                        ]
                      },
                      {
                        "learn": [
                          0.9988870189,
                          0.003888690836
                        ],
                        "iteration": 45900,
                        "passed_time": 1401.259039,
                        "remaining_time": 125.1336747,
                        "test": [
                          0.9978089364,
                          0.006687879697
                        ]
                      },
                      {
                        "learn": [
                          0.998888195,
                          0.003884678625
                        ],
                        "iteration": 46000,
                        "passed_time": 1405.721819,
                        "remaining_time": 122.2034641,
                        "test": [
                          0.9978089364,
                          0.006685325224
                        ]
                      },
                      {
                        "learn": [
                          0.9988901552,
                          0.003882055374
                        ],
                        "iteration": 46100,
                        "passed_time": 1408.332217,
                        "remaining_time": 119.1099393,
                        "test": [
                          0.9978089364,
                          0.006683340565
                        ]
                      },
                      {
                        "learn": [
                          0.9988905472,
                          0.003879438632
                        ],
                        "iteration": 46200,
                        "passed_time": 1410.934686,
                        "remaining_time": 116.017854,
                        "test": [
                          0.9978089364,
                          0.006682908574
                        ]
                      },
                      {
                        "learn": [
                          0.9988909392,
                          0.003876978473
                        ],
                        "iteration": 46300,
                        "passed_time": 1413.552727,
                        "remaining_time": 112.9291276,
                        "test": [
                          0.9978124647,
                          0.006682136762
                        ]
                      },
                      {
                        "learn": [
                          0.9988905472,
                          0.003873921842
                        ],
                        "iteration": 46400,
                        "passed_time": 1417.793507,
                        "remaining_time": 109.9682945,
                        "test": [
                          0.9978089364,
                          0.006681626384
                        ]
                      },
                      {
                        "learn": [
                          0.9988925074,
                          0.003871478529
                        ],
                        "iteration": 46500,
                        "passed_time": 1420.657931,
                        "remaining_time": 106.8983914,
                        "test": [
                          0.9978124647,
                          0.006679820465
                        ]
                      },
                      {
                        "learn": [
                          0.9988940755,
                          0.003868542494
                        ],
                        "iteration": 46600,
                        "passed_time": 1423.221651,
                        "remaining_time": 103.8074374,
                        "test": [
                          0.997815993,
                          0.006678145048
                        ]
                      },
                      {
                        "learn": [
                          0.9988948595,
                          0.003865434179
                        ],
                        "iteration": 46700,
                        "passed_time": 1425.818444,
                        "remaining_time": 100.7210776,
                        "test": [
                          0.997815993,
                          0.006677094574
                        ]
                      },
                      {
                        "learn": [
                          0.9988987799,
                          0.003861879851
                        ],
                        "iteration": 46800,
                        "passed_time": 1428.797546,
                        "remaining_time": 97.66294203,
                        "test": [
                          0.9978195213,
                          0.0066758098
                        ]
                      },
                      {
                        "learn": [
                          0.998899956,
                          0.003858507373
                        ],
                        "iteration": 46900,
                        "passed_time": 1432.844876,
                        "remaining_time": 94.67572695,
                        "test": [
                          0.997815993,
                          0.006674056857
                        ]
                      },
                      {
                        "learn": [
                          0.9989011321,
                          0.003855467205
                        ],
                        "iteration": 47000,
                        "passed_time": 1435.437617,
                        "remaining_time": 91.59118768,
                        "test": [
                          0.997815993,
                          0.00667498372
                        ]
                      },
                      {
                        "learn": [
                          0.99890074,
                          0.003853016617
                        ],
                        "iteration": 47100,
                        "passed_time": 1438.014329,
                        "remaining_time": 88.50775017,
                        "test": [
                          0.9978089364,
                          0.006673586103
                        ]
                      },
                      {
                        "learn": [
                          0.9989019161,
                          0.003850643364
                        ],
                        "iteration": 47200,
                        "passed_time": 1440.587964,
                        "remaining_time": 85.42627723,
                        "test": [
                          0.997815993,
                          0.00667285047
                        ]
                      },
                      {
                        "learn": [
                          0.9989050524,
                          0.003847227625
                        ],
                        "iteration": 47300,
                        "passed_time": 1444.898559,
                        "remaining_time": 82.44606269,
                        "test": [
                          0.997815993,
                          0.006670594902
                        ]
                      },
                      {
                        "learn": [
                          0.9989050524,
                          0.003844553839
                        ],
                        "iteration": 47400,
                        "passed_time": 1447.454684,
                        "remaining_time": 79.3640371,
                        "test": [
                          0.9978195213,
                          0.006671019571
                        ]
                      },
                      {
                        "learn": [
                          0.9989074046,
                          0.003841844065
                        ],
                        "iteration": 47500,
                        "passed_time": 1450.026776,
                        "remaining_time": 76.28506587,
                        "test": [
                          0.9978195213,
                          0.006670503163
                        ]
                      },
                      {
                        "learn": [
                          0.9989066205,
                          0.003839097539
                        ],
                        "iteration": 47600,
                        "passed_time": 1452.604251,
                        "remaining_time": 73.20849556,
                        "test": [
                          0.9978089364,
                          0.006669258875
                        ]
                      },
                      {
                        "learn": [
                          0.9989074046,
                          0.003835942134
                        ],
                        "iteration": 47700,
                        "passed_time": 1456.124141,
                        "remaining_time": 70.17943858,
                        "test": [
                          0.9978195213,
                          0.006668943603
                        ]
                      },
                      {
                        "learn": [
                          0.9989085807,
                          0.003833868265
                        ],
                        "iteration": 47800,
                        "passed_time": 1459.510306,
                        "remaining_time": 67.14217619,
                        "test": [
                          0.9978124647,
                          0.006668810518
                        ]
                      },
                      {
                        "learn": [
                          0.9989085807,
                          0.003830147782
                        ],
                        "iteration": 47900,
                        "passed_time": 1462.087459,
                        "remaining_time": 64.06800643,
                        "test": [
                          0.9978265778,
                          0.006666849116
                        ]
                      },
                      {
                        "learn": [
                          0.9989097568,
                          0.003826989698
                        ],
                        "iteration": 48000,
                        "passed_time": 1464.683721,
                        "remaining_time": 60.99670337,
                        "test": [
                          0.9978265778,
                          0.006666480438
                        ]
                      },
                      {
                        "learn": [
                          0.998911717,
                          0.00382436415
                        ],
                        "iteration": 48100,
                        "passed_time": 1467.26682,
                        "remaining_time": 57.92685579,
                        "test": [
                          0.9978301061,
                          0.006665327028
                        ]
                      },
                      {
                        "learn": [
                          0.9989128931,
                          0.003821965246
                        ],
                        "iteration": 48200,
                        "passed_time": 1471.570291,
                        "remaining_time": 54.92323714,
                        "test": [
                          0.9978301061,
                          0.006664147344
                        ]
                      },
                      {
                        "learn": [
                          0.9989152453,
                          0.003819492453
                        ],
                        "iteration": 48300,
                        "passed_time": 1474.175454,
                        "remaining_time": 51.85449775,
                        "test": [
                          0.9978336344,
                          0.006662886689
                        ]
                      },
                      {
                        "learn": [
                          0.9989152453,
                          0.00381638031
                        ],
                        "iteration": 48400,
                        "passed_time": 1476.763114,
                        "remaining_time": 48.7870957,
                        "test": [
                          0.9978301061,
                          0.006661547217
                        ]
                      },
                      {
                        "learn": [
                          0.9989148532,
                          0.00381374634
                        ],
                        "iteration": 48500,
                        "passed_time": 1479.31967,
                        "remaining_time": 45.72071061,
                        "test": [
                          0.9978301061,
                          0.006660188363
                        ]
                      },
                      {
                        "learn": [
                          0.9989172054,
                          0.003811292306
                        ],
                        "iteration": 48600,
                        "passed_time": 1483.399081,
                        "remaining_time": 42.70025956,
                        "test": [
                          0.9978230496,
                          0.006659431625
                        ]
                      },
                      {
                        "learn": [
                          0.9989179895,
                          0.003808645319
                        ],
                        "iteration": 48700,
                        "passed_time": 1486.246912,
                        "remaining_time": 39.64260978,
                        "test": [
                          0.9978301061,
                          0.006658496579
                        ]
                      },
                      {
                        "learn": [
                          0.9989183815,
                          0.003805868165
                        ],
                        "iteration": 48800,
                        "passed_time": 1488.808859,
                        "remaining_time": 36.57879596,
                        "test": [
                          0.9978301061,
                          0.006658115841
                        ]
                      },
                      {
                        "learn": [
                          0.9989187735,
                          0.003802871641
                        ],
                        "iteration": 48900,
                        "passed_time": 1491.423346,
                        "remaining_time": 33.51821551,
                        "test": [
                          0.9978230496,
                          0.006656825899
                        ]
                      },
                      {
                        "learn": [
                          0.9989191656,
                          0.003800733071
                        ],
                        "iteration": 49000,
                        "passed_time": 1494.132869,
                        "remaining_time": 30.46139336,
                        "test": [
                          0.9978230496,
                          0.006655842614
                        ]
                      },
                      {
                        "learn": [
                          0.9989195576,
                          0.003797334943
                        ],
                        "iteration": 49100,
                        "passed_time": 1498.203188,
                        "remaining_time": 27.43090092,
                        "test": [
                          0.9978265778,
                          0.006655115595
                        ]
                      },
                      {
                        "learn": [
                          0.9989211257,
                          0.003794982364
                        ],
                        "iteration": 49200,
                        "passed_time": 1500.793259,
                        "remaining_time": 24.37214312,
                        "test": [
                          0.9978230496,
                          0.006653232581
                        ]
                      },
                      {
                        "learn": [
                          0.9989219098,
                          0.003791981245
                        ],
                        "iteration": 49300,
                        "passed_time": 1503.41015,
                        "remaining_time": 21.31566692,
                        "test": [
                          0.9978265778,
                          0.006651706185
                        ]
                      },
                      {
                        "learn": [
                          0.9989226939,
                          0.003789346509
                        ],
                        "iteration": 49400,
                        "passed_time": 1505.989094,
                        "remaining_time": 18.26051026,
                        "test": [
                          0.9978301061,
                          0.006650407198
                        ]
                      },
                      {
                        "learn": [
                          0.998924654,
                          0.003786671958
                        ],
                        "iteration": 49500,
                        "passed_time": 1510.374463,
                        "remaining_time": 15.22548751,
                        "test": [
                          0.9978336344,
                          0.006649796468
                        ]
                      },
                      {
                        "learn": [
                          0.998924654,
                          0.003783342742
                        ],
                        "iteration": 49600,
                        "passed_time": 1512.982167,
                        "remaining_time": 12.17072004,
                        "test": [
                          0.9978371627,
                          0.006648522461
                        ]
                      },
                      {
                        "learn": [
                          0.9989254381,
                          0.003780310996
                        ],
                        "iteration": 49700,
                        "passed_time": 1515.603691,
                        "remaining_time": 9.117834723,
                        "test": [
                          0.9978371627,
                          0.00664809607
                        ]
                      },
                      {
                        "learn": [
                          0.9989277903,
                          0.00377780145
                        ],
                        "iteration": 49800,
                        "passed_time": 1518.203242,
                        "remaining_time": 6.066593947,
                        "test": [
                          0.9978371627,
                          0.006646685532
                        ]
                      },
                      {
                        "learn": [
                          0.9989289664,
                          0.003775486772
                        ],
                        "iteration": 49900,
                        "passed_time": 1521.928634,
                        "remaining_time": 3.019397101,
                        "test": [
                          0.9978371627,
                          0.006645362857
                        ]
                      },
                      {
                        "learn": [
                          0.9989289664,
                          0.003772818345
                        ],
                        "iteration": 49999,
                        "passed_time": 1525.172377,
                        "remaining_time": 0,
                        "test": [
                          0.9978371627,
                          0.006644930866
                        ]
                      }
                    ],
                    "meta": {
                      "test_sets": [
                        "test"
                      ],
                      "test_metrics": [
                        {
                          "best_value": "Max",
                          "name": "Accuracy"
                        },
                        {
                          "best_value": "Min",
                          "name": "MultiClass"
                        }
                      ],
                      "learn_metrics": [
                        {
                          "best_value": "Max",
                          "name": "Accuracy"
                        },
                        {
                          "best_value": "Min",
                          "name": "MultiClass"
                        }
                      ],
                      "launch_mode": "Train",
                      "parameters": "",
                      "iteration_count": 50000,
                      "learn_sets": [
                        "learn"
                      ],
                      "name": "experiment"
                    }
                  }
                }
              }
            },
            "layout": "IPY_MODEL_0edddcd5e2b24238a4aff7b33a809a60"
          }
        }
      }
    }
  },
  "nbformat": 4,
  "nbformat_minor": 0
}